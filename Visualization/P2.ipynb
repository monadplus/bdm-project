{
 "cells": [
  {
   "cell_type": "markdown",
   "id": "assigned-league",
   "metadata": {},
   "source": [
    "# Data Visualisation"
   ]
  },
  {
   "cell_type": "markdown",
   "id": "existing-roller",
   "metadata": {},
   "source": [
    "In this notebook the vizualisation of the different KPIs performed in the DBM: Lab Assignment 2 will be deployed. \n",
    "The document is divided into three parts, each deploying the visualization of the different csv files. "
   ]
  },
  {
   "cell_type": "markdown",
   "id": "sticky-andrew",
   "metadata": {},
   "source": [
    "## KPI 1: Average number of new listings per day"
   ]
  },
  {
   "cell_type": "markdown",
   "id": "activated-fireplace",
   "metadata": {},
   "source": [
    "In this section the \"KPI1.csv\" file will be investigated further. \n",
    "This file holds the results from the KPI1: Average number of new listing per day, where the goal is to investigate the daily rate of listings over a timeperiod. "
   ]
  },
  {
   "cell_type": "code",
   "execution_count": 55,
   "id": "apart-boundary",
   "metadata": {},
   "outputs": [
    {
     "data": {
      "text/html": [
       "\n",
       "    <div class=\"bk-root\">\n",
       "        <a href=\"https://bokeh.org\" target=\"_blank\" class=\"bk-logo bk-logo-small bk-logo-notebook\"></a>\n",
       "        <span id=\"7246\">Loading BokehJS ...</span>\n",
       "    </div>"
      ]
     },
     "metadata": {},
     "output_type": "display_data"
    },
    {
     "data": {
      "application/javascript": [
       "\n",
       "(function(root) {\n",
       "  function now() {\n",
       "    return new Date();\n",
       "  }\n",
       "\n",
       "  var force = true;\n",
       "\n",
       "  if (typeof root._bokeh_onload_callbacks === \"undefined\" || force === true) {\n",
       "    root._bokeh_onload_callbacks = [];\n",
       "    root._bokeh_is_loading = undefined;\n",
       "  }\n",
       "\n",
       "  var JS_MIME_TYPE = 'application/javascript';\n",
       "  var HTML_MIME_TYPE = 'text/html';\n",
       "  var EXEC_MIME_TYPE = 'application/vnd.bokehjs_exec.v0+json';\n",
       "  var CLASS_NAME = 'output_bokeh rendered_html';\n",
       "\n",
       "  /**\n",
       "   * Render data to the DOM node\n",
       "   */\n",
       "  function render(props, node) {\n",
       "    var script = document.createElement(\"script\");\n",
       "    node.appendChild(script);\n",
       "  }\n",
       "\n",
       "  /**\n",
       "   * Handle when an output is cleared or removed\n",
       "   */\n",
       "  function handleClearOutput(event, handle) {\n",
       "    var cell = handle.cell;\n",
       "\n",
       "    var id = cell.output_area._bokeh_element_id;\n",
       "    var server_id = cell.output_area._bokeh_server_id;\n",
       "    // Clean up Bokeh references\n",
       "    if (id != null && id in Bokeh.index) {\n",
       "      Bokeh.index[id].model.document.clear();\n",
       "      delete Bokeh.index[id];\n",
       "    }\n",
       "\n",
       "    if (server_id !== undefined) {\n",
       "      // Clean up Bokeh references\n",
       "      var cmd = \"from bokeh.io.state import curstate; print(curstate().uuid_to_server['\" + server_id + \"'].get_sessions()[0].document.roots[0]._id)\";\n",
       "      cell.notebook.kernel.execute(cmd, {\n",
       "        iopub: {\n",
       "          output: function(msg) {\n",
       "            var id = msg.content.text.trim();\n",
       "            if (id in Bokeh.index) {\n",
       "              Bokeh.index[id].model.document.clear();\n",
       "              delete Bokeh.index[id];\n",
       "            }\n",
       "          }\n",
       "        }\n",
       "      });\n",
       "      // Destroy server and session\n",
       "      var cmd = \"import bokeh.io.notebook as ion; ion.destroy_server('\" + server_id + \"')\";\n",
       "      cell.notebook.kernel.execute(cmd);\n",
       "    }\n",
       "  }\n",
       "\n",
       "  /**\n",
       "   * Handle when a new output is added\n",
       "   */\n",
       "  function handleAddOutput(event, handle) {\n",
       "    var output_area = handle.output_area;\n",
       "    var output = handle.output;\n",
       "\n",
       "    // limit handleAddOutput to display_data with EXEC_MIME_TYPE content only\n",
       "    if ((output.output_type != \"display_data\") || (!Object.prototype.hasOwnProperty.call(output.data, EXEC_MIME_TYPE))) {\n",
       "      return\n",
       "    }\n",
       "\n",
       "    var toinsert = output_area.element.find(\".\" + CLASS_NAME.split(' ')[0]);\n",
       "\n",
       "    if (output.metadata[EXEC_MIME_TYPE][\"id\"] !== undefined) {\n",
       "      toinsert[toinsert.length - 1].firstChild.textContent = output.data[JS_MIME_TYPE];\n",
       "      // store reference to embed id on output_area\n",
       "      output_area._bokeh_element_id = output.metadata[EXEC_MIME_TYPE][\"id\"];\n",
       "    }\n",
       "    if (output.metadata[EXEC_MIME_TYPE][\"server_id\"] !== undefined) {\n",
       "      var bk_div = document.createElement(\"div\");\n",
       "      bk_div.innerHTML = output.data[HTML_MIME_TYPE];\n",
       "      var script_attrs = bk_div.children[0].attributes;\n",
       "      for (var i = 0; i < script_attrs.length; i++) {\n",
       "        toinsert[toinsert.length - 1].firstChild.setAttribute(script_attrs[i].name, script_attrs[i].value);\n",
       "        toinsert[toinsert.length - 1].firstChild.textContent = bk_div.children[0].textContent\n",
       "      }\n",
       "      // store reference to server id on output_area\n",
       "      output_area._bokeh_server_id = output.metadata[EXEC_MIME_TYPE][\"server_id\"];\n",
       "    }\n",
       "  }\n",
       "\n",
       "  function register_renderer(events, OutputArea) {\n",
       "\n",
       "    function append_mime(data, metadata, element) {\n",
       "      // create a DOM node to render to\n",
       "      var toinsert = this.create_output_subarea(\n",
       "        metadata,\n",
       "        CLASS_NAME,\n",
       "        EXEC_MIME_TYPE\n",
       "      );\n",
       "      this.keyboard_manager.register_events(toinsert);\n",
       "      // Render to node\n",
       "      var props = {data: data, metadata: metadata[EXEC_MIME_TYPE]};\n",
       "      render(props, toinsert[toinsert.length - 1]);\n",
       "      element.append(toinsert);\n",
       "      return toinsert\n",
       "    }\n",
       "\n",
       "    /* Handle when an output is cleared or removed */\n",
       "    events.on('clear_output.CodeCell', handleClearOutput);\n",
       "    events.on('delete.Cell', handleClearOutput);\n",
       "\n",
       "    /* Handle when a new output is added */\n",
       "    events.on('output_added.OutputArea', handleAddOutput);\n",
       "\n",
       "    /**\n",
       "     * Register the mime type and append_mime function with output_area\n",
       "     */\n",
       "    OutputArea.prototype.register_mime_type(EXEC_MIME_TYPE, append_mime, {\n",
       "      /* Is output safe? */\n",
       "      safe: true,\n",
       "      /* Index of renderer in `output_area.display_order` */\n",
       "      index: 0\n",
       "    });\n",
       "  }\n",
       "\n",
       "  // register the mime type if in Jupyter Notebook environment and previously unregistered\n",
       "  if (root.Jupyter !== undefined) {\n",
       "    var events = require('base/js/events');\n",
       "    var OutputArea = require('notebook/js/outputarea').OutputArea;\n",
       "\n",
       "    if (OutputArea.prototype.mime_types().indexOf(EXEC_MIME_TYPE) == -1) {\n",
       "      register_renderer(events, OutputArea);\n",
       "    }\n",
       "  }\n",
       "\n",
       "  \n",
       "  if (typeof (root._bokeh_timeout) === \"undefined\" || force === true) {\n",
       "    root._bokeh_timeout = Date.now() + 5000;\n",
       "    root._bokeh_failed_load = false;\n",
       "  }\n",
       "\n",
       "  var NB_LOAD_WARNING = {'data': {'text/html':\n",
       "     \"<div style='background-color: #fdd'>\\n\"+\n",
       "     \"<p>\\n\"+\n",
       "     \"BokehJS does not appear to have successfully loaded. If loading BokehJS from CDN, this \\n\"+\n",
       "     \"may be due to a slow or bad network connection. Possible fixes:\\n\"+\n",
       "     \"</p>\\n\"+\n",
       "     \"<ul>\\n\"+\n",
       "     \"<li>re-rerun `output_notebook()` to attempt to load from CDN again, or</li>\\n\"+\n",
       "     \"<li>use INLINE resources instead, as so:</li>\\n\"+\n",
       "     \"</ul>\\n\"+\n",
       "     \"<code>\\n\"+\n",
       "     \"from bokeh.resources import INLINE\\n\"+\n",
       "     \"output_notebook(resources=INLINE)\\n\"+\n",
       "     \"</code>\\n\"+\n",
       "     \"</div>\"}};\n",
       "\n",
       "  function display_loaded() {\n",
       "    var el = document.getElementById(\"7246\");\n",
       "    if (el != null) {\n",
       "      el.textContent = \"BokehJS is loading...\";\n",
       "    }\n",
       "    if (root.Bokeh !== undefined) {\n",
       "      if (el != null) {\n",
       "        el.textContent = \"BokehJS \" + root.Bokeh.version + \" successfully loaded.\";\n",
       "      }\n",
       "    } else if (Date.now() < root._bokeh_timeout) {\n",
       "      setTimeout(display_loaded, 100)\n",
       "    }\n",
       "  }\n",
       "\n",
       "\n",
       "  function run_callbacks() {\n",
       "    try {\n",
       "      root._bokeh_onload_callbacks.forEach(function(callback) {\n",
       "        if (callback != null)\n",
       "          callback();\n",
       "      });\n",
       "    } finally {\n",
       "      delete root._bokeh_onload_callbacks\n",
       "    }\n",
       "    console.debug(\"Bokeh: all callbacks have finished\");\n",
       "  }\n",
       "\n",
       "  function load_libs(css_urls, js_urls, callback) {\n",
       "    if (css_urls == null) css_urls = [];\n",
       "    if (js_urls == null) js_urls = [];\n",
       "\n",
       "    root._bokeh_onload_callbacks.push(callback);\n",
       "    if (root._bokeh_is_loading > 0) {\n",
       "      console.debug(\"Bokeh: BokehJS is being loaded, scheduling callback at\", now());\n",
       "      return null;\n",
       "    }\n",
       "    if (js_urls == null || js_urls.length === 0) {\n",
       "      run_callbacks();\n",
       "      return null;\n",
       "    }\n",
       "    console.debug(\"Bokeh: BokehJS not loaded, scheduling load and callback at\", now());\n",
       "    root._bokeh_is_loading = css_urls.length + js_urls.length;\n",
       "\n",
       "    function on_load() {\n",
       "      root._bokeh_is_loading--;\n",
       "      if (root._bokeh_is_loading === 0) {\n",
       "        console.debug(\"Bokeh: all BokehJS libraries/stylesheets loaded\");\n",
       "        run_callbacks()\n",
       "      }\n",
       "    }\n",
       "\n",
       "    function on_error(url) {\n",
       "      console.error(\"failed to load \" + url);\n",
       "    }\n",
       "\n",
       "    for (let i = 0; i < css_urls.length; i++) {\n",
       "      const url = css_urls[i];\n",
       "      const element = document.createElement(\"link\");\n",
       "      element.onload = on_load;\n",
       "      element.onerror = on_error.bind(null, url);\n",
       "      element.rel = \"stylesheet\";\n",
       "      element.type = \"text/css\";\n",
       "      element.href = url;\n",
       "      console.debug(\"Bokeh: injecting link tag for BokehJS stylesheet: \", url);\n",
       "      document.body.appendChild(element);\n",
       "    }\n",
       "\n",
       "    const hashes = {\"https://cdn.bokeh.org/bokeh/release/bokeh-2.3.1.min.js\": \"YF85VygJKMVnHE+lLv2AM93Vbstr0yo2TbIu5v8se5Rq3UQAUmcuh4aaJwNlpKwa\", \"https://cdn.bokeh.org/bokeh/release/bokeh-widgets-2.3.1.min.js\": \"KKuas3gevv3PvrlkyCMzffFeaMq5we/a2QsP5AUoS3mJ0jmaCL7jirFJN3GoE/lM\", \"https://cdn.bokeh.org/bokeh/release/bokeh-tables-2.3.1.min.js\": \"MK/uFc3YT18pkvvXRl66tTHjP0/dxoSH2e/eiNMFIguKlun2+WVqaPTWmUy/zvh4\"};\n",
       "\n",
       "    for (let i = 0; i < js_urls.length; i++) {\n",
       "      const url = js_urls[i];\n",
       "      const element = document.createElement('script');\n",
       "      element.onload = on_load;\n",
       "      element.onerror = on_error.bind(null, url);\n",
       "      element.async = false;\n",
       "      element.src = url;\n",
       "      if (url in hashes) {\n",
       "        element.crossOrigin = \"anonymous\";\n",
       "        element.integrity = \"sha384-\" + hashes[url];\n",
       "      }\n",
       "      console.debug(\"Bokeh: injecting script tag for BokehJS library: \", url);\n",
       "      document.head.appendChild(element);\n",
       "    }\n",
       "  };\n",
       "\n",
       "  function inject_raw_css(css) {\n",
       "    const element = document.createElement(\"style\");\n",
       "    element.appendChild(document.createTextNode(css));\n",
       "    document.body.appendChild(element);\n",
       "  }\n",
       "\n",
       "  \n",
       "  var js_urls = [\"https://cdn.bokeh.org/bokeh/release/bokeh-2.3.1.min.js\", \"https://cdn.bokeh.org/bokeh/release/bokeh-widgets-2.3.1.min.js\", \"https://cdn.bokeh.org/bokeh/release/bokeh-tables-2.3.1.min.js\"];\n",
       "  var css_urls = [];\n",
       "  \n",
       "\n",
       "  var inline_js = [\n",
       "    function(Bokeh) {\n",
       "      Bokeh.set_log_level(\"info\");\n",
       "    },\n",
       "    function(Bokeh) {\n",
       "    \n",
       "    \n",
       "    }\n",
       "  ];\n",
       "\n",
       "  function run_inline_js() {\n",
       "    \n",
       "    if (root.Bokeh !== undefined || force === true) {\n",
       "      \n",
       "    for (var i = 0; i < inline_js.length; i++) {\n",
       "      inline_js[i].call(root, root.Bokeh);\n",
       "    }\n",
       "    if (force === true) {\n",
       "        display_loaded();\n",
       "      }} else if (Date.now() < root._bokeh_timeout) {\n",
       "      setTimeout(run_inline_js, 100);\n",
       "    } else if (!root._bokeh_failed_load) {\n",
       "      console.log(\"Bokeh: BokehJS failed to load within specified timeout.\");\n",
       "      root._bokeh_failed_load = true;\n",
       "    } else if (force !== true) {\n",
       "      var cell = $(document.getElementById(\"7246\")).parents('.cell').data().cell;\n",
       "      cell.output_area.append_execute_result(NB_LOAD_WARNING)\n",
       "    }\n",
       "\n",
       "  }\n",
       "\n",
       "  if (root._bokeh_is_loading === 0) {\n",
       "    console.debug(\"Bokeh: BokehJS loaded, going straight to plotting\");\n",
       "    run_inline_js();\n",
       "  } else {\n",
       "    load_libs(css_urls, js_urls, function() {\n",
       "      console.debug(\"Bokeh: BokehJS plotting callback run at\", now());\n",
       "      run_inline_js();\n",
       "    });\n",
       "  }\n",
       "}(window));"
      ],
      "application/vnd.bokehjs_load.v0+json": "\n(function(root) {\n  function now() {\n    return new Date();\n  }\n\n  var force = true;\n\n  if (typeof root._bokeh_onload_callbacks === \"undefined\" || force === true) {\n    root._bokeh_onload_callbacks = [];\n    root._bokeh_is_loading = undefined;\n  }\n\n  \n\n  \n  if (typeof (root._bokeh_timeout) === \"undefined\" || force === true) {\n    root._bokeh_timeout = Date.now() + 5000;\n    root._bokeh_failed_load = false;\n  }\n\n  var NB_LOAD_WARNING = {'data': {'text/html':\n     \"<div style='background-color: #fdd'>\\n\"+\n     \"<p>\\n\"+\n     \"BokehJS does not appear to have successfully loaded. If loading BokehJS from CDN, this \\n\"+\n     \"may be due to a slow or bad network connection. Possible fixes:\\n\"+\n     \"</p>\\n\"+\n     \"<ul>\\n\"+\n     \"<li>re-rerun `output_notebook()` to attempt to load from CDN again, or</li>\\n\"+\n     \"<li>use INLINE resources instead, as so:</li>\\n\"+\n     \"</ul>\\n\"+\n     \"<code>\\n\"+\n     \"from bokeh.resources import INLINE\\n\"+\n     \"output_notebook(resources=INLINE)\\n\"+\n     \"</code>\\n\"+\n     \"</div>\"}};\n\n  function display_loaded() {\n    var el = document.getElementById(\"7246\");\n    if (el != null) {\n      el.textContent = \"BokehJS is loading...\";\n    }\n    if (root.Bokeh !== undefined) {\n      if (el != null) {\n        el.textContent = \"BokehJS \" + root.Bokeh.version + \" successfully loaded.\";\n      }\n    } else if (Date.now() < root._bokeh_timeout) {\n      setTimeout(display_loaded, 100)\n    }\n  }\n\n\n  function run_callbacks() {\n    try {\n      root._bokeh_onload_callbacks.forEach(function(callback) {\n        if (callback != null)\n          callback();\n      });\n    } finally {\n      delete root._bokeh_onload_callbacks\n    }\n    console.debug(\"Bokeh: all callbacks have finished\");\n  }\n\n  function load_libs(css_urls, js_urls, callback) {\n    if (css_urls == null) css_urls = [];\n    if (js_urls == null) js_urls = [];\n\n    root._bokeh_onload_callbacks.push(callback);\n    if (root._bokeh_is_loading > 0) {\n      console.debug(\"Bokeh: BokehJS is being loaded, scheduling callback at\", now());\n      return null;\n    }\n    if (js_urls == null || js_urls.length === 0) {\n      run_callbacks();\n      return null;\n    }\n    console.debug(\"Bokeh: BokehJS not loaded, scheduling load and callback at\", now());\n    root._bokeh_is_loading = css_urls.length + js_urls.length;\n\n    function on_load() {\n      root._bokeh_is_loading--;\n      if (root._bokeh_is_loading === 0) {\n        console.debug(\"Bokeh: all BokehJS libraries/stylesheets loaded\");\n        run_callbacks()\n      }\n    }\n\n    function on_error(url) {\n      console.error(\"failed to load \" + url);\n    }\n\n    for (let i = 0; i < css_urls.length; i++) {\n      const url = css_urls[i];\n      const element = document.createElement(\"link\");\n      element.onload = on_load;\n      element.onerror = on_error.bind(null, url);\n      element.rel = \"stylesheet\";\n      element.type = \"text/css\";\n      element.href = url;\n      console.debug(\"Bokeh: injecting link tag for BokehJS stylesheet: \", url);\n      document.body.appendChild(element);\n    }\n\n    const hashes = {\"https://cdn.bokeh.org/bokeh/release/bokeh-2.3.1.min.js\": \"YF85VygJKMVnHE+lLv2AM93Vbstr0yo2TbIu5v8se5Rq3UQAUmcuh4aaJwNlpKwa\", \"https://cdn.bokeh.org/bokeh/release/bokeh-widgets-2.3.1.min.js\": \"KKuas3gevv3PvrlkyCMzffFeaMq5we/a2QsP5AUoS3mJ0jmaCL7jirFJN3GoE/lM\", \"https://cdn.bokeh.org/bokeh/release/bokeh-tables-2.3.1.min.js\": \"MK/uFc3YT18pkvvXRl66tTHjP0/dxoSH2e/eiNMFIguKlun2+WVqaPTWmUy/zvh4\"};\n\n    for (let i = 0; i < js_urls.length; i++) {\n      const url = js_urls[i];\n      const element = document.createElement('script');\n      element.onload = on_load;\n      element.onerror = on_error.bind(null, url);\n      element.async = false;\n      element.src = url;\n      if (url in hashes) {\n        element.crossOrigin = \"anonymous\";\n        element.integrity = \"sha384-\" + hashes[url];\n      }\n      console.debug(\"Bokeh: injecting script tag for BokehJS library: \", url);\n      document.head.appendChild(element);\n    }\n  };\n\n  function inject_raw_css(css) {\n    const element = document.createElement(\"style\");\n    element.appendChild(document.createTextNode(css));\n    document.body.appendChild(element);\n  }\n\n  \n  var js_urls = [\"https://cdn.bokeh.org/bokeh/release/bokeh-2.3.1.min.js\", \"https://cdn.bokeh.org/bokeh/release/bokeh-widgets-2.3.1.min.js\", \"https://cdn.bokeh.org/bokeh/release/bokeh-tables-2.3.1.min.js\"];\n  var css_urls = [];\n  \n\n  var inline_js = [\n    function(Bokeh) {\n      Bokeh.set_log_level(\"info\");\n    },\n    function(Bokeh) {\n    \n    \n    }\n  ];\n\n  function run_inline_js() {\n    \n    if (root.Bokeh !== undefined || force === true) {\n      \n    for (var i = 0; i < inline_js.length; i++) {\n      inline_js[i].call(root, root.Bokeh);\n    }\n    if (force === true) {\n        display_loaded();\n      }} else if (Date.now() < root._bokeh_timeout) {\n      setTimeout(run_inline_js, 100);\n    } else if (!root._bokeh_failed_load) {\n      console.log(\"Bokeh: BokehJS failed to load within specified timeout.\");\n      root._bokeh_failed_load = true;\n    } else if (force !== true) {\n      var cell = $(document.getElementById(\"7246\")).parents('.cell').data().cell;\n      cell.output_area.append_execute_result(NB_LOAD_WARNING)\n    }\n\n  }\n\n  if (root._bokeh_is_loading === 0) {\n    console.debug(\"Bokeh: BokehJS loaded, going straight to plotting\");\n    run_inline_js();\n  } else {\n    load_libs(css_urls, js_urls, function() {\n      console.debug(\"Bokeh: BokehJS plotting callback run at\", now());\n      run_inline_js();\n    });\n  }\n}(window));"
     },
     "metadata": {},
     "output_type": "display_data"
    }
   ],
   "source": [
    "#import numpy \n",
    "import numpy as np\n",
    "#import panda\n",
    "import pandas as pd\n",
    "from pandas import read_csv\n",
    "#import bokeh\n",
    "import bokeh\n",
    "from bokeh.plotting import figure\n",
    "from bokeh.models import ColumnDataSource\n",
    "from bokeh.models import HoverTool\n",
    "from bokeh.models import CDSView, ColumnDataSource, GroupFilter\n",
    "from bokeh.plotting import figure\n",
    "from bokeh.palettes import Spectral3\n",
    "from bokeh.plotting import figure, show, output_file\n",
    "\n",
    "#to utilize the bokeh extencion through the panda library \n",
    "import pandas_bokeh\n",
    "pandas_bokeh.output_notebook()\n"
   ]
  },
  {
   "cell_type": "code",
   "execution_count": 56,
   "id": "directed-bermuda",
   "metadata": {},
   "outputs": [
    {
     "data": {
      "text/html": [
       "<div>\n",
       "<style scoped>\n",
       "    .dataframe tbody tr th:only-of-type {\n",
       "        vertical-align: middle;\n",
       "    }\n",
       "\n",
       "    .dataframe tbody tr th {\n",
       "        vertical-align: top;\n",
       "    }\n",
       "\n",
       "    .dataframe thead th {\n",
       "        text-align: right;\n",
       "    }\n",
       "</style>\n",
       "<table border=\"1\" class=\"dataframe\">\n",
       "  <thead>\n",
       "    <tr style=\"text-align: right;\">\n",
       "      <th></th>\n",
       "      <th>date</th>\n",
       "      <th>listings_count</th>\n",
       "    </tr>\n",
       "  </thead>\n",
       "  <tbody>\n",
       "    <tr>\n",
       "      <th>0</th>\n",
       "      <td>02/01/2020</td>\n",
       "      <td>1</td>\n",
       "    </tr>\n",
       "    <tr>\n",
       "      <th>1</th>\n",
       "      <td>08/01/2020</td>\n",
       "      <td>9</td>\n",
       "    </tr>\n",
       "    <tr>\n",
       "      <th>2</th>\n",
       "      <td>13/01/2020</td>\n",
       "      <td>10</td>\n",
       "    </tr>\n",
       "    <tr>\n",
       "      <th>3</th>\n",
       "      <td>23/01/2020</td>\n",
       "      <td>50</td>\n",
       "    </tr>\n",
       "    <tr>\n",
       "      <th>4</th>\n",
       "      <td>24/01/2020</td>\n",
       "      <td>2</td>\n",
       "    </tr>\n",
       "  </tbody>\n",
       "</table>\n",
       "</div>"
      ],
      "text/plain": [
       "         date  listings_count\n",
       "0  02/01/2020               1\n",
       "1  08/01/2020               9\n",
       "2  13/01/2020              10\n",
       "3  23/01/2020              50\n",
       "4  24/01/2020               2"
      ]
     },
     "execution_count": 56,
     "metadata": {},
     "output_type": "execute_result"
    }
   ],
   "source": [
    "#import the csv file \n",
    "data = pd.read_csv('KPI1v2.csv', header=0, delimiter=';')\n",
    "data.head()"
   ]
  },
  {
   "cell_type": "markdown",
   "id": "approved-strengthening",
   "metadata": {},
   "source": [
    "Import of the csv file, and a visualization of what the datafile looks like. "
   ]
  },
  {
   "cell_type": "code",
   "execution_count": 57,
   "id": "lucky-associate",
   "metadata": {},
   "outputs": [
    {
     "data": {
      "text/plain": [
       "49.53658536585366"
      ]
     },
     "execution_count": 57,
     "metadata": {},
     "output_type": "execute_result"
    }
   ],
   "source": [
    "data.listings_count.mean() #mean value new listing based on the days in the file"
   ]
  },
  {
   "cell_type": "code",
   "execution_count": 58,
   "id": "dietary-lithuania",
   "metadata": {},
   "outputs": [],
   "source": [
    "#making sure that the date format is correct\n",
    "data['date'] = pd.to_datetime(data['date'], format='%d/%m/%Y')"
   ]
  },
  {
   "cell_type": "code",
   "execution_count": 59,
   "id": "announced-mathematics",
   "metadata": {},
   "outputs": [],
   "source": [
    "%matplotlib inline"
   ]
  },
  {
   "cell_type": "code",
   "execution_count": 60,
   "id": "palestinian-comfort",
   "metadata": {},
   "outputs": [
    {
     "data": {
      "text/html": [
       "\n",
       "\n",
       "\n",
       "\n",
       "\n",
       "\n",
       "  <div class=\"bk-root\" id=\"e1c9a701-b43b-461a-8696-c2971b864c47\" data-root-id=\"7266\"></div>\n"
      ]
     },
     "metadata": {},
     "output_type": "display_data"
    },
    {
     "data": {
      "application/javascript": [
       "(function(root) {\n",
       "  function embed_document(root) {\n",
       "    \n",
       "  var docs_json = {\"20cf96da-7a21-4b8e-bae4-cdce6a16bf17\":{\"defs\":[],\"roots\":{\"references\":[{\"attributes\":{\"below\":[{\"id\":\"7275\"}],\"center\":[{\"id\":\"7278\"},{\"id\":\"7282\"},{\"id\":\"7325\"}],\"left\":[{\"id\":\"7279\"}],\"renderers\":[{\"id\":\"7300\"}],\"title\":{\"id\":\"7303\"},\"toolbar\":{\"id\":\"7290\"},\"x_range\":{\"id\":\"7267\"},\"x_scale\":{\"id\":\"7271\"},\"y_range\":{\"id\":\"7269\"},\"y_scale\":{\"id\":\"7273\"}},\"id\":\"7266\",\"subtype\":\"Figure\",\"type\":\"Plot\"},{\"attributes\":{},\"id\":\"7284\",\"type\":\"WheelZoomTool\"},{\"attributes\":{},\"id\":\"7280\",\"type\":\"BasicTicker\"},{\"attributes\":{\"data_source\":{\"id\":\"7247\"},\"glyph\":{\"id\":\"7298\"},\"hover_glyph\":null,\"muted_glyph\":null,\"nonselection_glyph\":{\"id\":\"7299\"},\"view\":{\"id\":\"7301\"}},\"id\":\"7300\",\"type\":\"GlyphRenderer\"},{\"attributes\":{\"num_minor_ticks\":5,\"tickers\":[{\"id\":\"7311\"},{\"id\":\"7312\"},{\"id\":\"7313\"},{\"id\":\"7314\"},{\"id\":\"7315\"},{\"id\":\"7316\"},{\"id\":\"7317\"},{\"id\":\"7318\"},{\"id\":\"7319\"},{\"id\":\"7320\"},{\"id\":\"7321\"},{\"id\":\"7322\"}]},\"id\":\"7276\",\"type\":\"DatetimeTicker\"},{\"attributes\":{\"axis\":{\"id\":\"7279\"},\"dimension\":1,\"ticker\":null},\"id\":\"7282\",\"type\":\"Grid\"},{\"attributes\":{\"formatter\":{\"id\":\"7306\"},\"major_label_policy\":{\"id\":\"7305\"},\"ticker\":{\"id\":\"7276\"}},\"id\":\"7275\",\"type\":\"DatetimeAxis\"},{\"attributes\":{\"line_alpha\":0.1,\"line_color\":\"#1f77b4\",\"line_width\":2,\"x\":{\"field\":\"date\"},\"y\":{\"field\":\"listings_count\"}},\"id\":\"7299\",\"type\":\"Line\"},{\"attributes\":{},\"id\":\"7273\",\"type\":\"LinearScale\"},{\"attributes\":{},\"id\":\"7324\",\"type\":\"UnionRenderers\"},{\"attributes\":{},\"id\":\"7287\",\"type\":\"ResetTool\"},{\"attributes\":{\"days\":[1,2,3,4,5,6,7,8,9,10,11,12,13,14,15,16,17,18,19,20,21,22,23,24,25,26,27,28,29,30,31]},\"id\":\"7314\",\"type\":\"DaysTicker\"},{\"attributes\":{\"base\":60,\"mantissas\":[1,2,5,10,15,20,30],\"max_interval\":1800000.0,\"min_interval\":1000.0,\"num_minor_ticks\":0},\"id\":\"7312\",\"type\":\"AdaptiveTicker\"},{\"attributes\":{\"label\":{\"value\":\"Average number of new listings per day\"},\"renderers\":[{\"id\":\"7300\"}]},\"id\":\"7326\",\"type\":\"LegendItem\"},{\"attributes\":{\"active_multi\":null,\"tools\":[{\"id\":\"7283\"},{\"id\":\"7284\"},{\"id\":\"7285\"},{\"id\":\"7286\"},{\"id\":\"7287\"},{\"id\":\"7288\"},{\"id\":\"7327\"}]},\"id\":\"7290\",\"type\":\"Toolbar\"},{\"attributes\":{\"line_color\":\"#1f77b4\",\"line_width\":2,\"x\":{\"field\":\"date\"},\"y\":{\"field\":\"listings_count\"}},\"id\":\"7298\",\"type\":\"Line\"},{\"attributes\":{},\"id\":\"7271\",\"type\":\"LinearScale\"},{\"attributes\":{},\"id\":\"7283\",\"type\":\"PanTool\"},{\"attributes\":{\"months\":[0,4,8]},\"id\":\"7320\",\"type\":\"MonthsTicker\"},{\"attributes\":{},\"id\":\"7323\",\"type\":\"Selection\"},{\"attributes\":{\"items\":[{\"id\":\"7326\"}]},\"id\":\"7325\",\"type\":\"Legend\"},{\"attributes\":{\"source\":{\"id\":\"7247\"}},\"id\":\"7301\",\"type\":\"CDSView\"},{\"attributes\":{\"months\":[0,2,4,6,8,10]},\"id\":\"7319\",\"type\":\"MonthsTicker\"},{\"attributes\":{\"days\":[1,8,15,22]},\"id\":\"7316\",\"type\":\"DaysTicker\"},{\"attributes\":{\"months\":[0,1,2,3,4,5,6,7,8,9,10,11]},\"id\":\"7318\",\"type\":\"MonthsTicker\"},{\"attributes\":{},\"id\":\"7303\",\"type\":\"Title\"},{\"attributes\":{},\"id\":\"7286\",\"type\":\"SaveTool\"},{\"attributes\":{\"data\":{\"date\":{\"__ndarray__\":\"AABA1Dj2dkIAAMA2J/h2QgAAgDPD+XZCAAAALfv8dkIAAMCSTf12QgAAwCmX/nZCAABA9Tv/dkIAAEAjzwF3QgAAALe0BHdCAADAs1AGd0IAAECtiAl3QgAAwD0KDndCAADAAucRd0IAAACQBBh3QgAAwLozHHdCAAAAg3Qed0IAAEDi/iF3QgAAwNs2JXdCAABAp9sld0IAAMBygCZ3QgAAgNjSJndCAABAPiUnd0IAAACkdyd3QgAAwAnKJ3dCAABA1W4od0IAAEAxlS13QgAAgOxFNndCAABAUpg2d0IAAMC0hjh3QgAAgBrZOHdCAAAA5n05d0IAAEAXdTp3QgAAAH3HOndCAADA4hk7d0IAAECuvjt3QgAAABQRPHdCAABARQg9d0IAAIB2/z13QgAAwKf2PndCAABACuVAd0IAAACeykN3QgAAwJpmRXdCAAAAzF1Gd0IAAMDI+Ud3QgAAQJSeSHdCAADA9oxKd0IAAMAkIE13QgAAwFKzT3dCAACAuAVQd0IAAMCARlJ3QgAAgOaYUndCAABAen5Vd0IAAADg0FV3QgAAgKt1VndCAACAQr9Xd0IAAECoEVh3QgAAAKWtWXdCAADACgBad0IAAMA4k1x3QgAAQAQ4XXdCAADAz9xdd0IAAEAyy193QgAAQGBeYndCAAAAxrBid0IAAED3p2N3QgAAwMJMZHdCAACAKJ9kd0IAAECO8WR3QgAAAPRDZXdCAACAv+hld0IAAIBJom13QgAAAKyQb3dCAABAdNFxd0IAAABxbXN3QgAAgGqldndCAACAmDh5d0IAAMDJL3p3QgAAwGB5e3dCAAAAknB8d0IAAIBdFX13QgAAQMNnfXdCAABAiESBd0I=\",\"dtype\":\"float64\",\"order\":\"little\",\"shape\":[82]},\"listings_count\":[1,9,10,50,2,11,8,1,36,4,4,1,1,5,1,4,3,2,1,13,6,12,4,26,3,11,4,2,8,14,4,4,17,22,2,39,17,23,4,7,1,24,7,25,9,1,3,10,9,20,1,5,3,6,28,25,4,2,4,11,24,4,4,26,2136,36,16,15,50,14,3,2,179,31,50,189,50,20,50,7,50,512]},\"selected\":{\"id\":\"7323\"},\"selection_policy\":{\"id\":\"7324\"}},\"id\":\"7247\",\"type\":\"ColumnDataSource\"},{\"attributes\":{\"callback\":null,\"tooltips\":[[\"date\",\"@DateTime\"],[\"Listings\",\"@listings_count\"]]},\"id\":\"7327\",\"type\":\"HoverTool\"},{\"attributes\":{},\"id\":\"7288\",\"type\":\"HelpTool\"},{\"attributes\":{\"base\":24,\"mantissas\":[1,2,4,6,8,12],\"max_interval\":43200000.0,\"min_interval\":3600000.0,\"num_minor_ticks\":0},\"id\":\"7313\",\"type\":\"AdaptiveTicker\"},{\"attributes\":{\"overlay\":{\"id\":\"7289\"}},\"id\":\"7285\",\"type\":\"BoxZoomTool\"},{\"attributes\":{\"mantissas\":[1,2,5],\"max_interval\":500.0,\"num_minor_ticks\":0},\"id\":\"7311\",\"type\":\"AdaptiveTicker\"},{\"attributes\":{},\"id\":\"7308\",\"type\":\"AllLabels\"},{\"attributes\":{\"axis_label\":\"Amount of listings \",\"formatter\":{\"id\":\"7309\"},\"major_label_policy\":{\"id\":\"7308\"},\"ticker\":{\"id\":\"7280\"}},\"id\":\"7279\",\"type\":\"LinearAxis\"},{\"attributes\":{},\"id\":\"7309\",\"type\":\"BasicTickFormatter\"},{\"attributes\":{},\"id\":\"7305\",\"type\":\"AllLabels\"},{\"attributes\":{\"axis\":{\"id\":\"7275\"},\"ticker\":null},\"id\":\"7278\",\"type\":\"Grid\"},{\"attributes\":{},\"id\":\"7269\",\"type\":\"DataRange1d\"},{\"attributes\":{},\"id\":\"7322\",\"type\":\"YearsTicker\"},{\"attributes\":{},\"id\":\"7267\",\"type\":\"DataRange1d\"},{\"attributes\":{\"months\":[0,6]},\"id\":\"7321\",\"type\":\"MonthsTicker\"},{\"attributes\":{\"bottom_units\":\"screen\",\"fill_alpha\":0.5,\"fill_color\":\"lightgrey\",\"left_units\":\"screen\",\"level\":\"overlay\",\"line_alpha\":1.0,\"line_color\":\"black\",\"line_dash\":[4,4],\"line_width\":2,\"right_units\":\"screen\",\"syncable\":false,\"top_units\":\"screen\"},\"id\":\"7289\",\"type\":\"BoxAnnotation\"},{\"attributes\":{\"days\":[1,4,7,10,13,16,19,22,25,28]},\"id\":\"7315\",\"type\":\"DaysTicker\"},{\"attributes\":{\"days\":[1,15]},\"id\":\"7317\",\"type\":\"DaysTicker\"},{\"attributes\":{},\"id\":\"7306\",\"type\":\"DatetimeTickFormatter\"}],\"root_ids\":[\"7266\"]},\"title\":\"Bokeh Application\",\"version\":\"2.3.1\"}};\n",
       "  var render_items = [{\"docid\":\"20cf96da-7a21-4b8e-bae4-cdce6a16bf17\",\"root_ids\":[\"7266\"],\"roots\":{\"7266\":\"e1c9a701-b43b-461a-8696-c2971b864c47\"}}];\n",
       "  root.Bokeh.embed.embed_items_notebook(docs_json, render_items);\n",
       "\n",
       "  }\n",
       "  if (root.Bokeh !== undefined) {\n",
       "    embed_document(root);\n",
       "  } else {\n",
       "    var attempts = 0;\n",
       "    var timer = setInterval(function(root) {\n",
       "      if (root.Bokeh !== undefined) {\n",
       "        clearInterval(timer);\n",
       "        embed_document(root);\n",
       "      } else {\n",
       "        attempts++;\n",
       "        if (attempts > 100) {\n",
       "          clearInterval(timer);\n",
       "          console.log(\"Bokeh: ERROR: Unable to run BokehJS code because BokehJS library is missing\");\n",
       "        }\n",
       "      }\n",
       "    }, 10, root)\n",
       "  }\n",
       "})(window);"
      ],
      "application/vnd.bokehjs_exec.v0+json": ""
     },
     "metadata": {
      "application/vnd.bokehjs_exec.v0+json": {
       "id": "7266"
      }
     },
     "output_type": "display_data"
    }
   ],
   "source": [
    "group = data.groupby('date').listings_count.sum()\n",
    "source = ColumnDataSource(pd.DataFrame(group)) #creating columbdatasource to utilize the bokeh library \n",
    "\n",
    "p = figure(plot_height=400, toolbar_location=None, tools=\"\")\n",
    "p = figure(x_axis_type='datetime')\n",
    "p.line(x='date', y='listings_count', source=source, line_width=2,legend_label='Average number of new listings per day' )\n",
    "p.yaxis.axis_label = 'Amount of listings '\n",
    "\n",
    "\n",
    "#create Hovertool \n",
    "#hover = HoverTool()\n",
    "#hover.tooltips=[\n",
    " #       ('Date', '@date'),\n",
    "  #      ('Listings', '@listings_count')], \n",
    "   #     formatters={'@date': 'datetime'}\n",
    "hover = HoverTool()\n",
    "hover.tooltips=[('date', '@DateTime'), ('Listings', '@listings_count')]\n",
    "# need to add the dateTimeformat on date in the hovertool \n",
    "p.add_tools(hover)\n",
    "\n",
    "show(p)\n",
    "output_file('figure1.html')"
   ]
  },
  {
   "cell_type": "code",
   "execution_count": 62,
   "id": "compact-realtor",
   "metadata": {},
   "outputs": [
    {
     "data": {
      "text/html": [
       "\n",
       "\n",
       "\n",
       "\n",
       "\n",
       "\n",
       "  <div class=\"bk-root\" id=\"cdd135d7-84e8-41df-a125-540e8233cdb7\" data-root-id=\"7758\"></div>\n"
      ]
     },
     "metadata": {},
     "output_type": "display_data"
    },
    {
     "data": {
      "application/javascript": [
       "(function(root) {\n",
       "  function embed_document(root) {\n",
       "    \n",
       "  var docs_json = {\"290b8043-3d54-40a3-bb38-df282f05e2c5\":{\"defs\":[],\"roots\":{\"references\":[{\"attributes\":{\"below\":[{\"id\":\"7769\"}],\"center\":[{\"id\":\"7772\"},{\"id\":\"7776\"},{\"id\":\"7808\"}],\"height\":400,\"left\":[{\"id\":\"7773\"}],\"output_backend\":\"webgl\",\"renderers\":[{\"id\":\"7797\"}],\"sizing_mode\":\"fixed\",\"title\":{\"id\":\"7759\"},\"toolbar\":{\"id\":\"7784\"},\"x_range\":{\"id\":\"7761\"},\"x_scale\":{\"id\":\"7765\"},\"y_range\":{\"id\":\"7763\"},\"y_scale\":{\"id\":\"7767\"}},\"id\":\"7758\",\"subtype\":\"Figure\",\"type\":\"Plot\"},{\"attributes\":{},\"id\":\"7801\",\"type\":\"AllLabels\"},{\"attributes\":{},\"id\":\"7806\",\"type\":\"Selection\"},{\"attributes\":{\"bottom_units\":\"screen\",\"fill_alpha\":0.5,\"fill_color\":\"lightgrey\",\"left_units\":\"screen\",\"level\":\"overlay\",\"line_alpha\":1.0,\"line_color\":\"black\",\"line_dash\":[4,4],\"line_width\":2,\"right_units\":\"screen\",\"syncable\":false,\"top_units\":\"screen\"},\"id\":\"7783\",\"type\":\"BoxAnnotation\"},{\"attributes\":{},\"id\":\"7807\",\"type\":\"UnionRenderers\"},{\"attributes\":{\"data\":{\"__x__values\":[0,1,2,3,4,5,6,7,8,9,10,11,12,13,14,15,16,17,18,19,20,21,22,23,24,25,26,27,28,29,30,31,32,33,34,35,36,37,38,39,40,41,42,43,44,45,46,47,48,49,50,51,52,53,54,55,56,57,58,59,60,61,62,63,64,65,66,67,68,69,70,71,72,73,74,75,76,77,78,79,80,81],\"__x__values_original\":{\"__ndarray__\":\"AABA1Dj2dkIAAMA2J/h2QgAAgDPD+XZCAAAALfv8dkIAAMCSTf12QgAAwCmX/nZCAABA9Tv/dkIAAEAjzwF3QgAAALe0BHdCAADAs1AGd0IAAECtiAl3QgAAwD0KDndCAADAAucRd0IAAACQBBh3QgAAwLozHHdCAAAAg3Qed0IAAEDi/iF3QgAAwNs2JXdCAABAp9sld0IAAMBygCZ3QgAAgNjSJndCAABAPiUnd0IAAACkdyd3QgAAwAnKJ3dCAABA1W4od0IAAEAxlS13QgAAgOxFNndCAABAUpg2d0IAAMC0hjh3QgAAgBrZOHdCAAAA5n05d0IAAEAXdTp3QgAAAH3HOndCAADA4hk7d0IAAECuvjt3QgAAABQRPHdCAABARQg9d0IAAIB2/z13QgAAwKf2PndCAABACuVAd0IAAACeykN3QgAAwJpmRXdCAAAAzF1Gd0IAAMDI+Ud3QgAAQJSeSHdCAADA9oxKd0IAAMAkIE13QgAAwFKzT3dCAACAuAVQd0IAAMCARlJ3QgAAgOaYUndCAABAen5Vd0IAAADg0FV3QgAAgKt1VndCAACAQr9Xd0IAAECoEVh3QgAAAKWtWXdCAADACgBad0IAAMA4k1x3QgAAQAQ4XXdCAADAz9xdd0IAAEAyy193QgAAQGBeYndCAAAAxrBid0IAAED3p2N3QgAAwMJMZHdCAACAKJ9kd0IAAECO8WR3QgAAAPRDZXdCAACAv+hld0IAAIBJom13QgAAAKyQb3dCAABAdNFxd0IAAABxbXN3QgAAgGqldndCAACAmDh5d0IAAMDJL3p3QgAAwGB5e3dCAAAAknB8d0IAAIBdFX13QgAAQMNnfXdCAABAiESBd0I=\",\"dtype\":\"float64\",\"order\":\"little\",\"shape\":[82]},\"listings_count\":[1,9,10,50,2,11,8,1,36,4,4,1,1,5,1,4,3,2,1,13,6,12,4,26,3,11,4,2,8,14,4,4,17,22,2,39,17,23,4,7,1,24,7,25,9,1,3,10,9,20,1,5,3,6,28,25,4,2,4,11,24,4,4,26,2136,36,16,15,50,14,3,2,179,31,50,189,50,20,50,7,50,512]},\"selected\":{\"id\":\"7806\"},\"selection_policy\":{\"id\":\"7807\"}},\"id\":\"7757\",\"type\":\"ColumnDataSource\"},{\"attributes\":{\"range\":{\"id\":\"7761\"}},\"id\":\"7793\",\"type\":\"Dodge\"},{\"attributes\":{},\"id\":\"7761\",\"type\":\"DataRange1d\"},{\"attributes\":{},\"id\":\"7759\",\"type\":\"Title\"},{\"attributes\":{},\"id\":\"7765\",\"type\":\"LinearScale\"},{\"attributes\":{},\"id\":\"7803\",\"type\":\"AllLabels\"},{\"attributes\":{},\"id\":\"7763\",\"type\":\"DataRange1d\"},{\"attributes\":{\"click_policy\":\"hide\",\"items\":[{\"id\":\"7809\"}]},\"id\":\"7808\",\"type\":\"Legend\"},{\"attributes\":{\"axis_label\":\"date\",\"formatter\":{\"id\":\"7791\"},\"major_label_policy\":{\"id\":\"7801\"},\"ticker\":{\"id\":\"7812\"}},\"id\":\"7769\",\"type\":\"LinearAxis\"},{\"attributes\":{},\"id\":\"7804\",\"type\":\"BasicTickFormatter\"},{\"attributes\":{\"label\":{\"value\":\" listings_count\"},\"renderers\":[{\"id\":\"7797\"}]},\"id\":\"7809\",\"type\":\"LegendItem\"},{\"attributes\":{\"axis\":{\"id\":\"7769\"},\"ticker\":null},\"id\":\"7772\",\"type\":\"Grid\"},{\"attributes\":{\"code\":\"\\n                                    var labels = {0: '2020/01/02', 1: '2020/01/08', 2: '2020/01/13', 3: '2020/01/23', 4: '2020/01/24', 5: '2020/01/28', 6: '2020/01/30', 7: '2020/02/07', 8: '2020/02/16', 9: '2020/02/21', 10: '2020/03/02', 11: '2020/03/16', 12: '2020/03/28', 13: '2020/04/16', 14: '2020/04/29', 15: '2020/05/06', 16: '2020/05/17', 17: '2020/05/27', 18: '2020/05/29', 19: '2020/05/31', 20: '2020/06/01', 21: '2020/06/02', 22: '2020/06/03', 23: '2020/06/04', 24: '2020/06/06', 25: '2020/06/22', 26: '2020/07/19', 27: '2020/07/20', 28: '2020/07/26', 29: '2020/07/27', 30: '2020/07/29', 31: '2020/08/01', 32: '2020/08/02', 33: '2020/08/03', 34: '2020/08/05', 35: '2020/08/06', 36: '2020/08/09', 37: '2020/08/12', 38: '2020/08/15', 39: '2020/08/21', 40: '2020/08/30', 41: '2020/09/04', 42: '2020/09/07', 43: '2020/09/12', 44: '2020/09/14', 45: '2020/09/20', 46: '2020/09/28', 47: '2020/10/06', 48: '2020/10/07', 49: '2020/10/14', 50: '2020/10/15', 51: '2020/10/24', 52: '2020/10/25', 53: '2020/10/27', 54: '2020/10/31', 55: '2020/11/01', 56: '2020/11/06', 57: '2020/11/07', 58: '2020/11/15', 59: '2020/11/17', 60: '2020/11/19', 61: '2020/11/25', 62: '2020/12/03', 63: '2020/12/04', 64: '2020/12/07', 65: '2020/12/09', 66: '2020/12/10', 67: '2020/12/11', 68: '2020/12/12', 69: '2020/12/14', 70: '2021/01/07', 71: '2021/01/13', 72: '2021/01/20', 73: '2021/01/25', 74: '2021/02/04', 75: '2021/02/12', 76: '2021/02/15', 77: '2021/02/19', 78: '2021/02/22', 79: '2021/02/24', 80: '2021/02/25', 81: '2021/03/09'};\\n                                    return labels[tick];\\n                                    \"},\"id\":\"7791\",\"type\":\"FuncTickFormatter\"},{\"attributes\":{\"data_source\":{\"id\":\"7757\"},\"glyph\":{\"id\":\"7795\"},\"hover_glyph\":null,\"muted_glyph\":null,\"nonselection_glyph\":{\"id\":\"7796\"},\"view\":{\"id\":\"7798\"}},\"id\":\"7797\",\"type\":\"GlyphRenderer\"},{\"attributes\":{},\"id\":\"7778\",\"type\":\"WheelZoomTool\"},{\"attributes\":{\"source\":{\"id\":\"7757\"}},\"id\":\"7798\",\"type\":\"CDSView\"},{\"attributes\":{\"axis_label\":\"listings_count\",\"formatter\":{\"id\":\"7804\"},\"major_label_policy\":{\"id\":\"7803\"},\"ticker\":{\"id\":\"7774\"}},\"id\":\"7773\",\"type\":\"LinearAxis\"},{\"attributes\":{},\"id\":\"7767\",\"type\":\"LinearScale\"},{\"attributes\":{\"axis\":{\"id\":\"7773\"},\"dimension\":1,\"ticker\":null},\"id\":\"7776\",\"type\":\"Grid\"},{\"attributes\":{},\"id\":\"7774\",\"type\":\"BasicTicker\"},{\"attributes\":{\"active_multi\":null,\"active_scroll\":{\"id\":\"7778\"},\"tools\":[{\"id\":\"7777\"},{\"id\":\"7778\"},{\"id\":\"7779\"},{\"id\":\"7780\"},{\"id\":\"7781\"},{\"id\":\"7782\"},{\"id\":\"7810\"}]},\"id\":\"7784\",\"type\":\"Toolbar\"},{\"attributes\":{\"fill_alpha\":{\"value\":0.1},\"fill_color\":{\"value\":\"#1f77b4\"},\"line_alpha\":{\"value\":0.1},\"line_color\":{\"value\":\"#1f77b4\"},\"line_width\":{\"value\":2},\"top\":{\"field\":\"listings_count\"},\"width\":{\"value\":0.7},\"x\":{\"field\":\"__x__values\",\"transform\":{\"id\":\"7793\"}}},\"id\":\"7796\",\"type\":\"VBar\"},{\"attributes\":{},\"id\":\"7782\",\"type\":\"HelpTool\"},{\"attributes\":{},\"id\":\"7777\",\"type\":\"PanTool\"},{\"attributes\":{\"ticks\":[0,1,2,3,4,5,6,7,8,9,10,11,12,13,14,15,16,17,18,19,20,21,22,23,24,25,26,27,28,29,30,31,32,33,34,35,36,37,38,39,40,41,42,43,44,45,46,47,48,49,50,51,52,53,54,55,56,57,58,59,60,61,62,63,64,65,66,67,68,69,70,71,72,73,74,75,76,77,78,79,80,81]},\"id\":\"7812\",\"type\":\"FixedTicker\"},{\"attributes\":{\"overlay\":{\"id\":\"7783\"}},\"id\":\"7779\",\"type\":\"BoxZoomTool\"},{\"attributes\":{},\"id\":\"7780\",\"type\":\"SaveTool\"},{\"attributes\":{},\"id\":\"7781\",\"type\":\"ResetTool\"},{\"attributes\":{\"fill_color\":{\"value\":\"#1f77b4\"},\"line_color\":{\"value\":\"#1f77b4\"},\"line_width\":{\"value\":2},\"top\":{\"field\":\"listings_count\"},\"width\":{\"value\":0.7},\"x\":{\"field\":\"__x__values\",\"transform\":{\"id\":\"7793\"}}},\"id\":\"7795\",\"type\":\"VBar\"},{\"attributes\":{\"callback\":null,\"mode\":\"vline\",\"renderers\":[{\"id\":\"7797\"}],\"tooltips\":[[\"date\",\"@__x__values_original\"],[\"listings_count\",\"@{listings_count}\"]]},\"id\":\"7810\",\"type\":\"HoverTool\"}],\"root_ids\":[\"7758\"]},\"title\":\"Bokeh Application\",\"version\":\"2.3.1\"}};\n",
       "  var render_items = [{\"docid\":\"290b8043-3d54-40a3-bb38-df282f05e2c5\",\"root_ids\":[\"7758\"],\"roots\":{\"7758\":\"cdd135d7-84e8-41df-a125-540e8233cdb7\"}}];\n",
       "  root.Bokeh.embed.embed_items_notebook(docs_json, render_items);\n",
       "\n",
       "  }\n",
       "  if (root.Bokeh !== undefined) {\n",
       "    embed_document(root);\n",
       "  } else {\n",
       "    var attempts = 0;\n",
       "    var timer = setInterval(function(root) {\n",
       "      if (root.Bokeh !== undefined) {\n",
       "        clearInterval(timer);\n",
       "        embed_document(root);\n",
       "      } else {\n",
       "        attempts++;\n",
       "        if (attempts > 100) {\n",
       "          clearInterval(timer);\n",
       "          console.log(\"Bokeh: ERROR: Unable to run BokehJS code because BokehJS library is missing\");\n",
       "        }\n",
       "      }\n",
       "    }, 10, root)\n",
       "  }\n",
       "})(window);"
      ],
      "application/vnd.bokehjs_exec.v0+json": ""
     },
     "metadata": {
      "application/vnd.bokehjs_exec.v0+json": {
       "id": "7758"
      }
     },
     "output_type": "display_data"
    }
   ],
   "source": [
    "hover.tooltips = [\n",
    "    (\"date\", \"@date\"),\n",
    "    (\"(x,y)\", \"($x, $y)\"),\n",
    "    (\"listings_count\",\"@listings_count\"),\n",
    "]\n",
    "data.plot_bokeh(kind='bar', x = 'date', y = 'listings_count') #bar-plot visualization of the dataset \n",
    "output_file('figure2.html')"
   ]
  },
  {
   "cell_type": "code",
   "execution_count": 63,
   "id": "postal-buddy",
   "metadata": {},
   "outputs": [
    {
     "data": {
      "text/html": [
       "\n",
       "\n",
       "\n",
       "\n",
       "\n",
       "\n",
       "  <div class=\"bk-root\" id=\"79bd5d6e-c95c-411e-8783-4aaea8809a99\" data-root-id=\"7982\"></div>\n"
      ]
     },
     "metadata": {},
     "output_type": "display_data"
    },
    {
     "data": {
      "application/javascript": [
       "(function(root) {\n",
       "  function embed_document(root) {\n",
       "    \n",
       "  var docs_json = {\"24fddab0-692d-4a85-8924-dbb6f7f3545a\":{\"defs\":[],\"roots\":{\"references\":[{\"attributes\":{\"below\":[{\"id\":\"7993\"}],\"center\":[{\"id\":\"7996\"},{\"id\":\"8000\"},{\"id\":\"8043\"}],\"height\":400,\"left\":[{\"id\":\"7997\"}],\"output_backend\":\"webgl\",\"renderers\":[{\"id\":\"8019\"}],\"sizing_mode\":\"fixed\",\"title\":{\"id\":\"7983\"},\"toolbar\":{\"id\":\"8008\"},\"x_range\":{\"id\":\"7985\"},\"x_scale\":{\"id\":\"7989\"},\"y_range\":{\"id\":\"7987\"},\"y_scale\":{\"id\":\"7991\"}},\"id\":\"7982\",\"subtype\":\"Figure\",\"type\":\"Plot\"},{\"attributes\":{},\"id\":\"8023\",\"type\":\"AllLabels\"},{\"attributes\":{\"active_multi\":null,\"active_scroll\":{\"id\":\"8002\"},\"tools\":[{\"id\":\"8001\"},{\"id\":\"8002\"},{\"id\":\"8003\"},{\"id\":\"8004\"},{\"id\":\"8005\"},{\"id\":\"8006\"},{\"id\":\"8045\"}]},\"id\":\"8008\",\"type\":\"Toolbar\"},{\"attributes\":{\"axis_label\":\"date\",\"formatter\":{\"id\":\"8047\"},\"major_label_policy\":{\"id\":\"8023\"},\"ticker\":{\"id\":\"7994\"}},\"id\":\"7993\",\"type\":\"DatetimeAxis\"},{\"attributes\":{\"months\":[0,6]},\"id\":\"8039\",\"type\":\"MonthsTicker\"},{\"attributes\":{\"months\":[0,4,8]},\"id\":\"8038\",\"type\":\"MonthsTicker\"},{\"attributes\":{\"days\":[\"%d %B %Y\"],\"hours\":[\"%H:%M:%S\"],\"milliseconds\":[\"%H:%M:%S.%f\"],\"minutes\":[\"%H:%M:%S\"],\"months\":[\"%d %B %Y\"],\"seconds\":[\"%H:%M:%S\"],\"years\":[\"%d %B %Y\"]},\"id\":\"8047\",\"type\":\"DatetimeTickFormatter\"},{\"attributes\":{\"axis\":{\"id\":\"7993\"},\"ticker\":null},\"id\":\"7996\",\"type\":\"Grid\"},{\"attributes\":{\"days\":[1,8,15,22]},\"id\":\"8034\",\"type\":\"DaysTicker\"},{\"attributes\":{\"data\":{\"__x__values\":{\"__ndarray__\":\"AABA1Dj2dkIAAMA2J/h2QgAAgDPD+XZCAAAALfv8dkIAAMCSTf12QgAAwCmX/nZCAABA9Tv/dkIAAEAjzwF3QgAAALe0BHdCAADAs1AGd0IAAECtiAl3QgAAwD0KDndCAADAAucRd0IAAACQBBh3QgAAwLozHHdCAAAAg3Qed0IAAEDi/iF3QgAAwNs2JXdCAABAp9sld0IAAMBygCZ3QgAAgNjSJndCAABAPiUnd0IAAACkdyd3QgAAwAnKJ3dCAABA1W4od0IAAEAxlS13QgAAgOxFNndCAABAUpg2d0IAAMC0hjh3QgAAgBrZOHdCAAAA5n05d0IAAEAXdTp3QgAAAH3HOndCAADA4hk7d0IAAECuvjt3QgAAABQRPHdCAABARQg9d0IAAIB2/z13QgAAwKf2PndCAABACuVAd0IAAACeykN3QgAAwJpmRXdCAAAAzF1Gd0IAAMDI+Ud3QgAAQJSeSHdCAADA9oxKd0IAAMAkIE13QgAAwFKzT3dCAACAuAVQd0IAAMCARlJ3QgAAgOaYUndCAABAen5Vd0IAAADg0FV3QgAAgKt1VndCAACAQr9Xd0IAAECoEVh3QgAAAKWtWXdCAADACgBad0IAAMA4k1x3QgAAQAQ4XXdCAADAz9xdd0IAAEAyy193QgAAQGBeYndCAAAAxrBid0IAAED3p2N3QgAAwMJMZHdCAACAKJ9kd0IAAECO8WR3QgAAAPRDZXdCAACAv+hld0IAAIBJom13QgAAAKyQb3dCAABAdNFxd0IAAABxbXN3QgAAgGqldndCAACAmDh5d0IAAMDJL3p3QgAAwGB5e3dCAAAAknB8d0IAAIBdFX13QgAAQMNnfXdCAABAiESBd0I=\",\"dtype\":\"float64\",\"order\":\"little\",\"shape\":[82]},\"__x__values_original\":{\"__ndarray__\":\"AABA1Dj2dkIAAMA2J/h2QgAAgDPD+XZCAAAALfv8dkIAAMCSTf12QgAAwCmX/nZCAABA9Tv/dkIAAEAjzwF3QgAAALe0BHdCAADAs1AGd0IAAECtiAl3QgAAwD0KDndCAADAAucRd0IAAACQBBh3QgAAwLozHHdCAAAAg3Qed0IAAEDi/iF3QgAAwNs2JXdCAABAp9sld0IAAMBygCZ3QgAAgNjSJndCAABAPiUnd0IAAACkdyd3QgAAwAnKJ3dCAABA1W4od0IAAEAxlS13QgAAgOxFNndCAABAUpg2d0IAAMC0hjh3QgAAgBrZOHdCAAAA5n05d0IAAEAXdTp3QgAAAH3HOndCAADA4hk7d0IAAECuvjt3QgAAABQRPHdCAABARQg9d0IAAIB2/z13QgAAwKf2PndCAABACuVAd0IAAACeykN3QgAAwJpmRXdCAAAAzF1Gd0IAAMDI+Ud3QgAAQJSeSHdCAADA9oxKd0IAAMAkIE13QgAAwFKzT3dCAACAuAVQd0IAAMCARlJ3QgAAgOaYUndCAABAen5Vd0IAAADg0FV3QgAAgKt1VndCAACAQr9Xd0IAAECoEVh3QgAAAKWtWXdCAADACgBad0IAAMA4k1x3QgAAQAQ4XXdCAADAz9xdd0IAAEAyy193QgAAQGBeYndCAAAAxrBid0IAAED3p2N3QgAAwMJMZHdCAACAKJ9kd0IAAECO8WR3QgAAAPRDZXdCAACAv+hld0IAAIBJom13QgAAAKyQb3dCAABAdNFxd0IAAABxbXN3QgAAgGqldndCAACAmDh5d0IAAMDJL3p3QgAAwGB5e3dCAAAAknB8d0IAAIBdFX13QgAAQMNnfXdCAABAiESBd0I=\",\"dtype\":\"float64\",\"order\":\"little\",\"shape\":[82]},\"listings_count\":[1,9,10,50,2,11,8,1,36,4,4,1,1,5,1,4,3,2,1,13,6,12,4,26,3,11,4,2,8,14,4,4,17,22,2,39,17,23,4,7,1,24,7,25,9,1,3,10,9,20,1,5,3,6,28,25,4,2,4,11,24,4,4,26,2136,36,16,15,50,14,3,2,179,31,50,189,50,20,50,7,50,512]},\"selected\":{\"id\":\"8041\"},\"selection_policy\":{\"id\":\"8042\"}},\"id\":\"8015\",\"type\":\"ColumnDataSource\"},{\"attributes\":{},\"id\":\"8026\",\"type\":\"AllLabels\"},{\"attributes\":{\"line_color\":\"#1f77b4\",\"line_width\":2,\"x\":{\"field\":\"__x__values\"},\"y\":{\"field\":\"listings_count\"}},\"id\":\"8017\",\"type\":\"Line\"},{\"attributes\":{},\"id\":\"7991\",\"type\":\"LinearScale\"},{\"attributes\":{},\"id\":\"8027\",\"type\":\"BasicTickFormatter\"},{\"attributes\":{\"data_source\":{\"id\":\"8015\"},\"glyph\":{\"id\":\"8017\"},\"hover_glyph\":null,\"muted_glyph\":null,\"nonselection_glyph\":{\"id\":\"8018\"},\"view\":{\"id\":\"8020\"}},\"id\":\"8019\",\"type\":\"GlyphRenderer\"},{\"attributes\":{\"months\":[0,1,2,3,4,5,6,7,8,9,10,11]},\"id\":\"8036\",\"type\":\"MonthsTicker\"},{\"attributes\":{},\"id\":\"8006\",\"type\":\"HelpTool\"},{\"attributes\":{\"callback\":null,\"formatters\":{\"@__x__values_original\":\"datetime\"},\"mode\":\"vline\",\"renderers\":[{\"id\":\"8019\"}],\"tooltips\":[[\"date\",\"@__x__values_original{%F}\"],[\"listings_count\",\"@{listings_count}\"]]},\"id\":\"8045\",\"type\":\"HoverTool\"},{\"attributes\":{\"line_alpha\":0.1,\"line_color\":\"#1f77b4\",\"line_width\":2,\"x\":{\"field\":\"__x__values\"},\"y\":{\"field\":\"listings_count\"}},\"id\":\"8018\",\"type\":\"Line\"},{\"attributes\":{},\"id\":\"8004\",\"type\":\"SaveTool\"},{\"attributes\":{},\"id\":\"7983\",\"type\":\"Title\"},{\"attributes\":{},\"id\":\"8005\",\"type\":\"ResetTool\"},{\"attributes\":{},\"id\":\"7989\",\"type\":\"LinearScale\"},{\"attributes\":{\"days\":[1,4,7,10,13,16,19,22,25,28]},\"id\":\"8033\",\"type\":\"DaysTicker\"},{\"attributes\":{\"months\":[0,2,4,6,8,10]},\"id\":\"8037\",\"type\":\"MonthsTicker\"},{\"attributes\":{\"source\":{\"id\":\"8015\"}},\"id\":\"8020\",\"type\":\"CDSView\"},{\"attributes\":{\"days\":[1,15]},\"id\":\"8035\",\"type\":\"DaysTicker\"},{\"attributes\":{\"label\":{\"value\":\" listings_count\"},\"renderers\":[{\"id\":\"8019\"}]},\"id\":\"8044\",\"type\":\"LegendItem\"},{\"attributes\":{},\"id\":\"7985\",\"type\":\"DataRange1d\"},{\"attributes\":{\"overlay\":{\"id\":\"8007\"}},\"id\":\"8003\",\"type\":\"BoxZoomTool\"},{\"attributes\":{},\"id\":\"7987\",\"type\":\"DataRange1d\"},{\"attributes\":{\"click_policy\":\"hide\",\"items\":[{\"id\":\"8044\"}]},\"id\":\"8043\",\"type\":\"Legend\"},{\"attributes\":{},\"id\":\"8040\",\"type\":\"YearsTicker\"},{\"attributes\":{\"bottom_units\":\"screen\",\"fill_alpha\":0.5,\"fill_color\":\"lightgrey\",\"left_units\":\"screen\",\"level\":\"overlay\",\"line_alpha\":1.0,\"line_color\":\"black\",\"line_dash\":[4,4],\"line_width\":2,\"right_units\":\"screen\",\"syncable\":false,\"top_units\":\"screen\"},\"id\":\"8007\",\"type\":\"BoxAnnotation\"},{\"attributes\":{\"mantissas\":[1,2,5],\"max_interval\":500.0,\"num_minor_ticks\":0},\"id\":\"8029\",\"type\":\"AdaptiveTicker\"},{\"attributes\":{},\"id\":\"8002\",\"type\":\"WheelZoomTool\"},{\"attributes\":{\"num_minor_ticks\":5,\"tickers\":[{\"id\":\"8029\"},{\"id\":\"8030\"},{\"id\":\"8031\"},{\"id\":\"8032\"},{\"id\":\"8033\"},{\"id\":\"8034\"},{\"id\":\"8035\"},{\"id\":\"8036\"},{\"id\":\"8037\"},{\"id\":\"8038\"},{\"id\":\"8039\"},{\"id\":\"8040\"}]},\"id\":\"7994\",\"type\":\"DatetimeTicker\"},{\"attributes\":{\"base\":60,\"mantissas\":[1,2,5,10,15,20,30],\"max_interval\":1800000.0,\"min_interval\":1000.0,\"num_minor_ticks\":0},\"id\":\"8030\",\"type\":\"AdaptiveTicker\"},{\"attributes\":{\"base\":24,\"mantissas\":[1,2,4,6,8,12],\"max_interval\":43200000.0,\"min_interval\":3600000.0,\"num_minor_ticks\":0},\"id\":\"8031\",\"type\":\"AdaptiveTicker\"},{\"attributes\":{},\"id\":\"8041\",\"type\":\"Selection\"},{\"attributes\":{},\"id\":\"7998\",\"type\":\"BasicTicker\"},{\"attributes\":{},\"id\":\"8042\",\"type\":\"UnionRenderers\"},{\"attributes\":{},\"id\":\"8001\",\"type\":\"PanTool\"},{\"attributes\":{\"days\":[1,2,3,4,5,6,7,8,9,10,11,12,13,14,15,16,17,18,19,20,21,22,23,24,25,26,27,28,29,30,31]},\"id\":\"8032\",\"type\":\"DaysTicker\"},{\"attributes\":{\"axis_label\":\"listings_count\",\"formatter\":{\"id\":\"8027\"},\"major_label_policy\":{\"id\":\"8026\"},\"ticker\":{\"id\":\"7998\"}},\"id\":\"7997\",\"type\":\"LinearAxis\"},{\"attributes\":{\"axis\":{\"id\":\"7997\"},\"dimension\":1,\"ticker\":null},\"id\":\"8000\",\"type\":\"Grid\"}],\"root_ids\":[\"7982\"]},\"title\":\"Bokeh Application\",\"version\":\"2.3.1\"}};\n",
       "  var render_items = [{\"docid\":\"24fddab0-692d-4a85-8924-dbb6f7f3545a\",\"root_ids\":[\"7982\"],\"roots\":{\"7982\":\"79bd5d6e-c95c-411e-8783-4aaea8809a99\"}}];\n",
       "  root.Bokeh.embed.embed_items_notebook(docs_json, render_items);\n",
       "\n",
       "  }\n",
       "  if (root.Bokeh !== undefined) {\n",
       "    embed_document(root);\n",
       "  } else {\n",
       "    var attempts = 0;\n",
       "    var timer = setInterval(function(root) {\n",
       "      if (root.Bokeh !== undefined) {\n",
       "        clearInterval(timer);\n",
       "        embed_document(root);\n",
       "      } else {\n",
       "        attempts++;\n",
       "        if (attempts > 100) {\n",
       "          clearInterval(timer);\n",
       "          console.log(\"Bokeh: ERROR: Unable to run BokehJS code because BokehJS library is missing\");\n",
       "        }\n",
       "      }\n",
       "    }, 10, root)\n",
       "  }\n",
       "})(window);"
      ],
      "application/vnd.bokehjs_exec.v0+json": ""
     },
     "metadata": {
      "application/vnd.bokehjs_exec.v0+json": {
       "id": "7982"
      }
     },
     "output_type": "display_data"
    },
    {
     "data": {
      "text/html": [
       "<div style=\"display: table;\"><div style=\"display: table-row;\"><div style=\"display: table-cell;\"><b title=\"bokeh.plotting.figure.Figure\">Figure</b>(</div><div style=\"display: table-cell;\">id&nbsp;=&nbsp;'7982', <span id=\"8447\" style=\"cursor: pointer;\">&hellip;)</span></div></div><div class=\"8446\" style=\"display: none;\"><div style=\"display: table-cell;\"></div><div style=\"display: table-cell;\">above&nbsp;=&nbsp;[],</div></div><div class=\"8446\" style=\"display: none;\"><div style=\"display: table-cell;\"></div><div style=\"display: table-cell;\">align&nbsp;=&nbsp;'start',</div></div><div class=\"8446\" style=\"display: none;\"><div style=\"display: table-cell;\"></div><div style=\"display: table-cell;\">aspect_ratio&nbsp;=&nbsp;None,</div></div><div class=\"8446\" style=\"display: none;\"><div style=\"display: table-cell;\"></div><div style=\"display: table-cell;\">aspect_scale&nbsp;=&nbsp;1,</div></div><div class=\"8446\" style=\"display: none;\"><div style=\"display: table-cell;\"></div><div style=\"display: table-cell;\">background&nbsp;=&nbsp;None,</div></div><div class=\"8446\" style=\"display: none;\"><div style=\"display: table-cell;\"></div><div style=\"display: table-cell;\">background_fill_alpha&nbsp;=&nbsp;1.0,</div></div><div class=\"8446\" style=\"display: none;\"><div style=\"display: table-cell;\"></div><div style=\"display: table-cell;\">background_fill_color&nbsp;=&nbsp;'#ffffff',</div></div><div class=\"8446\" style=\"display: none;\"><div style=\"display: table-cell;\"></div><div style=\"display: table-cell;\">below&nbsp;=&nbsp;[DatetimeAxis(id='7993', ...)],</div></div><div class=\"8446\" style=\"display: none;\"><div style=\"display: table-cell;\"></div><div style=\"display: table-cell;\">border_fill_alpha&nbsp;=&nbsp;1.0,</div></div><div class=\"8446\" style=\"display: none;\"><div style=\"display: table-cell;\"></div><div style=\"display: table-cell;\">border_fill_color&nbsp;=&nbsp;'#ffffff',</div></div><div class=\"8446\" style=\"display: none;\"><div style=\"display: table-cell;\"></div><div style=\"display: table-cell;\">center&nbsp;=&nbsp;[Grid(id='7996', ...), Grid(id='8000', ...), Legend(id='8043', ...)],</div></div><div class=\"8446\" style=\"display: none;\"><div style=\"display: table-cell;\"></div><div style=\"display: table-cell;\">css_classes&nbsp;=&nbsp;[],</div></div><div class=\"8446\" style=\"display: none;\"><div style=\"display: table-cell;\"></div><div style=\"display: table-cell;\">disabled&nbsp;=&nbsp;False,</div></div><div class=\"8446\" style=\"display: none;\"><div style=\"display: table-cell;\"></div><div style=\"display: table-cell;\">extra_x_ranges&nbsp;=&nbsp;{},</div></div><div class=\"8446\" style=\"display: none;\"><div style=\"display: table-cell;\"></div><div style=\"display: table-cell;\">extra_y_ranges&nbsp;=&nbsp;{},</div></div><div class=\"8446\" style=\"display: none;\"><div style=\"display: table-cell;\"></div><div style=\"display: table-cell;\">frame_height&nbsp;=&nbsp;None,</div></div><div class=\"8446\" style=\"display: none;\"><div style=\"display: table-cell;\"></div><div style=\"display: table-cell;\">frame_width&nbsp;=&nbsp;None,</div></div><div class=\"8446\" style=\"display: none;\"><div style=\"display: table-cell;\"></div><div style=\"display: table-cell;\">height&nbsp;=&nbsp;400,</div></div><div class=\"8446\" style=\"display: none;\"><div style=\"display: table-cell;\"></div><div style=\"display: table-cell;\">height_policy&nbsp;=&nbsp;'auto',</div></div><div class=\"8446\" style=\"display: none;\"><div style=\"display: table-cell;\"></div><div style=\"display: table-cell;\">hidpi&nbsp;=&nbsp;True,</div></div><div class=\"8446\" style=\"display: none;\"><div style=\"display: table-cell;\"></div><div style=\"display: table-cell;\">inner_height&nbsp;=&nbsp;0,</div></div><div class=\"8446\" style=\"display: none;\"><div style=\"display: table-cell;\"></div><div style=\"display: table-cell;\">inner_width&nbsp;=&nbsp;0,</div></div><div class=\"8446\" style=\"display: none;\"><div style=\"display: table-cell;\"></div><div style=\"display: table-cell;\">js_event_callbacks&nbsp;=&nbsp;{},</div></div><div class=\"8446\" style=\"display: none;\"><div style=\"display: table-cell;\"></div><div style=\"display: table-cell;\">js_property_callbacks&nbsp;=&nbsp;{},</div></div><div class=\"8446\" style=\"display: none;\"><div style=\"display: table-cell;\"></div><div style=\"display: table-cell;\">left&nbsp;=&nbsp;[LinearAxis(id='7997', ...)],</div></div><div class=\"8446\" style=\"display: none;\"><div style=\"display: table-cell;\"></div><div style=\"display: table-cell;\">lod_factor&nbsp;=&nbsp;10,</div></div><div class=\"8446\" style=\"display: none;\"><div style=\"display: table-cell;\"></div><div style=\"display: table-cell;\">lod_interval&nbsp;=&nbsp;300,</div></div><div class=\"8446\" style=\"display: none;\"><div style=\"display: table-cell;\"></div><div style=\"display: table-cell;\">lod_threshold&nbsp;=&nbsp;2000,</div></div><div class=\"8446\" style=\"display: none;\"><div style=\"display: table-cell;\"></div><div style=\"display: table-cell;\">lod_timeout&nbsp;=&nbsp;500,</div></div><div class=\"8446\" style=\"display: none;\"><div style=\"display: table-cell;\"></div><div style=\"display: table-cell;\">margin&nbsp;=&nbsp;(0, 0, 0, 0),</div></div><div class=\"8446\" style=\"display: none;\"><div style=\"display: table-cell;\"></div><div style=\"display: table-cell;\">match_aspect&nbsp;=&nbsp;False,</div></div><div class=\"8446\" style=\"display: none;\"><div style=\"display: table-cell;\"></div><div style=\"display: table-cell;\">max_height&nbsp;=&nbsp;None,</div></div><div class=\"8446\" style=\"display: none;\"><div style=\"display: table-cell;\"></div><div style=\"display: table-cell;\">max_width&nbsp;=&nbsp;None,</div></div><div class=\"8446\" style=\"display: none;\"><div style=\"display: table-cell;\"></div><div style=\"display: table-cell;\">min_border&nbsp;=&nbsp;5,</div></div><div class=\"8446\" style=\"display: none;\"><div style=\"display: table-cell;\"></div><div style=\"display: table-cell;\">min_border_bottom&nbsp;=&nbsp;None,</div></div><div class=\"8446\" style=\"display: none;\"><div style=\"display: table-cell;\"></div><div style=\"display: table-cell;\">min_border_left&nbsp;=&nbsp;None,</div></div><div class=\"8446\" style=\"display: none;\"><div style=\"display: table-cell;\"></div><div style=\"display: table-cell;\">min_border_right&nbsp;=&nbsp;None,</div></div><div class=\"8446\" style=\"display: none;\"><div style=\"display: table-cell;\"></div><div style=\"display: table-cell;\">min_border_top&nbsp;=&nbsp;None,</div></div><div class=\"8446\" style=\"display: none;\"><div style=\"display: table-cell;\"></div><div style=\"display: table-cell;\">min_height&nbsp;=&nbsp;None,</div></div><div class=\"8446\" style=\"display: none;\"><div style=\"display: table-cell;\"></div><div style=\"display: table-cell;\">min_width&nbsp;=&nbsp;None,</div></div><div class=\"8446\" style=\"display: none;\"><div style=\"display: table-cell;\"></div><div style=\"display: table-cell;\">name&nbsp;=&nbsp;None,</div></div><div class=\"8446\" style=\"display: none;\"><div style=\"display: table-cell;\"></div><div style=\"display: table-cell;\">outer_height&nbsp;=&nbsp;0,</div></div><div class=\"8446\" style=\"display: none;\"><div style=\"display: table-cell;\"></div><div style=\"display: table-cell;\">outer_width&nbsp;=&nbsp;0,</div></div><div class=\"8446\" style=\"display: none;\"><div style=\"display: table-cell;\"></div><div style=\"display: table-cell;\">outline_line_alpha&nbsp;=&nbsp;1.0,</div></div><div class=\"8446\" style=\"display: none;\"><div style=\"display: table-cell;\"></div><div style=\"display: table-cell;\">outline_line_cap&nbsp;=&nbsp;'butt',</div></div><div class=\"8446\" style=\"display: none;\"><div style=\"display: table-cell;\"></div><div style=\"display: table-cell;\">outline_line_color&nbsp;=&nbsp;'#e5e5e5',</div></div><div class=\"8446\" style=\"display: none;\"><div style=\"display: table-cell;\"></div><div style=\"display: table-cell;\">outline_line_dash&nbsp;=&nbsp;[],</div></div><div class=\"8446\" style=\"display: none;\"><div style=\"display: table-cell;\"></div><div style=\"display: table-cell;\">outline_line_dash_offset&nbsp;=&nbsp;0,</div></div><div class=\"8446\" style=\"display: none;\"><div style=\"display: table-cell;\"></div><div style=\"display: table-cell;\">outline_line_join&nbsp;=&nbsp;'bevel',</div></div><div class=\"8446\" style=\"display: none;\"><div style=\"display: table-cell;\"></div><div style=\"display: table-cell;\">outline_line_width&nbsp;=&nbsp;1,</div></div><div class=\"8446\" style=\"display: none;\"><div style=\"display: table-cell;\"></div><div style=\"display: table-cell;\">output_backend&nbsp;=&nbsp;'webgl',</div></div><div class=\"8446\" style=\"display: none;\"><div style=\"display: table-cell;\"></div><div style=\"display: table-cell;\">renderers&nbsp;=&nbsp;[GlyphRenderer(id='8019', ...)],</div></div><div class=\"8446\" style=\"display: none;\"><div style=\"display: table-cell;\"></div><div style=\"display: table-cell;\">reset_policy&nbsp;=&nbsp;'standard',</div></div><div class=\"8446\" style=\"display: none;\"><div style=\"display: table-cell;\"></div><div style=\"display: table-cell;\">right&nbsp;=&nbsp;[],</div></div><div class=\"8446\" style=\"display: none;\"><div style=\"display: table-cell;\"></div><div style=\"display: table-cell;\">sizing_mode&nbsp;=&nbsp;'fixed',</div></div><div class=\"8446\" style=\"display: none;\"><div style=\"display: table-cell;\"></div><div style=\"display: table-cell;\">subscribed_events&nbsp;=&nbsp;[],</div></div><div class=\"8446\" style=\"display: none;\"><div style=\"display: table-cell;\"></div><div style=\"display: table-cell;\">syncable&nbsp;=&nbsp;True,</div></div><div class=\"8446\" style=\"display: none;\"><div style=\"display: table-cell;\"></div><div style=\"display: table-cell;\">tags&nbsp;=&nbsp;[],</div></div><div class=\"8446\" style=\"display: none;\"><div style=\"display: table-cell;\"></div><div style=\"display: table-cell;\">title&nbsp;=&nbsp;Title(id='7983', ...),</div></div><div class=\"8446\" style=\"display: none;\"><div style=\"display: table-cell;\"></div><div style=\"display: table-cell;\">title_location&nbsp;=&nbsp;'above',</div></div><div class=\"8446\" style=\"display: none;\"><div style=\"display: table-cell;\"></div><div style=\"display: table-cell;\">toolbar&nbsp;=&nbsp;Toolbar(id='8008', ...),</div></div><div class=\"8446\" style=\"display: none;\"><div style=\"display: table-cell;\"></div><div style=\"display: table-cell;\">toolbar_location&nbsp;=&nbsp;'right',</div></div><div class=\"8446\" style=\"display: none;\"><div style=\"display: table-cell;\"></div><div style=\"display: table-cell;\">toolbar_sticky&nbsp;=&nbsp;True,</div></div><div class=\"8446\" style=\"display: none;\"><div style=\"display: table-cell;\"></div><div style=\"display: table-cell;\">visible&nbsp;=&nbsp;True,</div></div><div class=\"8446\" style=\"display: none;\"><div style=\"display: table-cell;\"></div><div style=\"display: table-cell;\">width&nbsp;=&nbsp;600,</div></div><div class=\"8446\" style=\"display: none;\"><div style=\"display: table-cell;\"></div><div style=\"display: table-cell;\">width_policy&nbsp;=&nbsp;'auto',</div></div><div class=\"8446\" style=\"display: none;\"><div style=\"display: table-cell;\"></div><div style=\"display: table-cell;\">x_range&nbsp;=&nbsp;DataRange1d(id='7985', ...),</div></div><div class=\"8446\" style=\"display: none;\"><div style=\"display: table-cell;\"></div><div style=\"display: table-cell;\">x_scale&nbsp;=&nbsp;LinearScale(id='7989', ...),</div></div><div class=\"8446\" style=\"display: none;\"><div style=\"display: table-cell;\"></div><div style=\"display: table-cell;\">y_range&nbsp;=&nbsp;DataRange1d(id='7987', ...),</div></div><div class=\"8446\" style=\"display: none;\"><div style=\"display: table-cell;\"></div><div style=\"display: table-cell;\">y_scale&nbsp;=&nbsp;LinearScale(id='7991', ...))</div></div></div>\n",
       "<script>\n",
       "(function() {\n",
       "  var expanded = false;\n",
       "  var ellipsis = document.getElementById(\"8447\");\n",
       "  ellipsis.addEventListener(\"click\", function() {\n",
       "    var rows = document.getElementsByClassName(\"8446\");\n",
       "    for (var i = 0; i < rows.length; i++) {\n",
       "      var el = rows[i];\n",
       "      el.style.display = expanded ? \"none\" : \"table-row\";\n",
       "    }\n",
       "    ellipsis.innerHTML = expanded ? \"&hellip;)\" : \"&lsaquo;&lsaquo;&lsaquo;\";\n",
       "    expanded = !expanded;\n",
       "  });\n",
       "})();\n",
       "</script>\n"
      ],
      "text/plain": [
       "Figure(id='7982', ...)"
      ]
     },
     "execution_count": 63,
     "metadata": {},
     "output_type": "execute_result"
    }
   ],
   "source": [
    "data.plot_bokeh(kind='line', x = 'date', y = 'listings_count') #line vizualisation \n",
    "output_file('figure3.html')"
   ]
  },
  {
   "cell_type": "code",
   "execution_count": 65,
   "id": "valued-explanation",
   "metadata": {},
   "outputs": [
    {
     "data": {
      "text/html": [
       "\n",
       "\n",
       "\n",
       "\n",
       "\n",
       "\n",
       "  <div class=\"bk-root\" id=\"e13dec96-25ca-4c4e-9fa4-7cdd7a18ec7c\" data-root-id=\"9381\"></div>\n"
      ]
     },
     "metadata": {},
     "output_type": "display_data"
    },
    {
     "data": {
      "application/javascript": [
       "(function(root) {\n",
       "  function embed_document(root) {\n",
       "    \n",
       "  var docs_json = {\"30cdc304-487c-438e-ab3d-4a987ab087ae\":{\"defs\":[],\"roots\":{\"references\":[{\"attributes\":{\"children\":[{\"id\":\"9287\"},{\"id\":\"9320\"}]},\"id\":\"9381\",\"type\":\"Column\"},{\"attributes\":{\"bottom_units\":\"screen\",\"fill_alpha\":0.5,\"fill_color\":\"lightgrey\",\"left_units\":\"screen\",\"level\":\"overlay\",\"line_alpha\":1.0,\"line_color\":\"black\",\"line_dash\":[4,4],\"line_width\":2,\"right_units\":\"screen\",\"syncable\":false,\"top_units\":\"screen\"},\"id\":\"9312\",\"type\":\"BoxAnnotation\"},{\"attributes\":{\"click_policy\":\"hide\",\"items\":[{\"id\":\"9370\"}]},\"id\":\"9369\",\"type\":\"Legend\"},{\"attributes\":{\"line_color\":\"#1f77b4\",\"line_width\":2,\"x\":{\"field\":\"__x__values\"},\"y\":{\"field\":\"listings_count\"}},\"id\":\"9343\",\"type\":\"Line\"},{\"attributes\":{\"data_source\":{\"id\":\"9341\"},\"glyph\":{\"id\":\"9343\"},\"hover_glyph\":null,\"muted_glyph\":null,\"nonselection_glyph\":{\"id\":\"9344\"},\"view\":{\"id\":\"9346\"}},\"id\":\"9345\",\"type\":\"GlyphRenderer\"},{\"attributes\":{},\"id\":\"9349\",\"type\":\"AllLabels\"},{\"attributes\":{\"base\":24,\"mantissas\":[1,2,4,6,8,12],\"max_interval\":43200000.0,\"min_interval\":3600000.0,\"num_minor_ticks\":0},\"id\":\"9359\",\"type\":\"AdaptiveTicker\"},{\"attributes\":{\"label\":{\"value\":\" listings_count\"},\"renderers\":[{\"id\":\"9345\"}]},\"id\":\"9370\",\"type\":\"LegendItem\"},{\"attributes\":{\"days\":[1,4,7,10,13,16,19,22,25,28]},\"id\":\"9361\",\"type\":\"DaysTicker\"},{\"attributes\":{},\"id\":\"9350\",\"type\":\"BasicTickFormatter\"},{\"attributes\":{\"axis\":{\"id\":\"9330\"},\"ticker\":null},\"id\":\"9333\",\"type\":\"Grid\"},{\"attributes\":{},\"id\":\"9352\",\"type\":\"AllLabels\"},{\"attributes\":{},\"id\":\"9328\",\"type\":\"LinearScale\"},{\"attributes\":{\"mantissas\":[1,2,5],\"max_interval\":500.0,\"num_minor_ticks\":0},\"id\":\"9357\",\"type\":\"AdaptiveTicker\"},{\"attributes\":{\"active_multi\":{\"id\":\"9336\"},\"tools\":[{\"id\":\"9336\"}]},\"id\":\"9334\",\"type\":\"Toolbar\"},{\"attributes\":{\"data\":{\"__x__values\":{\"__ndarray__\":\"AABA1Dj2dkIAAMA2J/h2QgAAgDPD+XZCAAAALfv8dkIAAMCSTf12QgAAwCmX/nZCAABA9Tv/dkIAAEAjzwF3QgAAALe0BHdCAADAs1AGd0IAAECtiAl3QgAAwD0KDndCAADAAucRd0IAAACQBBh3QgAAwLozHHdCAAAAg3Qed0IAAEDi/iF3QgAAwNs2JXdCAABAp9sld0IAAMBygCZ3QgAAgNjSJndCAABAPiUnd0IAAACkdyd3QgAAwAnKJ3dCAABA1W4od0IAAEAxlS13QgAAgOxFNndCAABAUpg2d0IAAMC0hjh3QgAAgBrZOHdCAAAA5n05d0IAAEAXdTp3QgAAAH3HOndCAADA4hk7d0IAAECuvjt3QgAAABQRPHdCAABARQg9d0IAAIB2/z13QgAAwKf2PndCAABACuVAd0IAAACeykN3QgAAwJpmRXdCAAAAzF1Gd0IAAMDI+Ud3QgAAQJSeSHdCAADA9oxKd0IAAMAkIE13QgAAwFKzT3dCAACAuAVQd0IAAMCARlJ3QgAAgOaYUndCAABAen5Vd0IAAADg0FV3QgAAgKt1VndCAACAQr9Xd0IAAECoEVh3QgAAAKWtWXdCAADACgBad0IAAMA4k1x3QgAAQAQ4XXdCAADAz9xdd0IAAEAyy193QgAAQGBeYndCAAAAxrBid0IAAED3p2N3QgAAwMJMZHdCAACAKJ9kd0IAAECO8WR3QgAAAPRDZXdCAACAv+hld0IAAIBJom13QgAAAKyQb3dCAABAdNFxd0IAAABxbXN3QgAAgGqldndCAACAmDh5d0IAAMDJL3p3QgAAwGB5e3dCAAAAknB8d0IAAIBdFX13QgAAQMNnfXdCAABAiESBd0I=\",\"dtype\":\"float64\",\"order\":\"little\",\"shape\":[82]},\"__x__values_original\":{\"__ndarray__\":\"AABA1Dj2dkIAAMA2J/h2QgAAgDPD+XZCAAAALfv8dkIAAMCSTf12QgAAwCmX/nZCAABA9Tv/dkIAAEAjzwF3QgAAALe0BHdCAADAs1AGd0IAAECtiAl3QgAAwD0KDndCAADAAucRd0IAAACQBBh3QgAAwLozHHdCAAAAg3Qed0IAAEDi/iF3QgAAwNs2JXdCAABAp9sld0IAAMBygCZ3QgAAgNjSJndCAABAPiUnd0IAAACkdyd3QgAAwAnKJ3dCAABA1W4od0IAAEAxlS13QgAAgOxFNndCAABAUpg2d0IAAMC0hjh3QgAAgBrZOHdCAAAA5n05d0IAAEAXdTp3QgAAAH3HOndCAADA4hk7d0IAAECuvjt3QgAAABQRPHdCAABARQg9d0IAAIB2/z13QgAAwKf2PndCAABACuVAd0IAAACeykN3QgAAwJpmRXdCAAAAzF1Gd0IAAMDI+Ud3QgAAQJSeSHdCAADA9oxKd0IAAMAkIE13QgAAwFKzT3dCAACAuAVQd0IAAMCARlJ3QgAAgOaYUndCAABAen5Vd0IAAADg0FV3QgAAgKt1VndCAACAQr9Xd0IAAECoEVh3QgAAAKWtWXdCAADACgBad0IAAMA4k1x3QgAAQAQ4XXdCAADAz9xdd0IAAEAyy193QgAAQGBeYndCAAAAxrBid0IAAED3p2N3QgAAwMJMZHdCAACAKJ9kd0IAAECO8WR3QgAAAPRDZXdCAACAv+hld0IAAIBJom13QgAAAKyQb3dCAABAdNFxd0IAAABxbXN3QgAAgGqldndCAACAmDh5d0IAAMDJL3p3QgAAwGB5e3dCAAAAknB8d0IAAIBdFX13QgAAQMNnfXdCAABAiESBd0I=\",\"dtype\":\"float64\",\"order\":\"little\",\"shape\":[82]},\"listings_count\":[1,9,10,50,2,11,8,1,36,4,4,1,1,5,1,4,3,2,1,13,6,12,4,26,3,11,4,2,8,14,4,4,17,22,2,39,17,23,4,7,1,24,7,25,9,1,3,10,9,20,1,5,3,6,28,25,4,2,4,11,24,4,4,26,2136,36,16,15,50,14,3,2,179,31,50,189,50,20,50,7,50,512]},\"selected\":{\"id\":\"9355\"},\"selection_policy\":{\"id\":\"9356\"}},\"id\":\"9341\",\"type\":\"ColumnDataSource\"},{\"attributes\":{\"days\":[1,2,3,4,5,6,7,8,9,10,11,12,13,14,15,16,17,18,19,20,21,22,23,24,25,26,27,28,29,30,31]},\"id\":\"9360\",\"type\":\"DaysTicker\"},{\"attributes\":{\"days\":[\"%d %B %Y\"],\"hours\":[\"%H:%M:%S\"],\"milliseconds\":[\"%H:%M:%S.%f\"],\"minutes\":[\"%H:%M:%S\"],\"months\":[\"%d %B %Y\"],\"seconds\":[\"%H:%M:%S\"],\"years\":[\"%d %B %Y\"]},\"id\":\"9379\",\"type\":\"DatetimeTickFormatter\"},{\"attributes\":{\"base\":60,\"mantissas\":[1,2,5,10,15,20,30],\"max_interval\":1800000.0,\"min_interval\":1000.0,\"num_minor_ticks\":0},\"id\":\"9509\",\"type\":\"AdaptiveTicker\"},{\"attributes\":{\"formatter\":{\"id\":\"9491\"},\"major_label_policy\":{\"id\":\"9490\"},\"ticker\":{\"id\":\"9331\"}},\"id\":\"9330\",\"type\":\"DatetimeAxis\"},{\"attributes\":{\"base\":60,\"mantissas\":[1,2,5,10,15,20,30],\"max_interval\":1800000.0,\"min_interval\":1000.0,\"num_minor_ticks\":0},\"id\":\"9358\",\"type\":\"AdaptiveTicker\"},{\"attributes\":{\"num_minor_ticks\":5,\"tickers\":[{\"id\":\"9508\"},{\"id\":\"9509\"},{\"id\":\"9510\"},{\"id\":\"9511\"},{\"id\":\"9512\"},{\"id\":\"9513\"},{\"id\":\"9514\"},{\"id\":\"9515\"},{\"id\":\"9516\"},{\"id\":\"9517\"},{\"id\":\"9518\"},{\"id\":\"9519\"}]},\"id\":\"9331\",\"type\":\"DatetimeTicker\"},{\"attributes\":{\"line_alpha\":0.1,\"line_color\":\"#1f77b4\",\"line_width\":2,\"x\":{\"field\":\"__x__values\"},\"y\":{\"field\":\"listings_count\"}},\"id\":\"9344\",\"type\":\"Line\"},{\"attributes\":{\"num_minor_ticks\":5,\"tickers\":[{\"id\":\"9357\"},{\"id\":\"9358\"},{\"id\":\"9359\"},{\"id\":\"9360\"},{\"id\":\"9361\"},{\"id\":\"9362\"},{\"id\":\"9363\"},{\"id\":\"9364\"},{\"id\":\"9365\"},{\"id\":\"9366\"},{\"id\":\"9367\"},{\"id\":\"9368\"}]},\"id\":\"9299\",\"type\":\"DatetimeTicker\"},{\"attributes\":{\"source\":{\"id\":\"9341\"}},\"id\":\"9346\",\"type\":\"CDSView\"},{\"attributes\":{\"months\":[0,6]},\"id\":\"9518\",\"type\":\"MonthsTicker\"},{\"attributes\":{\"months\":[0,1,2,3,4,5,6,7,8,9,10,11]},\"id\":\"9515\",\"type\":\"MonthsTicker\"},{\"attributes\":{\"callback\":null,\"formatters\":{\"@__x__values_original\":\"datetime\"},\"mode\":\"vline\",\"renderers\":[{\"id\":\"9345\"}],\"tooltips\":[[\"date\",\"@__x__values_original{%F}\"],[\"listings_count\",\"@{listings_count}\"]]},\"id\":\"9371\",\"type\":\"HoverTool\"},{\"attributes\":{},\"id\":\"9519\",\"type\":\"YearsTicker\"},{\"attributes\":{\"days\":[1,15]},\"id\":\"9514\",\"type\":\"DaysTicker\"},{\"attributes\":{\"days\":[1,8,15,22]},\"id\":\"9513\",\"type\":\"DaysTicker\"},{\"attributes\":{},\"id\":\"9309\",\"type\":\"SaveTool\"},{\"attributes\":{\"days\":[1,4,7,10,13,16,19,22,25,28]},\"id\":\"9512\",\"type\":\"DaysTicker\"},{\"attributes\":{\"months\":[0,2,4,6,8,10]},\"id\":\"9516\",\"type\":\"MonthsTicker\"},{\"attributes\":{\"line_alpha\":0.1,\"line_color\":\"#1f77b4\",\"x\":{\"field\":\"__x__values\"},\"y\":{\"field\":\"listings_count\"}},\"id\":\"9376\",\"type\":\"Line\"},{\"attributes\":{\"days\":[1,15]},\"id\":\"9363\",\"type\":\"DaysTicker\"},{\"attributes\":{\"data_source\":{\"id\":\"9373\"},\"glyph\":{\"id\":\"9375\"},\"hover_glyph\":null,\"muted_glyph\":null,\"nonselection_glyph\":{\"id\":\"9376\"},\"view\":{\"id\":\"9378\"}},\"id\":\"9377\",\"type\":\"GlyphRenderer\"},{\"attributes\":{\"data\":{\"__x__values\":{\"__ndarray__\":\"AABA1Dj2dkIAAMA2J/h2QgAAgDPD+XZCAAAALfv8dkIAAMCSTf12QgAAwCmX/nZCAABA9Tv/dkIAAEAjzwF3QgAAALe0BHdCAADAs1AGd0IAAECtiAl3QgAAwD0KDndCAADAAucRd0IAAACQBBh3QgAAwLozHHdCAAAAg3Qed0IAAEDi/iF3QgAAwNs2JXdCAABAp9sld0IAAMBygCZ3QgAAgNjSJndCAABAPiUnd0IAAACkdyd3QgAAwAnKJ3dCAABA1W4od0IAAEAxlS13QgAAgOxFNndCAABAUpg2d0IAAMC0hjh3QgAAgBrZOHdCAAAA5n05d0IAAEAXdTp3QgAAAH3HOndCAADA4hk7d0IAAECuvjt3QgAAABQRPHdCAABARQg9d0IAAIB2/z13QgAAwKf2PndCAABACuVAd0IAAACeykN3QgAAwJpmRXdCAAAAzF1Gd0IAAMDI+Ud3QgAAQJSeSHdCAADA9oxKd0IAAMAkIE13QgAAwFKzT3dCAACAuAVQd0IAAMCARlJ3QgAAgOaYUndCAABAen5Vd0IAAADg0FV3QgAAgKt1VndCAACAQr9Xd0IAAECoEVh3QgAAAKWtWXdCAADACgBad0IAAMA4k1x3QgAAQAQ4XXdCAADAz9xdd0IAAEAyy193QgAAQGBeYndCAAAAxrBid0IAAED3p2N3QgAAwMJMZHdCAACAKJ9kd0IAAECO8WR3QgAAAPRDZXdCAACAv+hld0IAAIBJom13QgAAAKyQb3dCAABAdNFxd0IAAABxbXN3QgAAgGqldndCAACAmDh5d0IAAMDJL3p3QgAAwGB5e3dCAAAAknB8d0IAAIBdFX13QgAAQMNnfXdCAABAiESBd0I=\",\"dtype\":\"float64\",\"order\":\"little\",\"shape\":[82]},\"__x__values_original\":{\"__ndarray__\":\"AABA1Dj2dkIAAMA2J/h2QgAAgDPD+XZCAAAALfv8dkIAAMCSTf12QgAAwCmX/nZCAABA9Tv/dkIAAEAjzwF3QgAAALe0BHdCAADAs1AGd0IAAECtiAl3QgAAwD0KDndCAADAAucRd0IAAACQBBh3QgAAwLozHHdCAAAAg3Qed0IAAEDi/iF3QgAAwNs2JXdCAABAp9sld0IAAMBygCZ3QgAAgNjSJndCAABAPiUnd0IAAACkdyd3QgAAwAnKJ3dCAABA1W4od0IAAEAxlS13QgAAgOxFNndCAABAUpg2d0IAAMC0hjh3QgAAgBrZOHdCAAAA5n05d0IAAEAXdTp3QgAAAH3HOndCAADA4hk7d0IAAECuvjt3QgAAABQRPHdCAABARQg9d0IAAIB2/z13QgAAwKf2PndCAABACuVAd0IAAACeykN3QgAAwJpmRXdCAAAAzF1Gd0IAAMDI+Ud3QgAAQJSeSHdCAADA9oxKd0IAAMAkIE13QgAAwFKzT3dCAACAuAVQd0IAAMCARlJ3QgAAgOaYUndCAABAen5Vd0IAAADg0FV3QgAAgKt1VndCAACAQr9Xd0IAAECoEVh3QgAAAKWtWXdCAADACgBad0IAAMA4k1x3QgAAQAQ4XXdCAADAz9xdd0IAAEAyy193QgAAQGBeYndCAAAAxrBid0IAAED3p2N3QgAAwMJMZHdCAACAKJ9kd0IAAECO8WR3QgAAAPRDZXdCAACAv+hld0IAAIBJom13QgAAAKyQb3dCAABAdNFxd0IAAABxbXN3QgAAgGqldndCAACAmDh5d0IAAMDJL3p3QgAAwGB5e3dCAAAAknB8d0IAAIBdFX13QgAAQMNnfXdCAABAiESBd0I=\",\"dtype\":\"float64\",\"order\":\"little\",\"shape\":[82]},\"listings_count\":[1,9,10,50,2,11,8,1,36,4,4,1,1,5,1,4,3,2,1,13,6,12,4,26,3,11,4,2,8,14,4,4,17,22,2,39,17,23,4,7,1,24,7,25,9,1,3,10,9,20,1,5,3,6,28,25,4,2,4,11,24,4,4,26,2136,36,16,15,50,14,3,2,179,31,50,189,50,20,50,7,50,512]},\"selected\":{\"id\":\"9520\"},\"selection_policy\":{\"id\":\"9521\"}},\"id\":\"9373\",\"type\":\"ColumnDataSource\"},{\"attributes\":{\"days\":[1,8,15,22]},\"id\":\"9362\",\"type\":\"DaysTicker\"},{\"attributes\":{\"months\":[0,4,8]},\"id\":\"9517\",\"type\":\"MonthsTicker\"},{\"attributes\":{\"line_color\":\"#1f77b4\",\"x\":{\"field\":\"__x__values\"},\"y\":{\"field\":\"listings_count\"}},\"id\":\"9375\",\"type\":\"Line\"},{\"attributes\":{\"base\":24,\"mantissas\":[1,2,4,6,8,12],\"max_interval\":43200000.0,\"min_interval\":3600000.0,\"num_minor_ticks\":0},\"id\":\"9510\",\"type\":\"AdaptiveTicker\"},{\"attributes\":{\"source\":{\"id\":\"9373\"}},\"id\":\"9378\",\"type\":\"CDSView\"},{\"attributes\":{},\"id\":\"9520\",\"type\":\"Selection\"},{\"attributes\":{},\"id\":\"9521\",\"type\":\"UnionRenderers\"},{\"attributes\":{\"active_multi\":null,\"active_scroll\":{\"id\":\"9307\"},\"tools\":[{\"id\":\"9306\"},{\"id\":\"9307\"},{\"id\":\"9308\"},{\"id\":\"9309\"},{\"id\":\"9310\"},{\"id\":\"9311\"},{\"id\":\"9371\"}]},\"id\":\"9313\",\"type\":\"Toolbar\"},{\"attributes\":{},\"id\":\"9296\",\"type\":\"LinearScale\"},{\"attributes\":{},\"id\":\"9310\",\"type\":\"ResetTool\"},{\"attributes\":{},\"id\":\"9288\",\"type\":\"Title\"},{\"attributes\":{\"fill_alpha\":0.2,\"fill_color\":\"navy\",\"level\":\"overlay\",\"line_alpha\":1.0,\"line_color\":\"black\",\"line_dash\":[2,2],\"line_width\":0.5,\"syncable\":false},\"id\":\"9337\",\"type\":\"BoxAnnotation\"},{\"attributes\":{\"above\":[{\"id\":\"9298\"}],\"center\":[{\"id\":\"9301\"},{\"id\":\"9305\"},{\"id\":\"9369\"}],\"height\":400,\"left\":[{\"id\":\"9302\"}],\"output_backend\":\"webgl\",\"renderers\":[{\"id\":\"9345\"}],\"sizing_mode\":\"fixed\",\"title\":{\"id\":\"9288\"},\"toolbar\":{\"id\":\"9313\"},\"x_range\":{\"id\":\"9335\"},\"x_scale\":{\"id\":\"9294\"},\"y_range\":{\"id\":\"9292\"},\"y_scale\":{\"id\":\"9296\"}},\"id\":\"9287\",\"subtype\":\"Figure\",\"type\":\"Plot\"},{\"attributes\":{\"axis\":{\"id\":\"9298\"},\"ticker\":null},\"id\":\"9301\",\"type\":\"Grid\"},{\"attributes\":{\"below\":[{\"id\":\"9330\"}],\"center\":[{\"id\":\"9333\"}],\"height\":130,\"renderers\":[{\"id\":\"9377\"}],\"title\":{\"id\":\"9321\"},\"toolbar\":{\"id\":\"9334\"},\"toolbar_location\":null,\"x_range\":{\"id\":\"9323\"},\"x_scale\":{\"id\":\"9326\"},\"y_range\":{\"id\":\"9292\"},\"y_scale\":{\"id\":\"9328\"}},\"id\":\"9320\",\"subtype\":\"Figure\",\"type\":\"Plot\"},{\"attributes\":{\"axis_label\":\"date\",\"formatter\":{\"id\":\"9379\"},\"major_label_policy\":{\"id\":\"9352\"},\"ticker\":{\"id\":\"9299\"}},\"id\":\"9298\",\"type\":\"DatetimeAxis\"},{\"attributes\":{},\"id\":\"9292\",\"type\":\"DataRange1d\"},{\"attributes\":{},\"id\":\"9294\",\"type\":\"LinearScale\"},{\"attributes\":{\"axis_label\":\"listings_count\",\"formatter\":{\"id\":\"9350\"},\"major_label_policy\":{\"id\":\"9349\"},\"ticker\":{\"id\":\"9303\"}},\"id\":\"9302\",\"type\":\"LinearAxis\"},{\"attributes\":{},\"id\":\"9490\",\"type\":\"AllLabels\"},{\"attributes\":{},\"id\":\"9491\",\"type\":\"DatetimeTickFormatter\"},{\"attributes\":{},\"id\":\"9355\",\"type\":\"Selection\"},{\"attributes\":{\"months\":[0,1,2,3,4,5,6,7,8,9,10,11]},\"id\":\"9364\",\"type\":\"MonthsTicker\"},{\"attributes\":{},\"id\":\"9323\",\"type\":\"DataRange1d\"},{\"attributes\":{},\"id\":\"9356\",\"type\":\"UnionRenderers\"},{\"attributes\":{\"months\":[0,2,4,6,8,10]},\"id\":\"9365\",\"type\":\"MonthsTicker\"},{\"attributes\":{\"overlay\":{\"id\":\"9337\"},\"x_range\":{\"id\":\"9335\"},\"y_range\":null},\"id\":\"9336\",\"type\":\"RangeTool\"},{\"attributes\":{},\"id\":\"9311\",\"type\":\"HelpTool\"},{\"attributes\":{\"months\":[0,6]},\"id\":\"9367\",\"type\":\"MonthsTicker\"},{\"attributes\":{},\"id\":\"9303\",\"type\":\"BasicTicker\"},{\"attributes\":{},\"id\":\"9307\",\"type\":\"WheelZoomTool\"},{\"attributes\":{},\"id\":\"9326\",\"type\":\"LinearScale\"},{\"attributes\":{\"end\":1615248000000.0,\"start\":1606262400000.0},\"id\":\"9335\",\"type\":\"Range1d\"},{\"attributes\":{},\"id\":\"9306\",\"type\":\"PanTool\"},{\"attributes\":{\"axis\":{\"id\":\"9302\"},\"dimension\":1,\"ticker\":null},\"id\":\"9305\",\"type\":\"Grid\"},{\"attributes\":{\"text\":\"Drag the box to change the range above.\"},\"id\":\"9321\",\"type\":\"Title\"},{\"attributes\":{\"overlay\":{\"id\":\"9312\"}},\"id\":\"9308\",\"type\":\"BoxZoomTool\"},{\"attributes\":{\"months\":[0,4,8]},\"id\":\"9366\",\"type\":\"MonthsTicker\"},{\"attributes\":{\"days\":[1,2,3,4,5,6,7,8,9,10,11,12,13,14,15,16,17,18,19,20,21,22,23,24,25,26,27,28,29,30,31]},\"id\":\"9511\",\"type\":\"DaysTicker\"},{\"attributes\":{\"mantissas\":[1,2,5],\"max_interval\":500.0,\"num_minor_ticks\":0},\"id\":\"9508\",\"type\":\"AdaptiveTicker\"},{\"attributes\":{},\"id\":\"9368\",\"type\":\"YearsTicker\"}],\"root_ids\":[\"9381\"]},\"title\":\"Bokeh Application\",\"version\":\"2.3.1\"}};\n",
       "  var render_items = [{\"docid\":\"30cdc304-487c-438e-ab3d-4a987ab087ae\",\"root_ids\":[\"9381\"],\"roots\":{\"9381\":\"e13dec96-25ca-4c4e-9fa4-7cdd7a18ec7c\"}}];\n",
       "  root.Bokeh.embed.embed_items_notebook(docs_json, render_items);\n",
       "\n",
       "  }\n",
       "  if (root.Bokeh !== undefined) {\n",
       "    embed_document(root);\n",
       "  } else {\n",
       "    var attempts = 0;\n",
       "    var timer = setInterval(function(root) {\n",
       "      if (root.Bokeh !== undefined) {\n",
       "        clearInterval(timer);\n",
       "        embed_document(root);\n",
       "      } else {\n",
       "        attempts++;\n",
       "        if (attempts > 100) {\n",
       "          clearInterval(timer);\n",
       "          console.log(\"Bokeh: ERROR: Unable to run BokehJS code because BokehJS library is missing\");\n",
       "        }\n",
       "      }\n",
       "    }, 10, root)\n",
       "  }\n",
       "})(window);"
      ],
      "application/vnd.bokehjs_exec.v0+json": ""
     },
     "metadata": {
      "application/vnd.bokehjs_exec.v0+json": {
       "id": "9381"
      }
     },
     "output_type": "display_data"
    }
   ],
   "source": [
    "data.plot_bokeh(rangetool=True, x = 'date' ) #timeline based visualization of how the dataset behaves over the given timeperiod\n",
    "output_file('figure4.html')"
   ]
  },
  {
   "cell_type": "markdown",
   "id": "wound-catalog",
   "metadata": {},
   "source": [
    "As seen in the figure the date whith the most listing was 2020-07-12 with 2136 listings in total. \n",
    "On average there where posted 49,53 listings on the dates sampled in the dataset, and on average over the timeperiode it was 9.43 new listings daily.  "
   ]
  },
  {
   "cell_type": "markdown",
   "id": "polar-arkansas",
   "metadata": {},
   "source": [
    "## KPI2: Correlation between rent price and family income per neighbourhood"
   ]
  },
  {
   "cell_type": "markdown",
   "id": "spatial-munich",
   "metadata": {},
   "source": [
    "This section aims to visualize the KPI 2: correlation between rent price and family income per neighbourhood, through investigating the \"KPI2.csv\" file."
   ]
  },
  {
   "cell_type": "code",
   "execution_count": 66,
   "id": "economic-chassis",
   "metadata": {},
   "outputs": [
    {
     "data": {
      "text/html": [
       "\n",
       "    <div class=\"bk-root\">\n",
       "        <a href=\"https://bokeh.org\" target=\"_blank\" class=\"bk-logo bk-logo-small bk-logo-notebook\"></a>\n",
       "        <span id=\"10163\">Loading BokehJS ...</span>\n",
       "    </div>"
      ]
     },
     "metadata": {},
     "output_type": "display_data"
    },
    {
     "data": {
      "application/javascript": [
       "\n",
       "(function(root) {\n",
       "  function now() {\n",
       "    return new Date();\n",
       "  }\n",
       "\n",
       "  var force = true;\n",
       "\n",
       "  if (typeof root._bokeh_onload_callbacks === \"undefined\" || force === true) {\n",
       "    root._bokeh_onload_callbacks = [];\n",
       "    root._bokeh_is_loading = undefined;\n",
       "  }\n",
       "\n",
       "  var JS_MIME_TYPE = 'application/javascript';\n",
       "  var HTML_MIME_TYPE = 'text/html';\n",
       "  var EXEC_MIME_TYPE = 'application/vnd.bokehjs_exec.v0+json';\n",
       "  var CLASS_NAME = 'output_bokeh rendered_html';\n",
       "\n",
       "  /**\n",
       "   * Render data to the DOM node\n",
       "   */\n",
       "  function render(props, node) {\n",
       "    var script = document.createElement(\"script\");\n",
       "    node.appendChild(script);\n",
       "  }\n",
       "\n",
       "  /**\n",
       "   * Handle when an output is cleared or removed\n",
       "   */\n",
       "  function handleClearOutput(event, handle) {\n",
       "    var cell = handle.cell;\n",
       "\n",
       "    var id = cell.output_area._bokeh_element_id;\n",
       "    var server_id = cell.output_area._bokeh_server_id;\n",
       "    // Clean up Bokeh references\n",
       "    if (id != null && id in Bokeh.index) {\n",
       "      Bokeh.index[id].model.document.clear();\n",
       "      delete Bokeh.index[id];\n",
       "    }\n",
       "\n",
       "    if (server_id !== undefined) {\n",
       "      // Clean up Bokeh references\n",
       "      var cmd = \"from bokeh.io.state import curstate; print(curstate().uuid_to_server['\" + server_id + \"'].get_sessions()[0].document.roots[0]._id)\";\n",
       "      cell.notebook.kernel.execute(cmd, {\n",
       "        iopub: {\n",
       "          output: function(msg) {\n",
       "            var id = msg.content.text.trim();\n",
       "            if (id in Bokeh.index) {\n",
       "              Bokeh.index[id].model.document.clear();\n",
       "              delete Bokeh.index[id];\n",
       "            }\n",
       "          }\n",
       "        }\n",
       "      });\n",
       "      // Destroy server and session\n",
       "      var cmd = \"import bokeh.io.notebook as ion; ion.destroy_server('\" + server_id + \"')\";\n",
       "      cell.notebook.kernel.execute(cmd);\n",
       "    }\n",
       "  }\n",
       "\n",
       "  /**\n",
       "   * Handle when a new output is added\n",
       "   */\n",
       "  function handleAddOutput(event, handle) {\n",
       "    var output_area = handle.output_area;\n",
       "    var output = handle.output;\n",
       "\n",
       "    // limit handleAddOutput to display_data with EXEC_MIME_TYPE content only\n",
       "    if ((output.output_type != \"display_data\") || (!Object.prototype.hasOwnProperty.call(output.data, EXEC_MIME_TYPE))) {\n",
       "      return\n",
       "    }\n",
       "\n",
       "    var toinsert = output_area.element.find(\".\" + CLASS_NAME.split(' ')[0]);\n",
       "\n",
       "    if (output.metadata[EXEC_MIME_TYPE][\"id\"] !== undefined) {\n",
       "      toinsert[toinsert.length - 1].firstChild.textContent = output.data[JS_MIME_TYPE];\n",
       "      // store reference to embed id on output_area\n",
       "      output_area._bokeh_element_id = output.metadata[EXEC_MIME_TYPE][\"id\"];\n",
       "    }\n",
       "    if (output.metadata[EXEC_MIME_TYPE][\"server_id\"] !== undefined) {\n",
       "      var bk_div = document.createElement(\"div\");\n",
       "      bk_div.innerHTML = output.data[HTML_MIME_TYPE];\n",
       "      var script_attrs = bk_div.children[0].attributes;\n",
       "      for (var i = 0; i < script_attrs.length; i++) {\n",
       "        toinsert[toinsert.length - 1].firstChild.setAttribute(script_attrs[i].name, script_attrs[i].value);\n",
       "        toinsert[toinsert.length - 1].firstChild.textContent = bk_div.children[0].textContent\n",
       "      }\n",
       "      // store reference to server id on output_area\n",
       "      output_area._bokeh_server_id = output.metadata[EXEC_MIME_TYPE][\"server_id\"];\n",
       "    }\n",
       "  }\n",
       "\n",
       "  function register_renderer(events, OutputArea) {\n",
       "\n",
       "    function append_mime(data, metadata, element) {\n",
       "      // create a DOM node to render to\n",
       "      var toinsert = this.create_output_subarea(\n",
       "        metadata,\n",
       "        CLASS_NAME,\n",
       "        EXEC_MIME_TYPE\n",
       "      );\n",
       "      this.keyboard_manager.register_events(toinsert);\n",
       "      // Render to node\n",
       "      var props = {data: data, metadata: metadata[EXEC_MIME_TYPE]};\n",
       "      render(props, toinsert[toinsert.length - 1]);\n",
       "      element.append(toinsert);\n",
       "      return toinsert\n",
       "    }\n",
       "\n",
       "    /* Handle when an output is cleared or removed */\n",
       "    events.on('clear_output.CodeCell', handleClearOutput);\n",
       "    events.on('delete.Cell', handleClearOutput);\n",
       "\n",
       "    /* Handle when a new output is added */\n",
       "    events.on('output_added.OutputArea', handleAddOutput);\n",
       "\n",
       "    /**\n",
       "     * Register the mime type and append_mime function with output_area\n",
       "     */\n",
       "    OutputArea.prototype.register_mime_type(EXEC_MIME_TYPE, append_mime, {\n",
       "      /* Is output safe? */\n",
       "      safe: true,\n",
       "      /* Index of renderer in `output_area.display_order` */\n",
       "      index: 0\n",
       "    });\n",
       "  }\n",
       "\n",
       "  // register the mime type if in Jupyter Notebook environment and previously unregistered\n",
       "  if (root.Jupyter !== undefined) {\n",
       "    var events = require('base/js/events');\n",
       "    var OutputArea = require('notebook/js/outputarea').OutputArea;\n",
       "\n",
       "    if (OutputArea.prototype.mime_types().indexOf(EXEC_MIME_TYPE) == -1) {\n",
       "      register_renderer(events, OutputArea);\n",
       "    }\n",
       "  }\n",
       "\n",
       "  \n",
       "  if (typeof (root._bokeh_timeout) === \"undefined\" || force === true) {\n",
       "    root._bokeh_timeout = Date.now() + 5000;\n",
       "    root._bokeh_failed_load = false;\n",
       "  }\n",
       "\n",
       "  var NB_LOAD_WARNING = {'data': {'text/html':\n",
       "     \"<div style='background-color: #fdd'>\\n\"+\n",
       "     \"<p>\\n\"+\n",
       "     \"BokehJS does not appear to have successfully loaded. If loading BokehJS from CDN, this \\n\"+\n",
       "     \"may be due to a slow or bad network connection. Possible fixes:\\n\"+\n",
       "     \"</p>\\n\"+\n",
       "     \"<ul>\\n\"+\n",
       "     \"<li>re-rerun `output_notebook()` to attempt to load from CDN again, or</li>\\n\"+\n",
       "     \"<li>use INLINE resources instead, as so:</li>\\n\"+\n",
       "     \"</ul>\\n\"+\n",
       "     \"<code>\\n\"+\n",
       "     \"from bokeh.resources import INLINE\\n\"+\n",
       "     \"output_notebook(resources=INLINE)\\n\"+\n",
       "     \"</code>\\n\"+\n",
       "     \"</div>\"}};\n",
       "\n",
       "  function display_loaded() {\n",
       "    var el = document.getElementById(\"10163\");\n",
       "    if (el != null) {\n",
       "      el.textContent = \"BokehJS is loading...\";\n",
       "    }\n",
       "    if (root.Bokeh !== undefined) {\n",
       "      if (el != null) {\n",
       "        el.textContent = \"BokehJS \" + root.Bokeh.version + \" successfully loaded.\";\n",
       "      }\n",
       "    } else if (Date.now() < root._bokeh_timeout) {\n",
       "      setTimeout(display_loaded, 100)\n",
       "    }\n",
       "  }\n",
       "\n",
       "\n",
       "  function run_callbacks() {\n",
       "    try {\n",
       "      root._bokeh_onload_callbacks.forEach(function(callback) {\n",
       "        if (callback != null)\n",
       "          callback();\n",
       "      });\n",
       "    } finally {\n",
       "      delete root._bokeh_onload_callbacks\n",
       "    }\n",
       "    console.debug(\"Bokeh: all callbacks have finished\");\n",
       "  }\n",
       "\n",
       "  function load_libs(css_urls, js_urls, callback) {\n",
       "    if (css_urls == null) css_urls = [];\n",
       "    if (js_urls == null) js_urls = [];\n",
       "\n",
       "    root._bokeh_onload_callbacks.push(callback);\n",
       "    if (root._bokeh_is_loading > 0) {\n",
       "      console.debug(\"Bokeh: BokehJS is being loaded, scheduling callback at\", now());\n",
       "      return null;\n",
       "    }\n",
       "    if (js_urls == null || js_urls.length === 0) {\n",
       "      run_callbacks();\n",
       "      return null;\n",
       "    }\n",
       "    console.debug(\"Bokeh: BokehJS not loaded, scheduling load and callback at\", now());\n",
       "    root._bokeh_is_loading = css_urls.length + js_urls.length;\n",
       "\n",
       "    function on_load() {\n",
       "      root._bokeh_is_loading--;\n",
       "      if (root._bokeh_is_loading === 0) {\n",
       "        console.debug(\"Bokeh: all BokehJS libraries/stylesheets loaded\");\n",
       "        run_callbacks()\n",
       "      }\n",
       "    }\n",
       "\n",
       "    function on_error(url) {\n",
       "      console.error(\"failed to load \" + url);\n",
       "    }\n",
       "\n",
       "    for (let i = 0; i < css_urls.length; i++) {\n",
       "      const url = css_urls[i];\n",
       "      const element = document.createElement(\"link\");\n",
       "      element.onload = on_load;\n",
       "      element.onerror = on_error.bind(null, url);\n",
       "      element.rel = \"stylesheet\";\n",
       "      element.type = \"text/css\";\n",
       "      element.href = url;\n",
       "      console.debug(\"Bokeh: injecting link tag for BokehJS stylesheet: \", url);\n",
       "      document.body.appendChild(element);\n",
       "    }\n",
       "\n",
       "    const hashes = {\"https://cdn.bokeh.org/bokeh/release/bokeh-2.3.1.min.js\": \"YF85VygJKMVnHE+lLv2AM93Vbstr0yo2TbIu5v8se5Rq3UQAUmcuh4aaJwNlpKwa\", \"https://cdn.bokeh.org/bokeh/release/bokeh-widgets-2.3.1.min.js\": \"KKuas3gevv3PvrlkyCMzffFeaMq5we/a2QsP5AUoS3mJ0jmaCL7jirFJN3GoE/lM\", \"https://cdn.bokeh.org/bokeh/release/bokeh-tables-2.3.1.min.js\": \"MK/uFc3YT18pkvvXRl66tTHjP0/dxoSH2e/eiNMFIguKlun2+WVqaPTWmUy/zvh4\"};\n",
       "\n",
       "    for (let i = 0; i < js_urls.length; i++) {\n",
       "      const url = js_urls[i];\n",
       "      const element = document.createElement('script');\n",
       "      element.onload = on_load;\n",
       "      element.onerror = on_error.bind(null, url);\n",
       "      element.async = false;\n",
       "      element.src = url;\n",
       "      if (url in hashes) {\n",
       "        element.crossOrigin = \"anonymous\";\n",
       "        element.integrity = \"sha384-\" + hashes[url];\n",
       "      }\n",
       "      console.debug(\"Bokeh: injecting script tag for BokehJS library: \", url);\n",
       "      document.head.appendChild(element);\n",
       "    }\n",
       "  };\n",
       "\n",
       "  function inject_raw_css(css) {\n",
       "    const element = document.createElement(\"style\");\n",
       "    element.appendChild(document.createTextNode(css));\n",
       "    document.body.appendChild(element);\n",
       "  }\n",
       "\n",
       "  \n",
       "  var js_urls = [\"https://cdn.bokeh.org/bokeh/release/bokeh-2.3.1.min.js\", \"https://cdn.bokeh.org/bokeh/release/bokeh-widgets-2.3.1.min.js\", \"https://cdn.bokeh.org/bokeh/release/bokeh-tables-2.3.1.min.js\"];\n",
       "  var css_urls = [];\n",
       "  \n",
       "\n",
       "  var inline_js = [\n",
       "    function(Bokeh) {\n",
       "      Bokeh.set_log_level(\"info\");\n",
       "    },\n",
       "    function(Bokeh) {\n",
       "    \n",
       "    \n",
       "    }\n",
       "  ];\n",
       "\n",
       "  function run_inline_js() {\n",
       "    \n",
       "    if (root.Bokeh !== undefined || force === true) {\n",
       "      \n",
       "    for (var i = 0; i < inline_js.length; i++) {\n",
       "      inline_js[i].call(root, root.Bokeh);\n",
       "    }\n",
       "    if (force === true) {\n",
       "        display_loaded();\n",
       "      }} else if (Date.now() < root._bokeh_timeout) {\n",
       "      setTimeout(run_inline_js, 100);\n",
       "    } else if (!root._bokeh_failed_load) {\n",
       "      console.log(\"Bokeh: BokehJS failed to load within specified timeout.\");\n",
       "      root._bokeh_failed_load = true;\n",
       "    } else if (force !== true) {\n",
       "      var cell = $(document.getElementById(\"10163\")).parents('.cell').data().cell;\n",
       "      cell.output_area.append_execute_result(NB_LOAD_WARNING)\n",
       "    }\n",
       "\n",
       "  }\n",
       "\n",
       "  if (root._bokeh_is_loading === 0) {\n",
       "    console.debug(\"Bokeh: BokehJS loaded, going straight to plotting\");\n",
       "    run_inline_js();\n",
       "  } else {\n",
       "    load_libs(css_urls, js_urls, function() {\n",
       "      console.debug(\"Bokeh: BokehJS plotting callback run at\", now());\n",
       "      run_inline_js();\n",
       "    });\n",
       "  }\n",
       "}(window));"
      ],
      "application/vnd.bokehjs_load.v0+json": "\n(function(root) {\n  function now() {\n    return new Date();\n  }\n\n  var force = true;\n\n  if (typeof root._bokeh_onload_callbacks === \"undefined\" || force === true) {\n    root._bokeh_onload_callbacks = [];\n    root._bokeh_is_loading = undefined;\n  }\n\n  \n\n  \n  if (typeof (root._bokeh_timeout) === \"undefined\" || force === true) {\n    root._bokeh_timeout = Date.now() + 5000;\n    root._bokeh_failed_load = false;\n  }\n\n  var NB_LOAD_WARNING = {'data': {'text/html':\n     \"<div style='background-color: #fdd'>\\n\"+\n     \"<p>\\n\"+\n     \"BokehJS does not appear to have successfully loaded. If loading BokehJS from CDN, this \\n\"+\n     \"may be due to a slow or bad network connection. Possible fixes:\\n\"+\n     \"</p>\\n\"+\n     \"<ul>\\n\"+\n     \"<li>re-rerun `output_notebook()` to attempt to load from CDN again, or</li>\\n\"+\n     \"<li>use INLINE resources instead, as so:</li>\\n\"+\n     \"</ul>\\n\"+\n     \"<code>\\n\"+\n     \"from bokeh.resources import INLINE\\n\"+\n     \"output_notebook(resources=INLINE)\\n\"+\n     \"</code>\\n\"+\n     \"</div>\"}};\n\n  function display_loaded() {\n    var el = document.getElementById(\"10163\");\n    if (el != null) {\n      el.textContent = \"BokehJS is loading...\";\n    }\n    if (root.Bokeh !== undefined) {\n      if (el != null) {\n        el.textContent = \"BokehJS \" + root.Bokeh.version + \" successfully loaded.\";\n      }\n    } else if (Date.now() < root._bokeh_timeout) {\n      setTimeout(display_loaded, 100)\n    }\n  }\n\n\n  function run_callbacks() {\n    try {\n      root._bokeh_onload_callbacks.forEach(function(callback) {\n        if (callback != null)\n          callback();\n      });\n    } finally {\n      delete root._bokeh_onload_callbacks\n    }\n    console.debug(\"Bokeh: all callbacks have finished\");\n  }\n\n  function load_libs(css_urls, js_urls, callback) {\n    if (css_urls == null) css_urls = [];\n    if (js_urls == null) js_urls = [];\n\n    root._bokeh_onload_callbacks.push(callback);\n    if (root._bokeh_is_loading > 0) {\n      console.debug(\"Bokeh: BokehJS is being loaded, scheduling callback at\", now());\n      return null;\n    }\n    if (js_urls == null || js_urls.length === 0) {\n      run_callbacks();\n      return null;\n    }\n    console.debug(\"Bokeh: BokehJS not loaded, scheduling load and callback at\", now());\n    root._bokeh_is_loading = css_urls.length + js_urls.length;\n\n    function on_load() {\n      root._bokeh_is_loading--;\n      if (root._bokeh_is_loading === 0) {\n        console.debug(\"Bokeh: all BokehJS libraries/stylesheets loaded\");\n        run_callbacks()\n      }\n    }\n\n    function on_error(url) {\n      console.error(\"failed to load \" + url);\n    }\n\n    for (let i = 0; i < css_urls.length; i++) {\n      const url = css_urls[i];\n      const element = document.createElement(\"link\");\n      element.onload = on_load;\n      element.onerror = on_error.bind(null, url);\n      element.rel = \"stylesheet\";\n      element.type = \"text/css\";\n      element.href = url;\n      console.debug(\"Bokeh: injecting link tag for BokehJS stylesheet: \", url);\n      document.body.appendChild(element);\n    }\n\n    const hashes = {\"https://cdn.bokeh.org/bokeh/release/bokeh-2.3.1.min.js\": \"YF85VygJKMVnHE+lLv2AM93Vbstr0yo2TbIu5v8se5Rq3UQAUmcuh4aaJwNlpKwa\", \"https://cdn.bokeh.org/bokeh/release/bokeh-widgets-2.3.1.min.js\": \"KKuas3gevv3PvrlkyCMzffFeaMq5we/a2QsP5AUoS3mJ0jmaCL7jirFJN3GoE/lM\", \"https://cdn.bokeh.org/bokeh/release/bokeh-tables-2.3.1.min.js\": \"MK/uFc3YT18pkvvXRl66tTHjP0/dxoSH2e/eiNMFIguKlun2+WVqaPTWmUy/zvh4\"};\n\n    for (let i = 0; i < js_urls.length; i++) {\n      const url = js_urls[i];\n      const element = document.createElement('script');\n      element.onload = on_load;\n      element.onerror = on_error.bind(null, url);\n      element.async = false;\n      element.src = url;\n      if (url in hashes) {\n        element.crossOrigin = \"anonymous\";\n        element.integrity = \"sha384-\" + hashes[url];\n      }\n      console.debug(\"Bokeh: injecting script tag for BokehJS library: \", url);\n      document.head.appendChild(element);\n    }\n  };\n\n  function inject_raw_css(css) {\n    const element = document.createElement(\"style\");\n    element.appendChild(document.createTextNode(css));\n    document.body.appendChild(element);\n  }\n\n  \n  var js_urls = [\"https://cdn.bokeh.org/bokeh/release/bokeh-2.3.1.min.js\", \"https://cdn.bokeh.org/bokeh/release/bokeh-widgets-2.3.1.min.js\", \"https://cdn.bokeh.org/bokeh/release/bokeh-tables-2.3.1.min.js\"];\n  var css_urls = [];\n  \n\n  var inline_js = [\n    function(Bokeh) {\n      Bokeh.set_log_level(\"info\");\n    },\n    function(Bokeh) {\n    \n    \n    }\n  ];\n\n  function run_inline_js() {\n    \n    if (root.Bokeh !== undefined || force === true) {\n      \n    for (var i = 0; i < inline_js.length; i++) {\n      inline_js[i].call(root, root.Bokeh);\n    }\n    if (force === true) {\n        display_loaded();\n      }} else if (Date.now() < root._bokeh_timeout) {\n      setTimeout(run_inline_js, 100);\n    } else if (!root._bokeh_failed_load) {\n      console.log(\"Bokeh: BokehJS failed to load within specified timeout.\");\n      root._bokeh_failed_load = true;\n    } else if (force !== true) {\n      var cell = $(document.getElementById(\"10163\")).parents('.cell').data().cell;\n      cell.output_area.append_execute_result(NB_LOAD_WARNING)\n    }\n\n  }\n\n  if (root._bokeh_is_loading === 0) {\n    console.debug(\"Bokeh: BokehJS loaded, going straight to plotting\");\n    run_inline_js();\n  } else {\n    load_libs(css_urls, js_urls, function() {\n      console.debug(\"Bokeh: BokehJS plotting callback run at\", now());\n      run_inline_js();\n    });\n  }\n}(window));"
     },
     "metadata": {},
     "output_type": "display_data"
    }
   ],
   "source": [
    "#import numpy \n",
    "import numpy as np\n",
    "#import panda\n",
    "import pandas as pd\n",
    "from pandas import read_csv\n",
    "#import bokeh\n",
    "import bokeh\n",
    "from bokeh.plotting import figure, output_file, show\n",
    "from bokeh.models import ColumnDataSource, HoverTool, CDSView, ColumnDataSource, GroupFilter\n",
    "from bokeh.models.tools import HoverTool\n",
    "\n",
    "#imports from pandas_bokeh \n",
    "import pandas_bokeh\n",
    "#making sure the plot is visible in the notebook\n",
    "pandas_bokeh.output_notebook()"
   ]
  },
  {
   "cell_type": "code",
   "execution_count": 67,
   "id": "excessive-latino",
   "metadata": {},
   "outputs": [
    {
     "data": {
      "text/html": [
       "<div>\n",
       "<style scoped>\n",
       "    .dataframe tbody tr th:only-of-type {\n",
       "        vertical-align: middle;\n",
       "    }\n",
       "\n",
       "    .dataframe tbody tr th {\n",
       "        vertical-align: top;\n",
       "    }\n",
       "\n",
       "    .dataframe thead th {\n",
       "        text-align: right;\n",
       "    }\n",
       "</style>\n",
       "<table border=\"1\" class=\"dataframe\">\n",
       "  <thead>\n",
       "    <tr style=\"text-align: right;\">\n",
       "      <th></th>\n",
       "      <th>neighborhood</th>\n",
       "      <th>mean_price</th>\n",
       "      <th>rfd</th>\n",
       "    </tr>\n",
       "  </thead>\n",
       "  <tbody>\n",
       "    <tr>\n",
       "      <th>0</th>\n",
       "      <td>La Prosperitat</td>\n",
       "      <td>167150.000000</td>\n",
       "      <td>56.0</td>\n",
       "    </tr>\n",
       "    <tr>\n",
       "      <th>1</th>\n",
       "      <td>El Baix Guinardó</td>\n",
       "      <td>315222.222222</td>\n",
       "      <td>92.0</td>\n",
       "    </tr>\n",
       "    <tr>\n",
       "      <th>2</th>\n",
       "      <td>El Congrés i els Indians</td>\n",
       "      <td>320000.000000</td>\n",
       "      <td>75.1</td>\n",
       "    </tr>\n",
       "    <tr>\n",
       "      <th>3</th>\n",
       "      <td>Sant Genís dels Agudells</td>\n",
       "      <td>312172.413793</td>\n",
       "      <td>84.1</td>\n",
       "    </tr>\n",
       "    <tr>\n",
       "      <th>4</th>\n",
       "      <td>La Nova Esquerra de l'Eixample</td>\n",
       "      <td>460978.654362</td>\n",
       "      <td>110.2</td>\n",
       "    </tr>\n",
       "  </tbody>\n",
       "</table>\n",
       "</div>"
      ],
      "text/plain": [
       "                     neighborhood     mean_price    rfd\n",
       "0                  La Prosperitat  167150.000000   56.0\n",
       "1                El Baix Guinardó  315222.222222   92.0\n",
       "2        El Congrés i els Indians  320000.000000   75.1\n",
       "3        Sant Genís dels Agudells  312172.413793   84.1\n",
       "4  La Nova Esquerra de l'Eixample  460978.654362  110.2"
      ]
     },
     "execution_count": 67,
     "metadata": {},
     "output_type": "execute_result"
    }
   ],
   "source": [
    "#import the csv file \n",
    "\n",
    "d = pd.read_csv('KPI2v2.csv', header=0, delimiter=';')\n",
    "d.head() #tabular visualization of the dataset "
   ]
  },
  {
   "cell_type": "code",
   "execution_count": 69,
   "id": "criminal-worse",
   "metadata": {},
   "outputs": [
    {
     "data": {
      "text/html": [
       "\n",
       "\n",
       "\n",
       "\n",
       "\n",
       "\n",
       "  <div class=\"bk-root\" id=\"2aedb388-541d-4976-944b-f0d109f5e8ea\" data-root-id=\"10268\"></div>\n"
      ]
     },
     "metadata": {},
     "output_type": "display_data"
    },
    {
     "data": {
      "application/javascript": [
       "(function(root) {\n",
       "  function embed_document(root) {\n",
       "    \n",
       "  var docs_json = {\"3cca9abb-280c-4d80-bb59-40df78c86e22\":{\"defs\":[],\"roots\":{\"references\":[{\"attributes\":{\"below\":[{\"id\":\"10279\"}],\"center\":[{\"id\":\"10282\"},{\"id\":\"10286\"},{\"id\":\"10318\"}],\"height\":400,\"left\":[{\"id\":\"10283\"}],\"output_backend\":\"webgl\",\"renderers\":[{\"id\":\"10307\"}],\"sizing_mode\":\"fixed\",\"title\":{\"id\":\"10269\"},\"toolbar\":{\"id\":\"10294\"},\"x_range\":{\"id\":\"10271\"},\"x_scale\":{\"id\":\"10275\"},\"y_range\":{\"id\":\"10273\"},\"y_scale\":{\"id\":\"10277\"}},\"id\":\"10268\",\"subtype\":\"Figure\",\"type\":\"Plot\"},{\"attributes\":{\"axis_label\":\"rfd\",\"formatter\":{\"id\":\"10314\"},\"major_label_policy\":{\"id\":\"10313\"},\"ticker\":{\"id\":\"10284\"}},\"id\":\"10283\",\"type\":\"LinearAxis\"},{\"attributes\":{\"text\":\"Scatter plot of correlation between neighborhood and rfd\"},\"id\":\"10269\",\"type\":\"Title\"},{\"attributes\":{},\"id\":\"10277\",\"type\":\"LinearScale\"},{\"attributes\":{\"code\":\"\\n                                var labels = {0: 'La Prosperitat', 1: 'El Baix Guinard\\u00f3', 2: 'El Congr\\u00e9s i els Indians', 3: 'Sant Gen\\u00eds dels Agudells', 4: \\\"La Nova Esquerra de l'Eixample\\\", 5: \\\"L'Antiga Esquerra de l'Eixample\\\", 6: 'Les Roquetes', 7: 'La Trinitat Nova', 8: 'Horta Barcelona', 9: 'La Teixonera', 10: 'Vila de Gr\\u00e0cia', 11: 'La Maternitat i Sant Ramon', 12: \\\"Camp d'en Grassot i Gr\\u00e0cia Nova\\\", 13: 'el Coll', 14: 'Sants-Badal', 15: 'Hostafrancs', 16: 'Les Tres Torres', 17: 'El Poble-sec Barcelona', 18: 'Sant Gervasi \\u2013 la Bonanova', 19: 'Can Bar\\u00f3', 20: 'Verdun', 21: 'Vallcarca i els Penitents', 22: 'La Font de la Guatlla', 23: 'Sagrada Fam\\u00edlia', 24: 'Sant Andreu de Palomar', 25: 'Canyelles', 26: 'La Marina del Prat Vermell', 27: 'La Salut', 28: 'El Raval', 29: \\\"El Camp de l'Arpa del Clot\\\", 30: 'Pedralbes', 31: 'Fort Pienc', 32: 'Sant Gervasi \\u2013 Galvany', 33: 'Sants', 34: 'Vilapicina i la Torre Llobeta', 35: 'El Carmel', 36: 'Can Peguera', 37: 'Ciutat Meridiana', 38: 'El Guinard\\u00f3', 39: \\\"Dreta de l'Eixample\\\", 40: 'Les Corts', 41: 'La Bordeta', 42: 'Porta', 43: 'Sarri\\u00e0', 44: 'El Putxet i el Farr\\u00f3', 45: 'Sant Antoni', 46: 'Navas', 47: 'Gothic Quarter', 48: 'La Marina de Port', 49: \\\"La Font d'en Fargues\\\", 50: \\\"Vall d'Hebron\\\", 51: 'Trinitat Vella'};\\n                                return labels[tick];\\n                                \"},\"id\":\"10301\",\"type\":\"FuncTickFormatter\"},{\"attributes\":{\"axis_label\":\"neighborhood\",\"formatter\":{\"id\":\"10301\"},\"major_label_policy\":{\"id\":\"10311\"},\"ticker\":{\"id\":\"10322\"}},\"id\":\"10279\",\"type\":\"LinearAxis\"},{\"attributes\":{},\"id\":\"10275\",\"type\":\"LinearScale\"},{\"attributes\":{\"fill_color\":{\"value\":\"#1f77b4\"},\"line_width\":{\"value\":2},\"size\":{\"value\":10},\"x\":{\"field\":\"__x__values\"},\"y\":{\"field\":\"y\"}},\"id\":\"10305\",\"type\":\"Scatter\"},{\"attributes\":{},\"id\":\"10273\",\"type\":\"DataRange1d\"},{\"attributes\":{},\"id\":\"10271\",\"type\":\"DataRange1d\"},{\"attributes\":{\"callback\":null,\"renderers\":[{\"id\":\"10307\"}],\"tooltips\":[[\"neighborhood\",\"@__x__values_original\"],[\"rfd\",\"@y\"]]},\"id\":\"10320\",\"type\":\"HoverTool\"},{\"attributes\":{\"data\":{\"__x__values\":[0,1,2,3,4,5,6,7,8,9,10,11,12,13,14,15,16,17,18,19,20,21,22,23,24,25,26,27,28,29,30,31,32,33,34,35,36,37,38,39,40,41,42,43,44,45,46,47,48,49,50,51],\"__x__values_original\":[\"La Prosperitat\",\"El Baix Guinard\\u00f3\",\"El Congr\\u00e9s i els Indians\",\"Sant Gen\\u00eds dels Agudells\",\"La Nova Esquerra de l'Eixample\",\"L'Antiga Esquerra de l'Eixample\",\"Les Roquetes\",\"La Trinitat Nova\",\"Horta Barcelona\",\"La Teixonera\",\"Vila de Gr\\u00e0cia\",\"La Maternitat i Sant Ramon\",\"Camp d'en Grassot i Gr\\u00e0cia Nova\",\"el Coll\",\"Sants-Badal\",\"Hostafrancs\",\"Les Tres Torres\",\"El Poble-sec Barcelona\",\"Sant Gervasi \\u2013 la Bonanova\",\"Can Bar\\u00f3\",\"Verdun\",\"Vallcarca i els Penitents\",\"La Font de la Guatlla\",\"Sagrada Fam\\u00edlia\",\"Sant Andreu de Palomar\",\"Canyelles\",\"La Marina del Prat Vermell\",\"La Salut\",\"El Raval\",\"El Camp de l'Arpa del Clot\",\"Pedralbes\",\"Fort Pienc\",\"Sant Gervasi \\u2013 Galvany\",\"Sants\",\"Vilapicina i la Torre Llobeta\",\"El Carmel\",\"Can Peguera\",\"Ciutat Meridiana\",\"El Guinard\\u00f3\",\"Dreta de l'Eixample\",\"Les Corts\",\"La Bordeta\",\"Porta\",\"Sarri\\u00e0\",\"El Putxet i el Farr\\u00f3\",\"Sant Antoni\",\"Navas\",\"Gothic Quarter\",\"La Marina de Port\",\"La Font d'en Fargues\",\"Vall d'Hebron\",\"Trinitat Vella\"],\"y\":{\"__ndarray__\":\"AAAAAAAATEAAAAAAAABXQGZmZmZmxlJAZmZmZmYGVUDNzMzMzIxbQGZmZmZmJmFAmpmZmZnZSECamZmZmRlIQDMzMzMz81NAzczMzMxsUkCamZmZmRlaQM3MzMzMjFxAzczMzMxsWkAAAAAAAMBVQAAAAAAAQFRAAAAAAADAWECamZmZmflqQM3MzMzMjFRAMzMzMzMTZ0AzMzMzM9NUQGZmZmZmpklAAAAAAAAgXECamZmZmblUQDMzMzMzc1lAzczMzMxsU0CamZmZmRlKQAAAAAAAAERAmpmZmZl5W0DNzMzMzMxRQM3MzMzMbFRAmpmZmZkZb0AAAAAAAKBaQDMzMzMzA2hAAAAAAADAWEBmZmZmZuZPQJqZmZmZGUtAAAAAAADASUDNzMzMzExDQGZmZmZmxlNAzczMzMz8ZUAAAAAAAABeQAAAAAAAwFNAmpmZmZkZUEAzMzMzMzNoQDMzMzMzE2JAzczMzMwMWkBmZmZmZmZUQGZmZmZmhlpAMzMzMzNTUUAAAAAAACBXQDMzMzMz81dAzczMzMyMR0A=\",\"dtype\":\"float64\",\"order\":\"little\",\"shape\":[52]}},\"selected\":{\"id\":\"10316\"},\"selection_policy\":{\"id\":\"10317\"}},\"id\":\"10303\",\"type\":\"ColumnDataSource\"},{\"attributes\":{},\"id\":\"10314\",\"type\":\"BasicTickFormatter\"},{\"attributes\":{\"data_source\":{\"id\":\"10303\"},\"glyph\":{\"id\":\"10305\"},\"hover_glyph\":null,\"muted_glyph\":null,\"nonselection_glyph\":{\"id\":\"10306\"},\"view\":{\"id\":\"10308\"}},\"id\":\"10307\",\"type\":\"GlyphRenderer\"},{\"attributes\":{\"fill_alpha\":{\"value\":0.1},\"fill_color\":{\"value\":\"#1f77b4\"},\"line_alpha\":{\"value\":0.1},\"line_width\":{\"value\":2},\"size\":{\"value\":10},\"x\":{\"field\":\"__x__values\"},\"y\":{\"field\":\"y\"}},\"id\":\"10306\",\"type\":\"Scatter\"},{\"attributes\":{\"ticks\":[0,1,2,3,4,5,6,7,8,9,10,11,12,13,14,15,16,17,18,19,20,21,22,23,24,25,26,27,28,29,30,31,32,33,34,35,36,37,38,39,40,41,42,43,44,45,46,47,48,49,50,51]},\"id\":\"10322\",\"type\":\"FixedTicker\"},{\"attributes\":{},\"id\":\"10311\",\"type\":\"AllLabels\"},{\"attributes\":{},\"id\":\"10316\",\"type\":\"Selection\"},{\"attributes\":{\"source\":{\"id\":\"10303\"}},\"id\":\"10308\",\"type\":\"CDSView\"},{\"attributes\":{},\"id\":\"10317\",\"type\":\"UnionRenderers\"},{\"attributes\":{},\"id\":\"10291\",\"type\":\"ResetTool\"},{\"attributes\":{\"label\":{\"value\":\"Hide/Show\"},\"renderers\":[{\"id\":\"10307\"}]},\"id\":\"10319\",\"type\":\"LegendItem\"},{\"attributes\":{},\"id\":\"10287\",\"type\":\"PanTool\"},{\"attributes\":{\"click_policy\":\"hide\",\"items\":[{\"id\":\"10319\"}]},\"id\":\"10318\",\"type\":\"Legend\"},{\"attributes\":{},\"id\":\"10290\",\"type\":\"SaveTool\"},{\"attributes\":{\"overlay\":{\"id\":\"10293\"}},\"id\":\"10289\",\"type\":\"BoxZoomTool\"},{\"attributes\":{\"bottom_units\":\"screen\",\"fill_alpha\":0.5,\"fill_color\":\"lightgrey\",\"left_units\":\"screen\",\"level\":\"overlay\",\"line_alpha\":1.0,\"line_color\":\"black\",\"line_dash\":[4,4],\"line_width\":2,\"right_units\":\"screen\",\"syncable\":false,\"top_units\":\"screen\"},\"id\":\"10293\",\"type\":\"BoxAnnotation\"},{\"attributes\":{},\"id\":\"10292\",\"type\":\"HelpTool\"},{\"attributes\":{\"active_multi\":null,\"active_scroll\":{\"id\":\"10288\"},\"tools\":[{\"id\":\"10287\"},{\"id\":\"10288\"},{\"id\":\"10289\"},{\"id\":\"10290\"},{\"id\":\"10291\"},{\"id\":\"10292\"},{\"id\":\"10320\"}]},\"id\":\"10294\",\"type\":\"Toolbar\"},{\"attributes\":{},\"id\":\"10284\",\"type\":\"BasicTicker\"},{\"attributes\":{\"axis\":{\"id\":\"10283\"},\"dimension\":1,\"ticker\":null},\"id\":\"10286\",\"type\":\"Grid\"},{\"attributes\":{},\"id\":\"10313\",\"type\":\"AllLabels\"},{\"attributes\":{},\"id\":\"10288\",\"type\":\"WheelZoomTool\"},{\"attributes\":{\"axis\":{\"id\":\"10279\"},\"ticker\":null},\"id\":\"10282\",\"type\":\"Grid\"}],\"root_ids\":[\"10268\"]},\"title\":\"Bokeh Application\",\"version\":\"2.3.1\"}};\n",
       "  var render_items = [{\"docid\":\"3cca9abb-280c-4d80-bb59-40df78c86e22\",\"root_ids\":[\"10268\"],\"roots\":{\"10268\":\"2aedb388-541d-4976-944b-f0d109f5e8ea\"}}];\n",
       "  root.Bokeh.embed.embed_items_notebook(docs_json, render_items);\n",
       "\n",
       "  }\n",
       "  if (root.Bokeh !== undefined) {\n",
       "    embed_document(root);\n",
       "  } else {\n",
       "    var attempts = 0;\n",
       "    var timer = setInterval(function(root) {\n",
       "      if (root.Bokeh !== undefined) {\n",
       "        clearInterval(timer);\n",
       "        embed_document(root);\n",
       "      } else {\n",
       "        attempts++;\n",
       "        if (attempts > 100) {\n",
       "          clearInterval(timer);\n",
       "          console.log(\"Bokeh: ERROR: Unable to run BokehJS code because BokehJS library is missing\");\n",
       "        }\n",
       "      }\n",
       "    }, 10, root)\n",
       "  }\n",
       "})(window);"
      ],
      "application/vnd.bokehjs_exec.v0+json": ""
     },
     "metadata": {
      "application/vnd.bokehjs_exec.v0+json": {
       "id": "10268"
      }
     },
     "output_type": "display_data"
    }
   ],
   "source": [
    "from math import pi\n",
    "p = d.plot_bokeh(title='Scatter plot of correlation between neighborhood and rfd', kind='scatter', x = 'neighborhood', y = 'rfd')  #scatter visualization of the RFD \n",
    "p.xaxis.major_label_orientation = pi/4\n",
    "output_file('figure5.html')"
   ]
  },
  {
   "cell_type": "code",
   "execution_count": 71,
   "id": "previous-favorite",
   "metadata": {},
   "outputs": [
    {
     "data": {
      "text/html": [
       "\n",
       "\n",
       "\n",
       "\n",
       "\n",
       "\n",
       "  <div class=\"bk-root\" id=\"d124dc48-d4ec-461b-980e-e1b56d0e8246\" data-root-id=\"10664\"></div>\n"
      ]
     },
     "metadata": {},
     "output_type": "display_data"
    },
    {
     "data": {
      "application/javascript": [
       "(function(root) {\n",
       "  function embed_document(root) {\n",
       "    \n",
       "  var docs_json = {\"4684a717-54fa-46e2-af3a-1b808c929c23\":{\"defs\":[],\"roots\":{\"references\":[{\"attributes\":{\"below\":[{\"id\":\"10675\"}],\"center\":[{\"id\":\"10678\"},{\"id\":\"10682\"},{\"id\":\"10714\"}],\"height\":400,\"left\":[{\"id\":\"10679\"}],\"output_backend\":\"webgl\",\"renderers\":[{\"id\":\"10703\"}],\"sizing_mode\":\"fixed\",\"title\":{\"id\":\"10665\"},\"toolbar\":{\"id\":\"10690\"},\"x_range\":{\"id\":\"10667\"},\"x_scale\":{\"id\":\"10671\"},\"y_range\":{\"id\":\"10669\"},\"y_scale\":{\"id\":\"10673\"}},\"id\":\"10664\",\"subtype\":\"Figure\",\"type\":\"Plot\"},{\"attributes\":{\"fill_alpha\":{\"value\":0.1},\"fill_color\":{\"value\":\"#1f77b4\"},\"line_alpha\":{\"value\":0.1},\"line_color\":{\"value\":\"#1f77b4\"},\"line_width\":{\"value\":2},\"top\":{\"field\":\"rfd\"},\"width\":{\"value\":0.7},\"x\":{\"field\":\"__x__values\",\"transform\":{\"id\":\"10699\"}}},\"id\":\"10702\",\"type\":\"VBar\"},{\"attributes\":{\"bottom_units\":\"screen\",\"fill_alpha\":0.5,\"fill_color\":\"lightgrey\",\"left_units\":\"screen\",\"level\":\"overlay\",\"line_alpha\":1.0,\"line_color\":\"black\",\"line_dash\":[4,4],\"line_width\":2,\"right_units\":\"screen\",\"syncable\":false,\"top_units\":\"screen\"},\"id\":\"10689\",\"type\":\"BoxAnnotation\"},{\"attributes\":{},\"id\":\"10671\",\"type\":\"LinearScale\"},{\"attributes\":{\"ticks\":[0,1,2,3,4,5,6,7,8,9,10,11,12,13,14,15,16,17,18,19,20,21,22,23,24,25,26,27,28,29,30,31,32,33,34,35,36,37,38,39,40,41,42,43,44,45,46,47,48,49,50,51]},\"id\":\"10718\",\"type\":\"FixedTicker\"},{\"attributes\":{\"callback\":null,\"mode\":\"vline\",\"renderers\":[{\"id\":\"10703\"}],\"tooltips\":[[\"neighborhood\",\"@__x__values_original\"],[\"rfd\",\"@{rfd}\"]]},\"id\":\"10716\",\"type\":\"HoverTool\"},{\"attributes\":{\"fill_color\":{\"value\":\"#1f77b4\"},\"line_color\":{\"value\":\"#1f77b4\"},\"line_width\":{\"value\":2},\"top\":{\"field\":\"rfd\"},\"width\":{\"value\":0.7},\"x\":{\"field\":\"__x__values\",\"transform\":{\"id\":\"10699\"}}},\"id\":\"10701\",\"type\":\"VBar\"},{\"attributes\":{},\"id\":\"10712\",\"type\":\"Selection\"},{\"attributes\":{},\"id\":\"10707\",\"type\":\"AllLabels\"},{\"attributes\":{},\"id\":\"10713\",\"type\":\"UnionRenderers\"},{\"attributes\":{},\"id\":\"10669\",\"type\":\"DataRange1d\"},{\"attributes\":{},\"id\":\"10680\",\"type\":\"BasicTicker\"},{\"attributes\":{\"axis\":{\"id\":\"10675\"},\"ticker\":null},\"id\":\"10678\",\"type\":\"Grid\"},{\"attributes\":{},\"id\":\"10673\",\"type\":\"LinearScale\"},{\"attributes\":{\"axis_label\":\"neighborhood\",\"formatter\":{\"id\":\"10697\"},\"major_label_policy\":{\"id\":\"10707\"},\"ticker\":{\"id\":\"10718\"}},\"id\":\"10675\",\"type\":\"LinearAxis\"},{\"attributes\":{},\"id\":\"10684\",\"type\":\"WheelZoomTool\"},{\"attributes\":{\"axis_label\":\"rfd\",\"formatter\":{\"id\":\"10710\"},\"major_label_policy\":{\"id\":\"10709\"},\"ticker\":{\"id\":\"10680\"}},\"id\":\"10679\",\"type\":\"LinearAxis\"},{\"attributes\":{},\"id\":\"10683\",\"type\":\"PanTool\"},{\"attributes\":{\"overlay\":{\"id\":\"10689\"}},\"id\":\"10685\",\"type\":\"BoxZoomTool\"},{\"attributes\":{\"axis\":{\"id\":\"10679\"},\"dimension\":1,\"ticker\":null},\"id\":\"10682\",\"type\":\"Grid\"},{\"attributes\":{},\"id\":\"10686\",\"type\":\"SaveTool\"},{\"attributes\":{},\"id\":\"10688\",\"type\":\"HelpTool\"},{\"attributes\":{},\"id\":\"10687\",\"type\":\"ResetTool\"},{\"attributes\":{},\"id\":\"10709\",\"type\":\"AllLabels\"},{\"attributes\":{},\"id\":\"10667\",\"type\":\"DataRange1d\"},{\"attributes\":{\"code\":\"\\n                                    var labels = {0: 'La Prosperitat', 1: 'El Baix Guinard\\u00f3', 2: 'El Congr\\u00e9s i els Indians', 3: 'Sant Gen\\u00eds dels Agudells', 4: \\\"La Nova Esquerra de l'Eixample\\\", 5: \\\"L'Antiga Esquerra de l'Eixample\\\", 6: 'Les Roquetes', 7: 'La Trinitat Nova', 8: 'Horta Barcelona', 9: 'La Teixonera', 10: 'Vila de Gr\\u00e0cia', 11: 'La Maternitat i Sant Ramon', 12: \\\"Camp d'en Grassot i Gr\\u00e0cia Nova\\\", 13: 'el Coll', 14: 'Sants-Badal', 15: 'Hostafrancs', 16: 'Les Tres Torres', 17: 'El Poble-sec Barcelona', 18: 'Sant Gervasi \\u2013 la Bonanova', 19: 'Can Bar\\u00f3', 20: 'Verdun', 21: 'Vallcarca i els Penitents', 22: 'La Font de la Guatlla', 23: 'Sagrada Fam\\u00edlia', 24: 'Sant Andreu de Palomar', 25: 'Canyelles', 26: 'La Marina del Prat Vermell', 27: 'La Salut', 28: 'El Raval', 29: \\\"El Camp de l'Arpa del Clot\\\", 30: 'Pedralbes', 31: 'Fort Pienc', 32: 'Sant Gervasi \\u2013 Galvany', 33: 'Sants', 34: 'Vilapicina i la Torre Llobeta', 35: 'El Carmel', 36: 'Can Peguera', 37: 'Ciutat Meridiana', 38: 'El Guinard\\u00f3', 39: \\\"Dreta de l'Eixample\\\", 40: 'Les Corts', 41: 'La Bordeta', 42: 'Porta', 43: 'Sarri\\u00e0', 44: 'El Putxet i el Farr\\u00f3', 45: 'Sant Antoni', 46: 'Navas', 47: 'Gothic Quarter', 48: 'La Marina de Port', 49: \\\"La Font d'en Fargues\\\", 50: \\\"Vall d'Hebron\\\", 51: 'Trinitat Vella'};\\n                                    return labels[tick];\\n                                    \"},\"id\":\"10697\",\"type\":\"FuncTickFormatter\"},{\"attributes\":{},\"id\":\"10710\",\"type\":\"BasicTickFormatter\"},{\"attributes\":{\"range\":{\"id\":\"10667\"}},\"id\":\"10699\",\"type\":\"Dodge\"},{\"attributes\":{\"active_multi\":null,\"active_scroll\":{\"id\":\"10684\"},\"tools\":[{\"id\":\"10683\"},{\"id\":\"10684\"},{\"id\":\"10685\"},{\"id\":\"10686\"},{\"id\":\"10687\"},{\"id\":\"10688\"},{\"id\":\"10716\"}]},\"id\":\"10690\",\"type\":\"Toolbar\"},{\"attributes\":{\"text\":\"Bar plot of correlation between neighborhood and rfd\"},\"id\":\"10665\",\"type\":\"Title\"},{\"attributes\":{\"source\":{\"id\":\"10663\"}},\"id\":\"10704\",\"type\":\"CDSView\"},{\"attributes\":{\"data_source\":{\"id\":\"10663\"},\"glyph\":{\"id\":\"10701\"},\"hover_glyph\":null,\"muted_glyph\":null,\"nonselection_glyph\":{\"id\":\"10702\"},\"view\":{\"id\":\"10704\"}},\"id\":\"10703\",\"type\":\"GlyphRenderer\"},{\"attributes\":{\"label\":{\"value\":\" rfd\"},\"renderers\":[{\"id\":\"10703\"}]},\"id\":\"10715\",\"type\":\"LegendItem\"},{\"attributes\":{\"data\":{\"__x__values\":[0,1,2,3,4,5,6,7,8,9,10,11,12,13,14,15,16,17,18,19,20,21,22,23,24,25,26,27,28,29,30,31,32,33,34,35,36,37,38,39,40,41,42,43,44,45,46,47,48,49,50,51],\"__x__values_original\":[\"La Prosperitat\",\"El Baix Guinard\\u00f3\",\"El Congr\\u00e9s i els Indians\",\"Sant Gen\\u00eds dels Agudells\",\"La Nova Esquerra de l'Eixample\",\"L'Antiga Esquerra de l'Eixample\",\"Les Roquetes\",\"La Trinitat Nova\",\"Horta Barcelona\",\"La Teixonera\",\"Vila de Gr\\u00e0cia\",\"La Maternitat i Sant Ramon\",\"Camp d'en Grassot i Gr\\u00e0cia Nova\",\"el Coll\",\"Sants-Badal\",\"Hostafrancs\",\"Les Tres Torres\",\"El Poble-sec Barcelona\",\"Sant Gervasi \\u2013 la Bonanova\",\"Can Bar\\u00f3\",\"Verdun\",\"Vallcarca i els Penitents\",\"La Font de la Guatlla\",\"Sagrada Fam\\u00edlia\",\"Sant Andreu de Palomar\",\"Canyelles\",\"La Marina del Prat Vermell\",\"La Salut\",\"El Raval\",\"El Camp de l'Arpa del Clot\",\"Pedralbes\",\"Fort Pienc\",\"Sant Gervasi \\u2013 Galvany\",\"Sants\",\"Vilapicina i la Torre Llobeta\",\"El Carmel\",\"Can Peguera\",\"Ciutat Meridiana\",\"El Guinard\\u00f3\",\"Dreta de l'Eixample\",\"Les Corts\",\"La Bordeta\",\"Porta\",\"Sarri\\u00e0\",\"El Putxet i el Farr\\u00f3\",\"Sant Antoni\",\"Navas\",\"Gothic Quarter\",\"La Marina de Port\",\"La Font d'en Fargues\",\"Vall d'Hebron\",\"Trinitat Vella\"],\"rfd\":{\"__ndarray__\":\"AAAAAAAATEAAAAAAAABXQGZmZmZmxlJAZmZmZmYGVUDNzMzMzIxbQGZmZmZmJmFAmpmZmZnZSECamZmZmRlIQDMzMzMz81NAzczMzMxsUkCamZmZmRlaQM3MzMzMjFxAzczMzMxsWkAAAAAAAMBVQAAAAAAAQFRAAAAAAADAWECamZmZmflqQM3MzMzMjFRAMzMzMzMTZ0AzMzMzM9NUQGZmZmZmpklAAAAAAAAgXECamZmZmblUQDMzMzMzc1lAzczMzMxsU0CamZmZmRlKQAAAAAAAAERAmpmZmZl5W0DNzMzMzMxRQM3MzMzMbFRAmpmZmZkZb0AAAAAAAKBaQDMzMzMzA2hAAAAAAADAWEBmZmZmZuZPQJqZmZmZGUtAAAAAAADASUDNzMzMzExDQGZmZmZmxlNAzczMzMz8ZUAAAAAAAABeQAAAAAAAwFNAmpmZmZkZUEAzMzMzMzNoQDMzMzMzE2JAzczMzMwMWkBmZmZmZmZUQGZmZmZmhlpAMzMzMzNTUUAAAAAAACBXQDMzMzMz81dAzczMzMyMR0A=\",\"dtype\":\"float64\",\"order\":\"little\",\"shape\":[52]}},\"selected\":{\"id\":\"10712\"},\"selection_policy\":{\"id\":\"10713\"}},\"id\":\"10663\",\"type\":\"ColumnDataSource\"},{\"attributes\":{\"click_policy\":\"hide\",\"items\":[{\"id\":\"10715\"}]},\"id\":\"10714\",\"type\":\"Legend\"}],\"root_ids\":[\"10664\"]},\"title\":\"Bokeh Application\",\"version\":\"2.3.1\"}};\n",
       "  var render_items = [{\"docid\":\"4684a717-54fa-46e2-af3a-1b808c929c23\",\"root_ids\":[\"10664\"],\"roots\":{\"10664\":\"d124dc48-d4ec-461b-980e-e1b56d0e8246\"}}];\n",
       "  root.Bokeh.embed.embed_items_notebook(docs_json, render_items);\n",
       "\n",
       "  }\n",
       "  if (root.Bokeh !== undefined) {\n",
       "    embed_document(root);\n",
       "  } else {\n",
       "    var attempts = 0;\n",
       "    var timer = setInterval(function(root) {\n",
       "      if (root.Bokeh !== undefined) {\n",
       "        clearInterval(timer);\n",
       "        embed_document(root);\n",
       "      } else {\n",
       "        attempts++;\n",
       "        if (attempts > 100) {\n",
       "          clearInterval(timer);\n",
       "          console.log(\"Bokeh: ERROR: Unable to run BokehJS code because BokehJS library is missing\");\n",
       "        }\n",
       "      }\n",
       "    }, 10, root)\n",
       "  }\n",
       "})(window);"
      ],
      "application/vnd.bokehjs_exec.v0+json": ""
     },
     "metadata": {
      "application/vnd.bokehjs_exec.v0+json": {
       "id": "10664"
      }
     },
     "output_type": "display_data"
    }
   ],
   "source": [
    "d.plot_bokeh(title='Bar plot of correlation between neighborhood and rfd', kind='bar', x = 'neighborhood', y = 'rfd') #line- plot visualization of the correlation between neighborhood and RFD\n",
    "output_file('figure6.html')"
   ]
  },
  {
   "cell_type": "markdown",
   "id": "expensive-bangkok",
   "metadata": {},
   "source": [
    "The following visualizations display the correlation between the mean_price and the neighborhood. "
   ]
  },
  {
   "cell_type": "code",
   "execution_count": 72,
   "id": "double-summer",
   "metadata": {},
   "outputs": [
    {
     "data": {
      "text/html": [
       "\n",
       "\n",
       "\n",
       "\n",
       "\n",
       "\n",
       "  <div class=\"bk-root\" id=\"8df407d1-2bb2-4ef7-a70d-9f11169200fd\" data-root-id=\"10881\"></div>\n"
      ]
     },
     "metadata": {},
     "output_type": "display_data"
    },
    {
     "data": {
      "application/javascript": [
       "(function(root) {\n",
       "  function embed_document(root) {\n",
       "    \n",
       "  var docs_json = {\"4c95f3be-87c6-4c0a-8bc9-1017a900d69b\":{\"defs\":[],\"roots\":{\"references\":[{\"attributes\":{\"below\":[{\"id\":\"10892\"}],\"center\":[{\"id\":\"10895\"},{\"id\":\"10899\"},{\"id\":\"10931\"}],\"height\":400,\"left\":[{\"id\":\"10896\"}],\"output_backend\":\"webgl\",\"renderers\":[{\"id\":\"10920\"}],\"sizing_mode\":\"fixed\",\"title\":{\"id\":\"10882\"},\"toolbar\":{\"id\":\"10907\"},\"x_range\":{\"id\":\"10884\"},\"x_scale\":{\"id\":\"10888\"},\"y_range\":{\"id\":\"10886\"},\"y_scale\":{\"id\":\"10890\"}},\"id\":\"10881\",\"subtype\":\"Figure\",\"type\":\"Plot\"},{\"attributes\":{\"active_multi\":null,\"active_scroll\":{\"id\":\"10901\"},\"tools\":[{\"id\":\"10900\"},{\"id\":\"10901\"},{\"id\":\"10902\"},{\"id\":\"10903\"},{\"id\":\"10904\"},{\"id\":\"10905\"},{\"id\":\"10933\"}]},\"id\":\"10907\",\"type\":\"Toolbar\"},{\"attributes\":{},\"id\":\"10901\",\"type\":\"WheelZoomTool\"},{\"attributes\":{},\"id\":\"10884\",\"type\":\"DataRange1d\"},{\"attributes\":{},\"id\":\"10905\",\"type\":\"HelpTool\"},{\"attributes\":{\"axis_label\":\"mean_price\",\"formatter\":{\"id\":\"10927\"},\"major_label_policy\":{\"id\":\"10926\"},\"ticker\":{\"id\":\"10897\"}},\"id\":\"10896\",\"type\":\"LinearAxis\"},{\"attributes\":{\"axis\":{\"id\":\"10892\"},\"ticker\":null},\"id\":\"10895\",\"type\":\"Grid\"},{\"attributes\":{\"overlay\":{\"id\":\"10906\"}},\"id\":\"10902\",\"type\":\"BoxZoomTool\"},{\"attributes\":{},\"id\":\"10886\",\"type\":\"DataRange1d\"},{\"attributes\":{\"axis_label\":\"neighborhood\",\"formatter\":{\"id\":\"10914\"},\"major_label_policy\":{\"id\":\"10924\"},\"ticker\":{\"id\":\"10935\"}},\"id\":\"10892\",\"type\":\"LinearAxis\"},{\"attributes\":{},\"id\":\"10900\",\"type\":\"PanTool\"},{\"attributes\":{},\"id\":\"10924\",\"type\":\"AllLabels\"},{\"attributes\":{},\"id\":\"10904\",\"type\":\"ResetTool\"},{\"attributes\":{\"axis\":{\"id\":\"10896\"},\"dimension\":1,\"ticker\":null},\"id\":\"10899\",\"type\":\"Grid\"},{\"attributes\":{},\"id\":\"10897\",\"type\":\"BasicTicker\"},{\"attributes\":{},\"id\":\"10903\",\"type\":\"SaveTool\"},{\"attributes\":{},\"id\":\"10888\",\"type\":\"LinearScale\"},{\"attributes\":{},\"id\":\"10890\",\"type\":\"LinearScale\"},{\"attributes\":{\"callback\":null,\"renderers\":[{\"id\":\"10920\"}],\"tooltips\":[[\"neighborhood\",\"@__x__values_original\"],[\"mean_price\",\"@y\"]]},\"id\":\"10933\",\"type\":\"HoverTool\"},{\"attributes\":{\"fill_color\":{\"value\":\"#1f77b4\"},\"line_width\":{\"value\":2},\"size\":{\"value\":10},\"x\":{\"field\":\"__x__values\"},\"y\":{\"field\":\"y\"}},\"id\":\"10918\",\"type\":\"Scatter\"},{\"attributes\":{\"data_source\":{\"id\":\"10916\"},\"glyph\":{\"id\":\"10918\"},\"hover_glyph\":null,\"muted_glyph\":null,\"nonselection_glyph\":{\"id\":\"10919\"},\"view\":{\"id\":\"10921\"}},\"id\":\"10920\",\"type\":\"GlyphRenderer\"},{\"attributes\":{},\"id\":\"10926\",\"type\":\"AllLabels\"},{\"attributes\":{\"ticks\":[0,1,2,3,4,5,6,7,8,9,10,11,12,13,14,15,16,17,18,19,20,21,22,23,24,25,26,27,28,29,30,31,32,33,34,35,36,37,38,39,40,41,42,43,44,45,46,47,48,49,50,51]},\"id\":\"10935\",\"type\":\"FixedTicker\"},{\"attributes\":{\"label\":{\"value\":\"Hide/Show\"},\"renderers\":[{\"id\":\"10920\"}]},\"id\":\"10932\",\"type\":\"LegendItem\"},{\"attributes\":{},\"id\":\"10929\",\"type\":\"Selection\"},{\"attributes\":{\"data\":{\"__x__values\":[0,1,2,3,4,5,6,7,8,9,10,11,12,13,14,15,16,17,18,19,20,21,22,23,24,25,26,27,28,29,30,31,32,33,34,35,36,37,38,39,40,41,42,43,44,45,46,47,48,49,50,51],\"__x__values_original\":[\"La Prosperitat\",\"El Baix Guinard\\u00f3\",\"El Congr\\u00e9s i els Indians\",\"Sant Gen\\u00eds dels Agudells\",\"La Nova Esquerra de l'Eixample\",\"L'Antiga Esquerra de l'Eixample\",\"Les Roquetes\",\"La Trinitat Nova\",\"Horta Barcelona\",\"La Teixonera\",\"Vila de Gr\\u00e0cia\",\"La Maternitat i Sant Ramon\",\"Camp d'en Grassot i Gr\\u00e0cia Nova\",\"el Coll\",\"Sants-Badal\",\"Hostafrancs\",\"Les Tres Torres\",\"El Poble-sec Barcelona\",\"Sant Gervasi \\u2013 la Bonanova\",\"Can Bar\\u00f3\",\"Verdun\",\"Vallcarca i els Penitents\",\"La Font de la Guatlla\",\"Sagrada Fam\\u00edlia\",\"Sant Andreu de Palomar\",\"Canyelles\",\"La Marina del Prat Vermell\",\"La Salut\",\"El Raval\",\"El Camp de l'Arpa del Clot\",\"Pedralbes\",\"Fort Pienc\",\"Sant Gervasi \\u2013 Galvany\",\"Sants\",\"Vilapicina i la Torre Llobeta\",\"El Carmel\",\"Can Peguera\",\"Ciutat Meridiana\",\"El Guinard\\u00f3\",\"Dreta de l'Eixample\",\"Les Corts\",\"La Bordeta\",\"Porta\",\"Sarri\\u00e0\",\"El Putxet i el Farr\\u00f3\",\"Sant Antoni\",\"Navas\",\"Gothic Quarter\",\"La Marina de Port\",\"La Font d'en Fargues\",\"Vall d'Hebron\",\"Trinitat Vella\"],\"y\":{\"__ndarray__\":\"AAAAAHBnBEHkOI7jWD0TQQAAAAAAiBNBGmG5p7ENE0FkLhGeyiIcQU1ZU9aqAyZBqqqqqqoiBkEAAAAAwGgDQUmSJEkKMxJBO7ETO9F1DEHXWmutRVIiQZze9KZ1LBhBb9u2bROcH0EAAAAAoCwQQRJ4+yEVhw9BAAAAAECMEUEAAAAAPk40QXTaQKfeRRFBg96pa1lOPEEAAAAABAoaQQAAAAAQMgNBT29601vKHUHUm970hioZQQAAAABgWhhBAAAAANiEFkEAAAAAgCsIQUmSJEn6GBRBAAAAAGgKGkEAAABY66MVQQAAAAAAiBNBip3YibWfQEEAAAAAgKIZQQfnY3B6wi9BlIxFNYx8E0EAAAAAQDASQaOLLroIqQlBqqqqqiq0DUEAAAAAIKD8QAAAAABwvhJBRhdd9MANMUFhcyDR3qoeQb8aE+mZTxBBAAAAAFANBkHLt3zLLws8QYfUBONN3SJBWIyE0sb1GkEAAAAAINwSQXM6yum0GSRBsHdMDYxFDUEAAAAAIFMUQVVVVVW1YBBBAAAAAPByAEE=\",\"dtype\":\"float64\",\"order\":\"little\",\"shape\":[52]}},\"selected\":{\"id\":\"10929\"},\"selection_policy\":{\"id\":\"10930\"}},\"id\":\"10916\",\"type\":\"ColumnDataSource\"},{\"attributes\":{\"fill_alpha\":{\"value\":0.1},\"fill_color\":{\"value\":\"#1f77b4\"},\"line_alpha\":{\"value\":0.1},\"line_width\":{\"value\":2},\"size\":{\"value\":10},\"x\":{\"field\":\"__x__values\"},\"y\":{\"field\":\"y\"}},\"id\":\"10919\",\"type\":\"Scatter\"},{\"attributes\":{},\"id\":\"10930\",\"type\":\"UnionRenderers\"},{\"attributes\":{\"text\":\"Scatter plot of correlation between neighborhood and mean_price\"},\"id\":\"10882\",\"type\":\"Title\"},{\"attributes\":{\"use_scientific\":false},\"id\":\"10927\",\"type\":\"BasicTickFormatter\"},{\"attributes\":{\"source\":{\"id\":\"10916\"}},\"id\":\"10921\",\"type\":\"CDSView\"},{\"attributes\":{\"bottom_units\":\"screen\",\"fill_alpha\":0.5,\"fill_color\":\"lightgrey\",\"left_units\":\"screen\",\"level\":\"overlay\",\"line_alpha\":1.0,\"line_color\":\"black\",\"line_dash\":[4,4],\"line_width\":2,\"right_units\":\"screen\",\"syncable\":false,\"top_units\":\"screen\"},\"id\":\"10906\",\"type\":\"BoxAnnotation\"},{\"attributes\":{\"click_policy\":\"hide\",\"items\":[{\"id\":\"10932\"}]},\"id\":\"10931\",\"type\":\"Legend\"},{\"attributes\":{\"code\":\"\\n                                var labels = {0: 'La Prosperitat', 1: 'El Baix Guinard\\u00f3', 2: 'El Congr\\u00e9s i els Indians', 3: 'Sant Gen\\u00eds dels Agudells', 4: \\\"La Nova Esquerra de l'Eixample\\\", 5: \\\"L'Antiga Esquerra de l'Eixample\\\", 6: 'Les Roquetes', 7: 'La Trinitat Nova', 8: 'Horta Barcelona', 9: 'La Teixonera', 10: 'Vila de Gr\\u00e0cia', 11: 'La Maternitat i Sant Ramon', 12: \\\"Camp d'en Grassot i Gr\\u00e0cia Nova\\\", 13: 'el Coll', 14: 'Sants-Badal', 15: 'Hostafrancs', 16: 'Les Tres Torres', 17: 'El Poble-sec Barcelona', 18: 'Sant Gervasi \\u2013 la Bonanova', 19: 'Can Bar\\u00f3', 20: 'Verdun', 21: 'Vallcarca i els Penitents', 22: 'La Font de la Guatlla', 23: 'Sagrada Fam\\u00edlia', 24: 'Sant Andreu de Palomar', 25: 'Canyelles', 26: 'La Marina del Prat Vermell', 27: 'La Salut', 28: 'El Raval', 29: \\\"El Camp de l'Arpa del Clot\\\", 30: 'Pedralbes', 31: 'Fort Pienc', 32: 'Sant Gervasi \\u2013 Galvany', 33: 'Sants', 34: 'Vilapicina i la Torre Llobeta', 35: 'El Carmel', 36: 'Can Peguera', 37: 'Ciutat Meridiana', 38: 'El Guinard\\u00f3', 39: \\\"Dreta de l'Eixample\\\", 40: 'Les Corts', 41: 'La Bordeta', 42: 'Porta', 43: 'Sarri\\u00e0', 44: 'El Putxet i el Farr\\u00f3', 45: 'Sant Antoni', 46: 'Navas', 47: 'Gothic Quarter', 48: 'La Marina de Port', 49: \\\"La Font d'en Fargues\\\", 50: \\\"Vall d'Hebron\\\", 51: 'Trinitat Vella'};\\n                                return labels[tick];\\n                                \"},\"id\":\"10914\",\"type\":\"FuncTickFormatter\"}],\"root_ids\":[\"10881\"]},\"title\":\"Bokeh Application\",\"version\":\"2.3.1\"}};\n",
       "  var render_items = [{\"docid\":\"4c95f3be-87c6-4c0a-8bc9-1017a900d69b\",\"root_ids\":[\"10881\"],\"roots\":{\"10881\":\"8df407d1-2bb2-4ef7-a70d-9f11169200fd\"}}];\n",
       "  root.Bokeh.embed.embed_items_notebook(docs_json, render_items);\n",
       "\n",
       "  }\n",
       "  if (root.Bokeh !== undefined) {\n",
       "    embed_document(root);\n",
       "  } else {\n",
       "    var attempts = 0;\n",
       "    var timer = setInterval(function(root) {\n",
       "      if (root.Bokeh !== undefined) {\n",
       "        clearInterval(timer);\n",
       "        embed_document(root);\n",
       "      } else {\n",
       "        attempts++;\n",
       "        if (attempts > 100) {\n",
       "          clearInterval(timer);\n",
       "          console.log(\"Bokeh: ERROR: Unable to run BokehJS code because BokehJS library is missing\");\n",
       "        }\n",
       "      }\n",
       "    }, 10, root)\n",
       "  }\n",
       "})(window);"
      ],
      "application/vnd.bokehjs_exec.v0+json": ""
     },
     "metadata": {
      "application/vnd.bokehjs_exec.v0+json": {
       "id": "10881"
      }
     },
     "output_type": "display_data"
    },
    {
     "data": {
      "text/html": [
       "<div style=\"display: table;\"><div style=\"display: table-row;\"><div style=\"display: table-cell;\"><b title=\"bokeh.plotting.figure.Figure\">Figure</b>(</div><div style=\"display: table-cell;\">id&nbsp;=&nbsp;'10881', <span id=\"11108\" style=\"cursor: pointer;\">&hellip;)</span></div></div><div class=\"11107\" style=\"display: none;\"><div style=\"display: table-cell;\"></div><div style=\"display: table-cell;\">above&nbsp;=&nbsp;[],</div></div><div class=\"11107\" style=\"display: none;\"><div style=\"display: table-cell;\"></div><div style=\"display: table-cell;\">align&nbsp;=&nbsp;'start',</div></div><div class=\"11107\" style=\"display: none;\"><div style=\"display: table-cell;\"></div><div style=\"display: table-cell;\">aspect_ratio&nbsp;=&nbsp;None,</div></div><div class=\"11107\" style=\"display: none;\"><div style=\"display: table-cell;\"></div><div style=\"display: table-cell;\">aspect_scale&nbsp;=&nbsp;1,</div></div><div class=\"11107\" style=\"display: none;\"><div style=\"display: table-cell;\"></div><div style=\"display: table-cell;\">background&nbsp;=&nbsp;None,</div></div><div class=\"11107\" style=\"display: none;\"><div style=\"display: table-cell;\"></div><div style=\"display: table-cell;\">background_fill_alpha&nbsp;=&nbsp;1.0,</div></div><div class=\"11107\" style=\"display: none;\"><div style=\"display: table-cell;\"></div><div style=\"display: table-cell;\">background_fill_color&nbsp;=&nbsp;'#ffffff',</div></div><div class=\"11107\" style=\"display: none;\"><div style=\"display: table-cell;\"></div><div style=\"display: table-cell;\">below&nbsp;=&nbsp;[LinearAxis(id='10892', ...)],</div></div><div class=\"11107\" style=\"display: none;\"><div style=\"display: table-cell;\"></div><div style=\"display: table-cell;\">border_fill_alpha&nbsp;=&nbsp;1.0,</div></div><div class=\"11107\" style=\"display: none;\"><div style=\"display: table-cell;\"></div><div style=\"display: table-cell;\">border_fill_color&nbsp;=&nbsp;'#ffffff',</div></div><div class=\"11107\" style=\"display: none;\"><div style=\"display: table-cell;\"></div><div style=\"display: table-cell;\">center&nbsp;=&nbsp;[Grid(id='10895', ...), Grid(id='10899', ...), Legend(id='10931', ...)],</div></div><div class=\"11107\" style=\"display: none;\"><div style=\"display: table-cell;\"></div><div style=\"display: table-cell;\">css_classes&nbsp;=&nbsp;[],</div></div><div class=\"11107\" style=\"display: none;\"><div style=\"display: table-cell;\"></div><div style=\"display: table-cell;\">disabled&nbsp;=&nbsp;False,</div></div><div class=\"11107\" style=\"display: none;\"><div style=\"display: table-cell;\"></div><div style=\"display: table-cell;\">extra_x_ranges&nbsp;=&nbsp;{},</div></div><div class=\"11107\" style=\"display: none;\"><div style=\"display: table-cell;\"></div><div style=\"display: table-cell;\">extra_y_ranges&nbsp;=&nbsp;{},</div></div><div class=\"11107\" style=\"display: none;\"><div style=\"display: table-cell;\"></div><div style=\"display: table-cell;\">frame_height&nbsp;=&nbsp;None,</div></div><div class=\"11107\" style=\"display: none;\"><div style=\"display: table-cell;\"></div><div style=\"display: table-cell;\">frame_width&nbsp;=&nbsp;None,</div></div><div class=\"11107\" style=\"display: none;\"><div style=\"display: table-cell;\"></div><div style=\"display: table-cell;\">height&nbsp;=&nbsp;400,</div></div><div class=\"11107\" style=\"display: none;\"><div style=\"display: table-cell;\"></div><div style=\"display: table-cell;\">height_policy&nbsp;=&nbsp;'auto',</div></div><div class=\"11107\" style=\"display: none;\"><div style=\"display: table-cell;\"></div><div style=\"display: table-cell;\">hidpi&nbsp;=&nbsp;True,</div></div><div class=\"11107\" style=\"display: none;\"><div style=\"display: table-cell;\"></div><div style=\"display: table-cell;\">inner_height&nbsp;=&nbsp;0,</div></div><div class=\"11107\" style=\"display: none;\"><div style=\"display: table-cell;\"></div><div style=\"display: table-cell;\">inner_width&nbsp;=&nbsp;0,</div></div><div class=\"11107\" style=\"display: none;\"><div style=\"display: table-cell;\"></div><div style=\"display: table-cell;\">js_event_callbacks&nbsp;=&nbsp;{},</div></div><div class=\"11107\" style=\"display: none;\"><div style=\"display: table-cell;\"></div><div style=\"display: table-cell;\">js_property_callbacks&nbsp;=&nbsp;{},</div></div><div class=\"11107\" style=\"display: none;\"><div style=\"display: table-cell;\"></div><div style=\"display: table-cell;\">left&nbsp;=&nbsp;[LinearAxis(id='10896', ...)],</div></div><div class=\"11107\" style=\"display: none;\"><div style=\"display: table-cell;\"></div><div style=\"display: table-cell;\">lod_factor&nbsp;=&nbsp;10,</div></div><div class=\"11107\" style=\"display: none;\"><div style=\"display: table-cell;\"></div><div style=\"display: table-cell;\">lod_interval&nbsp;=&nbsp;300,</div></div><div class=\"11107\" style=\"display: none;\"><div style=\"display: table-cell;\"></div><div style=\"display: table-cell;\">lod_threshold&nbsp;=&nbsp;2000,</div></div><div class=\"11107\" style=\"display: none;\"><div style=\"display: table-cell;\"></div><div style=\"display: table-cell;\">lod_timeout&nbsp;=&nbsp;500,</div></div><div class=\"11107\" style=\"display: none;\"><div style=\"display: table-cell;\"></div><div style=\"display: table-cell;\">margin&nbsp;=&nbsp;(0, 0, 0, 0),</div></div><div class=\"11107\" style=\"display: none;\"><div style=\"display: table-cell;\"></div><div style=\"display: table-cell;\">match_aspect&nbsp;=&nbsp;False,</div></div><div class=\"11107\" style=\"display: none;\"><div style=\"display: table-cell;\"></div><div style=\"display: table-cell;\">max_height&nbsp;=&nbsp;None,</div></div><div class=\"11107\" style=\"display: none;\"><div style=\"display: table-cell;\"></div><div style=\"display: table-cell;\">max_width&nbsp;=&nbsp;None,</div></div><div class=\"11107\" style=\"display: none;\"><div style=\"display: table-cell;\"></div><div style=\"display: table-cell;\">min_border&nbsp;=&nbsp;5,</div></div><div class=\"11107\" style=\"display: none;\"><div style=\"display: table-cell;\"></div><div style=\"display: table-cell;\">min_border_bottom&nbsp;=&nbsp;None,</div></div><div class=\"11107\" style=\"display: none;\"><div style=\"display: table-cell;\"></div><div style=\"display: table-cell;\">min_border_left&nbsp;=&nbsp;None,</div></div><div class=\"11107\" style=\"display: none;\"><div style=\"display: table-cell;\"></div><div style=\"display: table-cell;\">min_border_right&nbsp;=&nbsp;None,</div></div><div class=\"11107\" style=\"display: none;\"><div style=\"display: table-cell;\"></div><div style=\"display: table-cell;\">min_border_top&nbsp;=&nbsp;None,</div></div><div class=\"11107\" style=\"display: none;\"><div style=\"display: table-cell;\"></div><div style=\"display: table-cell;\">min_height&nbsp;=&nbsp;None,</div></div><div class=\"11107\" style=\"display: none;\"><div style=\"display: table-cell;\"></div><div style=\"display: table-cell;\">min_width&nbsp;=&nbsp;None,</div></div><div class=\"11107\" style=\"display: none;\"><div style=\"display: table-cell;\"></div><div style=\"display: table-cell;\">name&nbsp;=&nbsp;None,</div></div><div class=\"11107\" style=\"display: none;\"><div style=\"display: table-cell;\"></div><div style=\"display: table-cell;\">outer_height&nbsp;=&nbsp;0,</div></div><div class=\"11107\" style=\"display: none;\"><div style=\"display: table-cell;\"></div><div style=\"display: table-cell;\">outer_width&nbsp;=&nbsp;0,</div></div><div class=\"11107\" style=\"display: none;\"><div style=\"display: table-cell;\"></div><div style=\"display: table-cell;\">outline_line_alpha&nbsp;=&nbsp;1.0,</div></div><div class=\"11107\" style=\"display: none;\"><div style=\"display: table-cell;\"></div><div style=\"display: table-cell;\">outline_line_cap&nbsp;=&nbsp;'butt',</div></div><div class=\"11107\" style=\"display: none;\"><div style=\"display: table-cell;\"></div><div style=\"display: table-cell;\">outline_line_color&nbsp;=&nbsp;'#e5e5e5',</div></div><div class=\"11107\" style=\"display: none;\"><div style=\"display: table-cell;\"></div><div style=\"display: table-cell;\">outline_line_dash&nbsp;=&nbsp;[],</div></div><div class=\"11107\" style=\"display: none;\"><div style=\"display: table-cell;\"></div><div style=\"display: table-cell;\">outline_line_dash_offset&nbsp;=&nbsp;0,</div></div><div class=\"11107\" style=\"display: none;\"><div style=\"display: table-cell;\"></div><div style=\"display: table-cell;\">outline_line_join&nbsp;=&nbsp;'bevel',</div></div><div class=\"11107\" style=\"display: none;\"><div style=\"display: table-cell;\"></div><div style=\"display: table-cell;\">outline_line_width&nbsp;=&nbsp;1,</div></div><div class=\"11107\" style=\"display: none;\"><div style=\"display: table-cell;\"></div><div style=\"display: table-cell;\">output_backend&nbsp;=&nbsp;'webgl',</div></div><div class=\"11107\" style=\"display: none;\"><div style=\"display: table-cell;\"></div><div style=\"display: table-cell;\">renderers&nbsp;=&nbsp;[GlyphRenderer(id='10920', ...)],</div></div><div class=\"11107\" style=\"display: none;\"><div style=\"display: table-cell;\"></div><div style=\"display: table-cell;\">reset_policy&nbsp;=&nbsp;'standard',</div></div><div class=\"11107\" style=\"display: none;\"><div style=\"display: table-cell;\"></div><div style=\"display: table-cell;\">right&nbsp;=&nbsp;[],</div></div><div class=\"11107\" style=\"display: none;\"><div style=\"display: table-cell;\"></div><div style=\"display: table-cell;\">sizing_mode&nbsp;=&nbsp;'fixed',</div></div><div class=\"11107\" style=\"display: none;\"><div style=\"display: table-cell;\"></div><div style=\"display: table-cell;\">subscribed_events&nbsp;=&nbsp;[],</div></div><div class=\"11107\" style=\"display: none;\"><div style=\"display: table-cell;\"></div><div style=\"display: table-cell;\">syncable&nbsp;=&nbsp;True,</div></div><div class=\"11107\" style=\"display: none;\"><div style=\"display: table-cell;\"></div><div style=\"display: table-cell;\">tags&nbsp;=&nbsp;[],</div></div><div class=\"11107\" style=\"display: none;\"><div style=\"display: table-cell;\"></div><div style=\"display: table-cell;\">title&nbsp;=&nbsp;Title(id='10882', ...),</div></div><div class=\"11107\" style=\"display: none;\"><div style=\"display: table-cell;\"></div><div style=\"display: table-cell;\">title_location&nbsp;=&nbsp;'above',</div></div><div class=\"11107\" style=\"display: none;\"><div style=\"display: table-cell;\"></div><div style=\"display: table-cell;\">toolbar&nbsp;=&nbsp;Toolbar(id='10907', ...),</div></div><div class=\"11107\" style=\"display: none;\"><div style=\"display: table-cell;\"></div><div style=\"display: table-cell;\">toolbar_location&nbsp;=&nbsp;'right',</div></div><div class=\"11107\" style=\"display: none;\"><div style=\"display: table-cell;\"></div><div style=\"display: table-cell;\">toolbar_sticky&nbsp;=&nbsp;True,</div></div><div class=\"11107\" style=\"display: none;\"><div style=\"display: table-cell;\"></div><div style=\"display: table-cell;\">visible&nbsp;=&nbsp;True,</div></div><div class=\"11107\" style=\"display: none;\"><div style=\"display: table-cell;\"></div><div style=\"display: table-cell;\">width&nbsp;=&nbsp;600,</div></div><div class=\"11107\" style=\"display: none;\"><div style=\"display: table-cell;\"></div><div style=\"display: table-cell;\">width_policy&nbsp;=&nbsp;'auto',</div></div><div class=\"11107\" style=\"display: none;\"><div style=\"display: table-cell;\"></div><div style=\"display: table-cell;\">x_range&nbsp;=&nbsp;DataRange1d(id='10884', ...),</div></div><div class=\"11107\" style=\"display: none;\"><div style=\"display: table-cell;\"></div><div style=\"display: table-cell;\">x_scale&nbsp;=&nbsp;LinearScale(id='10888', ...),</div></div><div class=\"11107\" style=\"display: none;\"><div style=\"display: table-cell;\"></div><div style=\"display: table-cell;\">y_range&nbsp;=&nbsp;DataRange1d(id='10886', ...),</div></div><div class=\"11107\" style=\"display: none;\"><div style=\"display: table-cell;\"></div><div style=\"display: table-cell;\">y_scale&nbsp;=&nbsp;LinearScale(id='10890', ...))</div></div></div>\n",
       "<script>\n",
       "(function() {\n",
       "  var expanded = false;\n",
       "  var ellipsis = document.getElementById(\"11108\");\n",
       "  ellipsis.addEventListener(\"click\", function() {\n",
       "    var rows = document.getElementsByClassName(\"11107\");\n",
       "    for (var i = 0; i < rows.length; i++) {\n",
       "      var el = rows[i];\n",
       "      el.style.display = expanded ? \"none\" : \"table-row\";\n",
       "    }\n",
       "    ellipsis.innerHTML = expanded ? \"&hellip;)\" : \"&lsaquo;&lsaquo;&lsaquo;\";\n",
       "    expanded = !expanded;\n",
       "  });\n",
       "})();\n",
       "</script>\n"
      ],
      "text/plain": [
       "Figure(id='10881', ...)"
      ]
     },
     "execution_count": 72,
     "metadata": {},
     "output_type": "execute_result"
    }
   ],
   "source": [
    "d.plot_bokeh(title='Scatter plot of correlation between neighborhood and mean_price', kind= 'scatter', x=\"neighborhood\", y=\"mean_price\", disable_scientific_axes=\"y\")\n",
    "output_file('figure7.html')"
   ]
  },
  {
   "cell_type": "code",
   "execution_count": 73,
   "id": "cosmetic-maintenance",
   "metadata": {},
   "outputs": [
    {
     "data": {
      "text/html": [
       "\n",
       "\n",
       "\n",
       "\n",
       "\n",
       "\n",
       "  <div class=\"bk-root\" id=\"dbac7032-9628-4275-8d27-f8edbd70a218\" data-root-id=\"11146\"></div>\n"
      ]
     },
     "metadata": {},
     "output_type": "display_data"
    },
    {
     "data": {
      "application/javascript": [
       "(function(root) {\n",
       "  function embed_document(root) {\n",
       "    \n",
       "  var docs_json = {\"d7b7c691-705d-434d-9ed0-59f5a45742d6\":{\"defs\":[],\"roots\":{\"references\":[{\"attributes\":{\"below\":[{\"id\":\"11157\"}],\"center\":[{\"id\":\"11160\"},{\"id\":\"11164\"},{\"id\":\"11196\"}],\"height\":400,\"left\":[{\"id\":\"11161\"}],\"output_backend\":\"webgl\",\"renderers\":[{\"id\":\"11185\"}],\"sizing_mode\":\"fixed\",\"title\":{\"id\":\"11147\"},\"toolbar\":{\"id\":\"11172\"},\"x_range\":{\"id\":\"11149\"},\"x_scale\":{\"id\":\"11153\"},\"y_range\":{\"id\":\"11151\"},\"y_scale\":{\"id\":\"11155\"}},\"id\":\"11146\",\"subtype\":\"Figure\",\"type\":\"Plot\"},{\"attributes\":{\"fill_color\":{\"value\":\"#1f77b4\"},\"line_color\":{\"value\":\"#1f77b4\"},\"line_width\":{\"value\":2},\"top\":{\"field\":\"mean_price\"},\"width\":{\"value\":0.7},\"x\":{\"field\":\"__x__values\",\"transform\":{\"id\":\"11181\"}}},\"id\":\"11183\",\"type\":\"VBar\"},{\"attributes\":{\"axis_label\":\"neighborhood\",\"formatter\":{\"id\":\"11179\"},\"major_label_policy\":{\"id\":\"11189\"},\"ticker\":{\"id\":\"11200\"}},\"id\":\"11157\",\"type\":\"LinearAxis\"},{\"attributes\":{\"axis\":{\"id\":\"11157\"},\"ticker\":null},\"id\":\"11160\",\"type\":\"Grid\"},{\"attributes\":{},\"id\":\"11155\",\"type\":\"LinearScale\"},{\"attributes\":{\"code\":\"\\n                                    var labels = {0: 'La Prosperitat', 1: 'El Baix Guinard\\u00f3', 2: 'El Congr\\u00e9s i els Indians', 3: 'Sant Gen\\u00eds dels Agudells', 4: \\\"La Nova Esquerra de l'Eixample\\\", 5: \\\"L'Antiga Esquerra de l'Eixample\\\", 6: 'Les Roquetes', 7: 'La Trinitat Nova', 8: 'Horta Barcelona', 9: 'La Teixonera', 10: 'Vila de Gr\\u00e0cia', 11: 'La Maternitat i Sant Ramon', 12: \\\"Camp d'en Grassot i Gr\\u00e0cia Nova\\\", 13: 'el Coll', 14: 'Sants-Badal', 15: 'Hostafrancs', 16: 'Les Tres Torres', 17: 'El Poble-sec Barcelona', 18: 'Sant Gervasi \\u2013 la Bonanova', 19: 'Can Bar\\u00f3', 20: 'Verdun', 21: 'Vallcarca i els Penitents', 22: 'La Font de la Guatlla', 23: 'Sagrada Fam\\u00edlia', 24: 'Sant Andreu de Palomar', 25: 'Canyelles', 26: 'La Marina del Prat Vermell', 27: 'La Salut', 28: 'El Raval', 29: \\\"El Camp de l'Arpa del Clot\\\", 30: 'Pedralbes', 31: 'Fort Pienc', 32: 'Sant Gervasi \\u2013 Galvany', 33: 'Sants', 34: 'Vilapicina i la Torre Llobeta', 35: 'El Carmel', 36: 'Can Peguera', 37: 'Ciutat Meridiana', 38: 'El Guinard\\u00f3', 39: \\\"Dreta de l'Eixample\\\", 40: 'Les Corts', 41: 'La Bordeta', 42: 'Porta', 43: 'Sarri\\u00e0', 44: 'El Putxet i el Farr\\u00f3', 45: 'Sant Antoni', 46: 'Navas', 47: 'Gothic Quarter', 48: 'La Marina de Port', 49: \\\"La Font d'en Fargues\\\", 50: \\\"Vall d'Hebron\\\", 51: 'Trinitat Vella'};\\n                                    return labels[tick];\\n                                    \"},\"id\":\"11179\",\"type\":\"FuncTickFormatter\"},{\"attributes\":{\"active_multi\":null,\"active_scroll\":{\"id\":\"11166\"},\"tools\":[{\"id\":\"11165\"},{\"id\":\"11166\"},{\"id\":\"11167\"},{\"id\":\"11168\"},{\"id\":\"11169\"},{\"id\":\"11170\"},{\"id\":\"11198\"}]},\"id\":\"11172\",\"type\":\"Toolbar\"},{\"attributes\":{},\"id\":\"11168\",\"type\":\"SaveTool\"},{\"attributes\":{\"text\":\"Bar plot of correlation between neighborhood and mean_price\"},\"id\":\"11147\",\"type\":\"Title\"},{\"attributes\":{},\"id\":\"11162\",\"type\":\"BasicTicker\"},{\"attributes\":{},\"id\":\"11166\",\"type\":\"WheelZoomTool\"},{\"attributes\":{\"bottom_units\":\"screen\",\"fill_alpha\":0.5,\"fill_color\":\"lightgrey\",\"left_units\":\"screen\",\"level\":\"overlay\",\"line_alpha\":1.0,\"line_color\":\"black\",\"line_dash\":[4,4],\"line_width\":2,\"right_units\":\"screen\",\"syncable\":false,\"top_units\":\"screen\"},\"id\":\"11171\",\"type\":\"BoxAnnotation\"},{\"attributes\":{},\"id\":\"11195\",\"type\":\"UnionRenderers\"},{\"attributes\":{},\"id\":\"11194\",\"type\":\"Selection\"},{\"attributes\":{\"axis_label\":\"mean_price\",\"formatter\":{\"id\":\"11192\"},\"major_label_policy\":{\"id\":\"11191\"},\"ticker\":{\"id\":\"11162\"}},\"id\":\"11161\",\"type\":\"LinearAxis\"},{\"attributes\":{\"axis\":{\"id\":\"11161\"},\"dimension\":1,\"ticker\":null},\"id\":\"11164\",\"type\":\"Grid\"},{\"attributes\":{},\"id\":\"11170\",\"type\":\"HelpTool\"},{\"attributes\":{},\"id\":\"11169\",\"type\":\"ResetTool\"},{\"attributes\":{},\"id\":\"11165\",\"type\":\"PanTool\"},{\"attributes\":{\"callback\":null,\"mode\":\"vline\",\"renderers\":[{\"id\":\"11185\"}],\"tooltips\":[[\"neighborhood\",\"@__x__values_original\"],[\"mean_price\",\"@{mean_price}\"]]},\"id\":\"11198\",\"type\":\"HoverTool\"},{\"attributes\":{\"use_scientific\":false},\"id\":\"11192\",\"type\":\"BasicTickFormatter\"},{\"attributes\":{\"data_source\":{\"id\":\"11145\"},\"glyph\":{\"id\":\"11183\"},\"hover_glyph\":null,\"muted_glyph\":null,\"nonselection_glyph\":{\"id\":\"11184\"},\"view\":{\"id\":\"11186\"}},\"id\":\"11185\",\"type\":\"GlyphRenderer\"},{\"attributes\":{\"overlay\":{\"id\":\"11171\"}},\"id\":\"11167\",\"type\":\"BoxZoomTool\"},{\"attributes\":{},\"id\":\"11191\",\"type\":\"AllLabels\"},{\"attributes\":{\"label\":{\"value\":\" mean_price\"},\"renderers\":[{\"id\":\"11185\"}]},\"id\":\"11197\",\"type\":\"LegendItem\"},{\"attributes\":{},\"id\":\"11189\",\"type\":\"AllLabels\"},{\"attributes\":{\"fill_alpha\":{\"value\":0.1},\"fill_color\":{\"value\":\"#1f77b4\"},\"line_alpha\":{\"value\":0.1},\"line_color\":{\"value\":\"#1f77b4\"},\"line_width\":{\"value\":2},\"top\":{\"field\":\"mean_price\"},\"width\":{\"value\":0.7},\"x\":{\"field\":\"__x__values\",\"transform\":{\"id\":\"11181\"}}},\"id\":\"11184\",\"type\":\"VBar\"},{\"attributes\":{\"range\":{\"id\":\"11149\"}},\"id\":\"11181\",\"type\":\"Dodge\"},{\"attributes\":{},\"id\":\"11149\",\"type\":\"DataRange1d\"},{\"attributes\":{},\"id\":\"11153\",\"type\":\"LinearScale\"},{\"attributes\":{\"source\":{\"id\":\"11145\"}},\"id\":\"11186\",\"type\":\"CDSView\"},{\"attributes\":{\"data\":{\"__x__values\":[0,1,2,3,4,5,6,7,8,9,10,11,12,13,14,15,16,17,18,19,20,21,22,23,24,25,26,27,28,29,30,31,32,33,34,35,36,37,38,39,40,41,42,43,44,45,46,47,48,49,50,51],\"__x__values_original\":[\"La Prosperitat\",\"El Baix Guinard\\u00f3\",\"El Congr\\u00e9s i els Indians\",\"Sant Gen\\u00eds dels Agudells\",\"La Nova Esquerra de l'Eixample\",\"L'Antiga Esquerra de l'Eixample\",\"Les Roquetes\",\"La Trinitat Nova\",\"Horta Barcelona\",\"La Teixonera\",\"Vila de Gr\\u00e0cia\",\"La Maternitat i Sant Ramon\",\"Camp d'en Grassot i Gr\\u00e0cia Nova\",\"el Coll\",\"Sants-Badal\",\"Hostafrancs\",\"Les Tres Torres\",\"El Poble-sec Barcelona\",\"Sant Gervasi \\u2013 la Bonanova\",\"Can Bar\\u00f3\",\"Verdun\",\"Vallcarca i els Penitents\",\"La Font de la Guatlla\",\"Sagrada Fam\\u00edlia\",\"Sant Andreu de Palomar\",\"Canyelles\",\"La Marina del Prat Vermell\",\"La Salut\",\"El Raval\",\"El Camp de l'Arpa del Clot\",\"Pedralbes\",\"Fort Pienc\",\"Sant Gervasi \\u2013 Galvany\",\"Sants\",\"Vilapicina i la Torre Llobeta\",\"El Carmel\",\"Can Peguera\",\"Ciutat Meridiana\",\"El Guinard\\u00f3\",\"Dreta de l'Eixample\",\"Les Corts\",\"La Bordeta\",\"Porta\",\"Sarri\\u00e0\",\"El Putxet i el Farr\\u00f3\",\"Sant Antoni\",\"Navas\",\"Gothic Quarter\",\"La Marina de Port\",\"La Font d'en Fargues\",\"Vall d'Hebron\",\"Trinitat Vella\"],\"mean_price\":{\"__ndarray__\":\"AAAAAHBnBEHkOI7jWD0TQQAAAAAAiBNBGmG5p7ENE0FkLhGeyiIcQU1ZU9aqAyZBqqqqqqoiBkEAAAAAwGgDQUmSJEkKMxJBO7ETO9F1DEHXWmutRVIiQZze9KZ1LBhBb9u2bROcH0EAAAAAoCwQQRJ4+yEVhw9BAAAAAECMEUEAAAAAPk40QXTaQKfeRRFBg96pa1lOPEEAAAAABAoaQQAAAAAQMgNBT29601vKHUHUm970hioZQQAAAABgWhhBAAAAANiEFkEAAAAAgCsIQUmSJEn6GBRBAAAAAGgKGkEAAABY66MVQQAAAAAAiBNBip3YibWfQEEAAAAAgKIZQQfnY3B6wi9BlIxFNYx8E0EAAAAAQDASQaOLLroIqQlBqqqqqiq0DUEAAAAAIKD8QAAAAABwvhJBRhdd9MANMUFhcyDR3qoeQb8aE+mZTxBBAAAAAFANBkHLt3zLLws8QYfUBONN3SJBWIyE0sb1GkEAAAAAINwSQXM6yum0GSRBsHdMDYxFDUEAAAAAIFMUQVVVVVW1YBBBAAAAAPByAEE=\",\"dtype\":\"float64\",\"order\":\"little\",\"shape\":[52]}},\"selected\":{\"id\":\"11194\"},\"selection_policy\":{\"id\":\"11195\"}},\"id\":\"11145\",\"type\":\"ColumnDataSource\"},{\"attributes\":{},\"id\":\"11151\",\"type\":\"DataRange1d\"},{\"attributes\":{\"ticks\":[0,1,2,3,4,5,6,7,8,9,10,11,12,13,14,15,16,17,18,19,20,21,22,23,24,25,26,27,28,29,30,31,32,33,34,35,36,37,38,39,40,41,42,43,44,45,46,47,48,49,50,51]},\"id\":\"11200\",\"type\":\"FixedTicker\"},{\"attributes\":{\"click_policy\":\"hide\",\"items\":[{\"id\":\"11197\"}]},\"id\":\"11196\",\"type\":\"Legend\"}],\"root_ids\":[\"11146\"]},\"title\":\"Bokeh Application\",\"version\":\"2.3.1\"}};\n",
       "  var render_items = [{\"docid\":\"d7b7c691-705d-434d-9ed0-59f5a45742d6\",\"root_ids\":[\"11146\"],\"roots\":{\"11146\":\"dbac7032-9628-4275-8d27-f8edbd70a218\"}}];\n",
       "  root.Bokeh.embed.embed_items_notebook(docs_json, render_items);\n",
       "\n",
       "  }\n",
       "  if (root.Bokeh !== undefined) {\n",
       "    embed_document(root);\n",
       "  } else {\n",
       "    var attempts = 0;\n",
       "    var timer = setInterval(function(root) {\n",
       "      if (root.Bokeh !== undefined) {\n",
       "        clearInterval(timer);\n",
       "        embed_document(root);\n",
       "      } else {\n",
       "        attempts++;\n",
       "        if (attempts > 100) {\n",
       "          clearInterval(timer);\n",
       "          console.log(\"Bokeh: ERROR: Unable to run BokehJS code because BokehJS library is missing\");\n",
       "        }\n",
       "      }\n",
       "    }, 10, root)\n",
       "  }\n",
       "})(window);"
      ],
      "application/vnd.bokehjs_exec.v0+json": ""
     },
     "metadata": {
      "application/vnd.bokehjs_exec.v0+json": {
       "id": "11146"
      }
     },
     "output_type": "display_data"
    }
   ],
   "source": [
    "d.plot_bokeh(title='Bar plot of correlation between neighborhood and mean_price', kind=\"bar\", x='neighborhood', y='mean_price' , disable_scientific_axes=\"y\", hovertool = True)\n",
    "output_file('figure8.html')"
   ]
  },
  {
   "cell_type": "markdown",
   "id": "expanded-reminder",
   "metadata": {},
   "source": [
    "The following visualizations show the correlation between the sales price, and the rfd. "
   ]
  },
  {
   "cell_type": "code",
   "execution_count": 75,
   "id": "stuck-adoption",
   "metadata": {},
   "outputs": [
    {
     "data": {
      "text/html": [
       "\n",
       "\n",
       "\n",
       "\n",
       "\n",
       "\n",
       "  <div class=\"bk-root\" id=\"bf89b0b6-ed91-4af9-8de5-9cd2b3546cb0\" data-root-id=\"11622\"></div>\n"
      ]
     },
     "metadata": {},
     "output_type": "display_data"
    },
    {
     "data": {
      "application/javascript": [
       "(function(root) {\n",
       "  function embed_document(root) {\n",
       "    \n",
       "  var docs_json = {\"584a4bb1-38e6-45ac-876a-1a9067c0958b\":{\"defs\":[],\"roots\":{\"references\":[{\"attributes\":{\"below\":[{\"id\":\"11633\"}],\"center\":[{\"id\":\"11636\"},{\"id\":\"11640\"},{\"id\":\"11672\"}],\"height\":400,\"left\":[{\"id\":\"11637\"}],\"output_backend\":\"webgl\",\"renderers\":[{\"id\":\"11661\"}],\"sizing_mode\":\"fixed\",\"title\":{\"id\":\"11623\"},\"toolbar\":{\"id\":\"11648\"},\"x_range\":{\"id\":\"11625\"},\"x_scale\":{\"id\":\"11629\"},\"y_range\":{\"id\":\"11627\"},\"y_scale\":{\"id\":\"11631\"}},\"id\":\"11622\",\"subtype\":\"Figure\",\"type\":\"Plot\"},{\"attributes\":{\"axis_label\":\"neighborhood\",\"formatter\":{\"id\":\"11655\"},\"major_label_policy\":{\"id\":\"11665\"},\"ticker\":{\"id\":\"11676\"}},\"id\":\"11633\",\"type\":\"LinearAxis\"},{\"attributes\":{},\"id\":\"11646\",\"type\":\"HelpTool\"},{\"attributes\":{\"data\":{\"__x__values\":[0,1,2,3,4,5,6,7,8,9,10,11,12,13,14,15,16,17,18,19,20,21,22,23,24,25,26,27,28,29,30,31,32,33,34,35,36,37,38,39,40,41,42,43,44,45,46,47,48,49,50,51],\"__x__values_original\":[\"La Prosperitat\",\"El Baix Guinard\\u00f3\",\"El Congr\\u00e9s i els Indians\",\"Sant Gen\\u00eds dels Agudells\",\"La Nova Esquerra de l'Eixample\",\"L'Antiga Esquerra de l'Eixample\",\"Les Roquetes\",\"La Trinitat Nova\",\"Horta Barcelona\",\"La Teixonera\",\"Vila de Gr\\u00e0cia\",\"La Maternitat i Sant Ramon\",\"Camp d'en Grassot i Gr\\u00e0cia Nova\",\"el Coll\",\"Sants-Badal\",\"Hostafrancs\",\"Les Tres Torres\",\"El Poble-sec Barcelona\",\"Sant Gervasi \\u2013 la Bonanova\",\"Can Bar\\u00f3\",\"Verdun\",\"Vallcarca i els Penitents\",\"La Font de la Guatlla\",\"Sagrada Fam\\u00edlia\",\"Sant Andreu de Palomar\",\"Canyelles\",\"La Marina del Prat Vermell\",\"La Salut\",\"El Raval\",\"El Camp de l'Arpa del Clot\",\"Pedralbes\",\"Fort Pienc\",\"Sant Gervasi \\u2013 Galvany\",\"Sants\",\"Vilapicina i la Torre Llobeta\",\"El Carmel\",\"Can Peguera\",\"Ciutat Meridiana\",\"El Guinard\\u00f3\",\"Dreta de l'Eixample\",\"Les Corts\",\"La Bordeta\",\"Porta\",\"Sarri\\u00e0\",\"El Putxet i el Farr\\u00f3\",\"Sant Antoni\",\"Navas\",\"Gothic Quarter\",\"La Marina de Port\",\"La Font d'en Fargues\",\"Vall d'Hebron\",\"Trinitat Vella\"],\"y\":{\"__ndarray__\":\"AAAAAHBnBEHkOI7jWD0TQQAAAAAAiBNBGmG5p7ENE0FkLhGeyiIcQU1ZU9aqAyZBqqqqqqoiBkEAAAAAwGgDQUmSJEkKMxJBO7ETO9F1DEHXWmutRVIiQZze9KZ1LBhBb9u2bROcH0EAAAAAoCwQQRJ4+yEVhw9BAAAAAECMEUEAAAAAPk40QXTaQKfeRRFBg96pa1lOPEEAAAAABAoaQQAAAAAQMgNBT29601vKHUHUm970hioZQQAAAABgWhhBAAAAANiEFkEAAAAAgCsIQUmSJEn6GBRBAAAAAGgKGkEAAABY66MVQQAAAAAAiBNBip3YibWfQEEAAAAAgKIZQQfnY3B6wi9BlIxFNYx8E0EAAAAAQDASQaOLLroIqQlBqqqqqiq0DUEAAAAAIKD8QAAAAABwvhJBRhdd9MANMUFhcyDR3qoeQb8aE+mZTxBBAAAAAFANBkHLt3zLLws8QYfUBONN3SJBWIyE0sb1GkEAAAAAINwSQXM6yum0GSRBsHdMDYxFDUEAAAAAIFMUQVVVVVW1YBBBAAAAAPByAEE=\",\"dtype\":\"float64\",\"order\":\"little\",\"shape\":[52]}},\"selected\":{\"id\":\"11670\"},\"selection_policy\":{\"id\":\"11671\"}},\"id\":\"11657\",\"type\":\"ColumnDataSource\"},{\"attributes\":{},\"id\":\"11644\",\"type\":\"SaveTool\"},{\"attributes\":{},\"id\":\"11645\",\"type\":\"ResetTool\"},{\"attributes\":{},\"id\":\"11625\",\"type\":\"DataRange1d\"},{\"attributes\":{\"callback\":null,\"renderers\":[{\"id\":\"11661\"}],\"tooltips\":[[\"neighborhood\",\"@__x__values_original\"],[\"mean_price\",\"@y\"]]},\"id\":\"11674\",\"type\":\"HoverTool\"},{\"attributes\":{\"fill_alpha\":{\"value\":0.1},\"fill_color\":{\"value\":\"#1f77b4\"},\"line_alpha\":{\"value\":0.1},\"line_width\":{\"value\":2},\"size\":{\"value\":10},\"x\":{\"field\":\"__x__values\"},\"y\":{\"field\":\"y\"}},\"id\":\"11660\",\"type\":\"Scatter\"},{\"attributes\":{\"code\":\"\\n                                var labels = {0: 'La Prosperitat', 1: 'El Baix Guinard\\u00f3', 2: 'El Congr\\u00e9s i els Indians', 3: 'Sant Gen\\u00eds dels Agudells', 4: \\\"La Nova Esquerra de l'Eixample\\\", 5: \\\"L'Antiga Esquerra de l'Eixample\\\", 6: 'Les Roquetes', 7: 'La Trinitat Nova', 8: 'Horta Barcelona', 9: 'La Teixonera', 10: 'Vila de Gr\\u00e0cia', 11: 'La Maternitat i Sant Ramon', 12: \\\"Camp d'en Grassot i Gr\\u00e0cia Nova\\\", 13: 'el Coll', 14: 'Sants-Badal', 15: 'Hostafrancs', 16: 'Les Tres Torres', 17: 'El Poble-sec Barcelona', 18: 'Sant Gervasi \\u2013 la Bonanova', 19: 'Can Bar\\u00f3', 20: 'Verdun', 21: 'Vallcarca i els Penitents', 22: 'La Font de la Guatlla', 23: 'Sagrada Fam\\u00edlia', 24: 'Sant Andreu de Palomar', 25: 'Canyelles', 26: 'La Marina del Prat Vermell', 27: 'La Salut', 28: 'El Raval', 29: \\\"El Camp de l'Arpa del Clot\\\", 30: 'Pedralbes', 31: 'Fort Pienc', 32: 'Sant Gervasi \\u2013 Galvany', 33: 'Sants', 34: 'Vilapicina i la Torre Llobeta', 35: 'El Carmel', 36: 'Can Peguera', 37: 'Ciutat Meridiana', 38: 'El Guinard\\u00f3', 39: \\\"Dreta de l'Eixample\\\", 40: 'Les Corts', 41: 'La Bordeta', 42: 'Porta', 43: 'Sarri\\u00e0', 44: 'El Putxet i el Farr\\u00f3', 45: 'Sant Antoni', 46: 'Navas', 47: 'Gothic Quarter', 48: 'La Marina de Port', 49: \\\"La Font d'en Fargues\\\", 50: \\\"Vall d'Hebron\\\", 51: 'Trinitat Vella'};\\n                                return labels[tick];\\n                                \"},\"id\":\"11655\",\"type\":\"FuncTickFormatter\"},{\"attributes\":{\"data_source\":{\"id\":\"11657\"},\"glyph\":{\"id\":\"11659\"},\"hover_glyph\":null,\"muted_glyph\":null,\"nonselection_glyph\":{\"id\":\"11660\"},\"view\":{\"id\":\"11662\"}},\"id\":\"11661\",\"type\":\"GlyphRenderer\"},{\"attributes\":{\"fill_color\":{\"value\":\"#1f77b4\"},\"line_width\":{\"value\":2},\"size\":{\"value\":10},\"x\":{\"field\":\"__x__values\"},\"y\":{\"field\":\"y\"}},\"id\":\"11659\",\"type\":\"Scatter\"},{\"attributes\":{\"label\":{\"value\":\"Hide/Show\"},\"renderers\":[{\"id\":\"11661\"}]},\"id\":\"11673\",\"type\":\"LegendItem\"},{\"attributes\":{\"ticks\":[0,1,2,3,4,5,6,7,8,9,10,11,12,13,14,15,16,17,18,19,20,21,22,23,24,25,26,27,28,29,30,31,32,33,34,35,36,37,38,39,40,41,42,43,44,45,46,47,48,49,50,51]},\"id\":\"11676\",\"type\":\"FixedTicker\"},{\"attributes\":{},\"id\":\"11638\",\"type\":\"BasicTicker\"},{\"attributes\":{\"source\":{\"id\":\"11657\"}},\"id\":\"11662\",\"type\":\"CDSView\"},{\"attributes\":{\"overlay\":{\"id\":\"11647\"}},\"id\":\"11643\",\"type\":\"BoxZoomTool\"},{\"attributes\":{},\"id\":\"11665\",\"type\":\"AllLabels\"},{\"attributes\":{},\"id\":\"11670\",\"type\":\"Selection\"},{\"attributes\":{},\"id\":\"11671\",\"type\":\"UnionRenderers\"},{\"attributes\":{},\"id\":\"11642\",\"type\":\"WheelZoomTool\"},{\"attributes\":{\"items\":[{\"id\":\"11673\"}]},\"id\":\"11672\",\"type\":\"Legend\"},{\"attributes\":{\"axis\":{\"id\":\"11637\"},\"dimension\":1,\"ticker\":null},\"id\":\"11640\",\"type\":\"Grid\"},{\"attributes\":{\"bottom_units\":\"screen\",\"fill_alpha\":0.5,\"fill_color\":\"lightgrey\",\"left_units\":\"screen\",\"level\":\"overlay\",\"line_alpha\":1.0,\"line_color\":\"black\",\"line_dash\":[4,4],\"line_width\":2,\"right_units\":\"screen\",\"syncable\":false,\"top_units\":\"screen\"},\"id\":\"11647\",\"type\":\"BoxAnnotation\"},{\"attributes\":{},\"id\":\"11627\",\"type\":\"DataRange1d\"},{\"attributes\":{},\"id\":\"11631\",\"type\":\"LinearScale\"},{\"attributes\":{},\"id\":\"11629\",\"type\":\"LinearScale\"},{\"attributes\":{\"axis_label\":\"value\",\"formatter\":{\"id\":\"11668\"},\"major_label_policy\":{\"id\":\"11667\"},\"ticker\":{\"id\":\"11638\"}},\"id\":\"11637\",\"type\":\"LinearAxis\"},{\"attributes\":{\"axis\":{\"id\":\"11633\"},\"ticker\":null},\"id\":\"11636\",\"type\":\"Grid\"},{\"attributes\":{\"text\":\"kfhh\"},\"id\":\"11623\",\"type\":\"Title\"},{\"attributes\":{},\"id\":\"11641\",\"type\":\"PanTool\"},{\"attributes\":{\"active_multi\":null,\"active_scroll\":{\"id\":\"11642\"},\"tools\":[{\"id\":\"11641\"},{\"id\":\"11642\"},{\"id\":\"11643\"},{\"id\":\"11644\"},{\"id\":\"11645\"},{\"id\":\"11646\"},{\"id\":\"11674\"}]},\"id\":\"11648\",\"type\":\"Toolbar\"},{\"attributes\":{},\"id\":\"11667\",\"type\":\"AllLabels\"},{\"attributes\":{\"use_scientific\":false},\"id\":\"11668\",\"type\":\"BasicTickFormatter\"}],\"root_ids\":[\"11622\"]},\"title\":\"Bokeh Application\",\"version\":\"2.3.1\"}};\n",
       "  var render_items = [{\"docid\":\"584a4bb1-38e6-45ac-876a-1a9067c0958b\",\"root_ids\":[\"11622\"],\"roots\":{\"11622\":\"bf89b0b6-ed91-4af9-8de5-9cd2b3546cb0\"}}];\n",
       "  root.Bokeh.embed.embed_items_notebook(docs_json, render_items);\n",
       "\n",
       "  }\n",
       "  if (root.Bokeh !== undefined) {\n",
       "    embed_document(root);\n",
       "  } else {\n",
       "    var attempts = 0;\n",
       "    var timer = setInterval(function(root) {\n",
       "      if (root.Bokeh !== undefined) {\n",
       "        clearInterval(timer);\n",
       "        embed_document(root);\n",
       "      } else {\n",
       "        attempts++;\n",
       "        if (attempts > 100) {\n",
       "          clearInterval(timer);\n",
       "          console.log(\"Bokeh: ERROR: Unable to run BokehJS code because BokehJS library is missing\");\n",
       "        }\n",
       "      }\n",
       "    }, 10, root)\n",
       "  }\n",
       "})(window);"
      ],
      "application/vnd.bokehjs_exec.v0+json": ""
     },
     "metadata": {
      "application/vnd.bokehjs_exec.v0+json": {
       "id": "11622"
      }
     },
     "output_type": "display_data"
    }
   ],
   "source": [
    "\n",
    "d.plot_bokeh(kind= 'scatter',  stacked=True,normed=100, x=\"neighborhood\", colormap = ['yellow', 'blue'], title='kfhh', ylabel ='value', disable_scientific_axes=\"y\")\n",
    "output_file('figure9.html')"
   ]
  },
  {
   "cell_type": "code",
   "execution_count": 76,
   "id": "white-mounting",
   "metadata": {},
   "outputs": [],
   "source": [
    "df = pd.DataFrame({'neighborhood': d.neighborhood, 'mean_price': d.mean_price, 'rfd': d.rfd})\n",
    "output_file('figure10.html')"
   ]
  },
  {
   "cell_type": "code",
   "execution_count": 77,
   "id": "partial-sugar",
   "metadata": {},
   "outputs": [
    {
     "data": {
      "text/html": [
       "\n",
       "\n",
       "\n",
       "\n",
       "\n",
       "\n",
       "  <div class=\"bk-root\" id=\"2e6d5397-a8e9-4bc6-a0a9-3c87e31a343c\" data-root-id=\"11872\"></div>\n"
      ]
     },
     "metadata": {},
     "output_type": "display_data"
    },
    {
     "data": {
      "application/javascript": [
       "(function(root) {\n",
       "  function embed_document(root) {\n",
       "    \n",
       "  var docs_json = {\"0dc7b8d9-0ad6-4d82-a44e-3f22480f7552\":{\"defs\":[],\"roots\":{\"references\":[{\"attributes\":{\"below\":[{\"id\":\"11883\"}],\"center\":[{\"id\":\"11886\"},{\"id\":\"11890\"},{\"id\":\"11922\"}],\"height\":400,\"left\":[{\"id\":\"11887\"}],\"output_backend\":\"webgl\",\"renderers\":[{\"id\":\"11911\"}],\"sizing_mode\":\"fixed\",\"title\":{\"id\":\"11873\"},\"toolbar\":{\"id\":\"11898\"},\"x_range\":{\"id\":\"11875\"},\"x_scale\":{\"id\":\"11879\"},\"y_range\":{\"id\":\"11877\"},\"y_scale\":{\"id\":\"11881\"}},\"id\":\"11872\",\"subtype\":\"Figure\",\"type\":\"Plot\"},{\"attributes\":{\"fill_color\":{\"value\":\"#1f77b4\"},\"line_width\":{\"value\":2},\"size\":{\"value\":10},\"x\":{\"field\":\"__x__values\"},\"y\":{\"field\":\"y\"}},\"id\":\"11909\",\"type\":\"Scatter\"},{\"attributes\":{\"data_source\":{\"id\":\"11907\"},\"glyph\":{\"id\":\"11909\"},\"hover_glyph\":null,\"muted_glyph\":null,\"nonselection_glyph\":{\"id\":\"11910\"},\"view\":{\"id\":\"11912\"}},\"id\":\"11911\",\"type\":\"GlyphRenderer\"},{\"attributes\":{\"bottom_units\":\"screen\",\"fill_alpha\":0.5,\"fill_color\":\"lightgrey\",\"left_units\":\"screen\",\"level\":\"overlay\",\"line_alpha\":1.0,\"line_color\":\"black\",\"line_dash\":[4,4],\"line_width\":2,\"right_units\":\"screen\",\"syncable\":false,\"top_units\":\"screen\"},\"id\":\"11897\",\"type\":\"BoxAnnotation\"},{\"attributes\":{},\"id\":\"11917\",\"type\":\"AllLabels\"},{\"attributes\":{\"use_scientific\":false},\"id\":\"11918\",\"type\":\"BasicTickFormatter\"},{\"attributes\":{\"active_multi\":null,\"active_scroll\":{\"id\":\"11892\"},\"tools\":[{\"id\":\"11891\"},{\"id\":\"11892\"},{\"id\":\"11893\"},{\"id\":\"11894\"},{\"id\":\"11895\"},{\"id\":\"11896\"},{\"id\":\"11924\"}]},\"id\":\"11898\",\"type\":\"Toolbar\"},{\"attributes\":{},\"id\":\"11895\",\"type\":\"ResetTool\"},{\"attributes\":{},\"id\":\"11894\",\"type\":\"SaveTool\"},{\"attributes\":{\"overlay\":{\"id\":\"11897\"}},\"id\":\"11893\",\"type\":\"BoxZoomTool\"},{\"attributes\":{},\"id\":\"11891\",\"type\":\"PanTool\"},{\"attributes\":{},\"id\":\"11896\",\"type\":\"HelpTool\"},{\"attributes\":{},\"id\":\"11915\",\"type\":\"AllLabels\"},{\"attributes\":{},\"id\":\"11888\",\"type\":\"BasicTicker\"},{\"attributes\":{\"axis\":{\"id\":\"11887\"},\"dimension\":1,\"ticker\":null},\"id\":\"11890\",\"type\":\"Grid\"},{\"attributes\":{},\"id\":\"11892\",\"type\":\"WheelZoomTool\"},{\"attributes\":{\"axis\":{\"id\":\"11883\"},\"ticker\":null},\"id\":\"11886\",\"type\":\"Grid\"},{\"attributes\":{\"callback\":null,\"renderers\":[{\"id\":\"11911\"}],\"tooltips\":[[\"neighborhood\",\"@__x__values_original\"],[\"mean_price\",\"@y\"]]},\"id\":\"11924\",\"type\":\"HoverTool\"},{\"attributes\":{\"axis_label\":\"neighborhood\",\"formatter\":{\"id\":\"11905\"},\"major_label_policy\":{\"id\":\"11915\"},\"ticker\":{\"id\":\"11926\"}},\"id\":\"11883\",\"type\":\"LinearAxis\"},{\"attributes\":{\"data\":{\"__x__values\":[0,1,2,3,4,5,6,7,8,9,10,11,12,13,14,15,16,17,18,19,20,21,22,23,24,25,26,27,28,29,30,31,32,33,34,35,36,37,38,39,40,41,42,43,44,45,46,47,48,49,50,51],\"__x__values_original\":[\"La Prosperitat\",\"El Baix Guinard\\u00f3\",\"El Congr\\u00e9s i els Indians\",\"Sant Gen\\u00eds dels Agudells\",\"La Nova Esquerra de l'Eixample\",\"L'Antiga Esquerra de l'Eixample\",\"Les Roquetes\",\"La Trinitat Nova\",\"Horta Barcelona\",\"La Teixonera\",\"Vila de Gr\\u00e0cia\",\"La Maternitat i Sant Ramon\",\"Camp d'en Grassot i Gr\\u00e0cia Nova\",\"el Coll\",\"Sants-Badal\",\"Hostafrancs\",\"Les Tres Torres\",\"El Poble-sec Barcelona\",\"Sant Gervasi \\u2013 la Bonanova\",\"Can Bar\\u00f3\",\"Verdun\",\"Vallcarca i els Penitents\",\"La Font de la Guatlla\",\"Sagrada Fam\\u00edlia\",\"Sant Andreu de Palomar\",\"Canyelles\",\"La Marina del Prat Vermell\",\"La Salut\",\"El Raval\",\"El Camp de l'Arpa del Clot\",\"Pedralbes\",\"Fort Pienc\",\"Sant Gervasi \\u2013 Galvany\",\"Sants\",\"Vilapicina i la Torre Llobeta\",\"El Carmel\",\"Can Peguera\",\"Ciutat Meridiana\",\"El Guinard\\u00f3\",\"Dreta de l'Eixample\",\"Les Corts\",\"La Bordeta\",\"Porta\",\"Sarri\\u00e0\",\"El Putxet i el Farr\\u00f3\",\"Sant Antoni\",\"Navas\",\"Gothic Quarter\",\"La Marina de Port\",\"La Font d'en Fargues\",\"Vall d'Hebron\",\"Trinitat Vella\"],\"y\":{\"__ndarray__\":\"AAAAAHBnBEHkOI7jWD0TQQAAAAAAiBNBGmG5p7ENE0FkLhGeyiIcQU1ZU9aqAyZBqqqqqqoiBkEAAAAAwGgDQUmSJEkKMxJBO7ETO9F1DEHXWmutRVIiQZze9KZ1LBhBb9u2bROcH0EAAAAAoCwQQRJ4+yEVhw9BAAAAAECMEUEAAAAAPk40QXTaQKfeRRFBg96pa1lOPEEAAAAABAoaQQAAAAAQMgNBT29601vKHUHUm970hioZQQAAAABgWhhBAAAAANiEFkEAAAAAgCsIQUmSJEn6GBRBAAAAAGgKGkEAAABY66MVQQAAAAAAiBNBip3YibWfQEEAAAAAgKIZQQfnY3B6wi9BlIxFNYx8E0EAAAAAQDASQaOLLroIqQlBqqqqqiq0DUEAAAAAIKD8QAAAAABwvhJBRhdd9MANMUFhcyDR3qoeQb8aE+mZTxBBAAAAAFANBkHLt3zLLws8QYfUBONN3SJBWIyE0sb1GkEAAAAAINwSQXM6yum0GSRBsHdMDYxFDUEAAAAAIFMUQVVVVVW1YBBBAAAAAPByAEE=\",\"dtype\":\"float64\",\"order\":\"little\",\"shape\":[52]}},\"selected\":{\"id\":\"11920\"},\"selection_policy\":{\"id\":\"11921\"}},\"id\":\"11907\",\"type\":\"ColumnDataSource\"},{\"attributes\":{},\"id\":\"11881\",\"type\":\"LinearScale\"},{\"attributes\":{},\"id\":\"11877\",\"type\":\"DataRange1d\"},{\"attributes\":{\"text\":\"kfhh\"},\"id\":\"11873\",\"type\":\"Title\"},{\"attributes\":{},\"id\":\"11879\",\"type\":\"LinearScale\"},{\"attributes\":{\"fill_alpha\":{\"value\":0.1},\"fill_color\":{\"value\":\"#1f77b4\"},\"line_alpha\":{\"value\":0.1},\"line_width\":{\"value\":2},\"size\":{\"value\":10},\"x\":{\"field\":\"__x__values\"},\"y\":{\"field\":\"y\"}},\"id\":\"11910\",\"type\":\"Scatter\"},{\"attributes\":{\"axis_label\":\"value\",\"formatter\":{\"id\":\"11918\"},\"major_label_policy\":{\"id\":\"11917\"},\"ticker\":{\"id\":\"11888\"}},\"id\":\"11887\",\"type\":\"LinearAxis\"},{\"attributes\":{\"code\":\"\\n                                var labels = {0: 'La Prosperitat', 1: 'El Baix Guinard\\u00f3', 2: 'El Congr\\u00e9s i els Indians', 3: 'Sant Gen\\u00eds dels Agudells', 4: \\\"La Nova Esquerra de l'Eixample\\\", 5: \\\"L'Antiga Esquerra de l'Eixample\\\", 6: 'Les Roquetes', 7: 'La Trinitat Nova', 8: 'Horta Barcelona', 9: 'La Teixonera', 10: 'Vila de Gr\\u00e0cia', 11: 'La Maternitat i Sant Ramon', 12: \\\"Camp d'en Grassot i Gr\\u00e0cia Nova\\\", 13: 'el Coll', 14: 'Sants-Badal', 15: 'Hostafrancs', 16: 'Les Tres Torres', 17: 'El Poble-sec Barcelona', 18: 'Sant Gervasi \\u2013 la Bonanova', 19: 'Can Bar\\u00f3', 20: 'Verdun', 21: 'Vallcarca i els Penitents', 22: 'La Font de la Guatlla', 23: 'Sagrada Fam\\u00edlia', 24: 'Sant Andreu de Palomar', 25: 'Canyelles', 26: 'La Marina del Prat Vermell', 27: 'La Salut', 28: 'El Raval', 29: \\\"El Camp de l'Arpa del Clot\\\", 30: 'Pedralbes', 31: 'Fort Pienc', 32: 'Sant Gervasi \\u2013 Galvany', 33: 'Sants', 34: 'Vilapicina i la Torre Llobeta', 35: 'El Carmel', 36: 'Can Peguera', 37: 'Ciutat Meridiana', 38: 'El Guinard\\u00f3', 39: \\\"Dreta de l'Eixample\\\", 40: 'Les Corts', 41: 'La Bordeta', 42: 'Porta', 43: 'Sarri\\u00e0', 44: 'El Putxet i el Farr\\u00f3', 45: 'Sant Antoni', 46: 'Navas', 47: 'Gothic Quarter', 48: 'La Marina de Port', 49: \\\"La Font d'en Fargues\\\", 50: \\\"Vall d'Hebron\\\", 51: 'Trinitat Vella'};\\n                                return labels[tick];\\n                                \"},\"id\":\"11905\",\"type\":\"FuncTickFormatter\"},{\"attributes\":{},\"id\":\"11875\",\"type\":\"DataRange1d\"},{\"attributes\":{\"ticks\":[0,1,2,3,4,5,6,7,8,9,10,11,12,13,14,15,16,17,18,19,20,21,22,23,24,25,26,27,28,29,30,31,32,33,34,35,36,37,38,39,40,41,42,43,44,45,46,47,48,49,50,51]},\"id\":\"11926\",\"type\":\"FixedTicker\"},{\"attributes\":{\"label\":{\"value\":\"Hide/Show\"},\"renderers\":[{\"id\":\"11911\"}]},\"id\":\"11923\",\"type\":\"LegendItem\"},{\"attributes\":{\"source\":{\"id\":\"11907\"}},\"id\":\"11912\",\"type\":\"CDSView\"},{\"attributes\":{},\"id\":\"11920\",\"type\":\"Selection\"},{\"attributes\":{},\"id\":\"11921\",\"type\":\"UnionRenderers\"},{\"attributes\":{\"items\":[{\"id\":\"11923\"}]},\"id\":\"11922\",\"type\":\"Legend\"}],\"root_ids\":[\"11872\"]},\"title\":\"Bokeh Application\",\"version\":\"2.3.1\"}};\n",
       "  var render_items = [{\"docid\":\"0dc7b8d9-0ad6-4d82-a44e-3f22480f7552\",\"root_ids\":[\"11872\"],\"roots\":{\"11872\":\"2e6d5397-a8e9-4bc6-a0a9-3c87e31a343c\"}}];\n",
       "  root.Bokeh.embed.embed_items_notebook(docs_json, render_items);\n",
       "\n",
       "  }\n",
       "  if (root.Bokeh !== undefined) {\n",
       "    embed_document(root);\n",
       "  } else {\n",
       "    var attempts = 0;\n",
       "    var timer = setInterval(function(root) {\n",
       "      if (root.Bokeh !== undefined) {\n",
       "        clearInterval(timer);\n",
       "        embed_document(root);\n",
       "      } else {\n",
       "        attempts++;\n",
       "        if (attempts > 100) {\n",
       "          clearInterval(timer);\n",
       "          console.log(\"Bokeh: ERROR: Unable to run BokehJS code because BokehJS library is missing\");\n",
       "        }\n",
       "      }\n",
       "    }, 10, root)\n",
       "  }\n",
       "})(window);"
      ],
      "application/vnd.bokehjs_exec.v0+json": ""
     },
     "metadata": {
      "application/vnd.bokehjs_exec.v0+json": {
       "id": "11872"
      }
     },
     "output_type": "display_data"
    }
   ],
   "source": [
    "df.plot_bokeh(kind= 'scatter',  stacked=True,normed=100, x=\"neighborhood\", colormap = ['yellow', 'blue'], y= ['neighborhood', 'mean_price'], title='kfhh', ylabel ='value', disable_scientific_axes=\"y\")\n",
    "output_file('figure11.html')"
   ]
  },
  {
   "cell_type": "code",
   "execution_count": 78,
   "id": "micro-collect",
   "metadata": {},
   "outputs": [
    {
     "data": {
      "text/html": [
       "<div>\n",
       "<style scoped>\n",
       "    .dataframe tbody tr th:only-of-type {\n",
       "        vertical-align: middle;\n",
       "    }\n",
       "\n",
       "    .dataframe tbody tr th {\n",
       "        vertical-align: top;\n",
       "    }\n",
       "\n",
       "    .dataframe thead th {\n",
       "        text-align: right;\n",
       "    }\n",
       "</style>\n",
       "<table border=\"1\" class=\"dataframe\">\n",
       "  <thead>\n",
       "    <tr style=\"text-align: right;\">\n",
       "      <th></th>\n",
       "      <th>mean_price</th>\n",
       "      <th>rfd</th>\n",
       "    </tr>\n",
       "  </thead>\n",
       "  <tbody>\n",
       "    <tr>\n",
       "      <th>mean_price</th>\n",
       "      <td>1.000000</td>\n",
       "      <td>0.913799</td>\n",
       "    </tr>\n",
       "    <tr>\n",
       "      <th>rfd</th>\n",
       "      <td>0.913799</td>\n",
       "      <td>1.000000</td>\n",
       "    </tr>\n",
       "  </tbody>\n",
       "</table>\n",
       "</div>"
      ],
      "text/plain": [
       "            mean_price       rfd\n",
       "mean_price    1.000000  0.913799\n",
       "rfd           0.913799  1.000000"
      ]
     },
     "execution_count": 78,
     "metadata": {},
     "output_type": "execute_result"
    }
   ],
   "source": [
    "d.corr()"
   ]
  },
  {
   "cell_type": "code",
   "execution_count": 79,
   "id": "convenient-application",
   "metadata": {},
   "outputs": [
    {
     "data": {
      "image/png": "[encoded data removed]",
      "text/plain": [
       "<Figure size 432x288 with 2 Axes>"
      ]
     },
     "metadata": {
      "needs_background": "light"
     },
     "output_type": "display_data"
    }
   ],
   "source": [
    "import pandas as pd\n",
    "import seaborn as sn\n",
    "import matplotlib.pyplot as plt\n",
    "\n",
    "corrMatrix = d.corr()\n",
    "sn.heatmap(corrMatrix, annot=True)\n",
    "plt.show()"
   ]
  },
  {
   "cell_type": "code",
   "execution_count": 80,
   "id": "speaking-honey",
   "metadata": {},
   "outputs": [
    {
     "data": {
      "text/plain": [
       "0.913799359629383"
      ]
     },
     "execution_count": 80,
     "metadata": {},
     "output_type": "execute_result"
    }
   ],
   "source": [
    "d['mean_price'].corr(d['rfd']) #the correlation between sales price and family income per neighbourhood"
   ]
  },
  {
   "cell_type": "markdown",
   "id": "pediatric-holder",
   "metadata": {},
   "source": [
    "Based on KPI2 the correlation between the sales price per neighbourhood and family income is high, this the probability of a high family income in areas where the sales price is high.  "
   ]
  },
  {
   "cell_type": "markdown",
   "id": "mathematical-turning",
   "metadata": {},
   "source": [
    "## KPI3: Correlation between family members per listing and neighbourhood"
   ]
  },
  {
   "cell_type": "code",
   "execution_count": 81,
   "id": "vulnerable-summit",
   "metadata": {},
   "outputs": [
    {
     "data": {
      "text/html": [
       "\n",
       "    <div class=\"bk-root\">\n",
       "        <a href=\"https://bokeh.org\" target=\"_blank\" class=\"bk-logo bk-logo-small bk-logo-notebook\"></a>\n",
       "        <span id=\"12130\">Loading BokehJS ...</span>\n",
       "    </div>"
      ]
     },
     "metadata": {},
     "output_type": "display_data"
    },
    {
     "data": {
      "application/javascript": [
       "\n",
       "(function(root) {\n",
       "  function now() {\n",
       "    return new Date();\n",
       "  }\n",
       "\n",
       "  var force = true;\n",
       "\n",
       "  if (typeof root._bokeh_onload_callbacks === \"undefined\" || force === true) {\n",
       "    root._bokeh_onload_callbacks = [];\n",
       "    root._bokeh_is_loading = undefined;\n",
       "  }\n",
       "\n",
       "  var JS_MIME_TYPE = 'application/javascript';\n",
       "  var HTML_MIME_TYPE = 'text/html';\n",
       "  var EXEC_MIME_TYPE = 'application/vnd.bokehjs_exec.v0+json';\n",
       "  var CLASS_NAME = 'output_bokeh rendered_html';\n",
       "\n",
       "  /**\n",
       "   * Render data to the DOM node\n",
       "   */\n",
       "  function render(props, node) {\n",
       "    var script = document.createElement(\"script\");\n",
       "    node.appendChild(script);\n",
       "  }\n",
       "\n",
       "  /**\n",
       "   * Handle when an output is cleared or removed\n",
       "   */\n",
       "  function handleClearOutput(event, handle) {\n",
       "    var cell = handle.cell;\n",
       "\n",
       "    var id = cell.output_area._bokeh_element_id;\n",
       "    var server_id = cell.output_area._bokeh_server_id;\n",
       "    // Clean up Bokeh references\n",
       "    if (id != null && id in Bokeh.index) {\n",
       "      Bokeh.index[id].model.document.clear();\n",
       "      delete Bokeh.index[id];\n",
       "    }\n",
       "\n",
       "    if (server_id !== undefined) {\n",
       "      // Clean up Bokeh references\n",
       "      var cmd = \"from bokeh.io.state import curstate; print(curstate().uuid_to_server['\" + server_id + \"'].get_sessions()[0].document.roots[0]._id)\";\n",
       "      cell.notebook.kernel.execute(cmd, {\n",
       "        iopub: {\n",
       "          output: function(msg) {\n",
       "            var id = msg.content.text.trim();\n",
       "            if (id in Bokeh.index) {\n",
       "              Bokeh.index[id].model.document.clear();\n",
       "              delete Bokeh.index[id];\n",
       "            }\n",
       "          }\n",
       "        }\n",
       "      });\n",
       "      // Destroy server and session\n",
       "      var cmd = \"import bokeh.io.notebook as ion; ion.destroy_server('\" + server_id + \"')\";\n",
       "      cell.notebook.kernel.execute(cmd);\n",
       "    }\n",
       "  }\n",
       "\n",
       "  /**\n",
       "   * Handle when a new output is added\n",
       "   */\n",
       "  function handleAddOutput(event, handle) {\n",
       "    var output_area = handle.output_area;\n",
       "    var output = handle.output;\n",
       "\n",
       "    // limit handleAddOutput to display_data with EXEC_MIME_TYPE content only\n",
       "    if ((output.output_type != \"display_data\") || (!Object.prototype.hasOwnProperty.call(output.data, EXEC_MIME_TYPE))) {\n",
       "      return\n",
       "    }\n",
       "\n",
       "    var toinsert = output_area.element.find(\".\" + CLASS_NAME.split(' ')[0]);\n",
       "\n",
       "    if (output.metadata[EXEC_MIME_TYPE][\"id\"] !== undefined) {\n",
       "      toinsert[toinsert.length - 1].firstChild.textContent = output.data[JS_MIME_TYPE];\n",
       "      // store reference to embed id on output_area\n",
       "      output_area._bokeh_element_id = output.metadata[EXEC_MIME_TYPE][\"id\"];\n",
       "    }\n",
       "    if (output.metadata[EXEC_MIME_TYPE][\"server_id\"] !== undefined) {\n",
       "      var bk_div = document.createElement(\"div\");\n",
       "      bk_div.innerHTML = output.data[HTML_MIME_TYPE];\n",
       "      var script_attrs = bk_div.children[0].attributes;\n",
       "      for (var i = 0; i < script_attrs.length; i++) {\n",
       "        toinsert[toinsert.length - 1].firstChild.setAttribute(script_attrs[i].name, script_attrs[i].value);\n",
       "        toinsert[toinsert.length - 1].firstChild.textContent = bk_div.children[0].textContent\n",
       "      }\n",
       "      // store reference to server id on output_area\n",
       "      output_area._bokeh_server_id = output.metadata[EXEC_MIME_TYPE][\"server_id\"];\n",
       "    }\n",
       "  }\n",
       "\n",
       "  function register_renderer(events, OutputArea) {\n",
       "\n",
       "    function append_mime(data, metadata, element) {\n",
       "      // create a DOM node to render to\n",
       "      var toinsert = this.create_output_subarea(\n",
       "        metadata,\n",
       "        CLASS_NAME,\n",
       "        EXEC_MIME_TYPE\n",
       "      );\n",
       "      this.keyboard_manager.register_events(toinsert);\n",
       "      // Render to node\n",
       "      var props = {data: data, metadata: metadata[EXEC_MIME_TYPE]};\n",
       "      render(props, toinsert[toinsert.length - 1]);\n",
       "      element.append(toinsert);\n",
       "      return toinsert\n",
       "    }\n",
       "\n",
       "    /* Handle when an output is cleared or removed */\n",
       "    events.on('clear_output.CodeCell', handleClearOutput);\n",
       "    events.on('delete.Cell', handleClearOutput);\n",
       "\n",
       "    /* Handle when a new output is added */\n",
       "    events.on('output_added.OutputArea', handleAddOutput);\n",
       "\n",
       "    /**\n",
       "     * Register the mime type and append_mime function with output_area\n",
       "     */\n",
       "    OutputArea.prototype.register_mime_type(EXEC_MIME_TYPE, append_mime, {\n",
       "      /* Is output safe? */\n",
       "      safe: true,\n",
       "      /* Index of renderer in `output_area.display_order` */\n",
       "      index: 0\n",
       "    });\n",
       "  }\n",
       "\n",
       "  // register the mime type if in Jupyter Notebook environment and previously unregistered\n",
       "  if (root.Jupyter !== undefined) {\n",
       "    var events = require('base/js/events');\n",
       "    var OutputArea = require('notebook/js/outputarea').OutputArea;\n",
       "\n",
       "    if (OutputArea.prototype.mime_types().indexOf(EXEC_MIME_TYPE) == -1) {\n",
       "      register_renderer(events, OutputArea);\n",
       "    }\n",
       "  }\n",
       "\n",
       "  \n",
       "  if (typeof (root._bokeh_timeout) === \"undefined\" || force === true) {\n",
       "    root._bokeh_timeout = Date.now() + 5000;\n",
       "    root._bokeh_failed_load = false;\n",
       "  }\n",
       "\n",
       "  var NB_LOAD_WARNING = {'data': {'text/html':\n",
       "     \"<div style='background-color: #fdd'>\\n\"+\n",
       "     \"<p>\\n\"+\n",
       "     \"BokehJS does not appear to have successfully loaded. If loading BokehJS from CDN, this \\n\"+\n",
       "     \"may be due to a slow or bad network connection. Possible fixes:\\n\"+\n",
       "     \"</p>\\n\"+\n",
       "     \"<ul>\\n\"+\n",
       "     \"<li>re-rerun `output_notebook()` to attempt to load from CDN again, or</li>\\n\"+\n",
       "     \"<li>use INLINE resources instead, as so:</li>\\n\"+\n",
       "     \"</ul>\\n\"+\n",
       "     \"<code>\\n\"+\n",
       "     \"from bokeh.resources import INLINE\\n\"+\n",
       "     \"output_notebook(resources=INLINE)\\n\"+\n",
       "     \"</code>\\n\"+\n",
       "     \"</div>\"}};\n",
       "\n",
       "  function display_loaded() {\n",
       "    var el = document.getElementById(\"12130\");\n",
       "    if (el != null) {\n",
       "      el.textContent = \"BokehJS is loading...\";\n",
       "    }\n",
       "    if (root.Bokeh !== undefined) {\n",
       "      if (el != null) {\n",
       "        el.textContent = \"BokehJS \" + root.Bokeh.version + \" successfully loaded.\";\n",
       "      }\n",
       "    } else if (Date.now() < root._bokeh_timeout) {\n",
       "      setTimeout(display_loaded, 100)\n",
       "    }\n",
       "  }\n",
       "\n",
       "\n",
       "  function run_callbacks() {\n",
       "    try {\n",
       "      root._bokeh_onload_callbacks.forEach(function(callback) {\n",
       "        if (callback != null)\n",
       "          callback();\n",
       "      });\n",
       "    } finally {\n",
       "      delete root._bokeh_onload_callbacks\n",
       "    }\n",
       "    console.debug(\"Bokeh: all callbacks have finished\");\n",
       "  }\n",
       "\n",
       "  function load_libs(css_urls, js_urls, callback) {\n",
       "    if (css_urls == null) css_urls = [];\n",
       "    if (js_urls == null) js_urls = [];\n",
       "\n",
       "    root._bokeh_onload_callbacks.push(callback);\n",
       "    if (root._bokeh_is_loading > 0) {\n",
       "      console.debug(\"Bokeh: BokehJS is being loaded, scheduling callback at\", now());\n",
       "      return null;\n",
       "    }\n",
       "    if (js_urls == null || js_urls.length === 0) {\n",
       "      run_callbacks();\n",
       "      return null;\n",
       "    }\n",
       "    console.debug(\"Bokeh: BokehJS not loaded, scheduling load and callback at\", now());\n",
       "    root._bokeh_is_loading = css_urls.length + js_urls.length;\n",
       "\n",
       "    function on_load() {\n",
       "      root._bokeh_is_loading--;\n",
       "      if (root._bokeh_is_loading === 0) {\n",
       "        console.debug(\"Bokeh: all BokehJS libraries/stylesheets loaded\");\n",
       "        run_callbacks()\n",
       "      }\n",
       "    }\n",
       "\n",
       "    function on_error(url) {\n",
       "      console.error(\"failed to load \" + url);\n",
       "    }\n",
       "\n",
       "    for (let i = 0; i < css_urls.length; i++) {\n",
       "      const url = css_urls[i];\n",
       "      const element = document.createElement(\"link\");\n",
       "      element.onload = on_load;\n",
       "      element.onerror = on_error.bind(null, url);\n",
       "      element.rel = \"stylesheet\";\n",
       "      element.type = \"text/css\";\n",
       "      element.href = url;\n",
       "      console.debug(\"Bokeh: injecting link tag for BokehJS stylesheet: \", url);\n",
       "      document.body.appendChild(element);\n",
       "    }\n",
       "\n",
       "    const hashes = {\"https://cdn.bokeh.org/bokeh/release/bokeh-2.3.1.min.js\": \"YF85VygJKMVnHE+lLv2AM93Vbstr0yo2TbIu5v8se5Rq3UQAUmcuh4aaJwNlpKwa\", \"https://cdn.bokeh.org/bokeh/release/bokeh-widgets-2.3.1.min.js\": \"KKuas3gevv3PvrlkyCMzffFeaMq5we/a2QsP5AUoS3mJ0jmaCL7jirFJN3GoE/lM\", \"https://cdn.bokeh.org/bokeh/release/bokeh-tables-2.3.1.min.js\": \"MK/uFc3YT18pkvvXRl66tTHjP0/dxoSH2e/eiNMFIguKlun2+WVqaPTWmUy/zvh4\"};\n",
       "\n",
       "    for (let i = 0; i < js_urls.length; i++) {\n",
       "      const url = js_urls[i];\n",
       "      const element = document.createElement('script');\n",
       "      element.onload = on_load;\n",
       "      element.onerror = on_error.bind(null, url);\n",
       "      element.async = false;\n",
       "      element.src = url;\n",
       "      if (url in hashes) {\n",
       "        element.crossOrigin = \"anonymous\";\n",
       "        element.integrity = \"sha384-\" + hashes[url];\n",
       "      }\n",
       "      console.debug(\"Bokeh: injecting script tag for BokehJS library: \", url);\n",
       "      document.head.appendChild(element);\n",
       "    }\n",
       "  };\n",
       "\n",
       "  function inject_raw_css(css) {\n",
       "    const element = document.createElement(\"style\");\n",
       "    element.appendChild(document.createTextNode(css));\n",
       "    document.body.appendChild(element);\n",
       "  }\n",
       "\n",
       "  \n",
       "  var js_urls = [\"https://cdn.bokeh.org/bokeh/release/bokeh-2.3.1.min.js\", \"https://cdn.bokeh.org/bokeh/release/bokeh-widgets-2.3.1.min.js\", \"https://cdn.bokeh.org/bokeh/release/bokeh-tables-2.3.1.min.js\"];\n",
       "  var css_urls = [];\n",
       "  \n",
       "\n",
       "  var inline_js = [\n",
       "    function(Bokeh) {\n",
       "      Bokeh.set_log_level(\"info\");\n",
       "    },\n",
       "    function(Bokeh) {\n",
       "    \n",
       "    \n",
       "    }\n",
       "  ];\n",
       "\n",
       "  function run_inline_js() {\n",
       "    \n",
       "    if (root.Bokeh !== undefined || force === true) {\n",
       "      \n",
       "    for (var i = 0; i < inline_js.length; i++) {\n",
       "      inline_js[i].call(root, root.Bokeh);\n",
       "    }\n",
       "    if (force === true) {\n",
       "        display_loaded();\n",
       "      }} else if (Date.now() < root._bokeh_timeout) {\n",
       "      setTimeout(run_inline_js, 100);\n",
       "    } else if (!root._bokeh_failed_load) {\n",
       "      console.log(\"Bokeh: BokehJS failed to load within specified timeout.\");\n",
       "      root._bokeh_failed_load = true;\n",
       "    } else if (force !== true) {\n",
       "      var cell = $(document.getElementById(\"12130\")).parents('.cell').data().cell;\n",
       "      cell.output_area.append_execute_result(NB_LOAD_WARNING)\n",
       "    }\n",
       "\n",
       "  }\n",
       "\n",
       "  if (root._bokeh_is_loading === 0) {\n",
       "    console.debug(\"Bokeh: BokehJS loaded, going straight to plotting\");\n",
       "    run_inline_js();\n",
       "  } else {\n",
       "    load_libs(css_urls, js_urls, function() {\n",
       "      console.debug(\"Bokeh: BokehJS plotting callback run at\", now());\n",
       "      run_inline_js();\n",
       "    });\n",
       "  }\n",
       "}(window));"
      ],
      "application/vnd.bokehjs_load.v0+json": "\n(function(root) {\n  function now() {\n    return new Date();\n  }\n\n  var force = true;\n\n  if (typeof root._bokeh_onload_callbacks === \"undefined\" || force === true) {\n    root._bokeh_onload_callbacks = [];\n    root._bokeh_is_loading = undefined;\n  }\n\n  \n\n  \n  if (typeof (root._bokeh_timeout) === \"undefined\" || force === true) {\n    root._bokeh_timeout = Date.now() + 5000;\n    root._bokeh_failed_load = false;\n  }\n\n  var NB_LOAD_WARNING = {'data': {'text/html':\n     \"<div style='background-color: #fdd'>\\n\"+\n     \"<p>\\n\"+\n     \"BokehJS does not appear to have successfully loaded. If loading BokehJS from CDN, this \\n\"+\n     \"may be due to a slow or bad network connection. Possible fixes:\\n\"+\n     \"</p>\\n\"+\n     \"<ul>\\n\"+\n     \"<li>re-rerun `output_notebook()` to attempt to load from CDN again, or</li>\\n\"+\n     \"<li>use INLINE resources instead, as so:</li>\\n\"+\n     \"</ul>\\n\"+\n     \"<code>\\n\"+\n     \"from bokeh.resources import INLINE\\n\"+\n     \"output_notebook(resources=INLINE)\\n\"+\n     \"</code>\\n\"+\n     \"</div>\"}};\n\n  function display_loaded() {\n    var el = document.getElementById(\"12130\");\n    if (el != null) {\n      el.textContent = \"BokehJS is loading...\";\n    }\n    if (root.Bokeh !== undefined) {\n      if (el != null) {\n        el.textContent = \"BokehJS \" + root.Bokeh.version + \" successfully loaded.\";\n      }\n    } else if (Date.now() < root._bokeh_timeout) {\n      setTimeout(display_loaded, 100)\n    }\n  }\n\n\n  function run_callbacks() {\n    try {\n      root._bokeh_onload_callbacks.forEach(function(callback) {\n        if (callback != null)\n          callback();\n      });\n    } finally {\n      delete root._bokeh_onload_callbacks\n    }\n    console.debug(\"Bokeh: all callbacks have finished\");\n  }\n\n  function load_libs(css_urls, js_urls, callback) {\n    if (css_urls == null) css_urls = [];\n    if (js_urls == null) js_urls = [];\n\n    root._bokeh_onload_callbacks.push(callback);\n    if (root._bokeh_is_loading > 0) {\n      console.debug(\"Bokeh: BokehJS is being loaded, scheduling callback at\", now());\n      return null;\n    }\n    if (js_urls == null || js_urls.length === 0) {\n      run_callbacks();\n      return null;\n    }\n    console.debug(\"Bokeh: BokehJS not loaded, scheduling load and callback at\", now());\n    root._bokeh_is_loading = css_urls.length + js_urls.length;\n\n    function on_load() {\n      root._bokeh_is_loading--;\n      if (root._bokeh_is_loading === 0) {\n        console.debug(\"Bokeh: all BokehJS libraries/stylesheets loaded\");\n        run_callbacks()\n      }\n    }\n\n    function on_error(url) {\n      console.error(\"failed to load \" + url);\n    }\n\n    for (let i = 0; i < css_urls.length; i++) {\n      const url = css_urls[i];\n      const element = document.createElement(\"link\");\n      element.onload = on_load;\n      element.onerror = on_error.bind(null, url);\n      element.rel = \"stylesheet\";\n      element.type = \"text/css\";\n      element.href = url;\n      console.debug(\"Bokeh: injecting link tag for BokehJS stylesheet: \", url);\n      document.body.appendChild(element);\n    }\n\n    const hashes = {\"https://cdn.bokeh.org/bokeh/release/bokeh-2.3.1.min.js\": \"YF85VygJKMVnHE+lLv2AM93Vbstr0yo2TbIu5v8se5Rq3UQAUmcuh4aaJwNlpKwa\", \"https://cdn.bokeh.org/bokeh/release/bokeh-widgets-2.3.1.min.js\": \"KKuas3gevv3PvrlkyCMzffFeaMq5we/a2QsP5AUoS3mJ0jmaCL7jirFJN3GoE/lM\", \"https://cdn.bokeh.org/bokeh/release/bokeh-tables-2.3.1.min.js\": \"MK/uFc3YT18pkvvXRl66tTHjP0/dxoSH2e/eiNMFIguKlun2+WVqaPTWmUy/zvh4\"};\n\n    for (let i = 0; i < js_urls.length; i++) {\n      const url = js_urls[i];\n      const element = document.createElement('script');\n      element.onload = on_load;\n      element.onerror = on_error.bind(null, url);\n      element.async = false;\n      element.src = url;\n      if (url in hashes) {\n        element.crossOrigin = \"anonymous\";\n        element.integrity = \"sha384-\" + hashes[url];\n      }\n      console.debug(\"Bokeh: injecting script tag for BokehJS library: \", url);\n      document.head.appendChild(element);\n    }\n  };\n\n  function inject_raw_css(css) {\n    const element = document.createElement(\"style\");\n    element.appendChild(document.createTextNode(css));\n    document.body.appendChild(element);\n  }\n\n  \n  var js_urls = [\"https://cdn.bokeh.org/bokeh/release/bokeh-2.3.1.min.js\", \"https://cdn.bokeh.org/bokeh/release/bokeh-widgets-2.3.1.min.js\", \"https://cdn.bokeh.org/bokeh/release/bokeh-tables-2.3.1.min.js\"];\n  var css_urls = [];\n  \n\n  var inline_js = [\n    function(Bokeh) {\n      Bokeh.set_log_level(\"info\");\n    },\n    function(Bokeh) {\n    \n    \n    }\n  ];\n\n  function run_inline_js() {\n    \n    if (root.Bokeh !== undefined || force === true) {\n      \n    for (var i = 0; i < inline_js.length; i++) {\n      inline_js[i].call(root, root.Bokeh);\n    }\n    if (force === true) {\n        display_loaded();\n      }} else if (Date.now() < root._bokeh_timeout) {\n      setTimeout(run_inline_js, 100);\n    } else if (!root._bokeh_failed_load) {\n      console.log(\"Bokeh: BokehJS failed to load within specified timeout.\");\n      root._bokeh_failed_load = true;\n    } else if (force !== true) {\n      var cell = $(document.getElementById(\"12130\")).parents('.cell').data().cell;\n      cell.output_area.append_execute_result(NB_LOAD_WARNING)\n    }\n\n  }\n\n  if (root._bokeh_is_loading === 0) {\n    console.debug(\"Bokeh: BokehJS loaded, going straight to plotting\");\n    run_inline_js();\n  } else {\n    load_libs(css_urls, js_urls, function() {\n      console.debug(\"Bokeh: BokehJS plotting callback run at\", now());\n      run_inline_js();\n    });\n  }\n}(window));"
     },
     "metadata": {},
     "output_type": "display_data"
    }
   ],
   "source": [
    "#import numpy \n",
    "import numpy as np\n",
    "#import panda\n",
    "import pandas as pd\n",
    "from pandas import read_csv\n",
    "#import bokeh\n",
    "import bokeh\n",
    "from bokeh.plotting import figure, output_file, show\n",
    "from bokeh.models import ColumnDataSource, HoverTool, CDSView, ColumnDataSource, GroupFilter\n",
    "from bokeh.models.tools import HoverTool\n",
    "\n",
    "#imports from pandas_bokeh \n",
    "import pandas_bokeh\n",
    "#making sure the plot is visible in the notebook\n",
    "pandas_bokeh.output_notebook()"
   ]
  },
  {
   "cell_type": "code",
   "execution_count": 82,
   "id": "polish-patrol",
   "metadata": {},
   "outputs": [
    {
     "data": {
      "text/html": [
       "<div>\n",
       "<style scoped>\n",
       "    .dataframe tbody tr th:only-of-type {\n",
       "        vertical-align: middle;\n",
       "    }\n",
       "\n",
       "    .dataframe tbody tr th {\n",
       "        vertical-align: top;\n",
       "    }\n",
       "\n",
       "    .dataframe thead th {\n",
       "        text-align: right;\n",
       "    }\n",
       "</style>\n",
       "<table border=\"1\" class=\"dataframe\">\n",
       "  <thead>\n",
       "    <tr style=\"text-align: right;\">\n",
       "      <th></th>\n",
       "      <th>neighborhood</th>\n",
       "      <th>inhabitants_family</th>\n",
       "      <th>rfd</th>\n",
       "    </tr>\n",
       "  </thead>\n",
       "  <tbody>\n",
       "    <tr>\n",
       "      <th>0</th>\n",
       "      <td>La Barceloneta Barcelona</td>\n",
       "      <td>2.16</td>\n",
       "      <td>79.6</td>\n",
       "    </tr>\n",
       "    <tr>\n",
       "      <th>1</th>\n",
       "      <td>Fort Pienc</td>\n",
       "      <td>2.60</td>\n",
       "      <td>106.5</td>\n",
       "    </tr>\n",
       "    <tr>\n",
       "      <th>2</th>\n",
       "      <td>Sagrada Familia</td>\n",
       "      <td>2.38</td>\n",
       "      <td>101.8</td>\n",
       "    </tr>\n",
       "    <tr>\n",
       "      <th>3</th>\n",
       "      <td>L'Antiga Esquerra de l'Eixample</td>\n",
       "      <td>2.38</td>\n",
       "      <td>137.2</td>\n",
       "    </tr>\n",
       "    <tr>\n",
       "      <th>4</th>\n",
       "      <td>Hostafrancs</td>\n",
       "      <td>2.42</td>\n",
       "      <td>99.0</td>\n",
       "    </tr>\n",
       "  </tbody>\n",
       "</table>\n",
       "</div>"
      ],
      "text/plain": [
       "                      neighborhood  inhabitants_family    rfd\n",
       "0         La Barceloneta Barcelona                2.16   79.6\n",
       "1                       Fort Pienc                2.60  106.5\n",
       "2                  Sagrada Familia                2.38  101.8\n",
       "3  L'Antiga Esquerra de l'Eixample                2.38  137.2\n",
       "4                      Hostafrancs                2.42   99.0"
      ]
     },
     "execution_count": 82,
     "metadata": {},
     "output_type": "execute_result"
    }
   ],
   "source": [
    "#import the csv file \n",
    "\n",
    "dat = pd.read_csv('KPI3.csv', header=0, delimiter=';')\n",
    "dat.head() #tabular visualization of the dataset "
   ]
  },
  {
   "cell_type": "code",
   "execution_count": 83,
   "id": "hungry-palmer",
   "metadata": {},
   "outputs": [
    {
     "data": {
      "text/html": [
       "\n",
       "\n",
       "\n",
       "\n",
       "\n",
       "\n",
       "  <div class=\"bk-root\" id=\"b4a5c74a-e1ef-45a9-bafd-1994c5f34932\" data-root-id=\"12131\"></div>\n"
      ]
     },
     "metadata": {},
     "output_type": "display_data"
    },
    {
     "data": {
      "application/javascript": [
       "(function(root) {\n",
       "  function embed_document(root) {\n",
       "    \n",
       "  var docs_json = {\"5d953ac6-41e4-40ba-ae60-e1ea500b5c2c\":{\"defs\":[],\"roots\":{\"references\":[{\"attributes\":{\"below\":[{\"id\":\"12142\"}],\"center\":[{\"id\":\"12145\"},{\"id\":\"12149\"},{\"id\":\"12181\"}],\"height\":400,\"left\":[{\"id\":\"12146\"}],\"output_backend\":\"webgl\",\"renderers\":[{\"id\":\"12170\"}],\"sizing_mode\":\"fixed\",\"title\":{\"id\":\"12132\"},\"toolbar\":{\"id\":\"12157\"},\"x_range\":{\"id\":\"12134\"},\"x_scale\":{\"id\":\"12138\"},\"y_range\":{\"id\":\"12136\"},\"y_scale\":{\"id\":\"12140\"}},\"id\":\"12131\",\"subtype\":\"Figure\",\"type\":\"Plot\"},{\"attributes\":{},\"id\":\"12179\",\"type\":\"Selection\"},{\"attributes\":{},\"id\":\"12174\",\"type\":\"AllLabels\"},{\"attributes\":{\"fill_alpha\":{\"value\":0.1},\"fill_color\":{\"value\":\"#1f77b4\"},\"line_alpha\":{\"value\":0.1},\"line_width\":{\"value\":2},\"size\":{\"value\":10},\"x\":{\"field\":\"__x__values\"},\"y\":{\"field\":\"y\"}},\"id\":\"12169\",\"type\":\"Scatter\"},{\"attributes\":{},\"id\":\"12180\",\"type\":\"UnionRenderers\"},{\"attributes\":{\"code\":\"\\n                                var labels = {0: 'La Barceloneta Barcelona', 1: 'Fort Pienc', 2: 'Sagrada Familia', 3: \\\"L'Antiga Esquerra de l'Eixample\\\", 4: 'Hostafrancs', 5: 'Sants-Badal', 6: 'Sarri\\u00e0', 7: 'El Putxet i el Farr\\u00f3', 8: 'El Baix Guinard\\u00f3', 9: 'Montbau', 10: \\\"Vall d'Hebron\\\", 11: 'Canyelles', 12: 'Verdun', 13: 'Torre Bar\\u00f3', 14: 'Bon Pastor', 15: 'Navas', 16: \\\"El Camp de l'Arpa del Clot\\\", 17: 'El Poblenou', 18: \\\"Dreta de l'Eixample\\\", 19: 'Sant Gervasi \\u2013 la Bonanova', 20: 'Vila de Gr\\u00e0cia', 21: 'El Guinard\\u00f3', 22: \\\"La Font d'en Fargues\\\", 23: 'El Congr\\u00e9s i els Indians', 24: 'El Clot', 25: 'La Marina del Prat Vermell', 26: 'La Marina de Port', 27: 'La Maternitat i Sant Ramon', 28: 'Sant Gervasi \\u2013 Galvany', 29: 'La Prosperitat', 30: 'La Trinitat Nova', 31: 'La Vila Ol\\u00edmpica del Poblenou', 32: \\\"La Nova Esquerra de l'Eixample\\\", 33: 'Sant Antoni', 34: 'La Bordeta', 35: 'Sants', 36: 'El Tur\\u00f3 de la Peira', 37: 'Les Roquetes', 38: 'Bar\\u00f3 de Viver', 39: 'Sant Andreu de Palomar', 40: 'Sant Mart\\u00ed de Proven\\u00e7als', 41: 'Les Corts', 42: 'Les Tres Torres', 43: 'Vallcarca i els Penitents', 44: 'Sant Gen\\u00eds dels Agudells', 45: 'Horta Barcelona', 46: 'Vilapicina i la Torre Llobeta', 47: 'Can Peguera', 48: 'La Guineueta', 49: 'Vallbona', 50: 'La Font de la Guatlla', 51: 'La Clota', 52: \\\"Camp d'en Grassot i Gr\\u00e0cia Nova\\\", 53: 'El Carmel', 54: 'La Teixonera', 55: 'La Verneda i la Pau', 56: 'El Raval', 57: 'Gothic Quarter', 58: 'El Poble-sec Barcelona', 59: 'Pedralbes', 60: 'el Coll', 61: 'La Salut', 62: 'Can Bar\\u00f3', 63: 'Porta', 64: 'Ciutat Meridiana', 65: 'Trinitat Vella', 66: 'La Sagrera', 67: 'El Parc i la Llacuna del Poblenou', 68: 'Diagonal Mar i el Front Mar\\u00edtim del Poblenou', 69: 'El Bes\\u00f2s i el Maresme', 70: 'Proven\\u00e7als del Poblenou'};\\n                                return labels[tick];\\n                                \"},\"id\":\"12164\",\"type\":\"FuncTickFormatter\"},{\"attributes\":{\"label\":{\"value\":\"Hide/Show\"},\"renderers\":[{\"id\":\"12170\"}]},\"id\":\"12182\",\"type\":\"LegendItem\"},{\"attributes\":{\"data_source\":{\"id\":\"12166\"},\"glyph\":{\"id\":\"12168\"},\"hover_glyph\":null,\"muted_glyph\":null,\"nonselection_glyph\":{\"id\":\"12169\"},\"view\":{\"id\":\"12171\"}},\"id\":\"12170\",\"type\":\"GlyphRenderer\"},{\"attributes\":{\"fill_color\":{\"value\":\"#1f77b4\"},\"line_width\":{\"value\":2},\"size\":{\"value\":10},\"x\":{\"field\":\"__x__values\"},\"y\":{\"field\":\"y\"}},\"id\":\"12168\",\"type\":\"Scatter\"},{\"attributes\":{},\"id\":\"12176\",\"type\":\"AllLabels\"},{\"attributes\":{},\"id\":\"12155\",\"type\":\"HelpTool\"},{\"attributes\":{},\"id\":\"12177\",\"type\":\"BasicTickFormatter\"},{\"attributes\":{\"axis_label\":\"neighborhood\",\"formatter\":{\"id\":\"12164\"},\"major_label_policy\":{\"id\":\"12174\"},\"ticker\":{\"id\":\"12185\"}},\"id\":\"12142\",\"type\":\"LinearAxis\"},{\"attributes\":{\"axis_label\":\"inhabitants_family\",\"formatter\":{\"id\":\"12177\"},\"major_label_policy\":{\"id\":\"12176\"},\"ticker\":{\"id\":\"12147\"}},\"id\":\"12146\",\"type\":\"LinearAxis\"},{\"attributes\":{\"overlay\":{\"id\":\"12156\"}},\"id\":\"12152\",\"type\":\"BoxZoomTool\"},{\"attributes\":{\"text\":\"Scatter plot of correlation between neighborhood and inhabitants_family\"},\"id\":\"12132\",\"type\":\"Title\"},{\"attributes\":{\"source\":{\"id\":\"12166\"}},\"id\":\"12171\",\"type\":\"CDSView\"},{\"attributes\":{},\"id\":\"12138\",\"type\":\"LinearScale\"},{\"attributes\":{\"click_policy\":\"hide\",\"items\":[{\"id\":\"12182\"}]},\"id\":\"12181\",\"type\":\"Legend\"},{\"attributes\":{\"data\":{\"__x__values\":[0,1,2,3,4,5,6,7,8,9,10,11,12,13,14,15,16,17,18,19,20,21,22,23,24,25,26,27,28,29,30,31,32,33,34,35,36,37,38,39,40,41,42,43,44,45,46,47,48,49,50,51,52,53,54,55,56,57,58,59,60,61,62,63,64,65,66,67,68,69,70],\"__x__values_original\":[\"La Barceloneta Barcelona\",\"Fort Pienc\",\"Sagrada Familia\",\"L'Antiga Esquerra de l'Eixample\",\"Hostafrancs\",\"Sants-Badal\",\"Sarri\\u00e0\",\"El Putxet i el Farr\\u00f3\",\"El Baix Guinard\\u00f3\",\"Montbau\",\"Vall d'Hebron\",\"Canyelles\",\"Verdun\",\"Torre Bar\\u00f3\",\"Bon Pastor\",\"Navas\",\"El Camp de l'Arpa del Clot\",\"El Poblenou\",\"Dreta de l'Eixample\",\"Sant Gervasi \\u2013 la Bonanova\",\"Vila de Gr\\u00e0cia\",\"El Guinard\\u00f3\",\"La Font d'en Fargues\",\"El Congr\\u00e9s i els Indians\",\"El Clot\",\"La Marina del Prat Vermell\",\"La Marina de Port\",\"La Maternitat i Sant Ramon\",\"Sant Gervasi \\u2013 Galvany\",\"La Prosperitat\",\"La Trinitat Nova\",\"La Vila Ol\\u00edmpica del Poblenou\",\"La Nova Esquerra de l'Eixample\",\"Sant Antoni\",\"La Bordeta\",\"Sants\",\"El Tur\\u00f3 de la Peira\",\"Les Roquetes\",\"Bar\\u00f3 de Viver\",\"Sant Andreu de Palomar\",\"Sant Mart\\u00ed de Proven\\u00e7als\",\"Les Corts\",\"Les Tres Torres\",\"Vallcarca i els Penitents\",\"Sant Gen\\u00eds dels Agudells\",\"Horta Barcelona\",\"Vilapicina i la Torre Llobeta\",\"Can Peguera\",\"La Guineueta\",\"Vallbona\",\"La Font de la Guatlla\",\"La Clota\",\"Camp d'en Grassot i Gr\\u00e0cia Nova\",\"El Carmel\",\"La Teixonera\",\"La Verneda i la Pau\",\"El Raval\",\"Gothic Quarter\",\"El Poble-sec Barcelona\",\"Pedralbes\",\"el Coll\",\"La Salut\",\"Can Bar\\u00f3\",\"Porta\",\"Ciutat Meridiana\",\"Trinitat Vella\",\"La Sagrera\",\"El Parc i la Llacuna del Poblenou\",\"Diagonal Mar i el Front Mar\\u00edtim del Poblenou\",\"El Bes\\u00f2s i el Maresme\",\"Proven\\u00e7als del Poblenou\"],\"y\":{\"__ndarray__\":\"SOF6FK5HAUDNzMzMzMwEQArXo3A9CgNACtejcD0KA0Bcj8L1KFwDQNejcD0K1wNAzczMzMzMBkCamZmZmZkDQDMzMzMzMwNAhetRuB6FA0DXo3A9CtcDQJqZmZmZmQNA7FG4HoXrA0AUrkfhehQIQFK4HoXrUQhAw/UoXI/CA0AK16NwPQoDQAAAAAAAAARAH4XrUbgeA0ApXI/C9SgGQNejcD0K1wFASOF6FK5HA0A9CtejcD0EQK5H4XoUrgNAFK5H4XoUBEDsUbgehesDQOF6FK5H4QRAw/UoXI/CA0BmZmZmZmYEQOxRuB6F6wNA4XoUrkfhBEAzMzMzMzMFQPYoXI/C9QJAH4XrUbgeA0DXo3A9CtcDQFK4HoXrUQRAexSuR+F6BEDD9Shcj8IFQB+F61G4HgVAhetRuB6FA0CuR+F6FK4DQIXrUbgehQNAw/UoXI/CB0CamZmZmZkDQClcj8L1KARAMzMzMzMzBUDD9Shcj8IDQDMzMzMzMwNAw/UoXI/CA0BI4XoUrkcHQHE9CtejcANAAAAAAAAABEDhehSuR+ECQBSuR+F6FARAhetRuB6FA0AUrkfhehQEQD0K16NwPQZAPQrXo3A9CkApXI/C9SgEQLgehetRuAZASOF6FK5HA0CuR+F6FK4DQB+F61G4HgNAmpmZmZmZBUCuR+F6FK4HQIXrUbgehQdA7FG4HoXrA0DD9Shcj8IDQClcj8L1KARAZmZmZmZmCEB7FK5H4XoEQA==\",\"dtype\":\"float64\",\"order\":\"little\",\"shape\":[71]}},\"selected\":{\"id\":\"12179\"},\"selection_policy\":{\"id\":\"12180\"}},\"id\":\"12166\",\"type\":\"ColumnDataSource\"},{\"attributes\":{},\"id\":\"12147\",\"type\":\"BasicTicker\"},{\"attributes\":{},\"id\":\"12154\",\"type\":\"ResetTool\"},{\"attributes\":{},\"id\":\"12140\",\"type\":\"LinearScale\"},{\"attributes\":{},\"id\":\"12136\",\"type\":\"DataRange1d\"},{\"attributes\":{\"axis\":{\"id\":\"12142\"},\"ticker\":null},\"id\":\"12145\",\"type\":\"Grid\"},{\"attributes\":{\"callback\":null,\"renderers\":[{\"id\":\"12170\"}],\"tooltips\":[[\"neighborhood\",\"@__x__values_original\"],[\"inhabitants_family\",\"@y\"]]},\"id\":\"12183\",\"type\":\"HoverTool\"},{\"attributes\":{\"axis\":{\"id\":\"12146\"},\"dimension\":1,\"ticker\":null},\"id\":\"12149\",\"type\":\"Grid\"},{\"attributes\":{\"bottom_units\":\"screen\",\"fill_alpha\":0.5,\"fill_color\":\"lightgrey\",\"left_units\":\"screen\",\"level\":\"overlay\",\"line_alpha\":1.0,\"line_color\":\"black\",\"line_dash\":[4,4],\"line_width\":2,\"right_units\":\"screen\",\"syncable\":false,\"top_units\":\"screen\"},\"id\":\"12156\",\"type\":\"BoxAnnotation\"},{\"attributes\":{},\"id\":\"12151\",\"type\":\"WheelZoomTool\"},{\"attributes\":{},\"id\":\"12150\",\"type\":\"PanTool\"},{\"attributes\":{},\"id\":\"12134\",\"type\":\"DataRange1d\"},{\"attributes\":{\"active_multi\":null,\"active_scroll\":{\"id\":\"12151\"},\"tools\":[{\"id\":\"12150\"},{\"id\":\"12151\"},{\"id\":\"12152\"},{\"id\":\"12153\"},{\"id\":\"12154\"},{\"id\":\"12155\"},{\"id\":\"12183\"}]},\"id\":\"12157\",\"type\":\"Toolbar\"},{\"attributes\":{},\"id\":\"12153\",\"type\":\"SaveTool\"},{\"attributes\":{\"ticks\":[0,1,2,3,4,5,6,7,8,9,10,11,12,13,14,15,16,17,18,19,20,21,22,23,24,25,26,27,28,29,30,31,32,33,34,35,36,37,38,39,40,41,42,43,44,45,46,47,48,49,50,51,52,53,54,55,56,57,58,59,60,61,62,63,64,65,66,67,68,69,70]},\"id\":\"12185\",\"type\":\"FixedTicker\"}],\"root_ids\":[\"12131\"]},\"title\":\"Bokeh Application\",\"version\":\"2.3.1\"}};\n",
       "  var render_items = [{\"docid\":\"5d953ac6-41e4-40ba-ae60-e1ea500b5c2c\",\"root_ids\":[\"12131\"],\"roots\":{\"12131\":\"b4a5c74a-e1ef-45a9-bafd-1994c5f34932\"}}];\n",
       "  root.Bokeh.embed.embed_items_notebook(docs_json, render_items);\n",
       "\n",
       "  }\n",
       "  if (root.Bokeh !== undefined) {\n",
       "    embed_document(root);\n",
       "  } else {\n",
       "    var attempts = 0;\n",
       "    var timer = setInterval(function(root) {\n",
       "      if (root.Bokeh !== undefined) {\n",
       "        clearInterval(timer);\n",
       "        embed_document(root);\n",
       "      } else {\n",
       "        attempts++;\n",
       "        if (attempts > 100) {\n",
       "          clearInterval(timer);\n",
       "          console.log(\"Bokeh: ERROR: Unable to run BokehJS code because BokehJS library is missing\");\n",
       "        }\n",
       "      }\n",
       "    }, 10, root)\n",
       "  }\n",
       "})(window);"
      ],
      "application/vnd.bokehjs_exec.v0+json": ""
     },
     "metadata": {
      "application/vnd.bokehjs_exec.v0+json": {
       "id": "12131"
      }
     },
     "output_type": "display_data"
    }
   ],
   "source": [
    "dat.plot_bokeh(title='Scatter plot of correlation between neighborhood and inhabitants_family', kind='scatter', x = 'neighborhood', y = 'inhabitants_family')  #scatter visualization of the RFD \n",
    "output_file('figure12.html')"
   ]
  },
  {
   "cell_type": "code",
   "execution_count": 25,
   "id": "surrounded-advisory",
   "metadata": {},
   "outputs": [
    {
     "data": {
      "text/html": [
       "\n",
       "\n",
       "\n",
       "\n",
       "\n",
       "\n",
       "  <div class=\"bk-root\" id=\"2c97093e-df80-4a57-9096-fc10bf623ef7\" data-root-id=\"2781\"></div>\n"
      ]
     },
     "metadata": {},
     "output_type": "display_data"
    },
    {
     "data": {
      "application/javascript": [
       "(function(root) {\n",
       "  function embed_document(root) {\n",
       "    \n",
       "  var docs_json = {\"0e06a7f9-34e7-43b0-855b-3a7151cd4900\":{\"defs\":[],\"roots\":{\"references\":[{\"attributes\":{\"below\":[{\"id\":\"2792\"}],\"center\":[{\"id\":\"2795\"},{\"id\":\"2799\"},{\"id\":\"2831\"}],\"height\":400,\"left\":[{\"id\":\"2796\"}],\"output_backend\":\"webgl\",\"renderers\":[{\"id\":\"2820\"}],\"sizing_mode\":\"fixed\",\"title\":{\"id\":\"2782\"},\"toolbar\":{\"id\":\"2807\"},\"x_range\":{\"id\":\"2784\"},\"x_scale\":{\"id\":\"2788\"},\"y_range\":{\"id\":\"2786\"},\"y_scale\":{\"id\":\"2790\"}},\"id\":\"2781\",\"subtype\":\"Figure\",\"type\":\"Plot\"},{\"attributes\":{},\"id\":\"2824\",\"type\":\"AllLabels\"},{\"attributes\":{\"ticks\":[0,1,2,3,4,5,6,7,8,9,10,11,12,13,14,15,16,17,18,19,20,21,22,23,24,25,26,27,28,29,30,31,32,33,34,35,36,37,38,39,40,41,42,43,44,45,46,47,48,49,50,51,52,53,54,55,56,57,58,59,60,61,62,63,64,65,66,67,68,69,70]},\"id\":\"2835\",\"type\":\"FixedTicker\"},{\"attributes\":{},\"id\":\"2830\",\"type\":\"UnionRenderers\"},{\"attributes\":{\"text\":\"Bar plot of correlation between neighborhood and rfd\"},\"id\":\"2782\",\"type\":\"Title\"},{\"attributes\":{},\"id\":\"2790\",\"type\":\"LinearScale\"},{\"attributes\":{\"bottom_units\":\"screen\",\"fill_alpha\":0.5,\"fill_color\":\"lightgrey\",\"left_units\":\"screen\",\"level\":\"overlay\",\"line_alpha\":1.0,\"line_color\":\"black\",\"line_dash\":[4,4],\"line_width\":2,\"right_units\":\"screen\",\"syncable\":false,\"top_units\":\"screen\"},\"id\":\"2806\",\"type\":\"BoxAnnotation\"},{\"attributes\":{},\"id\":\"2788\",\"type\":\"LinearScale\"},{\"attributes\":{},\"id\":\"2801\",\"type\":\"WheelZoomTool\"},{\"attributes\":{\"fill_color\":{\"value\":\"#1f77b4\"},\"line_color\":{\"value\":\"#1f77b4\"},\"line_width\":{\"value\":2},\"top\":{\"field\":\"inhabitants_family\"},\"width\":{\"value\":0.7},\"x\":{\"field\":\"__x__values\",\"transform\":{\"id\":\"2816\"}}},\"id\":\"2818\",\"type\":\"VBar\"},{\"attributes\":{\"axis_label\":\"neighborhood\",\"formatter\":{\"id\":\"2814\"},\"major_label_policy\":{\"id\":\"2824\"},\"ticker\":{\"id\":\"2835\"}},\"id\":\"2792\",\"type\":\"LinearAxis\"},{\"attributes\":{\"axis\":{\"id\":\"2796\"},\"dimension\":1,\"ticker\":null},\"id\":\"2799\",\"type\":\"Grid\"},{\"attributes\":{\"axis\":{\"id\":\"2792\"},\"ticker\":null},\"id\":\"2795\",\"type\":\"Grid\"},{\"attributes\":{\"axis_label\":\"inhabitants_family\",\"formatter\":{\"id\":\"2827\"},\"major_label_policy\":{\"id\":\"2826\"},\"ticker\":{\"id\":\"2797\"}},\"id\":\"2796\",\"type\":\"LinearAxis\"},{\"attributes\":{},\"id\":\"2826\",\"type\":\"AllLabels\"},{\"attributes\":{},\"id\":\"2797\",\"type\":\"BasicTicker\"},{\"attributes\":{},\"id\":\"2827\",\"type\":\"BasicTickFormatter\"},{\"attributes\":{},\"id\":\"2805\",\"type\":\"HelpTool\"},{\"attributes\":{},\"id\":\"2800\",\"type\":\"PanTool\"},{\"attributes\":{\"overlay\":{\"id\":\"2806\"}},\"id\":\"2802\",\"type\":\"BoxZoomTool\"},{\"attributes\":{},\"id\":\"2803\",\"type\":\"SaveTool\"},{\"attributes\":{\"fill_alpha\":{\"value\":0.1},\"fill_color\":{\"value\":\"#1f77b4\"},\"line_alpha\":{\"value\":0.1},\"line_color\":{\"value\":\"#1f77b4\"},\"line_width\":{\"value\":2},\"top\":{\"field\":\"inhabitants_family\"},\"width\":{\"value\":0.7},\"x\":{\"field\":\"__x__values\",\"transform\":{\"id\":\"2816\"}}},\"id\":\"2819\",\"type\":\"VBar\"},{\"attributes\":{},\"id\":\"2804\",\"type\":\"ResetTool\"},{\"attributes\":{\"source\":{\"id\":\"2780\"}},\"id\":\"2821\",\"type\":\"CDSView\"},{\"attributes\":{\"data_source\":{\"id\":\"2780\"},\"glyph\":{\"id\":\"2818\"},\"hover_glyph\":null,\"muted_glyph\":null,\"nonselection_glyph\":{\"id\":\"2819\"},\"view\":{\"id\":\"2821\"}},\"id\":\"2820\",\"type\":\"GlyphRenderer\"},{\"attributes\":{\"label\":{\"value\":\" inhabitants_family\"},\"renderers\":[{\"id\":\"2820\"}]},\"id\":\"2832\",\"type\":\"LegendItem\"},{\"attributes\":{\"code\":\"\\n                                    var labels = {0: 'La Barceloneta Barcelona', 1: 'Fort Pienc', 2: 'Sagrada Familia', 3: \\\"L'Antiga Esquerra de l'Eixample\\\", 4: 'Hostafrancs', 5: 'Sants-Badal', 6: 'Sarri\\u00e0', 7: 'El Putxet i el Farr\\u00f3', 8: 'El Baix Guinard\\u00f3', 9: 'Montbau', 10: \\\"Vall d'Hebron\\\", 11: 'Canyelles', 12: 'Verdun', 13: 'Torre Bar\\u00f3', 14: 'Bon Pastor', 15: 'Navas', 16: \\\"El Camp de l'Arpa del Clot\\\", 17: 'El Poblenou', 18: \\\"Dreta de l'Eixample\\\", 19: 'Sant Gervasi \\u2013 la Bonanova', 20: 'Vila de Gr\\u00e0cia', 21: 'El Guinard\\u00f3', 22: \\\"La Font d'en Fargues\\\", 23: 'El Congr\\u00e9s i els Indians', 24: 'El Clot', 25: 'La Marina del Prat Vermell', 26: 'La Marina de Port', 27: 'La Maternitat i Sant Ramon', 28: 'Sant Gervasi \\u2013 Galvany', 29: 'La Prosperitat', 30: 'La Trinitat Nova', 31: 'La Vila Ol\\u00edmpica del Poblenou', 32: \\\"La Nova Esquerra de l'Eixample\\\", 33: 'Sant Antoni', 34: 'La Bordeta', 35: 'Sants', 36: 'El Tur\\u00f3 de la Peira', 37: 'Les Roquetes', 38: 'Bar\\u00f3 de Viver', 39: 'Sant Andreu de Palomar', 40: 'Sant Mart\\u00ed de Proven\\u00e7als', 41: 'Les Corts', 42: 'Les Tres Torres', 43: 'Vallcarca i els Penitents', 44: 'Sant Gen\\u00eds dels Agudells', 45: 'Horta Barcelona', 46: 'Vilapicina i la Torre Llobeta', 47: 'Can Peguera', 48: 'La Guineueta', 49: 'Vallbona', 50: 'La Font de la Guatlla', 51: 'La Clota', 52: \\\"Camp d'en Grassot i Gr\\u00e0cia Nova\\\", 53: 'El Carmel', 54: 'La Teixonera', 55: 'La Verneda i la Pau', 56: 'El Raval', 57: 'Gothic Quarter', 58: 'El Poble-sec Barcelona', 59: 'Pedralbes', 60: 'el Coll', 61: 'La Salut', 62: 'Can Bar\\u00f3', 63: 'Porta', 64: 'Ciutat Meridiana', 65: 'Trinitat Vella', 66: 'La Sagrera', 67: 'El Parc i la Llacuna del Poblenou', 68: 'Diagonal Mar i el Front Mar\\u00edtim del Poblenou', 69: 'El Bes\\u00f2s i el Maresme', 70: 'Proven\\u00e7als del Poblenou'};\\n                                    return labels[tick];\\n                                    \"},\"id\":\"2814\",\"type\":\"FuncTickFormatter\"},{\"attributes\":{\"click_policy\":\"hide\",\"items\":[{\"id\":\"2832\"}]},\"id\":\"2831\",\"type\":\"Legend\"},{\"attributes\":{\"data\":{\"__x__values\":[0,1,2,3,4,5,6,7,8,9,10,11,12,13,14,15,16,17,18,19,20,21,22,23,24,25,26,27,28,29,30,31,32,33,34,35,36,37,38,39,40,41,42,43,44,45,46,47,48,49,50,51,52,53,54,55,56,57,58,59,60,61,62,63,64,65,66,67,68,69,70],\"__x__values_original\":[\"La Barceloneta Barcelona\",\"Fort Pienc\",\"Sagrada Familia\",\"L'Antiga Esquerra de l'Eixample\",\"Hostafrancs\",\"Sants-Badal\",\"Sarri\\u00e0\",\"El Putxet i el Farr\\u00f3\",\"El Baix Guinard\\u00f3\",\"Montbau\",\"Vall d'Hebron\",\"Canyelles\",\"Verdun\",\"Torre Bar\\u00f3\",\"Bon Pastor\",\"Navas\",\"El Camp de l'Arpa del Clot\",\"El Poblenou\",\"Dreta de l'Eixample\",\"Sant Gervasi \\u2013 la Bonanova\",\"Vila de Gr\\u00e0cia\",\"El Guinard\\u00f3\",\"La Font d'en Fargues\",\"El Congr\\u00e9s i els Indians\",\"El Clot\",\"La Marina del Prat Vermell\",\"La Marina de Port\",\"La Maternitat i Sant Ramon\",\"Sant Gervasi \\u2013 Galvany\",\"La Prosperitat\",\"La Trinitat Nova\",\"La Vila Ol\\u00edmpica del Poblenou\",\"La Nova Esquerra de l'Eixample\",\"Sant Antoni\",\"La Bordeta\",\"Sants\",\"El Tur\\u00f3 de la Peira\",\"Les Roquetes\",\"Bar\\u00f3 de Viver\",\"Sant Andreu de Palomar\",\"Sant Mart\\u00ed de Proven\\u00e7als\",\"Les Corts\",\"Les Tres Torres\",\"Vallcarca i els Penitents\",\"Sant Gen\\u00eds dels Agudells\",\"Horta Barcelona\",\"Vilapicina i la Torre Llobeta\",\"Can Peguera\",\"La Guineueta\",\"Vallbona\",\"La Font de la Guatlla\",\"La Clota\",\"Camp d'en Grassot i Gr\\u00e0cia Nova\",\"El Carmel\",\"La Teixonera\",\"La Verneda i la Pau\",\"El Raval\",\"Gothic Quarter\",\"El Poble-sec Barcelona\",\"Pedralbes\",\"el Coll\",\"La Salut\",\"Can Bar\\u00f3\",\"Porta\",\"Ciutat Meridiana\",\"Trinitat Vella\",\"La Sagrera\",\"El Parc i la Llacuna del Poblenou\",\"Diagonal Mar i el Front Mar\\u00edtim del Poblenou\",\"El Bes\\u00f2s i el Maresme\",\"Proven\\u00e7als del Poblenou\"],\"inhabitants_family\":{\"__ndarray__\":\"SOF6FK5HAUDNzMzMzMwEQArXo3A9CgNACtejcD0KA0Bcj8L1KFwDQNejcD0K1wNAzczMzMzMBkCamZmZmZkDQDMzMzMzMwNAhetRuB6FA0DXo3A9CtcDQJqZmZmZmQNA7FG4HoXrA0AUrkfhehQIQFK4HoXrUQhAw/UoXI/CA0AK16NwPQoDQAAAAAAAAARAH4XrUbgeA0ApXI/C9SgGQNejcD0K1wFASOF6FK5HA0A9CtejcD0EQK5H4XoUrgNAFK5H4XoUBEDsUbgehesDQOF6FK5H4QRAw/UoXI/CA0BmZmZmZmYEQOxRuB6F6wNA4XoUrkfhBEAzMzMzMzMFQPYoXI/C9QJAH4XrUbgeA0DXo3A9CtcDQFK4HoXrUQRAexSuR+F6BEDD9Shcj8IFQB+F61G4HgVAhetRuB6FA0CuR+F6FK4DQIXrUbgehQNAw/UoXI/CB0CamZmZmZkDQClcj8L1KARAMzMzMzMzBUDD9Shcj8IDQDMzMzMzMwNAw/UoXI/CA0BI4XoUrkcHQHE9CtejcANAAAAAAAAABEDhehSuR+ECQBSuR+F6FARAhetRuB6FA0AUrkfhehQEQD0K16NwPQZAPQrXo3A9CkApXI/C9SgEQLgehetRuAZASOF6FK5HA0CuR+F6FK4DQB+F61G4HgNAmpmZmZmZBUCuR+F6FK4HQIXrUbgehQdA7FG4HoXrA0DD9Shcj8IDQClcj8L1KARAZmZmZmZmCEB7FK5H4XoEQA==\",\"dtype\":\"float64\",\"order\":\"little\",\"shape\":[71]}},\"selected\":{\"id\":\"2829\"},\"selection_policy\":{\"id\":\"2830\"}},\"id\":\"2780\",\"type\":\"ColumnDataSource\"},{\"attributes\":{\"active_multi\":null,\"active_scroll\":{\"id\":\"2801\"},\"tools\":[{\"id\":\"2800\"},{\"id\":\"2801\"},{\"id\":\"2802\"},{\"id\":\"2803\"},{\"id\":\"2804\"},{\"id\":\"2805\"},{\"id\":\"2833\"}]},\"id\":\"2807\",\"type\":\"Toolbar\"},{\"attributes\":{\"callback\":null,\"mode\":\"vline\",\"renderers\":[{\"id\":\"2820\"}],\"tooltips\":[[\"neighborhood\",\"@__x__values_original\"],[\"inhabitants_family\",\"@{inhabitants_family}\"]]},\"id\":\"2833\",\"type\":\"HoverTool\"},{\"attributes\":{\"range\":{\"id\":\"2784\"}},\"id\":\"2816\",\"type\":\"Dodge\"},{\"attributes\":{},\"id\":\"2784\",\"type\":\"DataRange1d\"},{\"attributes\":{},\"id\":\"2829\",\"type\":\"Selection\"},{\"attributes\":{},\"id\":\"2786\",\"type\":\"DataRange1d\"}],\"root_ids\":[\"2781\"]},\"title\":\"Bokeh Application\",\"version\":\"2.3.1\"}};\n",
       "  var render_items = [{\"docid\":\"0e06a7f9-34e7-43b0-855b-3a7151cd4900\",\"root_ids\":[\"2781\"],\"roots\":{\"2781\":\"2c97093e-df80-4a57-9096-fc10bf623ef7\"}}];\n",
       "  root.Bokeh.embed.embed_items_notebook(docs_json, render_items);\n",
       "\n",
       "  }\n",
       "  if (root.Bokeh !== undefined) {\n",
       "    embed_document(root);\n",
       "  } else {\n",
       "    var attempts = 0;\n",
       "    var timer = setInterval(function(root) {\n",
       "      if (root.Bokeh !== undefined) {\n",
       "        clearInterval(timer);\n",
       "        embed_document(root);\n",
       "      } else {\n",
       "        attempts++;\n",
       "        if (attempts > 100) {\n",
       "          clearInterval(timer);\n",
       "          console.log(\"Bokeh: ERROR: Unable to run BokehJS code because BokehJS library is missing\");\n",
       "        }\n",
       "      }\n",
       "    }, 10, root)\n",
       "  }\n",
       "})(window);"
      ],
      "application/vnd.bokehjs_exec.v0+json": ""
     },
     "metadata": {
      "application/vnd.bokehjs_exec.v0+json": {
       "id": "2781"
      }
     },
     "output_type": "display_data"
    },
    {
     "data": {
      "text/html": [
       "<div style=\"display: table;\"><div style=\"display: table-row;\"><div style=\"display: table-cell;\"><b title=\"bokeh.plotting.figure.Figure\">Figure</b>(</div><div style=\"display: table-cell;\">id&nbsp;=&nbsp;'2781', <span id=\"2894\" style=\"cursor: pointer;\">&hellip;)</span></div></div><div class=\"2893\" style=\"display: none;\"><div style=\"display: table-cell;\"></div><div style=\"display: table-cell;\">above&nbsp;=&nbsp;[],</div></div><div class=\"2893\" style=\"display: none;\"><div style=\"display: table-cell;\"></div><div style=\"display: table-cell;\">align&nbsp;=&nbsp;'start',</div></div><div class=\"2893\" style=\"display: none;\"><div style=\"display: table-cell;\"></div><div style=\"display: table-cell;\">aspect_ratio&nbsp;=&nbsp;None,</div></div><div class=\"2893\" style=\"display: none;\"><div style=\"display: table-cell;\"></div><div style=\"display: table-cell;\">aspect_scale&nbsp;=&nbsp;1,</div></div><div class=\"2893\" style=\"display: none;\"><div style=\"display: table-cell;\"></div><div style=\"display: table-cell;\">background&nbsp;=&nbsp;None,</div></div><div class=\"2893\" style=\"display: none;\"><div style=\"display: table-cell;\"></div><div style=\"display: table-cell;\">background_fill_alpha&nbsp;=&nbsp;1.0,</div></div><div class=\"2893\" style=\"display: none;\"><div style=\"display: table-cell;\"></div><div style=\"display: table-cell;\">background_fill_color&nbsp;=&nbsp;'#ffffff',</div></div><div class=\"2893\" style=\"display: none;\"><div style=\"display: table-cell;\"></div><div style=\"display: table-cell;\">below&nbsp;=&nbsp;[LinearAxis(id='2792', ...)],</div></div><div class=\"2893\" style=\"display: none;\"><div style=\"display: table-cell;\"></div><div style=\"display: table-cell;\">border_fill_alpha&nbsp;=&nbsp;1.0,</div></div><div class=\"2893\" style=\"display: none;\"><div style=\"display: table-cell;\"></div><div style=\"display: table-cell;\">border_fill_color&nbsp;=&nbsp;'#ffffff',</div></div><div class=\"2893\" style=\"display: none;\"><div style=\"display: table-cell;\"></div><div style=\"display: table-cell;\">center&nbsp;=&nbsp;[Grid(id='2795', ...), Grid(id='2799', ...), Legend(id='2831', ...)],</div></div><div class=\"2893\" style=\"display: none;\"><div style=\"display: table-cell;\"></div><div style=\"display: table-cell;\">css_classes&nbsp;=&nbsp;[],</div></div><div class=\"2893\" style=\"display: none;\"><div style=\"display: table-cell;\"></div><div style=\"display: table-cell;\">disabled&nbsp;=&nbsp;False,</div></div><div class=\"2893\" style=\"display: none;\"><div style=\"display: table-cell;\"></div><div style=\"display: table-cell;\">extra_x_ranges&nbsp;=&nbsp;{},</div></div><div class=\"2893\" style=\"display: none;\"><div style=\"display: table-cell;\"></div><div style=\"display: table-cell;\">extra_y_ranges&nbsp;=&nbsp;{},</div></div><div class=\"2893\" style=\"display: none;\"><div style=\"display: table-cell;\"></div><div style=\"display: table-cell;\">frame_height&nbsp;=&nbsp;None,</div></div><div class=\"2893\" style=\"display: none;\"><div style=\"display: table-cell;\"></div><div style=\"display: table-cell;\">frame_width&nbsp;=&nbsp;None,</div></div><div class=\"2893\" style=\"display: none;\"><div style=\"display: table-cell;\"></div><div style=\"display: table-cell;\">height&nbsp;=&nbsp;400,</div></div><div class=\"2893\" style=\"display: none;\"><div style=\"display: table-cell;\"></div><div style=\"display: table-cell;\">height_policy&nbsp;=&nbsp;'auto',</div></div><div class=\"2893\" style=\"display: none;\"><div style=\"display: table-cell;\"></div><div style=\"display: table-cell;\">hidpi&nbsp;=&nbsp;True,</div></div><div class=\"2893\" style=\"display: none;\"><div style=\"display: table-cell;\"></div><div style=\"display: table-cell;\">inner_height&nbsp;=&nbsp;0,</div></div><div class=\"2893\" style=\"display: none;\"><div style=\"display: table-cell;\"></div><div style=\"display: table-cell;\">inner_width&nbsp;=&nbsp;0,</div></div><div class=\"2893\" style=\"display: none;\"><div style=\"display: table-cell;\"></div><div style=\"display: table-cell;\">js_event_callbacks&nbsp;=&nbsp;{},</div></div><div class=\"2893\" style=\"display: none;\"><div style=\"display: table-cell;\"></div><div style=\"display: table-cell;\">js_property_callbacks&nbsp;=&nbsp;{},</div></div><div class=\"2893\" style=\"display: none;\"><div style=\"display: table-cell;\"></div><div style=\"display: table-cell;\">left&nbsp;=&nbsp;[LinearAxis(id='2796', ...)],</div></div><div class=\"2893\" style=\"display: none;\"><div style=\"display: table-cell;\"></div><div style=\"display: table-cell;\">lod_factor&nbsp;=&nbsp;10,</div></div><div class=\"2893\" style=\"display: none;\"><div style=\"display: table-cell;\"></div><div style=\"display: table-cell;\">lod_interval&nbsp;=&nbsp;300,</div></div><div class=\"2893\" style=\"display: none;\"><div style=\"display: table-cell;\"></div><div style=\"display: table-cell;\">lod_threshold&nbsp;=&nbsp;2000,</div></div><div class=\"2893\" style=\"display: none;\"><div style=\"display: table-cell;\"></div><div style=\"display: table-cell;\">lod_timeout&nbsp;=&nbsp;500,</div></div><div class=\"2893\" style=\"display: none;\"><div style=\"display: table-cell;\"></div><div style=\"display: table-cell;\">margin&nbsp;=&nbsp;(0, 0, 0, 0),</div></div><div class=\"2893\" style=\"display: none;\"><div style=\"display: table-cell;\"></div><div style=\"display: table-cell;\">match_aspect&nbsp;=&nbsp;False,</div></div><div class=\"2893\" style=\"display: none;\"><div style=\"display: table-cell;\"></div><div style=\"display: table-cell;\">max_height&nbsp;=&nbsp;None,</div></div><div class=\"2893\" style=\"display: none;\"><div style=\"display: table-cell;\"></div><div style=\"display: table-cell;\">max_width&nbsp;=&nbsp;None,</div></div><div class=\"2893\" style=\"display: none;\"><div style=\"display: table-cell;\"></div><div style=\"display: table-cell;\">min_border&nbsp;=&nbsp;5,</div></div><div class=\"2893\" style=\"display: none;\"><div style=\"display: table-cell;\"></div><div style=\"display: table-cell;\">min_border_bottom&nbsp;=&nbsp;None,</div></div><div class=\"2893\" style=\"display: none;\"><div style=\"display: table-cell;\"></div><div style=\"display: table-cell;\">min_border_left&nbsp;=&nbsp;None,</div></div><div class=\"2893\" style=\"display: none;\"><div style=\"display: table-cell;\"></div><div style=\"display: table-cell;\">min_border_right&nbsp;=&nbsp;None,</div></div><div class=\"2893\" style=\"display: none;\"><div style=\"display: table-cell;\"></div><div style=\"display: table-cell;\">min_border_top&nbsp;=&nbsp;None,</div></div><div class=\"2893\" style=\"display: none;\"><div style=\"display: table-cell;\"></div><div style=\"display: table-cell;\">min_height&nbsp;=&nbsp;None,</div></div><div class=\"2893\" style=\"display: none;\"><div style=\"display: table-cell;\"></div><div style=\"display: table-cell;\">min_width&nbsp;=&nbsp;None,</div></div><div class=\"2893\" style=\"display: none;\"><div style=\"display: table-cell;\"></div><div style=\"display: table-cell;\">name&nbsp;=&nbsp;None,</div></div><div class=\"2893\" style=\"display: none;\"><div style=\"display: table-cell;\"></div><div style=\"display: table-cell;\">outer_height&nbsp;=&nbsp;0,</div></div><div class=\"2893\" style=\"display: none;\"><div style=\"display: table-cell;\"></div><div style=\"display: table-cell;\">outer_width&nbsp;=&nbsp;0,</div></div><div class=\"2893\" style=\"display: none;\"><div style=\"display: table-cell;\"></div><div style=\"display: table-cell;\">outline_line_alpha&nbsp;=&nbsp;1.0,</div></div><div class=\"2893\" style=\"display: none;\"><div style=\"display: table-cell;\"></div><div style=\"display: table-cell;\">outline_line_cap&nbsp;=&nbsp;'butt',</div></div><div class=\"2893\" style=\"display: none;\"><div style=\"display: table-cell;\"></div><div style=\"display: table-cell;\">outline_line_color&nbsp;=&nbsp;'#e5e5e5',</div></div><div class=\"2893\" style=\"display: none;\"><div style=\"display: table-cell;\"></div><div style=\"display: table-cell;\">outline_line_dash&nbsp;=&nbsp;[],</div></div><div class=\"2893\" style=\"display: none;\"><div style=\"display: table-cell;\"></div><div style=\"display: table-cell;\">outline_line_dash_offset&nbsp;=&nbsp;0,</div></div><div class=\"2893\" style=\"display: none;\"><div style=\"display: table-cell;\"></div><div style=\"display: table-cell;\">outline_line_join&nbsp;=&nbsp;'bevel',</div></div><div class=\"2893\" style=\"display: none;\"><div style=\"display: table-cell;\"></div><div style=\"display: table-cell;\">outline_line_width&nbsp;=&nbsp;1,</div></div><div class=\"2893\" style=\"display: none;\"><div style=\"display: table-cell;\"></div><div style=\"display: table-cell;\">output_backend&nbsp;=&nbsp;'webgl',</div></div><div class=\"2893\" style=\"display: none;\"><div style=\"display: table-cell;\"></div><div style=\"display: table-cell;\">renderers&nbsp;=&nbsp;[GlyphRenderer(id='2820', ...)],</div></div><div class=\"2893\" style=\"display: none;\"><div style=\"display: table-cell;\"></div><div style=\"display: table-cell;\">reset_policy&nbsp;=&nbsp;'standard',</div></div><div class=\"2893\" style=\"display: none;\"><div style=\"display: table-cell;\"></div><div style=\"display: table-cell;\">right&nbsp;=&nbsp;[],</div></div><div class=\"2893\" style=\"display: none;\"><div style=\"display: table-cell;\"></div><div style=\"display: table-cell;\">sizing_mode&nbsp;=&nbsp;'fixed',</div></div><div class=\"2893\" style=\"display: none;\"><div style=\"display: table-cell;\"></div><div style=\"display: table-cell;\">subscribed_events&nbsp;=&nbsp;[],</div></div><div class=\"2893\" style=\"display: none;\"><div style=\"display: table-cell;\"></div><div style=\"display: table-cell;\">syncable&nbsp;=&nbsp;True,</div></div><div class=\"2893\" style=\"display: none;\"><div style=\"display: table-cell;\"></div><div style=\"display: table-cell;\">tags&nbsp;=&nbsp;[],</div></div><div class=\"2893\" style=\"display: none;\"><div style=\"display: table-cell;\"></div><div style=\"display: table-cell;\">title&nbsp;=&nbsp;Title(id='2782', ...),</div></div><div class=\"2893\" style=\"display: none;\"><div style=\"display: table-cell;\"></div><div style=\"display: table-cell;\">title_location&nbsp;=&nbsp;'above',</div></div><div class=\"2893\" style=\"display: none;\"><div style=\"display: table-cell;\"></div><div style=\"display: table-cell;\">toolbar&nbsp;=&nbsp;Toolbar(id='2807', ...),</div></div><div class=\"2893\" style=\"display: none;\"><div style=\"display: table-cell;\"></div><div style=\"display: table-cell;\">toolbar_location&nbsp;=&nbsp;'right',</div></div><div class=\"2893\" style=\"display: none;\"><div style=\"display: table-cell;\"></div><div style=\"display: table-cell;\">toolbar_sticky&nbsp;=&nbsp;True,</div></div><div class=\"2893\" style=\"display: none;\"><div style=\"display: table-cell;\"></div><div style=\"display: table-cell;\">visible&nbsp;=&nbsp;True,</div></div><div class=\"2893\" style=\"display: none;\"><div style=\"display: table-cell;\"></div><div style=\"display: table-cell;\">width&nbsp;=&nbsp;600,</div></div><div class=\"2893\" style=\"display: none;\"><div style=\"display: table-cell;\"></div><div style=\"display: table-cell;\">width_policy&nbsp;=&nbsp;'auto',</div></div><div class=\"2893\" style=\"display: none;\"><div style=\"display: table-cell;\"></div><div style=\"display: table-cell;\">x_range&nbsp;=&nbsp;DataRange1d(id='2784', ...),</div></div><div class=\"2893\" style=\"display: none;\"><div style=\"display: table-cell;\"></div><div style=\"display: table-cell;\">x_scale&nbsp;=&nbsp;LinearScale(id='2788', ...),</div></div><div class=\"2893\" style=\"display: none;\"><div style=\"display: table-cell;\"></div><div style=\"display: table-cell;\">y_range&nbsp;=&nbsp;DataRange1d(id='2786', ...),</div></div><div class=\"2893\" style=\"display: none;\"><div style=\"display: table-cell;\"></div><div style=\"display: table-cell;\">y_scale&nbsp;=&nbsp;LinearScale(id='2790', ...))</div></div></div>\n",
       "<script>\n",
       "(function() {\n",
       "  var expanded = false;\n",
       "  var ellipsis = document.getElementById(\"2894\");\n",
       "  ellipsis.addEventListener(\"click\", function() {\n",
       "    var rows = document.getElementsByClassName(\"2893\");\n",
       "    for (var i = 0; i < rows.length; i++) {\n",
       "      var el = rows[i];\n",
       "      el.style.display = expanded ? \"none\" : \"table-row\";\n",
       "    }\n",
       "    ellipsis.innerHTML = expanded ? \"&hellip;)\" : \"&lsaquo;&lsaquo;&lsaquo;\";\n",
       "    expanded = !expanded;\n",
       "  });\n",
       "})();\n",
       "</script>\n"
      ],
      "text/plain": [
       "Figure(id='2781', ...)"
      ]
     },
     "execution_count": 25,
     "metadata": {},
     "output_type": "execute_result"
    }
   ],
   "source": [
    "dat.plot_bokeh(title='Bar plot of correlation between neighborhood and rfd', kind='bar', x = 'neighborhood', y = 'inhabitants_family') #line- plot visualization of the correlation between neighborhood and RFD\n"
   ]
  },
  {
   "cell_type": "markdown",
   "id": "chronic-harvard",
   "metadata": {},
   "source": [
    "Correlation between inhabitants in a family, and rdf. "
   ]
  },
  {
   "cell_type": "code",
   "execution_count": 26,
   "id": "international-visit",
   "metadata": {},
   "outputs": [
    {
     "data": {
      "text/html": [
       "<div>\n",
       "<style scoped>\n",
       "    .dataframe tbody tr th:only-of-type {\n",
       "        vertical-align: middle;\n",
       "    }\n",
       "\n",
       "    .dataframe tbody tr th {\n",
       "        vertical-align: top;\n",
       "    }\n",
       "\n",
       "    .dataframe thead th {\n",
       "        text-align: right;\n",
       "    }\n",
       "</style>\n",
       "<table border=\"1\" class=\"dataframe\">\n",
       "  <thead>\n",
       "    <tr style=\"text-align: right;\">\n",
       "      <th></th>\n",
       "      <th>inhabitants_family</th>\n",
       "      <th>rfd</th>\n",
       "    </tr>\n",
       "  </thead>\n",
       "  <tbody>\n",
       "    <tr>\n",
       "      <th>inhabitants_family</th>\n",
       "      <td>1.000000</td>\n",
       "      <td>0.052658</td>\n",
       "    </tr>\n",
       "    <tr>\n",
       "      <th>rfd</th>\n",
       "      <td>0.052658</td>\n",
       "      <td>1.000000</td>\n",
       "    </tr>\n",
       "  </tbody>\n",
       "</table>\n",
       "</div>"
      ],
      "text/plain": [
       "                    inhabitants_family       rfd\n",
       "inhabitants_family            1.000000  0.052658\n",
       "rfd                           0.052658  1.000000"
      ]
     },
     "execution_count": 26,
     "metadata": {},
     "output_type": "execute_result"
    }
   ],
   "source": [
    "dat.corr()"
   ]
  },
  {
   "cell_type": "markdown",
   "id": "breathing-clear",
   "metadata": {},
   "source": [
    "According to our hypothesis families with lower income would have an in crease in inhabitants per family. Some areas with earlier classified lower income, such as \"Gothic Quarter\", had an elevated number of inhabitants per family. \n",
    "However, with a correlation factor of 0.05 ≈ 5%, the correlation between income and inhabitants per family is not clear and more data is needed to either falsify or substantiate the hypothesis. \n",
    "From this analysis it therefore is no clear correlation between family income and inhabitants per family. "
   ]
  },
  {
   "cell_type": "code",
   "execution_count": null,
   "id": "occupied-battery",
   "metadata": {},
   "outputs": [],
   "source": []
  }
 ],
 "metadata": {
  "kernelspec": {
   "display_name": "Python 3",
   "language": "python",
   "name": "python3"
  },
  "language_info": {
   "codemirror_mode": {
    "name": "ipython",
    "version": 3
   },
   "file_extension": ".py",
   "mimetype": "text/x-python",
   "name": "python",
   "nbconvert_exporter": "python",
   "pygments_lexer": "ipython3",
   "version": "3.9.1"
  }
 },
 "nbformat": 4,
 "nbformat_minor": 5
}
