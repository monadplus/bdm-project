{
 "cells": [
  {
   "cell_type": "markdown",
   "id": "assigned-league",
   "metadata": {},
   "source": [
    "# Data Visualisation"
   ]
  },
  {
   "cell_type": "markdown",
   "id": "existing-roller",
   "metadata": {},
   "source": [
    "In this notebook the vizualisation of the different KPIs performed in the DBM: Lab Assignment 2 will be deployed. \n",
    "The document is divided into three parts, each deploying the visualization of the different csv files. "
   ]
  },
  {
   "cell_type": "markdown",
   "id": "sticky-andrew",
   "metadata": {},
   "source": [
    "## KPI 1: Average number of new listings per day"
   ]
  },
  {
   "cell_type": "markdown",
   "id": "activated-fireplace",
   "metadata": {},
   "source": [
    "In this section the \"KPI1.csv\" file will be investigated further. \n",
    "This file holds the results from the KPI1: Average number of new listing per day, where the goal is to investigate the daily rate of listings over a timeperiod. "
   ]
  },
  {
   "cell_type": "code",
   "execution_count": 27,
   "id": "apart-boundary",
   "metadata": {},
   "outputs": [
    {
     "data": {
      "text/html": [
       "\n",
       "    <div class=\"bk-root\">\n",
       "        <a href=\"https://bokeh.org\" target=\"_blank\" class=\"bk-logo bk-logo-small bk-logo-notebook\"></a>\n",
       "        <span id=\"2896\">Loading BokehJS ...</span>\n",
       "    </div>"
      ]
     },
     "metadata": {},
     "output_type": "display_data"
    },
    {
     "data": {
      "application/javascript": [
       "\n",
       "(function(root) {\n",
       "  function now() {\n",
       "    return new Date();\n",
       "  }\n",
       "\n",
       "  var force = true;\n",
       "\n",
       "  if (typeof root._bokeh_onload_callbacks === \"undefined\" || force === true) {\n",
       "    root._bokeh_onload_callbacks = [];\n",
       "    root._bokeh_is_loading = undefined;\n",
       "  }\n",
       "\n",
       "  var JS_MIME_TYPE = 'application/javascript';\n",
       "  var HTML_MIME_TYPE = 'text/html';\n",
       "  var EXEC_MIME_TYPE = 'application/vnd.bokehjs_exec.v0+json';\n",
       "  var CLASS_NAME = 'output_bokeh rendered_html';\n",
       "\n",
       "  /**\n",
       "   * Render data to the DOM node\n",
       "   */\n",
       "  function render(props, node) {\n",
       "    var script = document.createElement(\"script\");\n",
       "    node.appendChild(script);\n",
       "  }\n",
       "\n",
       "  /**\n",
       "   * Handle when an output is cleared or removed\n",
       "   */\n",
       "  function handleClearOutput(event, handle) {\n",
       "    var cell = handle.cell;\n",
       "\n",
       "    var id = cell.output_area._bokeh_element_id;\n",
       "    var server_id = cell.output_area._bokeh_server_id;\n",
       "    // Clean up Bokeh references\n",
       "    if (id != null && id in Bokeh.index) {\n",
       "      Bokeh.index[id].model.document.clear();\n",
       "      delete Bokeh.index[id];\n",
       "    }\n",
       "\n",
       "    if (server_id !== undefined) {\n",
       "      // Clean up Bokeh references\n",
       "      var cmd = \"from bokeh.io.state import curstate; print(curstate().uuid_to_server['\" + server_id + \"'].get_sessions()[0].document.roots[0]._id)\";\n",
       "      cell.notebook.kernel.execute(cmd, {\n",
       "        iopub: {\n",
       "          output: function(msg) {\n",
       "            var id = msg.content.text.trim();\n",
       "            if (id in Bokeh.index) {\n",
       "              Bokeh.index[id].model.document.clear();\n",
       "              delete Bokeh.index[id];\n",
       "            }\n",
       "          }\n",
       "        }\n",
       "      });\n",
       "      // Destroy server and session\n",
       "      var cmd = \"import bokeh.io.notebook as ion; ion.destroy_server('\" + server_id + \"')\";\n",
       "      cell.notebook.kernel.execute(cmd);\n",
       "    }\n",
       "  }\n",
       "\n",
       "  /**\n",
       "   * Handle when a new output is added\n",
       "   */\n",
       "  function handleAddOutput(event, handle) {\n",
       "    var output_area = handle.output_area;\n",
       "    var output = handle.output;\n",
       "\n",
       "    // limit handleAddOutput to display_data with EXEC_MIME_TYPE content only\n",
       "    if ((output.output_type != \"display_data\") || (!Object.prototype.hasOwnProperty.call(output.data, EXEC_MIME_TYPE))) {\n",
       "      return\n",
       "    }\n",
       "\n",
       "    var toinsert = output_area.element.find(\".\" + CLASS_NAME.split(' ')[0]);\n",
       "\n",
       "    if (output.metadata[EXEC_MIME_TYPE][\"id\"] !== undefined) {\n",
       "      toinsert[toinsert.length - 1].firstChild.textContent = output.data[JS_MIME_TYPE];\n",
       "      // store reference to embed id on output_area\n",
       "      output_area._bokeh_element_id = output.metadata[EXEC_MIME_TYPE][\"id\"];\n",
       "    }\n",
       "    if (output.metadata[EXEC_MIME_TYPE][\"server_id\"] !== undefined) {\n",
       "      var bk_div = document.createElement(\"div\");\n",
       "      bk_div.innerHTML = output.data[HTML_MIME_TYPE];\n",
       "      var script_attrs = bk_div.children[0].attributes;\n",
       "      for (var i = 0; i < script_attrs.length; i++) {\n",
       "        toinsert[toinsert.length - 1].firstChild.setAttribute(script_attrs[i].name, script_attrs[i].value);\n",
       "        toinsert[toinsert.length - 1].firstChild.textContent = bk_div.children[0].textContent\n",
       "      }\n",
       "      // store reference to server id on output_area\n",
       "      output_area._bokeh_server_id = output.metadata[EXEC_MIME_TYPE][\"server_id\"];\n",
       "    }\n",
       "  }\n",
       "\n",
       "  function register_renderer(events, OutputArea) {\n",
       "\n",
       "    function append_mime(data, metadata, element) {\n",
       "      // create a DOM node to render to\n",
       "      var toinsert = this.create_output_subarea(\n",
       "        metadata,\n",
       "        CLASS_NAME,\n",
       "        EXEC_MIME_TYPE\n",
       "      );\n",
       "      this.keyboard_manager.register_events(toinsert);\n",
       "      // Render to node\n",
       "      var props = {data: data, metadata: metadata[EXEC_MIME_TYPE]};\n",
       "      render(props, toinsert[toinsert.length - 1]);\n",
       "      element.append(toinsert);\n",
       "      return toinsert\n",
       "    }\n",
       "\n",
       "    /* Handle when an output is cleared or removed */\n",
       "    events.on('clear_output.CodeCell', handleClearOutput);\n",
       "    events.on('delete.Cell', handleClearOutput);\n",
       "\n",
       "    /* Handle when a new output is added */\n",
       "    events.on('output_added.OutputArea', handleAddOutput);\n",
       "\n",
       "    /**\n",
       "     * Register the mime type and append_mime function with output_area\n",
       "     */\n",
       "    OutputArea.prototype.register_mime_type(EXEC_MIME_TYPE, append_mime, {\n",
       "      /* Is output safe? */\n",
       "      safe: true,\n",
       "      /* Index of renderer in `output_area.display_order` */\n",
       "      index: 0\n",
       "    });\n",
       "  }\n",
       "\n",
       "  // register the mime type if in Jupyter Notebook environment and previously unregistered\n",
       "  if (root.Jupyter !== undefined) {\n",
       "    var events = require('base/js/events');\n",
       "    var OutputArea = require('notebook/js/outputarea').OutputArea;\n",
       "\n",
       "    if (OutputArea.prototype.mime_types().indexOf(EXEC_MIME_TYPE) == -1) {\n",
       "      register_renderer(events, OutputArea);\n",
       "    }\n",
       "  }\n",
       "\n",
       "  \n",
       "  if (typeof (root._bokeh_timeout) === \"undefined\" || force === true) {\n",
       "    root._bokeh_timeout = Date.now() + 5000;\n",
       "    root._bokeh_failed_load = false;\n",
       "  }\n",
       "\n",
       "  var NB_LOAD_WARNING = {'data': {'text/html':\n",
       "     \"<div style='background-color: #fdd'>\\n\"+\n",
       "     \"<p>\\n\"+\n",
       "     \"BokehJS does not appear to have successfully loaded. If loading BokehJS from CDN, this \\n\"+\n",
       "     \"may be due to a slow or bad network connection. Possible fixes:\\n\"+\n",
       "     \"</p>\\n\"+\n",
       "     \"<ul>\\n\"+\n",
       "     \"<li>re-rerun `output_notebook()` to attempt to load from CDN again, or</li>\\n\"+\n",
       "     \"<li>use INLINE resources instead, as so:</li>\\n\"+\n",
       "     \"</ul>\\n\"+\n",
       "     \"<code>\\n\"+\n",
       "     \"from bokeh.resources import INLINE\\n\"+\n",
       "     \"output_notebook(resources=INLINE)\\n\"+\n",
       "     \"</code>\\n\"+\n",
       "     \"</div>\"}};\n",
       "\n",
       "  function display_loaded() {\n",
       "    var el = document.getElementById(\"2896\");\n",
       "    if (el != null) {\n",
       "      el.textContent = \"BokehJS is loading...\";\n",
       "    }\n",
       "    if (root.Bokeh !== undefined) {\n",
       "      if (el != null) {\n",
       "        el.textContent = \"BokehJS \" + root.Bokeh.version + \" successfully loaded.\";\n",
       "      }\n",
       "    } else if (Date.now() < root._bokeh_timeout) {\n",
       "      setTimeout(display_loaded, 100)\n",
       "    }\n",
       "  }\n",
       "\n",
       "\n",
       "  function run_callbacks() {\n",
       "    try {\n",
       "      root._bokeh_onload_callbacks.forEach(function(callback) {\n",
       "        if (callback != null)\n",
       "          callback();\n",
       "      });\n",
       "    } finally {\n",
       "      delete root._bokeh_onload_callbacks\n",
       "    }\n",
       "    console.debug(\"Bokeh: all callbacks have finished\");\n",
       "  }\n",
       "\n",
       "  function load_libs(css_urls, js_urls, callback) {\n",
       "    if (css_urls == null) css_urls = [];\n",
       "    if (js_urls == null) js_urls = [];\n",
       "\n",
       "    root._bokeh_onload_callbacks.push(callback);\n",
       "    if (root._bokeh_is_loading > 0) {\n",
       "      console.debug(\"Bokeh: BokehJS is being loaded, scheduling callback at\", now());\n",
       "      return null;\n",
       "    }\n",
       "    if (js_urls == null || js_urls.length === 0) {\n",
       "      run_callbacks();\n",
       "      return null;\n",
       "    }\n",
       "    console.debug(\"Bokeh: BokehJS not loaded, scheduling load and callback at\", now());\n",
       "    root._bokeh_is_loading = css_urls.length + js_urls.length;\n",
       "\n",
       "    function on_load() {\n",
       "      root._bokeh_is_loading--;\n",
       "      if (root._bokeh_is_loading === 0) {\n",
       "        console.debug(\"Bokeh: all BokehJS libraries/stylesheets loaded\");\n",
       "        run_callbacks()\n",
       "      }\n",
       "    }\n",
       "\n",
       "    function on_error(url) {\n",
       "      console.error(\"failed to load \" + url);\n",
       "    }\n",
       "\n",
       "    for (let i = 0; i < css_urls.length; i++) {\n",
       "      const url = css_urls[i];\n",
       "      const element = document.createElement(\"link\");\n",
       "      element.onload = on_load;\n",
       "      element.onerror = on_error.bind(null, url);\n",
       "      element.rel = \"stylesheet\";\n",
       "      element.type = \"text/css\";\n",
       "      element.href = url;\n",
       "      console.debug(\"Bokeh: injecting link tag for BokehJS stylesheet: \", url);\n",
       "      document.body.appendChild(element);\n",
       "    }\n",
       "\n",
       "    const hashes = {\"https://cdn.bokeh.org/bokeh/release/bokeh-2.3.1.min.js\": \"YF85VygJKMVnHE+lLv2AM93Vbstr0yo2TbIu5v8se5Rq3UQAUmcuh4aaJwNlpKwa\", \"https://cdn.bokeh.org/bokeh/release/bokeh-widgets-2.3.1.min.js\": \"KKuas3gevv3PvrlkyCMzffFeaMq5we/a2QsP5AUoS3mJ0jmaCL7jirFJN3GoE/lM\", \"https://cdn.bokeh.org/bokeh/release/bokeh-tables-2.3.1.min.js\": \"MK/uFc3YT18pkvvXRl66tTHjP0/dxoSH2e/eiNMFIguKlun2+WVqaPTWmUy/zvh4\"};\n",
       "\n",
       "    for (let i = 0; i < js_urls.length; i++) {\n",
       "      const url = js_urls[i];\n",
       "      const element = document.createElement('script');\n",
       "      element.onload = on_load;\n",
       "      element.onerror = on_error.bind(null, url);\n",
       "      element.async = false;\n",
       "      element.src = url;\n",
       "      if (url in hashes) {\n",
       "        element.crossOrigin = \"anonymous\";\n",
       "        element.integrity = \"sha384-\" + hashes[url];\n",
       "      }\n",
       "      console.debug(\"Bokeh: injecting script tag for BokehJS library: \", url);\n",
       "      document.head.appendChild(element);\n",
       "    }\n",
       "  };\n",
       "\n",
       "  function inject_raw_css(css) {\n",
       "    const element = document.createElement(\"style\");\n",
       "    element.appendChild(document.createTextNode(css));\n",
       "    document.body.appendChild(element);\n",
       "  }\n",
       "\n",
       "  \n",
       "  var js_urls = [\"https://cdn.bokeh.org/bokeh/release/bokeh-2.3.1.min.js\", \"https://cdn.bokeh.org/bokeh/release/bokeh-widgets-2.3.1.min.js\", \"https://cdn.bokeh.org/bokeh/release/bokeh-tables-2.3.1.min.js\"];\n",
       "  var css_urls = [];\n",
       "  \n",
       "\n",
       "  var inline_js = [\n",
       "    function(Bokeh) {\n",
       "      Bokeh.set_log_level(\"info\");\n",
       "    },\n",
       "    function(Bokeh) {\n",
       "    \n",
       "    \n",
       "    }\n",
       "  ];\n",
       "\n",
       "  function run_inline_js() {\n",
       "    \n",
       "    if (root.Bokeh !== undefined || force === true) {\n",
       "      \n",
       "    for (var i = 0; i < inline_js.length; i++) {\n",
       "      inline_js[i].call(root, root.Bokeh);\n",
       "    }\n",
       "    if (force === true) {\n",
       "        display_loaded();\n",
       "      }} else if (Date.now() < root._bokeh_timeout) {\n",
       "      setTimeout(run_inline_js, 100);\n",
       "    } else if (!root._bokeh_failed_load) {\n",
       "      console.log(\"Bokeh: BokehJS failed to load within specified timeout.\");\n",
       "      root._bokeh_failed_load = true;\n",
       "    } else if (force !== true) {\n",
       "      var cell = $(document.getElementById(\"2896\")).parents('.cell').data().cell;\n",
       "      cell.output_area.append_execute_result(NB_LOAD_WARNING)\n",
       "    }\n",
       "\n",
       "  }\n",
       "\n",
       "  if (root._bokeh_is_loading === 0) {\n",
       "    console.debug(\"Bokeh: BokehJS loaded, going straight to plotting\");\n",
       "    run_inline_js();\n",
       "  } else {\n",
       "    load_libs(css_urls, js_urls, function() {\n",
       "      console.debug(\"Bokeh: BokehJS plotting callback run at\", now());\n",
       "      run_inline_js();\n",
       "    });\n",
       "  }\n",
       "}(window));"
      ],
      "application/vnd.bokehjs_load.v0+json": "\n(function(root) {\n  function now() {\n    return new Date();\n  }\n\n  var force = true;\n\n  if (typeof root._bokeh_onload_callbacks === \"undefined\" || force === true) {\n    root._bokeh_onload_callbacks = [];\n    root._bokeh_is_loading = undefined;\n  }\n\n  \n\n  \n  if (typeof (root._bokeh_timeout) === \"undefined\" || force === true) {\n    root._bokeh_timeout = Date.now() + 5000;\n    root._bokeh_failed_load = false;\n  }\n\n  var NB_LOAD_WARNING = {'data': {'text/html':\n     \"<div style='background-color: #fdd'>\\n\"+\n     \"<p>\\n\"+\n     \"BokehJS does not appear to have successfully loaded. If loading BokehJS from CDN, this \\n\"+\n     \"may be due to a slow or bad network connection. Possible fixes:\\n\"+\n     \"</p>\\n\"+\n     \"<ul>\\n\"+\n     \"<li>re-rerun `output_notebook()` to attempt to load from CDN again, or</li>\\n\"+\n     \"<li>use INLINE resources instead, as so:</li>\\n\"+\n     \"</ul>\\n\"+\n     \"<code>\\n\"+\n     \"from bokeh.resources import INLINE\\n\"+\n     \"output_notebook(resources=INLINE)\\n\"+\n     \"</code>\\n\"+\n     \"</div>\"}};\n\n  function display_loaded() {\n    var el = document.getElementById(\"2896\");\n    if (el != null) {\n      el.textContent = \"BokehJS is loading...\";\n    }\n    if (root.Bokeh !== undefined) {\n      if (el != null) {\n        el.textContent = \"BokehJS \" + root.Bokeh.version + \" successfully loaded.\";\n      }\n    } else if (Date.now() < root._bokeh_timeout) {\n      setTimeout(display_loaded, 100)\n    }\n  }\n\n\n  function run_callbacks() {\n    try {\n      root._bokeh_onload_callbacks.forEach(function(callback) {\n        if (callback != null)\n          callback();\n      });\n    } finally {\n      delete root._bokeh_onload_callbacks\n    }\n    console.debug(\"Bokeh: all callbacks have finished\");\n  }\n\n  function load_libs(css_urls, js_urls, callback) {\n    if (css_urls == null) css_urls = [];\n    if (js_urls == null) js_urls = [];\n\n    root._bokeh_onload_callbacks.push(callback);\n    if (root._bokeh_is_loading > 0) {\n      console.debug(\"Bokeh: BokehJS is being loaded, scheduling callback at\", now());\n      return null;\n    }\n    if (js_urls == null || js_urls.length === 0) {\n      run_callbacks();\n      return null;\n    }\n    console.debug(\"Bokeh: BokehJS not loaded, scheduling load and callback at\", now());\n    root._bokeh_is_loading = css_urls.length + js_urls.length;\n\n    function on_load() {\n      root._bokeh_is_loading--;\n      if (root._bokeh_is_loading === 0) {\n        console.debug(\"Bokeh: all BokehJS libraries/stylesheets loaded\");\n        run_callbacks()\n      }\n    }\n\n    function on_error(url) {\n      console.error(\"failed to load \" + url);\n    }\n\n    for (let i = 0; i < css_urls.length; i++) {\n      const url = css_urls[i];\n      const element = document.createElement(\"link\");\n      element.onload = on_load;\n      element.onerror = on_error.bind(null, url);\n      element.rel = \"stylesheet\";\n      element.type = \"text/css\";\n      element.href = url;\n      console.debug(\"Bokeh: injecting link tag for BokehJS stylesheet: \", url);\n      document.body.appendChild(element);\n    }\n\n    const hashes = {\"https://cdn.bokeh.org/bokeh/release/bokeh-2.3.1.min.js\": \"YF85VygJKMVnHE+lLv2AM93Vbstr0yo2TbIu5v8se5Rq3UQAUmcuh4aaJwNlpKwa\", \"https://cdn.bokeh.org/bokeh/release/bokeh-widgets-2.3.1.min.js\": \"KKuas3gevv3PvrlkyCMzffFeaMq5we/a2QsP5AUoS3mJ0jmaCL7jirFJN3GoE/lM\", \"https://cdn.bokeh.org/bokeh/release/bokeh-tables-2.3.1.min.js\": \"MK/uFc3YT18pkvvXRl66tTHjP0/dxoSH2e/eiNMFIguKlun2+WVqaPTWmUy/zvh4\"};\n\n    for (let i = 0; i < js_urls.length; i++) {\n      const url = js_urls[i];\n      const element = document.createElement('script');\n      element.onload = on_load;\n      element.onerror = on_error.bind(null, url);\n      element.async = false;\n      element.src = url;\n      if (url in hashes) {\n        element.crossOrigin = \"anonymous\";\n        element.integrity = \"sha384-\" + hashes[url];\n      }\n      console.debug(\"Bokeh: injecting script tag for BokehJS library: \", url);\n      document.head.appendChild(element);\n    }\n  };\n\n  function inject_raw_css(css) {\n    const element = document.createElement(\"style\");\n    element.appendChild(document.createTextNode(css));\n    document.body.appendChild(element);\n  }\n\n  \n  var js_urls = [\"https://cdn.bokeh.org/bokeh/release/bokeh-2.3.1.min.js\", \"https://cdn.bokeh.org/bokeh/release/bokeh-widgets-2.3.1.min.js\", \"https://cdn.bokeh.org/bokeh/release/bokeh-tables-2.3.1.min.js\"];\n  var css_urls = [];\n  \n\n  var inline_js = [\n    function(Bokeh) {\n      Bokeh.set_log_level(\"info\");\n    },\n    function(Bokeh) {\n    \n    \n    }\n  ];\n\n  function run_inline_js() {\n    \n    if (root.Bokeh !== undefined || force === true) {\n      \n    for (var i = 0; i < inline_js.length; i++) {\n      inline_js[i].call(root, root.Bokeh);\n    }\n    if (force === true) {\n        display_loaded();\n      }} else if (Date.now() < root._bokeh_timeout) {\n      setTimeout(run_inline_js, 100);\n    } else if (!root._bokeh_failed_load) {\n      console.log(\"Bokeh: BokehJS failed to load within specified timeout.\");\n      root._bokeh_failed_load = true;\n    } else if (force !== true) {\n      var cell = $(document.getElementById(\"2896\")).parents('.cell').data().cell;\n      cell.output_area.append_execute_result(NB_LOAD_WARNING)\n    }\n\n  }\n\n  if (root._bokeh_is_loading === 0) {\n    console.debug(\"Bokeh: BokehJS loaded, going straight to plotting\");\n    run_inline_js();\n  } else {\n    load_libs(css_urls, js_urls, function() {\n      console.debug(\"Bokeh: BokehJS plotting callback run at\", now());\n      run_inline_js();\n    });\n  }\n}(window));"
     },
     "metadata": {},
     "output_type": "display_data"
    }
   ],
   "source": [
    "#import numpy \n",
    "import numpy as np\n",
    "#import panda\n",
    "import pandas as pd\n",
    "from pandas import read_csv\n",
    "#import bokeh\n",
    "import bokeh\n",
    "from bokeh.plotting import figure\n",
    "from bokeh.models import ColumnDataSource\n",
    "from bokeh.models import HoverTool\n",
    "from bokeh.models import CDSView, ColumnDataSource, GroupFilter\n",
    "from bokeh.plotting import figure\n",
    "from bokeh.palettes import Spectral3\n",
    "\n",
    "#to utilize the bokeh extencion through the panda library \n",
    "import pandas_bokeh\n",
    "pandas_bokeh.output_notebook()\n"
   ]
  },
  {
   "cell_type": "code",
   "execution_count": 28,
   "id": "directed-bermuda",
   "metadata": {},
   "outputs": [
    {
     "data": {
      "text/html": [
       "<div>\n",
       "<style scoped>\n",
       "    .dataframe tbody tr th:only-of-type {\n",
       "        vertical-align: middle;\n",
       "    }\n",
       "\n",
       "    .dataframe tbody tr th {\n",
       "        vertical-align: top;\n",
       "    }\n",
       "\n",
       "    .dataframe thead th {\n",
       "        text-align: right;\n",
       "    }\n",
       "</style>\n",
       "<table border=\"1\" class=\"dataframe\">\n",
       "  <thead>\n",
       "    <tr style=\"text-align: right;\">\n",
       "      <th></th>\n",
       "      <th>date</th>\n",
       "      <th>listings_count</th>\n",
       "    </tr>\n",
       "  </thead>\n",
       "  <tbody>\n",
       "    <tr>\n",
       "      <th>0</th>\n",
       "      <td>02/01/2020</td>\n",
       "      <td>1</td>\n",
       "    </tr>\n",
       "    <tr>\n",
       "      <th>1</th>\n",
       "      <td>08/01/2020</td>\n",
       "      <td>9</td>\n",
       "    </tr>\n",
       "    <tr>\n",
       "      <th>2</th>\n",
       "      <td>13/01/2020</td>\n",
       "      <td>10</td>\n",
       "    </tr>\n",
       "    <tr>\n",
       "      <th>3</th>\n",
       "      <td>23/01/2020</td>\n",
       "      <td>50</td>\n",
       "    </tr>\n",
       "    <tr>\n",
       "      <th>4</th>\n",
       "      <td>24/01/2020</td>\n",
       "      <td>2</td>\n",
       "    </tr>\n",
       "  </tbody>\n",
       "</table>\n",
       "</div>"
      ],
      "text/plain": [
       "         date  listings_count\n",
       "0  02/01/2020               1\n",
       "1  08/01/2020               9\n",
       "2  13/01/2020              10\n",
       "3  23/01/2020              50\n",
       "4  24/01/2020               2"
      ]
     },
     "execution_count": 28,
     "metadata": {},
     "output_type": "execute_result"
    }
   ],
   "source": [
    "#import the csv file \n",
    "data = pd.read_csv('KPI1v2.csv', header=0, delimiter=';')\n",
    "data.head()"
   ]
  },
  {
   "cell_type": "markdown",
   "id": "approved-strengthening",
   "metadata": {},
   "source": [
    "Import of the csv file, and a visualization of what the datafile looks like. "
   ]
  },
  {
   "cell_type": "code",
   "execution_count": 29,
   "id": "lucky-associate",
   "metadata": {},
   "outputs": [
    {
     "data": {
      "text/plain": [
       "49.53658536585366"
      ]
     },
     "execution_count": 29,
     "metadata": {},
     "output_type": "execute_result"
    }
   ],
   "source": [
    "data.listings_count.mean() #mean value new listing based on the days in the file"
   ]
  },
  {
   "cell_type": "code",
   "execution_count": 30,
   "id": "dietary-lithuania",
   "metadata": {},
   "outputs": [],
   "source": [
    "#making sure that the date format is correct\n",
    "data['date'] = pd.to_datetime(data['date'], format='%d/%m/%Y')"
   ]
  },
  {
   "cell_type": "code",
   "execution_count": 31,
   "id": "announced-mathematics",
   "metadata": {},
   "outputs": [],
   "source": [
    "%matplotlib inline"
   ]
  },
  {
   "cell_type": "code",
   "execution_count": 32,
   "id": "palestinian-comfort",
   "metadata": {},
   "outputs": [
    {
     "data": {
      "text/html": [
       "\n",
       "\n",
       "\n",
       "\n",
       "\n",
       "\n",
       "  <div class=\"bk-root\" id=\"6ec62be1-c515-4e07-adb2-7b07e9333874\" data-root-id=\"2916\"></div>\n"
      ]
     },
     "metadata": {},
     "output_type": "display_data"
    },
    {
     "data": {
      "application/javascript": [
       "(function(root) {\n",
       "  function embed_document(root) {\n",
       "    \n",
       "  var docs_json = {\"73a5dc2f-ab91-4d5b-8973-7fabafc19325\":{\"defs\":[],\"roots\":{\"references\":[{\"attributes\":{\"below\":[{\"id\":\"2925\"}],\"center\":[{\"id\":\"2928\"},{\"id\":\"2932\"},{\"id\":\"2975\"}],\"left\":[{\"id\":\"2929\"}],\"renderers\":[{\"id\":\"2950\"}],\"title\":{\"id\":\"2953\"},\"toolbar\":{\"id\":\"2940\"},\"x_range\":{\"id\":\"2917\"},\"x_scale\":{\"id\":\"2921\"},\"y_range\":{\"id\":\"2919\"},\"y_scale\":{\"id\":\"2923\"}},\"id\":\"2916\",\"subtype\":\"Figure\",\"type\":\"Plot\"},{\"attributes\":{},\"id\":\"2933\",\"type\":\"PanTool\"},{\"attributes\":{},\"id\":\"2936\",\"type\":\"SaveTool\"},{\"attributes\":{\"months\":[0,4,8]},\"id\":\"2970\",\"type\":\"MonthsTicker\"},{\"attributes\":{},\"id\":\"2953\",\"type\":\"Title\"},{\"attributes\":{},\"id\":\"2923\",\"type\":\"LinearScale\"},{\"attributes\":{\"axis\":{\"id\":\"2925\"},\"ticker\":null},\"id\":\"2928\",\"type\":\"Grid\"},{\"attributes\":{\"bottom_units\":\"screen\",\"fill_alpha\":0.5,\"fill_color\":\"lightgrey\",\"left_units\":\"screen\",\"level\":\"overlay\",\"line_alpha\":1.0,\"line_color\":\"black\",\"line_dash\":[4,4],\"line_width\":2,\"right_units\":\"screen\",\"syncable\":false,\"top_units\":\"screen\"},\"id\":\"2939\",\"type\":\"BoxAnnotation\"},{\"attributes\":{},\"id\":\"2934\",\"type\":\"WheelZoomTool\"},{\"attributes\":{},\"id\":\"2972\",\"type\":\"YearsTicker\"},{\"attributes\":{\"months\":[0,2,4,6,8,10]},\"id\":\"2969\",\"type\":\"MonthsTicker\"},{\"attributes\":{\"months\":[0,6]},\"id\":\"2971\",\"type\":\"MonthsTicker\"},{\"attributes\":{\"data\":{\"date\":{\"__ndarray__\":\"AABA1Dj2dkIAAMA2J/h2QgAAgDPD+XZCAAAALfv8dkIAAMCSTf12QgAAwCmX/nZCAABA9Tv/dkIAAEAjzwF3QgAAALe0BHdCAADAs1AGd0IAAECtiAl3QgAAwD0KDndCAADAAucRd0IAAACQBBh3QgAAwLozHHdCAAAAg3Qed0IAAEDi/iF3QgAAwNs2JXdCAABAp9sld0IAAMBygCZ3QgAAgNjSJndCAABAPiUnd0IAAACkdyd3QgAAwAnKJ3dCAABA1W4od0IAAEAxlS13QgAAgOxFNndCAABAUpg2d0IAAMC0hjh3QgAAgBrZOHdCAAAA5n05d0IAAEAXdTp3QgAAAH3HOndCAADA4hk7d0IAAECuvjt3QgAAABQRPHdCAABARQg9d0IAAIB2/z13QgAAwKf2PndCAABACuVAd0IAAACeykN3QgAAwJpmRXdCAAAAzF1Gd0IAAMDI+Ud3QgAAQJSeSHdCAADA9oxKd0IAAMAkIE13QgAAwFKzT3dCAACAuAVQd0IAAMCARlJ3QgAAgOaYUndCAABAen5Vd0IAAADg0FV3QgAAgKt1VndCAACAQr9Xd0IAAECoEVh3QgAAAKWtWXdCAADACgBad0IAAMA4k1x3QgAAQAQ4XXdCAADAz9xdd0IAAEAyy193QgAAQGBeYndCAAAAxrBid0IAAED3p2N3QgAAwMJMZHdCAACAKJ9kd0IAAECO8WR3QgAAAPRDZXdCAACAv+hld0IAAIBJom13QgAAAKyQb3dCAABAdNFxd0IAAABxbXN3QgAAgGqldndCAACAmDh5d0IAAMDJL3p3QgAAwGB5e3dCAAAAknB8d0IAAIBdFX13QgAAQMNnfXdCAABAiESBd0I=\",\"dtype\":\"float64\",\"order\":\"little\",\"shape\":[82]},\"listings_count\":[1,9,10,50,2,11,8,1,36,4,4,1,1,5,1,4,3,2,1,13,6,12,4,26,3,11,4,2,8,14,4,4,17,22,2,39,17,23,4,7,1,24,7,25,9,1,3,10,9,20,1,5,3,6,28,25,4,2,4,11,24,4,4,26,2136,36,16,15,50,14,3,2,179,31,50,189,50,20,50,7,50,512]},\"selected\":{\"id\":\"2973\"},\"selection_policy\":{\"id\":\"2974\"}},\"id\":\"2897\",\"type\":\"ColumnDataSource\"},{\"attributes\":{},\"id\":\"2938\",\"type\":\"HelpTool\"},{\"attributes\":{\"axis_label\":\"Amount of listings \",\"formatter\":{\"id\":\"2959\"},\"major_label_policy\":{\"id\":\"2958\"},\"ticker\":{\"id\":\"2930\"}},\"id\":\"2929\",\"type\":\"LinearAxis\"},{\"attributes\":{\"days\":[1,8,15,22]},\"id\":\"2966\",\"type\":\"DaysTicker\"},{\"attributes\":{},\"id\":\"2919\",\"type\":\"DataRange1d\"},{\"attributes\":{\"days\":[1,4,7,10,13,16,19,22,25,28]},\"id\":\"2965\",\"type\":\"DaysTicker\"},{\"attributes\":{},\"id\":\"2937\",\"type\":\"ResetTool\"},{\"attributes\":{\"days\":[1,2,3,4,5,6,7,8,9,10,11,12,13,14,15,16,17,18,19,20,21,22,23,24,25,26,27,28,29,30,31]},\"id\":\"2964\",\"type\":\"DaysTicker\"},{\"attributes\":{\"days\":[1,15]},\"id\":\"2967\",\"type\":\"DaysTicker\"},{\"attributes\":{\"months\":[0,1,2,3,4,5,6,7,8,9,10,11]},\"id\":\"2968\",\"type\":\"MonthsTicker\"},{\"attributes\":{},\"id\":\"2921\",\"type\":\"LinearScale\"},{\"attributes\":{\"callback\":null,\"tooltips\":[[\"date\",\"@DateTime\"],[\"Listings\",\"@listings_count\"]]},\"id\":\"2977\",\"type\":\"HoverTool\"},{\"attributes\":{\"line_alpha\":0.1,\"line_color\":\"#1f77b4\",\"line_width\":2,\"x\":{\"field\":\"date\"},\"y\":{\"field\":\"listings_count\"}},\"id\":\"2949\",\"type\":\"Line\"},{\"attributes\":{\"formatter\":{\"id\":\"2956\"},\"major_label_policy\":{\"id\":\"2955\"},\"ticker\":{\"id\":\"2926\"}},\"id\":\"2925\",\"type\":\"DatetimeAxis\"},{\"attributes\":{},\"id\":\"2955\",\"type\":\"AllLabels\"},{\"attributes\":{\"base\":24,\"mantissas\":[1,2,4,6,8,12],\"max_interval\":43200000.0,\"min_interval\":3600000.0,\"num_minor_ticks\":0},\"id\":\"2963\",\"type\":\"AdaptiveTicker\"},{\"attributes\":{},\"id\":\"2917\",\"type\":\"DataRange1d\"},{\"attributes\":{\"active_multi\":null,\"tools\":[{\"id\":\"2933\"},{\"id\":\"2934\"},{\"id\":\"2935\"},{\"id\":\"2936\"},{\"id\":\"2937\"},{\"id\":\"2938\"},{\"id\":\"2977\"}]},\"id\":\"2940\",\"type\":\"Toolbar\"},{\"attributes\":{\"source\":{\"id\":\"2897\"}},\"id\":\"2951\",\"type\":\"CDSView\"},{\"attributes\":{\"num_minor_ticks\":5,\"tickers\":[{\"id\":\"2961\"},{\"id\":\"2962\"},{\"id\":\"2963\"},{\"id\":\"2964\"},{\"id\":\"2965\"},{\"id\":\"2966\"},{\"id\":\"2967\"},{\"id\":\"2968\"},{\"id\":\"2969\"},{\"id\":\"2970\"},{\"id\":\"2971\"},{\"id\":\"2972\"}]},\"id\":\"2926\",\"type\":\"DatetimeTicker\"},{\"attributes\":{\"axis\":{\"id\":\"2929\"},\"dimension\":1,\"ticker\":null},\"id\":\"2932\",\"type\":\"Grid\"},{\"attributes\":{},\"id\":\"2959\",\"type\":\"BasicTickFormatter\"},{\"attributes\":{\"base\":60,\"mantissas\":[1,2,5,10,15,20,30],\"max_interval\":1800000.0,\"min_interval\":1000.0,\"num_minor_ticks\":0},\"id\":\"2962\",\"type\":\"AdaptiveTicker\"},{\"attributes\":{\"overlay\":{\"id\":\"2939\"}},\"id\":\"2935\",\"type\":\"BoxZoomTool\"},{\"attributes\":{},\"id\":\"2958\",\"type\":\"AllLabels\"},{\"attributes\":{\"mantissas\":[1,2,5],\"max_interval\":500.0,\"num_minor_ticks\":0},\"id\":\"2961\",\"type\":\"AdaptiveTicker\"},{\"attributes\":{\"items\":[{\"id\":\"2976\"}]},\"id\":\"2975\",\"type\":\"Legend\"},{\"attributes\":{},\"id\":\"2956\",\"type\":\"DatetimeTickFormatter\"},{\"attributes\":{\"label\":{\"value\":\"Average number of new listings per day\"},\"renderers\":[{\"id\":\"2950\"}]},\"id\":\"2976\",\"type\":\"LegendItem\"},{\"attributes\":{},\"id\":\"2973\",\"type\":\"Selection\"},{\"attributes\":{},\"id\":\"2974\",\"type\":\"UnionRenderers\"},{\"attributes\":{\"line_color\":\"#1f77b4\",\"line_width\":2,\"x\":{\"field\":\"date\"},\"y\":{\"field\":\"listings_count\"}},\"id\":\"2948\",\"type\":\"Line\"},{\"attributes\":{\"data_source\":{\"id\":\"2897\"},\"glyph\":{\"id\":\"2948\"},\"hover_glyph\":null,\"muted_glyph\":null,\"nonselection_glyph\":{\"id\":\"2949\"},\"view\":{\"id\":\"2951\"}},\"id\":\"2950\",\"type\":\"GlyphRenderer\"},{\"attributes\":{},\"id\":\"2930\",\"type\":\"BasicTicker\"}],\"root_ids\":[\"2916\"]},\"title\":\"Bokeh Application\",\"version\":\"2.3.1\"}};\n",
       "  var render_items = [{\"docid\":\"73a5dc2f-ab91-4d5b-8973-7fabafc19325\",\"root_ids\":[\"2916\"],\"roots\":{\"2916\":\"6ec62be1-c515-4e07-adb2-7b07e9333874\"}}];\n",
       "  root.Bokeh.embed.embed_items_notebook(docs_json, render_items);\n",
       "\n",
       "  }\n",
       "  if (root.Bokeh !== undefined) {\n",
       "    embed_document(root);\n",
       "  } else {\n",
       "    var attempts = 0;\n",
       "    var timer = setInterval(function(root) {\n",
       "      if (root.Bokeh !== undefined) {\n",
       "        clearInterval(timer);\n",
       "        embed_document(root);\n",
       "      } else {\n",
       "        attempts++;\n",
       "        if (attempts > 100) {\n",
       "          clearInterval(timer);\n",
       "          console.log(\"Bokeh: ERROR: Unable to run BokehJS code because BokehJS library is missing\");\n",
       "        }\n",
       "      }\n",
       "    }, 10, root)\n",
       "  }\n",
       "})(window);"
      ],
      "application/vnd.bokehjs_exec.v0+json": ""
     },
     "metadata": {
      "application/vnd.bokehjs_exec.v0+json": {
       "id": "2916"
      }
     },
     "output_type": "display_data"
    }
   ],
   "source": [
    "group = data.groupby('date').listings_count.sum()\n",
    "source = ColumnDataSource(pd.DataFrame(group)) #creating columbdatasource to utilize the bokeh library \n",
    "\n",
    "p = figure(plot_height=400, toolbar_location=None, tools=\"\")\n",
    "p = figure(x_axis_type='datetime')\n",
    "p.line(x='date', y='listings_count', source=source, line_width=2,legend_label='Average number of new listings per day' )\n",
    "p.yaxis.axis_label = 'Amount of listings '\n",
    "\n",
    "\n",
    "#create Hovertool \n",
    "#hover = HoverTool()\n",
    "#hover.tooltips=[\n",
    " #       ('Date', '@date'),\n",
    "  #      ('Listings', '@listings_count')], \n",
    "   #     formatters={'@date': 'datetime'}\n",
    "hover = HoverTool()\n",
    "hover.tooltips=[('date', '@DateTime'), ('Listings', '@listings_count')]\n",
    "# need to add the dateTimeformat on date in the hovertool \n",
    "p.add_tools(hover)\n",
    "\n",
    "show(p)\n"
   ]
  },
  {
   "cell_type": "code",
   "execution_count": 52,
   "id": "compact-realtor",
   "metadata": {},
   "outputs": [
    {
     "data": {
      "text/html": [
       "\n",
       "\n",
       "\n",
       "\n",
       "\n",
       "\n",
       "  <div class=\"bk-root\" id=\"3ce84975-54f2-4c94-aca0-eab999ac3d4d\" data-root-id=\"6234\"></div>\n"
      ]
     },
     "metadata": {},
     "output_type": "display_data"
    },
    {
     "data": {
      "application/javascript": [
       "(function(root) {\n",
       "  function embed_document(root) {\n",
       "    \n",
       "  var docs_json = {\"fd43e8ec-8313-4a9d-afc0-24232aea67b2\":{\"defs\":[],\"roots\":{\"references\":[{\"attributes\":{\"below\":[{\"id\":\"6245\"}],\"center\":[{\"id\":\"6248\"},{\"id\":\"6252\"},{\"id\":\"6284\"}],\"height\":400,\"left\":[{\"id\":\"6249\"}],\"output_backend\":\"webgl\",\"renderers\":[{\"id\":\"6273\"}],\"sizing_mode\":\"fixed\",\"title\":{\"id\":\"6235\"},\"toolbar\":{\"id\":\"6260\"},\"x_range\":{\"id\":\"6237\"},\"x_scale\":{\"id\":\"6241\"},\"y_range\":{\"id\":\"6239\"},\"y_scale\":{\"id\":\"6243\"}},\"id\":\"6234\",\"subtype\":\"Figure\",\"type\":\"Plot\"},{\"attributes\":{},\"id\":\"6258\",\"type\":\"HelpTool\"},{\"attributes\":{},\"id\":\"6253\",\"type\":\"PanTool\"},{\"attributes\":{\"click_policy\":\"hide\",\"items\":[{\"id\":\"6285\"}]},\"id\":\"6284\",\"type\":\"Legend\"},{\"attributes\":{\"overlay\":{\"id\":\"6259\"}},\"id\":\"6255\",\"type\":\"BoxZoomTool\"},{\"attributes\":{},\"id\":\"6256\",\"type\":\"SaveTool\"},{\"attributes\":{\"label\":{\"value\":\" listings_count\"},\"renderers\":[{\"id\":\"6273\"}]},\"id\":\"6285\",\"type\":\"LegendItem\"},{\"attributes\":{},\"id\":\"6257\",\"type\":\"ResetTool\"},{\"attributes\":{\"callback\":null,\"mode\":\"vline\",\"renderers\":[{\"id\":\"6273\"}],\"tooltips\":[[\"date\",\"@__x__values_original\"],[\"listings_count\",\"@{listings_count}\"]]},\"id\":\"6286\",\"type\":\"HoverTool\"},{\"attributes\":{\"data_source\":{\"id\":\"6233\"},\"glyph\":{\"id\":\"6271\"},\"hover_glyph\":null,\"muted_glyph\":null,\"nonselection_glyph\":{\"id\":\"6272\"},\"view\":{\"id\":\"6274\"}},\"id\":\"6273\",\"type\":\"GlyphRenderer\"},{\"attributes\":{\"fill_alpha\":{\"value\":0.1},\"fill_color\":{\"value\":\"#1f77b4\"},\"line_alpha\":{\"value\":0.1},\"line_color\":{\"value\":\"#1f77b4\"},\"line_width\":{\"value\":2},\"top\":{\"field\":\"listings_count\"},\"width\":{\"value\":0.7},\"x\":{\"field\":\"__x__values\",\"transform\":{\"id\":\"6269\"}}},\"id\":\"6272\",\"type\":\"VBar\"},{\"attributes\":{},\"id\":\"6282\",\"type\":\"Selection\"},{\"attributes\":{},\"id\":\"6283\",\"type\":\"UnionRenderers\"},{\"attributes\":{},\"id\":\"6277\",\"type\":\"AllLabels\"},{\"attributes\":{},\"id\":\"6243\",\"type\":\"LinearScale\"},{\"attributes\":{\"source\":{\"id\":\"6233\"}},\"id\":\"6274\",\"type\":\"CDSView\"},{\"attributes\":{\"ticks\":[0,1,2,3,4,5,6,7,8,9,10,11,12,13,14,15,16,17,18,19,20,21,22,23,24,25,26,27,28,29,30,31,32,33,34,35,36,37,38,39,40,41,42,43,44,45,46,47,48,49,50,51,52,53,54,55,56,57,58,59,60,61,62,63,64,65,66,67,68,69,70,71,72,73,74,75,76,77,78,79,80,81]},\"id\":\"6288\",\"type\":\"FixedTicker\"},{\"attributes\":{\"range\":{\"id\":\"6237\"}},\"id\":\"6269\",\"type\":\"Dodge\"},{\"attributes\":{},\"id\":\"6239\",\"type\":\"DataRange1d\"},{\"attributes\":{\"code\":\"\\n                                    var labels = {0: '2020/01/02', 1: '2020/01/08', 2: '2020/01/13', 3: '2020/01/23', 4: '2020/01/24', 5: '2020/01/28', 6: '2020/01/30', 7: '2020/02/07', 8: '2020/02/16', 9: '2020/02/21', 10: '2020/03/02', 11: '2020/03/16', 12: '2020/03/28', 13: '2020/04/16', 14: '2020/04/29', 15: '2020/05/06', 16: '2020/05/17', 17: '2020/05/27', 18: '2020/05/29', 19: '2020/05/31', 20: '2020/06/01', 21: '2020/06/02', 22: '2020/06/03', 23: '2020/06/04', 24: '2020/06/06', 25: '2020/06/22', 26: '2020/07/19', 27: '2020/07/20', 28: '2020/07/26', 29: '2020/07/27', 30: '2020/07/29', 31: '2020/08/01', 32: '2020/08/02', 33: '2020/08/03', 34: '2020/08/05', 35: '2020/08/06', 36: '2020/08/09', 37: '2020/08/12', 38: '2020/08/15', 39: '2020/08/21', 40: '2020/08/30', 41: '2020/09/04', 42: '2020/09/07', 43: '2020/09/12', 44: '2020/09/14', 45: '2020/09/20', 46: '2020/09/28', 47: '2020/10/06', 48: '2020/10/07', 49: '2020/10/14', 50: '2020/10/15', 51: '2020/10/24', 52: '2020/10/25', 53: '2020/10/27', 54: '2020/10/31', 55: '2020/11/01', 56: '2020/11/06', 57: '2020/11/07', 58: '2020/11/15', 59: '2020/11/17', 60: '2020/11/19', 61: '2020/11/25', 62: '2020/12/03', 63: '2020/12/04', 64: '2020/12/07', 65: '2020/12/09', 66: '2020/12/10', 67: '2020/12/11', 68: '2020/12/12', 69: '2020/12/14', 70: '2021/01/07', 71: '2021/01/13', 72: '2021/01/20', 73: '2021/01/25', 74: '2021/02/04', 75: '2021/02/12', 76: '2021/02/15', 77: '2021/02/19', 78: '2021/02/22', 79: '2021/02/24', 80: '2021/02/25', 81: '2021/03/09'};\\n                                    return labels[tick];\\n                                    \"},\"id\":\"6267\",\"type\":\"FuncTickFormatter\"},{\"attributes\":{},\"id\":\"6235\",\"type\":\"Title\"},{\"attributes\":{\"bottom_units\":\"screen\",\"fill_alpha\":0.5,\"fill_color\":\"lightgrey\",\"left_units\":\"screen\",\"level\":\"overlay\",\"line_alpha\":1.0,\"line_color\":\"black\",\"line_dash\":[4,4],\"line_width\":2,\"right_units\":\"screen\",\"syncable\":false,\"top_units\":\"screen\"},\"id\":\"6259\",\"type\":\"BoxAnnotation\"},{\"attributes\":{},\"id\":\"6237\",\"type\":\"DataRange1d\"},{\"attributes\":{\"active_multi\":null,\"active_scroll\":{\"id\":\"6254\"},\"tools\":[{\"id\":\"6253\"},{\"id\":\"6254\"},{\"id\":\"6255\"},{\"id\":\"6256\"},{\"id\":\"6257\"},{\"id\":\"6258\"},{\"id\":\"6286\"}]},\"id\":\"6260\",\"type\":\"Toolbar\"},{\"attributes\":{},\"id\":\"6241\",\"type\":\"LinearScale\"},{\"attributes\":{\"fill_color\":{\"value\":\"#1f77b4\"},\"line_color\":{\"value\":\"#1f77b4\"},\"line_width\":{\"value\":2},\"top\":{\"field\":\"listings_count\"},\"width\":{\"value\":0.7},\"x\":{\"field\":\"__x__values\",\"transform\":{\"id\":\"6269\"}}},\"id\":\"6271\",\"type\":\"VBar\"},{\"attributes\":{},\"id\":\"6279\",\"type\":\"AllLabels\"},{\"attributes\":{\"axis_label\":\"date\",\"formatter\":{\"id\":\"6267\"},\"major_label_policy\":{\"id\":\"6277\"},\"ticker\":{\"id\":\"6288\"}},\"id\":\"6245\",\"type\":\"LinearAxis\"},{\"attributes\":{\"data\":{\"__x__values\":[0,1,2,3,4,5,6,7,8,9,10,11,12,13,14,15,16,17,18,19,20,21,22,23,24,25,26,27,28,29,30,31,32,33,34,35,36,37,38,39,40,41,42,43,44,45,46,47,48,49,50,51,52,53,54,55,56,57,58,59,60,61,62,63,64,65,66,67,68,69,70,71,72,73,74,75,76,77,78,79,80,81],\"__x__values_original\":{\"__ndarray__\":\"AABA1Dj2dkIAAMA2J/h2QgAAgDPD+XZCAAAALfv8dkIAAMCSTf12QgAAwCmX/nZCAABA9Tv/dkIAAEAjzwF3QgAAALe0BHdCAADAs1AGd0IAAECtiAl3QgAAwD0KDndCAADAAucRd0IAAACQBBh3QgAAwLozHHdCAAAAg3Qed0IAAEDi/iF3QgAAwNs2JXdCAABAp9sld0IAAMBygCZ3QgAAgNjSJndCAABAPiUnd0IAAACkdyd3QgAAwAnKJ3dCAABA1W4od0IAAEAxlS13QgAAgOxFNndCAABAUpg2d0IAAMC0hjh3QgAAgBrZOHdCAAAA5n05d0IAAEAXdTp3QgAAAH3HOndCAADA4hk7d0IAAECuvjt3QgAAABQRPHdCAABARQg9d0IAAIB2/z13QgAAwKf2PndCAABACuVAd0IAAACeykN3QgAAwJpmRXdCAAAAzF1Gd0IAAMDI+Ud3QgAAQJSeSHdCAADA9oxKd0IAAMAkIE13QgAAwFKzT3dCAACAuAVQd0IAAMCARlJ3QgAAgOaYUndCAABAen5Vd0IAAADg0FV3QgAAgKt1VndCAACAQr9Xd0IAAECoEVh3QgAAAKWtWXdCAADACgBad0IAAMA4k1x3QgAAQAQ4XXdCAADAz9xdd0IAAEAyy193QgAAQGBeYndCAAAAxrBid0IAAED3p2N3QgAAwMJMZHdCAACAKJ9kd0IAAECO8WR3QgAAAPRDZXdCAACAv+hld0IAAIBJom13QgAAAKyQb3dCAABAdNFxd0IAAABxbXN3QgAAgGqldndCAACAmDh5d0IAAMDJL3p3QgAAwGB5e3dCAAAAknB8d0IAAIBdFX13QgAAQMNnfXdCAABAiESBd0I=\",\"dtype\":\"float64\",\"order\":\"little\",\"shape\":[82]},\"listings_count\":[1,9,10,50,2,11,8,1,36,4,4,1,1,5,1,4,3,2,1,13,6,12,4,26,3,11,4,2,8,14,4,4,17,22,2,39,17,23,4,7,1,24,7,25,9,1,3,10,9,20,1,5,3,6,28,25,4,2,4,11,24,4,4,26,2136,36,16,15,50,14,3,2,179,31,50,189,50,20,50,7,50,512]},\"selected\":{\"id\":\"6282\"},\"selection_policy\":{\"id\":\"6283\"}},\"id\":\"6233\",\"type\":\"ColumnDataSource\"},{\"attributes\":{},\"id\":\"6280\",\"type\":\"BasicTickFormatter\"},{\"attributes\":{\"axis\":{\"id\":\"6245\"},\"ticker\":null},\"id\":\"6248\",\"type\":\"Grid\"},{\"attributes\":{},\"id\":\"6254\",\"type\":\"WheelZoomTool\"},{\"attributes\":{\"axis_label\":\"listings_count\",\"formatter\":{\"id\":\"6280\"},\"major_label_policy\":{\"id\":\"6279\"},\"ticker\":{\"id\":\"6250\"}},\"id\":\"6249\",\"type\":\"LinearAxis\"},{\"attributes\":{\"axis\":{\"id\":\"6249\"},\"dimension\":1,\"ticker\":null},\"id\":\"6252\",\"type\":\"Grid\"},{\"attributes\":{},\"id\":\"6250\",\"type\":\"BasicTicker\"}],\"root_ids\":[\"6234\"]},\"title\":\"Bokeh Application\",\"version\":\"2.3.1\"}};\n",
       "  var render_items = [{\"docid\":\"fd43e8ec-8313-4a9d-afc0-24232aea67b2\",\"root_ids\":[\"6234\"],\"roots\":{\"6234\":\"3ce84975-54f2-4c94-aca0-eab999ac3d4d\"}}];\n",
       "  root.Bokeh.embed.embed_items_notebook(docs_json, render_items);\n",
       "\n",
       "  }\n",
       "  if (root.Bokeh !== undefined) {\n",
       "    embed_document(root);\n",
       "  } else {\n",
       "    var attempts = 0;\n",
       "    var timer = setInterval(function(root) {\n",
       "      if (root.Bokeh !== undefined) {\n",
       "        clearInterval(timer);\n",
       "        embed_document(root);\n",
       "      } else {\n",
       "        attempts++;\n",
       "        if (attempts > 100) {\n",
       "          clearInterval(timer);\n",
       "          console.log(\"Bokeh: ERROR: Unable to run BokehJS code because BokehJS library is missing\");\n",
       "        }\n",
       "      }\n",
       "    }, 10, root)\n",
       "  }\n",
       "})(window);"
      ],
      "application/vnd.bokehjs_exec.v0+json": ""
     },
     "metadata": {
      "application/vnd.bokehjs_exec.v0+json": {
       "id": "6234"
      }
     },
     "output_type": "display_data"
    },
    {
     "data": {
      "text/html": [
       "<div style=\"display: table;\"><div style=\"display: table-row;\"><div style=\"display: table-cell;\"><b title=\"bokeh.plotting.figure.Figure\">Figure</b>(</div><div style=\"display: table-cell;\">id&nbsp;=&nbsp;'6234', <span id=\"6477\" style=\"cursor: pointer;\">&hellip;)</span></div></div><div class=\"6476\" style=\"display: none;\"><div style=\"display: table-cell;\"></div><div style=\"display: table-cell;\">above&nbsp;=&nbsp;[],</div></div><div class=\"6476\" style=\"display: none;\"><div style=\"display: table-cell;\"></div><div style=\"display: table-cell;\">align&nbsp;=&nbsp;'start',</div></div><div class=\"6476\" style=\"display: none;\"><div style=\"display: table-cell;\"></div><div style=\"display: table-cell;\">aspect_ratio&nbsp;=&nbsp;None,</div></div><div class=\"6476\" style=\"display: none;\"><div style=\"display: table-cell;\"></div><div style=\"display: table-cell;\">aspect_scale&nbsp;=&nbsp;1,</div></div><div class=\"6476\" style=\"display: none;\"><div style=\"display: table-cell;\"></div><div style=\"display: table-cell;\">background&nbsp;=&nbsp;None,</div></div><div class=\"6476\" style=\"display: none;\"><div style=\"display: table-cell;\"></div><div style=\"display: table-cell;\">background_fill_alpha&nbsp;=&nbsp;1.0,</div></div><div class=\"6476\" style=\"display: none;\"><div style=\"display: table-cell;\"></div><div style=\"display: table-cell;\">background_fill_color&nbsp;=&nbsp;'#ffffff',</div></div><div class=\"6476\" style=\"display: none;\"><div style=\"display: table-cell;\"></div><div style=\"display: table-cell;\">below&nbsp;=&nbsp;[LinearAxis(id='6245', ...)],</div></div><div class=\"6476\" style=\"display: none;\"><div style=\"display: table-cell;\"></div><div style=\"display: table-cell;\">border_fill_alpha&nbsp;=&nbsp;1.0,</div></div><div class=\"6476\" style=\"display: none;\"><div style=\"display: table-cell;\"></div><div style=\"display: table-cell;\">border_fill_color&nbsp;=&nbsp;'#ffffff',</div></div><div class=\"6476\" style=\"display: none;\"><div style=\"display: table-cell;\"></div><div style=\"display: table-cell;\">center&nbsp;=&nbsp;[Grid(id='6248', ...), Grid(id='6252', ...), Legend(id='6284', ...)],</div></div><div class=\"6476\" style=\"display: none;\"><div style=\"display: table-cell;\"></div><div style=\"display: table-cell;\">css_classes&nbsp;=&nbsp;[],</div></div><div class=\"6476\" style=\"display: none;\"><div style=\"display: table-cell;\"></div><div style=\"display: table-cell;\">disabled&nbsp;=&nbsp;False,</div></div><div class=\"6476\" style=\"display: none;\"><div style=\"display: table-cell;\"></div><div style=\"display: table-cell;\">extra_x_ranges&nbsp;=&nbsp;{},</div></div><div class=\"6476\" style=\"display: none;\"><div style=\"display: table-cell;\"></div><div style=\"display: table-cell;\">extra_y_ranges&nbsp;=&nbsp;{},</div></div><div class=\"6476\" style=\"display: none;\"><div style=\"display: table-cell;\"></div><div style=\"display: table-cell;\">frame_height&nbsp;=&nbsp;None,</div></div><div class=\"6476\" style=\"display: none;\"><div style=\"display: table-cell;\"></div><div style=\"display: table-cell;\">frame_width&nbsp;=&nbsp;None,</div></div><div class=\"6476\" style=\"display: none;\"><div style=\"display: table-cell;\"></div><div style=\"display: table-cell;\">height&nbsp;=&nbsp;400,</div></div><div class=\"6476\" style=\"display: none;\"><div style=\"display: table-cell;\"></div><div style=\"display: table-cell;\">height_policy&nbsp;=&nbsp;'auto',</div></div><div class=\"6476\" style=\"display: none;\"><div style=\"display: table-cell;\"></div><div style=\"display: table-cell;\">hidpi&nbsp;=&nbsp;True,</div></div><div class=\"6476\" style=\"display: none;\"><div style=\"display: table-cell;\"></div><div style=\"display: table-cell;\">inner_height&nbsp;=&nbsp;0,</div></div><div class=\"6476\" style=\"display: none;\"><div style=\"display: table-cell;\"></div><div style=\"display: table-cell;\">inner_width&nbsp;=&nbsp;0,</div></div><div class=\"6476\" style=\"display: none;\"><div style=\"display: table-cell;\"></div><div style=\"display: table-cell;\">js_event_callbacks&nbsp;=&nbsp;{},</div></div><div class=\"6476\" style=\"display: none;\"><div style=\"display: table-cell;\"></div><div style=\"display: table-cell;\">js_property_callbacks&nbsp;=&nbsp;{},</div></div><div class=\"6476\" style=\"display: none;\"><div style=\"display: table-cell;\"></div><div style=\"display: table-cell;\">left&nbsp;=&nbsp;[LinearAxis(id='6249', ...)],</div></div><div class=\"6476\" style=\"display: none;\"><div style=\"display: table-cell;\"></div><div style=\"display: table-cell;\">lod_factor&nbsp;=&nbsp;10,</div></div><div class=\"6476\" style=\"display: none;\"><div style=\"display: table-cell;\"></div><div style=\"display: table-cell;\">lod_interval&nbsp;=&nbsp;300,</div></div><div class=\"6476\" style=\"display: none;\"><div style=\"display: table-cell;\"></div><div style=\"display: table-cell;\">lod_threshold&nbsp;=&nbsp;2000,</div></div><div class=\"6476\" style=\"display: none;\"><div style=\"display: table-cell;\"></div><div style=\"display: table-cell;\">lod_timeout&nbsp;=&nbsp;500,</div></div><div class=\"6476\" style=\"display: none;\"><div style=\"display: table-cell;\"></div><div style=\"display: table-cell;\">margin&nbsp;=&nbsp;(0, 0, 0, 0),</div></div><div class=\"6476\" style=\"display: none;\"><div style=\"display: table-cell;\"></div><div style=\"display: table-cell;\">match_aspect&nbsp;=&nbsp;False,</div></div><div class=\"6476\" style=\"display: none;\"><div style=\"display: table-cell;\"></div><div style=\"display: table-cell;\">max_height&nbsp;=&nbsp;None,</div></div><div class=\"6476\" style=\"display: none;\"><div style=\"display: table-cell;\"></div><div style=\"display: table-cell;\">max_width&nbsp;=&nbsp;None,</div></div><div class=\"6476\" style=\"display: none;\"><div style=\"display: table-cell;\"></div><div style=\"display: table-cell;\">min_border&nbsp;=&nbsp;5,</div></div><div class=\"6476\" style=\"display: none;\"><div style=\"display: table-cell;\"></div><div style=\"display: table-cell;\">min_border_bottom&nbsp;=&nbsp;None,</div></div><div class=\"6476\" style=\"display: none;\"><div style=\"display: table-cell;\"></div><div style=\"display: table-cell;\">min_border_left&nbsp;=&nbsp;None,</div></div><div class=\"6476\" style=\"display: none;\"><div style=\"display: table-cell;\"></div><div style=\"display: table-cell;\">min_border_right&nbsp;=&nbsp;None,</div></div><div class=\"6476\" style=\"display: none;\"><div style=\"display: table-cell;\"></div><div style=\"display: table-cell;\">min_border_top&nbsp;=&nbsp;None,</div></div><div class=\"6476\" style=\"display: none;\"><div style=\"display: table-cell;\"></div><div style=\"display: table-cell;\">min_height&nbsp;=&nbsp;None,</div></div><div class=\"6476\" style=\"display: none;\"><div style=\"display: table-cell;\"></div><div style=\"display: table-cell;\">min_width&nbsp;=&nbsp;None,</div></div><div class=\"6476\" style=\"display: none;\"><div style=\"display: table-cell;\"></div><div style=\"display: table-cell;\">name&nbsp;=&nbsp;None,</div></div><div class=\"6476\" style=\"display: none;\"><div style=\"display: table-cell;\"></div><div style=\"display: table-cell;\">outer_height&nbsp;=&nbsp;0,</div></div><div class=\"6476\" style=\"display: none;\"><div style=\"display: table-cell;\"></div><div style=\"display: table-cell;\">outer_width&nbsp;=&nbsp;0,</div></div><div class=\"6476\" style=\"display: none;\"><div style=\"display: table-cell;\"></div><div style=\"display: table-cell;\">outline_line_alpha&nbsp;=&nbsp;1.0,</div></div><div class=\"6476\" style=\"display: none;\"><div style=\"display: table-cell;\"></div><div style=\"display: table-cell;\">outline_line_cap&nbsp;=&nbsp;'butt',</div></div><div class=\"6476\" style=\"display: none;\"><div style=\"display: table-cell;\"></div><div style=\"display: table-cell;\">outline_line_color&nbsp;=&nbsp;'#e5e5e5',</div></div><div class=\"6476\" style=\"display: none;\"><div style=\"display: table-cell;\"></div><div style=\"display: table-cell;\">outline_line_dash&nbsp;=&nbsp;[],</div></div><div class=\"6476\" style=\"display: none;\"><div style=\"display: table-cell;\"></div><div style=\"display: table-cell;\">outline_line_dash_offset&nbsp;=&nbsp;0,</div></div><div class=\"6476\" style=\"display: none;\"><div style=\"display: table-cell;\"></div><div style=\"display: table-cell;\">outline_line_join&nbsp;=&nbsp;'bevel',</div></div><div class=\"6476\" style=\"display: none;\"><div style=\"display: table-cell;\"></div><div style=\"display: table-cell;\">outline_line_width&nbsp;=&nbsp;1,</div></div><div class=\"6476\" style=\"display: none;\"><div style=\"display: table-cell;\"></div><div style=\"display: table-cell;\">output_backend&nbsp;=&nbsp;'webgl',</div></div><div class=\"6476\" style=\"display: none;\"><div style=\"display: table-cell;\"></div><div style=\"display: table-cell;\">renderers&nbsp;=&nbsp;[GlyphRenderer(id='6273', ...)],</div></div><div class=\"6476\" style=\"display: none;\"><div style=\"display: table-cell;\"></div><div style=\"display: table-cell;\">reset_policy&nbsp;=&nbsp;'standard',</div></div><div class=\"6476\" style=\"display: none;\"><div style=\"display: table-cell;\"></div><div style=\"display: table-cell;\">right&nbsp;=&nbsp;[],</div></div><div class=\"6476\" style=\"display: none;\"><div style=\"display: table-cell;\"></div><div style=\"display: table-cell;\">sizing_mode&nbsp;=&nbsp;'fixed',</div></div><div class=\"6476\" style=\"display: none;\"><div style=\"display: table-cell;\"></div><div style=\"display: table-cell;\">subscribed_events&nbsp;=&nbsp;[],</div></div><div class=\"6476\" style=\"display: none;\"><div style=\"display: table-cell;\"></div><div style=\"display: table-cell;\">syncable&nbsp;=&nbsp;True,</div></div><div class=\"6476\" style=\"display: none;\"><div style=\"display: table-cell;\"></div><div style=\"display: table-cell;\">tags&nbsp;=&nbsp;[],</div></div><div class=\"6476\" style=\"display: none;\"><div style=\"display: table-cell;\"></div><div style=\"display: table-cell;\">title&nbsp;=&nbsp;Title(id='6235', ...),</div></div><div class=\"6476\" style=\"display: none;\"><div style=\"display: table-cell;\"></div><div style=\"display: table-cell;\">title_location&nbsp;=&nbsp;'above',</div></div><div class=\"6476\" style=\"display: none;\"><div style=\"display: table-cell;\"></div><div style=\"display: table-cell;\">toolbar&nbsp;=&nbsp;Toolbar(id='6260', ...),</div></div><div class=\"6476\" style=\"display: none;\"><div style=\"display: table-cell;\"></div><div style=\"display: table-cell;\">toolbar_location&nbsp;=&nbsp;'right',</div></div><div class=\"6476\" style=\"display: none;\"><div style=\"display: table-cell;\"></div><div style=\"display: table-cell;\">toolbar_sticky&nbsp;=&nbsp;True,</div></div><div class=\"6476\" style=\"display: none;\"><div style=\"display: table-cell;\"></div><div style=\"display: table-cell;\">visible&nbsp;=&nbsp;True,</div></div><div class=\"6476\" style=\"display: none;\"><div style=\"display: table-cell;\"></div><div style=\"display: table-cell;\">width&nbsp;=&nbsp;600,</div></div><div class=\"6476\" style=\"display: none;\"><div style=\"display: table-cell;\"></div><div style=\"display: table-cell;\">width_policy&nbsp;=&nbsp;'auto',</div></div><div class=\"6476\" style=\"display: none;\"><div style=\"display: table-cell;\"></div><div style=\"display: table-cell;\">x_range&nbsp;=&nbsp;DataRange1d(id='6237', ...),</div></div><div class=\"6476\" style=\"display: none;\"><div style=\"display: table-cell;\"></div><div style=\"display: table-cell;\">x_scale&nbsp;=&nbsp;LinearScale(id='6241', ...),</div></div><div class=\"6476\" style=\"display: none;\"><div style=\"display: table-cell;\"></div><div style=\"display: table-cell;\">y_range&nbsp;=&nbsp;DataRange1d(id='6239', ...),</div></div><div class=\"6476\" style=\"display: none;\"><div style=\"display: table-cell;\"></div><div style=\"display: table-cell;\">y_scale&nbsp;=&nbsp;LinearScale(id='6243', ...))</div></div></div>\n",
       "<script>\n",
       "(function() {\n",
       "  var expanded = false;\n",
       "  var ellipsis = document.getElementById(\"6477\");\n",
       "  ellipsis.addEventListener(\"click\", function() {\n",
       "    var rows = document.getElementsByClassName(\"6476\");\n",
       "    for (var i = 0; i < rows.length; i++) {\n",
       "      var el = rows[i];\n",
       "      el.style.display = expanded ? \"none\" : \"table-row\";\n",
       "    }\n",
       "    ellipsis.innerHTML = expanded ? \"&hellip;)\" : \"&lsaquo;&lsaquo;&lsaquo;\";\n",
       "    expanded = !expanded;\n",
       "  });\n",
       "})();\n",
       "</script>\n"
      ],
      "text/plain": [
       "Figure(id='6234', ...)"
      ]
     },
     "execution_count": 52,
     "metadata": {},
     "output_type": "execute_result"
    }
   ],
   "source": [
    "hover.tooltips = [\n",
    "    (\"date\", \"@date\"),\n",
    "    (\"(x,y)\", \"($x, $y)\"),\n",
    "    (\"listings_count\",\"@listings_count\"),\n",
    "]\n",
    "data.plot_bokeh(kind='bar', x = 'date', y = 'listings_count') #bar-plot visualization of the dataset \n"
   ]
  },
  {
   "cell_type": "code",
   "execution_count": 50,
   "id": "postal-buddy",
   "metadata": {},
   "outputs": [
    {
     "data": {
      "text/html": [
       "\n",
       "\n",
       "\n",
       "\n",
       "\n",
       "\n",
       "  <div class=\"bk-root\" id=\"c19bc01a-9d60-4721-92fe-90f111c8efae\" data-root-id=\"5593\"></div>\n"
      ]
     },
     "metadata": {},
     "output_type": "display_data"
    },
    {
     "data": {
      "application/javascript": [
       "(function(root) {\n",
       "  function embed_document(root) {\n",
       "    \n",
       "  var docs_json = {\"c5b3a704-f41f-42ef-867b-8ddca02b3bfb\":{\"defs\":[],\"roots\":{\"references\":[{\"attributes\":{\"below\":[{\"id\":\"5604\"}],\"center\":[{\"id\":\"5607\"},{\"id\":\"5611\"},{\"id\":\"5654\"}],\"height\":400,\"left\":[{\"id\":\"5608\"}],\"output_backend\":\"webgl\",\"renderers\":[{\"id\":\"5630\"}],\"sizing_mode\":\"fixed\",\"title\":{\"id\":\"5594\"},\"toolbar\":{\"id\":\"5619\"},\"x_range\":{\"id\":\"5596\"},\"x_scale\":{\"id\":\"5600\"},\"y_range\":{\"id\":\"5598\"},\"y_scale\":{\"id\":\"5602\"}},\"id\":\"5593\",\"subtype\":\"Figure\",\"type\":\"Plot\"},{\"attributes\":{},\"id\":\"5602\",\"type\":\"LinearScale\"},{\"attributes\":{\"axis_label\":\"listings_count\",\"formatter\":{\"id\":\"5638\"},\"major_label_policy\":{\"id\":\"5637\"},\"ticker\":{\"id\":\"5609\"}},\"id\":\"5608\",\"type\":\"LinearAxis\"},{\"attributes\":{},\"id\":\"5609\",\"type\":\"BasicTicker\"},{\"attributes\":{\"source\":{\"id\":\"5626\"}},\"id\":\"5631\",\"type\":\"CDSView\"},{\"attributes\":{\"axis\":{\"id\":\"5608\"},\"dimension\":1,\"ticker\":null},\"id\":\"5611\",\"type\":\"Grid\"},{\"attributes\":{\"overlay\":{\"id\":\"5618\"}},\"id\":\"5614\",\"type\":\"BoxZoomTool\"},{\"attributes\":{},\"id\":\"5634\",\"type\":\"AllLabels\"},{\"attributes\":{},\"id\":\"5652\",\"type\":\"Selection\"},{\"attributes\":{},\"id\":\"5617\",\"type\":\"HelpTool\"},{\"attributes\":{},\"id\":\"5596\",\"type\":\"DataRange1d\"},{\"attributes\":{\"days\":[\"%d %B %Y\"],\"hours\":[\"%H:%M:%S\"],\"milliseconds\":[\"%H:%M:%S.%f\"],\"minutes\":[\"%H:%M:%S\"],\"months\":[\"%d %B %Y\"],\"seconds\":[\"%H:%M:%S\"],\"years\":[\"%d %B %Y\"]},\"id\":\"5658\",\"type\":\"DatetimeTickFormatter\"},{\"attributes\":{},\"id\":\"5598\",\"type\":\"DataRange1d\"},{\"attributes\":{\"data\":{\"__x__values\":{\"__ndarray__\":\"AABA1Dj2dkIAAMA2J/h2QgAAgDPD+XZCAAAALfv8dkIAAMCSTf12QgAAwCmX/nZCAABA9Tv/dkIAAEAjzwF3QgAAALe0BHdCAADAs1AGd0IAAECtiAl3QgAAwD0KDndCAADAAucRd0IAAACQBBh3QgAAwLozHHdCAAAAg3Qed0IAAEDi/iF3QgAAwNs2JXdCAABAp9sld0IAAMBygCZ3QgAAgNjSJndCAABAPiUnd0IAAACkdyd3QgAAwAnKJ3dCAABA1W4od0IAAEAxlS13QgAAgOxFNndCAABAUpg2d0IAAMC0hjh3QgAAgBrZOHdCAAAA5n05d0IAAEAXdTp3QgAAAH3HOndCAADA4hk7d0IAAECuvjt3QgAAABQRPHdCAABARQg9d0IAAIB2/z13QgAAwKf2PndCAABACuVAd0IAAACeykN3QgAAwJpmRXdCAAAAzF1Gd0IAAMDI+Ud3QgAAQJSeSHdCAADA9oxKd0IAAMAkIE13QgAAwFKzT3dCAACAuAVQd0IAAMCARlJ3QgAAgOaYUndCAABAen5Vd0IAAADg0FV3QgAAgKt1VndCAACAQr9Xd0IAAECoEVh3QgAAAKWtWXdCAADACgBad0IAAMA4k1x3QgAAQAQ4XXdCAADAz9xdd0IAAEAyy193QgAAQGBeYndCAAAAxrBid0IAAED3p2N3QgAAwMJMZHdCAACAKJ9kd0IAAECO8WR3QgAAAPRDZXdCAACAv+hld0IAAIBJom13QgAAAKyQb3dCAABAdNFxd0IAAABxbXN3QgAAgGqldndCAACAmDh5d0IAAMDJL3p3QgAAwGB5e3dCAAAAknB8d0IAAIBdFX13QgAAQMNnfXdCAABAiESBd0I=\",\"dtype\":\"float64\",\"order\":\"little\",\"shape\":[82]},\"__x__values_original\":{\"__ndarray__\":\"AABA1Dj2dkIAAMA2J/h2QgAAgDPD+XZCAAAALfv8dkIAAMCSTf12QgAAwCmX/nZCAABA9Tv/dkIAAEAjzwF3QgAAALe0BHdCAADAs1AGd0IAAECtiAl3QgAAwD0KDndCAADAAucRd0IAAACQBBh3QgAAwLozHHdCAAAAg3Qed0IAAEDi/iF3QgAAwNs2JXdCAABAp9sld0IAAMBygCZ3QgAAgNjSJndCAABAPiUnd0IAAACkdyd3QgAAwAnKJ3dCAABA1W4od0IAAEAxlS13QgAAgOxFNndCAABAUpg2d0IAAMC0hjh3QgAAgBrZOHdCAAAA5n05d0IAAEAXdTp3QgAAAH3HOndCAADA4hk7d0IAAECuvjt3QgAAABQRPHdCAABARQg9d0IAAIB2/z13QgAAwKf2PndCAABACuVAd0IAAACeykN3QgAAwJpmRXdCAAAAzF1Gd0IAAMDI+Ud3QgAAQJSeSHdCAADA9oxKd0IAAMAkIE13QgAAwFKzT3dCAACAuAVQd0IAAMCARlJ3QgAAgOaYUndCAABAen5Vd0IAAADg0FV3QgAAgKt1VndCAACAQr9Xd0IAAECoEVh3QgAAAKWtWXdCAADACgBad0IAAMA4k1x3QgAAQAQ4XXdCAADAz9xdd0IAAEAyy193QgAAQGBeYndCAAAAxrBid0IAAED3p2N3QgAAwMJMZHdCAACAKJ9kd0IAAECO8WR3QgAAAPRDZXdCAACAv+hld0IAAIBJom13QgAAAKyQb3dCAABAdNFxd0IAAABxbXN3QgAAgGqldndCAACAmDh5d0IAAMDJL3p3QgAAwGB5e3dCAAAAknB8d0IAAIBdFX13QgAAQMNnfXdCAABAiESBd0I=\",\"dtype\":\"float64\",\"order\":\"little\",\"shape\":[82]},\"listings_count\":[1,9,10,50,2,11,8,1,36,4,4,1,1,5,1,4,3,2,1,13,6,12,4,26,3,11,4,2,8,14,4,4,17,22,2,39,17,23,4,7,1,24,7,25,9,1,3,10,9,20,1,5,3,6,28,25,4,2,4,11,24,4,4,26,2136,36,16,15,50,14,3,2,179,31,50,189,50,20,50,7,50,512]},\"selected\":{\"id\":\"5652\"},\"selection_policy\":{\"id\":\"5653\"}},\"id\":\"5626\",\"type\":\"ColumnDataSource\"},{\"attributes\":{},\"id\":\"5594\",\"type\":\"Title\"},{\"attributes\":{\"label\":{\"value\":\" listings_count\"},\"renderers\":[{\"id\":\"5630\"}]},\"id\":\"5655\",\"type\":\"LegendItem\"},{\"attributes\":{\"click_policy\":\"hide\",\"items\":[{\"id\":\"5655\"}]},\"id\":\"5654\",\"type\":\"Legend\"},{\"attributes\":{\"mantissas\":[1,2,5],\"max_interval\":500.0,\"num_minor_ticks\":0},\"id\":\"5640\",\"type\":\"AdaptiveTicker\"},{\"attributes\":{\"base\":24,\"mantissas\":[1,2,4,6,8,12],\"max_interval\":43200000.0,\"min_interval\":3600000.0,\"num_minor_ticks\":0},\"id\":\"5642\",\"type\":\"AdaptiveTicker\"},{\"attributes\":{\"axis\":{\"id\":\"5604\"},\"ticker\":null},\"id\":\"5607\",\"type\":\"Grid\"},{\"attributes\":{\"num_minor_ticks\":5,\"tickers\":[{\"id\":\"5640\"},{\"id\":\"5641\"},{\"id\":\"5642\"},{\"id\":\"5643\"},{\"id\":\"5644\"},{\"id\":\"5645\"},{\"id\":\"5646\"},{\"id\":\"5647\"},{\"id\":\"5648\"},{\"id\":\"5649\"},{\"id\":\"5650\"},{\"id\":\"5651\"}]},\"id\":\"5605\",\"type\":\"DatetimeTicker\"},{\"attributes\":{},\"id\":\"5653\",\"type\":\"UnionRenderers\"},{\"attributes\":{},\"id\":\"5600\",\"type\":\"LinearScale\"},{\"attributes\":{},\"id\":\"5638\",\"type\":\"BasicTickFormatter\"},{\"attributes\":{},\"id\":\"5612\",\"type\":\"PanTool\"},{\"attributes\":{\"bottom_units\":\"screen\",\"fill_alpha\":0.5,\"fill_color\":\"lightgrey\",\"left_units\":\"screen\",\"level\":\"overlay\",\"line_alpha\":1.0,\"line_color\":\"black\",\"line_dash\":[4,4],\"line_width\":2,\"right_units\":\"screen\",\"syncable\":false,\"top_units\":\"screen\"},\"id\":\"5618\",\"type\":\"BoxAnnotation\"},{\"attributes\":{\"days\":[1,4,7,10,13,16,19,22,25,28]},\"id\":\"5644\",\"type\":\"DaysTicker\"},{\"attributes\":{\"days\":[1,15]},\"id\":\"5646\",\"type\":\"DaysTicker\"},{\"attributes\":{\"months\":[0,2,4,6,8,10]},\"id\":\"5648\",\"type\":\"MonthsTicker\"},{\"attributes\":{\"months\":[0,1,2,3,4,5,6,7,8,9,10,11]},\"id\":\"5647\",\"type\":\"MonthsTicker\"},{\"attributes\":{\"line_color\":\"#1f77b4\",\"line_width\":2,\"x\":{\"field\":\"__x__values\"},\"y\":{\"field\":\"listings_count\"}},\"id\":\"5628\",\"type\":\"Line\"},{\"attributes\":{\"base\":60,\"mantissas\":[1,2,5,10,15,20,30],\"max_interval\":1800000.0,\"min_interval\":1000.0,\"num_minor_ticks\":0},\"id\":\"5641\",\"type\":\"AdaptiveTicker\"},{\"attributes\":{\"days\":[1,2,3,4,5,6,7,8,9,10,11,12,13,14,15,16,17,18,19,20,21,22,23,24,25,26,27,28,29,30,31]},\"id\":\"5643\",\"type\":\"DaysTicker\"},{\"attributes\":{\"months\":[0,6]},\"id\":\"5650\",\"type\":\"MonthsTicker\"},{\"attributes\":{\"callback\":null,\"formatters\":{\"@__x__values_original\":\"datetime\"},\"mode\":\"vline\",\"renderers\":[{\"id\":\"5630\"}],\"tooltips\":[[\"date\",\"@__x__values_original{%F}\"],[\"listings_count\",\"@{listings_count}\"]]},\"id\":\"5656\",\"type\":\"HoverTool\"},{\"attributes\":{},\"id\":\"5616\",\"type\":\"ResetTool\"},{\"attributes\":{\"line_alpha\":0.1,\"line_color\":\"#1f77b4\",\"line_width\":2,\"x\":{\"field\":\"__x__values\"},\"y\":{\"field\":\"listings_count\"}},\"id\":\"5629\",\"type\":\"Line\"},{\"attributes\":{},\"id\":\"5615\",\"type\":\"SaveTool\"},{\"attributes\":{},\"id\":\"5637\",\"type\":\"AllLabels\"},{\"attributes\":{},\"id\":\"5651\",\"type\":\"YearsTicker\"},{\"attributes\":{},\"id\":\"5613\",\"type\":\"WheelZoomTool\"},{\"attributes\":{\"active_multi\":null,\"active_scroll\":{\"id\":\"5613\"},\"tools\":[{\"id\":\"5612\"},{\"id\":\"5613\"},{\"id\":\"5614\"},{\"id\":\"5615\"},{\"id\":\"5616\"},{\"id\":\"5617\"},{\"id\":\"5656\"}]},\"id\":\"5619\",\"type\":\"Toolbar\"},{\"attributes\":{\"months\":[0,4,8]},\"id\":\"5649\",\"type\":\"MonthsTicker\"},{\"attributes\":{\"axis_label\":\"date\",\"formatter\":{\"id\":\"5658\"},\"major_label_policy\":{\"id\":\"5634\"},\"ticker\":{\"id\":\"5605\"}},\"id\":\"5604\",\"type\":\"DatetimeAxis\"},{\"attributes\":{\"days\":[1,8,15,22]},\"id\":\"5645\",\"type\":\"DaysTicker\"},{\"attributes\":{\"data_source\":{\"id\":\"5626\"},\"glyph\":{\"id\":\"5628\"},\"hover_glyph\":null,\"muted_glyph\":null,\"nonselection_glyph\":{\"id\":\"5629\"},\"view\":{\"id\":\"5631\"}},\"id\":\"5630\",\"type\":\"GlyphRenderer\"}],\"root_ids\":[\"5593\"]},\"title\":\"Bokeh Application\",\"version\":\"2.3.1\"}};\n",
       "  var render_items = [{\"docid\":\"c5b3a704-f41f-42ef-867b-8ddca02b3bfb\",\"root_ids\":[\"5593\"],\"roots\":{\"5593\":\"c19bc01a-9d60-4721-92fe-90f111c8efae\"}}];\n",
       "  root.Bokeh.embed.embed_items_notebook(docs_json, render_items);\n",
       "\n",
       "  }\n",
       "  if (root.Bokeh !== undefined) {\n",
       "    embed_document(root);\n",
       "  } else {\n",
       "    var attempts = 0;\n",
       "    var timer = setInterval(function(root) {\n",
       "      if (root.Bokeh !== undefined) {\n",
       "        clearInterval(timer);\n",
       "        embed_document(root);\n",
       "      } else {\n",
       "        attempts++;\n",
       "        if (attempts > 100) {\n",
       "          clearInterval(timer);\n",
       "          console.log(\"Bokeh: ERROR: Unable to run BokehJS code because BokehJS library is missing\");\n",
       "        }\n",
       "      }\n",
       "    }, 10, root)\n",
       "  }\n",
       "})(window);"
      ],
      "application/vnd.bokehjs_exec.v0+json": ""
     },
     "metadata": {
      "application/vnd.bokehjs_exec.v0+json": {
       "id": "5593"
      }
     },
     "output_type": "display_data"
    },
    {
     "data": {
      "text/html": [
       "<div style=\"display: table;\"><div style=\"display: table-row;\"><div style=\"display: table-cell;\"><b title=\"bokeh.plotting.figure.Figure\">Figure</b>(</div><div style=\"display: table-cell;\">id&nbsp;=&nbsp;'5593', <span id=\"5883\" style=\"cursor: pointer;\">&hellip;)</span></div></div><div class=\"5882\" style=\"display: none;\"><div style=\"display: table-cell;\"></div><div style=\"display: table-cell;\">above&nbsp;=&nbsp;[],</div></div><div class=\"5882\" style=\"display: none;\"><div style=\"display: table-cell;\"></div><div style=\"display: table-cell;\">align&nbsp;=&nbsp;'start',</div></div><div class=\"5882\" style=\"display: none;\"><div style=\"display: table-cell;\"></div><div style=\"display: table-cell;\">aspect_ratio&nbsp;=&nbsp;None,</div></div><div class=\"5882\" style=\"display: none;\"><div style=\"display: table-cell;\"></div><div style=\"display: table-cell;\">aspect_scale&nbsp;=&nbsp;1,</div></div><div class=\"5882\" style=\"display: none;\"><div style=\"display: table-cell;\"></div><div style=\"display: table-cell;\">background&nbsp;=&nbsp;None,</div></div><div class=\"5882\" style=\"display: none;\"><div style=\"display: table-cell;\"></div><div style=\"display: table-cell;\">background_fill_alpha&nbsp;=&nbsp;1.0,</div></div><div class=\"5882\" style=\"display: none;\"><div style=\"display: table-cell;\"></div><div style=\"display: table-cell;\">background_fill_color&nbsp;=&nbsp;'#ffffff',</div></div><div class=\"5882\" style=\"display: none;\"><div style=\"display: table-cell;\"></div><div style=\"display: table-cell;\">below&nbsp;=&nbsp;[DatetimeAxis(id='5604', ...)],</div></div><div class=\"5882\" style=\"display: none;\"><div style=\"display: table-cell;\"></div><div style=\"display: table-cell;\">border_fill_alpha&nbsp;=&nbsp;1.0,</div></div><div class=\"5882\" style=\"display: none;\"><div style=\"display: table-cell;\"></div><div style=\"display: table-cell;\">border_fill_color&nbsp;=&nbsp;'#ffffff',</div></div><div class=\"5882\" style=\"display: none;\"><div style=\"display: table-cell;\"></div><div style=\"display: table-cell;\">center&nbsp;=&nbsp;[Grid(id='5607', ...), Grid(id='5611', ...), Legend(id='5654', ...)],</div></div><div class=\"5882\" style=\"display: none;\"><div style=\"display: table-cell;\"></div><div style=\"display: table-cell;\">css_classes&nbsp;=&nbsp;[],</div></div><div class=\"5882\" style=\"display: none;\"><div style=\"display: table-cell;\"></div><div style=\"display: table-cell;\">disabled&nbsp;=&nbsp;False,</div></div><div class=\"5882\" style=\"display: none;\"><div style=\"display: table-cell;\"></div><div style=\"display: table-cell;\">extra_x_ranges&nbsp;=&nbsp;{},</div></div><div class=\"5882\" style=\"display: none;\"><div style=\"display: table-cell;\"></div><div style=\"display: table-cell;\">extra_y_ranges&nbsp;=&nbsp;{},</div></div><div class=\"5882\" style=\"display: none;\"><div style=\"display: table-cell;\"></div><div style=\"display: table-cell;\">frame_height&nbsp;=&nbsp;None,</div></div><div class=\"5882\" style=\"display: none;\"><div style=\"display: table-cell;\"></div><div style=\"display: table-cell;\">frame_width&nbsp;=&nbsp;None,</div></div><div class=\"5882\" style=\"display: none;\"><div style=\"display: table-cell;\"></div><div style=\"display: table-cell;\">height&nbsp;=&nbsp;400,</div></div><div class=\"5882\" style=\"display: none;\"><div style=\"display: table-cell;\"></div><div style=\"display: table-cell;\">height_policy&nbsp;=&nbsp;'auto',</div></div><div class=\"5882\" style=\"display: none;\"><div style=\"display: table-cell;\"></div><div style=\"display: table-cell;\">hidpi&nbsp;=&nbsp;True,</div></div><div class=\"5882\" style=\"display: none;\"><div style=\"display: table-cell;\"></div><div style=\"display: table-cell;\">inner_height&nbsp;=&nbsp;0,</div></div><div class=\"5882\" style=\"display: none;\"><div style=\"display: table-cell;\"></div><div style=\"display: table-cell;\">inner_width&nbsp;=&nbsp;0,</div></div><div class=\"5882\" style=\"display: none;\"><div style=\"display: table-cell;\"></div><div style=\"display: table-cell;\">js_event_callbacks&nbsp;=&nbsp;{},</div></div><div class=\"5882\" style=\"display: none;\"><div style=\"display: table-cell;\"></div><div style=\"display: table-cell;\">js_property_callbacks&nbsp;=&nbsp;{},</div></div><div class=\"5882\" style=\"display: none;\"><div style=\"display: table-cell;\"></div><div style=\"display: table-cell;\">left&nbsp;=&nbsp;[LinearAxis(id='5608', ...)],</div></div><div class=\"5882\" style=\"display: none;\"><div style=\"display: table-cell;\"></div><div style=\"display: table-cell;\">lod_factor&nbsp;=&nbsp;10,</div></div><div class=\"5882\" style=\"display: none;\"><div style=\"display: table-cell;\"></div><div style=\"display: table-cell;\">lod_interval&nbsp;=&nbsp;300,</div></div><div class=\"5882\" style=\"display: none;\"><div style=\"display: table-cell;\"></div><div style=\"display: table-cell;\">lod_threshold&nbsp;=&nbsp;2000,</div></div><div class=\"5882\" style=\"display: none;\"><div style=\"display: table-cell;\"></div><div style=\"display: table-cell;\">lod_timeout&nbsp;=&nbsp;500,</div></div><div class=\"5882\" style=\"display: none;\"><div style=\"display: table-cell;\"></div><div style=\"display: table-cell;\">margin&nbsp;=&nbsp;(0, 0, 0, 0),</div></div><div class=\"5882\" style=\"display: none;\"><div style=\"display: table-cell;\"></div><div style=\"display: table-cell;\">match_aspect&nbsp;=&nbsp;False,</div></div><div class=\"5882\" style=\"display: none;\"><div style=\"display: table-cell;\"></div><div style=\"display: table-cell;\">max_height&nbsp;=&nbsp;None,</div></div><div class=\"5882\" style=\"display: none;\"><div style=\"display: table-cell;\"></div><div style=\"display: table-cell;\">max_width&nbsp;=&nbsp;None,</div></div><div class=\"5882\" style=\"display: none;\"><div style=\"display: table-cell;\"></div><div style=\"display: table-cell;\">min_border&nbsp;=&nbsp;5,</div></div><div class=\"5882\" style=\"display: none;\"><div style=\"display: table-cell;\"></div><div style=\"display: table-cell;\">min_border_bottom&nbsp;=&nbsp;None,</div></div><div class=\"5882\" style=\"display: none;\"><div style=\"display: table-cell;\"></div><div style=\"display: table-cell;\">min_border_left&nbsp;=&nbsp;None,</div></div><div class=\"5882\" style=\"display: none;\"><div style=\"display: table-cell;\"></div><div style=\"display: table-cell;\">min_border_right&nbsp;=&nbsp;None,</div></div><div class=\"5882\" style=\"display: none;\"><div style=\"display: table-cell;\"></div><div style=\"display: table-cell;\">min_border_top&nbsp;=&nbsp;None,</div></div><div class=\"5882\" style=\"display: none;\"><div style=\"display: table-cell;\"></div><div style=\"display: table-cell;\">min_height&nbsp;=&nbsp;None,</div></div><div class=\"5882\" style=\"display: none;\"><div style=\"display: table-cell;\"></div><div style=\"display: table-cell;\">min_width&nbsp;=&nbsp;None,</div></div><div class=\"5882\" style=\"display: none;\"><div style=\"display: table-cell;\"></div><div style=\"display: table-cell;\">name&nbsp;=&nbsp;None,</div></div><div class=\"5882\" style=\"display: none;\"><div style=\"display: table-cell;\"></div><div style=\"display: table-cell;\">outer_height&nbsp;=&nbsp;0,</div></div><div class=\"5882\" style=\"display: none;\"><div style=\"display: table-cell;\"></div><div style=\"display: table-cell;\">outer_width&nbsp;=&nbsp;0,</div></div><div class=\"5882\" style=\"display: none;\"><div style=\"display: table-cell;\"></div><div style=\"display: table-cell;\">outline_line_alpha&nbsp;=&nbsp;1.0,</div></div><div class=\"5882\" style=\"display: none;\"><div style=\"display: table-cell;\"></div><div style=\"display: table-cell;\">outline_line_cap&nbsp;=&nbsp;'butt',</div></div><div class=\"5882\" style=\"display: none;\"><div style=\"display: table-cell;\"></div><div style=\"display: table-cell;\">outline_line_color&nbsp;=&nbsp;'#e5e5e5',</div></div><div class=\"5882\" style=\"display: none;\"><div style=\"display: table-cell;\"></div><div style=\"display: table-cell;\">outline_line_dash&nbsp;=&nbsp;[],</div></div><div class=\"5882\" style=\"display: none;\"><div style=\"display: table-cell;\"></div><div style=\"display: table-cell;\">outline_line_dash_offset&nbsp;=&nbsp;0,</div></div><div class=\"5882\" style=\"display: none;\"><div style=\"display: table-cell;\"></div><div style=\"display: table-cell;\">outline_line_join&nbsp;=&nbsp;'bevel',</div></div><div class=\"5882\" style=\"display: none;\"><div style=\"display: table-cell;\"></div><div style=\"display: table-cell;\">outline_line_width&nbsp;=&nbsp;1,</div></div><div class=\"5882\" style=\"display: none;\"><div style=\"display: table-cell;\"></div><div style=\"display: table-cell;\">output_backend&nbsp;=&nbsp;'webgl',</div></div><div class=\"5882\" style=\"display: none;\"><div style=\"display: table-cell;\"></div><div style=\"display: table-cell;\">renderers&nbsp;=&nbsp;[GlyphRenderer(id='5630', ...)],</div></div><div class=\"5882\" style=\"display: none;\"><div style=\"display: table-cell;\"></div><div style=\"display: table-cell;\">reset_policy&nbsp;=&nbsp;'standard',</div></div><div class=\"5882\" style=\"display: none;\"><div style=\"display: table-cell;\"></div><div style=\"display: table-cell;\">right&nbsp;=&nbsp;[],</div></div><div class=\"5882\" style=\"display: none;\"><div style=\"display: table-cell;\"></div><div style=\"display: table-cell;\">sizing_mode&nbsp;=&nbsp;'fixed',</div></div><div class=\"5882\" style=\"display: none;\"><div style=\"display: table-cell;\"></div><div style=\"display: table-cell;\">subscribed_events&nbsp;=&nbsp;[],</div></div><div class=\"5882\" style=\"display: none;\"><div style=\"display: table-cell;\"></div><div style=\"display: table-cell;\">syncable&nbsp;=&nbsp;True,</div></div><div class=\"5882\" style=\"display: none;\"><div style=\"display: table-cell;\"></div><div style=\"display: table-cell;\">tags&nbsp;=&nbsp;[],</div></div><div class=\"5882\" style=\"display: none;\"><div style=\"display: table-cell;\"></div><div style=\"display: table-cell;\">title&nbsp;=&nbsp;Title(id='5594', ...),</div></div><div class=\"5882\" style=\"display: none;\"><div style=\"display: table-cell;\"></div><div style=\"display: table-cell;\">title_location&nbsp;=&nbsp;'above',</div></div><div class=\"5882\" style=\"display: none;\"><div style=\"display: table-cell;\"></div><div style=\"display: table-cell;\">toolbar&nbsp;=&nbsp;Toolbar(id='5619', ...),</div></div><div class=\"5882\" style=\"display: none;\"><div style=\"display: table-cell;\"></div><div style=\"display: table-cell;\">toolbar_location&nbsp;=&nbsp;'right',</div></div><div class=\"5882\" style=\"display: none;\"><div style=\"display: table-cell;\"></div><div style=\"display: table-cell;\">toolbar_sticky&nbsp;=&nbsp;True,</div></div><div class=\"5882\" style=\"display: none;\"><div style=\"display: table-cell;\"></div><div style=\"display: table-cell;\">visible&nbsp;=&nbsp;True,</div></div><div class=\"5882\" style=\"display: none;\"><div style=\"display: table-cell;\"></div><div style=\"display: table-cell;\">width&nbsp;=&nbsp;600,</div></div><div class=\"5882\" style=\"display: none;\"><div style=\"display: table-cell;\"></div><div style=\"display: table-cell;\">width_policy&nbsp;=&nbsp;'auto',</div></div><div class=\"5882\" style=\"display: none;\"><div style=\"display: table-cell;\"></div><div style=\"display: table-cell;\">x_range&nbsp;=&nbsp;DataRange1d(id='5596', ...),</div></div><div class=\"5882\" style=\"display: none;\"><div style=\"display: table-cell;\"></div><div style=\"display: table-cell;\">x_scale&nbsp;=&nbsp;LinearScale(id='5600', ...),</div></div><div class=\"5882\" style=\"display: none;\"><div style=\"display: table-cell;\"></div><div style=\"display: table-cell;\">y_range&nbsp;=&nbsp;DataRange1d(id='5598', ...),</div></div><div class=\"5882\" style=\"display: none;\"><div style=\"display: table-cell;\"></div><div style=\"display: table-cell;\">y_scale&nbsp;=&nbsp;LinearScale(id='5602', ...))</div></div></div>\n",
       "<script>\n",
       "(function() {\n",
       "  var expanded = false;\n",
       "  var ellipsis = document.getElementById(\"5883\");\n",
       "  ellipsis.addEventListener(\"click\", function() {\n",
       "    var rows = document.getElementsByClassName(\"5882\");\n",
       "    for (var i = 0; i < rows.length; i++) {\n",
       "      var el = rows[i];\n",
       "      el.style.display = expanded ? \"none\" : \"table-row\";\n",
       "    }\n",
       "    ellipsis.innerHTML = expanded ? \"&hellip;)\" : \"&lsaquo;&lsaquo;&lsaquo;\";\n",
       "    expanded = !expanded;\n",
       "  });\n",
       "})();\n",
       "</script>\n"
      ],
      "text/plain": [
       "Figure(id='5593', ...)"
      ]
     },
     "execution_count": 50,
     "metadata": {},
     "output_type": "execute_result"
    }
   ],
   "source": [
    "data.plot_bokeh(kind='line', x = 'date', y = 'listings_count') #line vizualisation "
   ]
  },
  {
   "cell_type": "code",
   "execution_count": 9,
   "id": "valued-explanation",
   "metadata": {},
   "outputs": [
    {
     "data": {
      "text/html": [
       "\n",
       "\n",
       "\n",
       "\n",
       "\n",
       "\n",
       "  <div class=\"bk-root\" id=\"d1026ae7-5aa4-465e-884a-1c432e5b4aef\" data-root-id=\"1526\"></div>\n"
      ]
     },
     "metadata": {},
     "output_type": "display_data"
    },
    {
     "data": {
      "application/javascript": [
       "(function(root) {\n",
       "  function embed_document(root) {\n",
       "    \n",
       "  var docs_json = {\"7cdf838c-65ab-45b8-801a-5e5aaf9c4694\":{\"defs\":[],\"roots\":{\"references\":[{\"attributes\":{\"children\":[{\"id\":\"1432\"},{\"id\":\"1465\"}]},\"id\":\"1526\",\"type\":\"Column\"},{\"attributes\":{},\"id\":\"1564\",\"type\":\"AllLabels\"},{\"attributes\":{\"axis\":{\"id\":\"1447\"},\"dimension\":1,\"ticker\":null},\"id\":\"1450\",\"type\":\"Grid\"},{\"attributes\":{},\"id\":\"1452\",\"type\":\"WheelZoomTool\"},{\"attributes\":{},\"id\":\"1456\",\"type\":\"HelpTool\"},{\"attributes\":{},\"id\":\"1497\",\"type\":\"AllLabels\"},{\"attributes\":{},\"id\":\"1454\",\"type\":\"SaveTool\"},{\"attributes\":{},\"id\":\"1451\",\"type\":\"PanTool\"},{\"attributes\":{},\"id\":\"1448\",\"type\":\"BasicTicker\"},{\"attributes\":{\"overlay\":{\"id\":\"1457\"}},\"id\":\"1453\",\"type\":\"BoxZoomTool\"},{\"attributes\":{},\"id\":\"1455\",\"type\":\"ResetTool\"},{\"attributes\":{\"axis_label\":\"listings_count\",\"formatter\":{\"id\":\"1495\"},\"major_label_policy\":{\"id\":\"1494\"},\"ticker\":{\"id\":\"1448\"}},\"id\":\"1447\",\"type\":\"LinearAxis\"},{\"attributes\":{\"end\":1615248000000.0,\"start\":1606262400000.0},\"id\":\"1480\",\"type\":\"Range1d\"},{\"attributes\":{\"text\":\"Drag the box to change the range above.\"},\"id\":\"1466\",\"type\":\"Title\"},{\"attributes\":{\"bottom_units\":\"screen\",\"fill_alpha\":0.5,\"fill_color\":\"lightgrey\",\"left_units\":\"screen\",\"level\":\"overlay\",\"line_alpha\":1.0,\"line_color\":\"black\",\"line_dash\":[4,4],\"line_width\":2,\"right_units\":\"screen\",\"syncable\":false,\"top_units\":\"screen\"},\"id\":\"1457\",\"type\":\"BoxAnnotation\"},{\"attributes\":{},\"id\":\"1439\",\"type\":\"LinearScale\"},{\"attributes\":{},\"id\":\"1441\",\"type\":\"LinearScale\"},{\"attributes\":{},\"id\":\"1468\",\"type\":\"DataRange1d\"},{\"attributes\":{\"active_multi\":null,\"active_scroll\":{\"id\":\"1452\"},\"tools\":[{\"id\":\"1451\"},{\"id\":\"1452\"},{\"id\":\"1453\"},{\"id\":\"1454\"},{\"id\":\"1455\"},{\"id\":\"1456\"},{\"id\":\"1516\"}]},\"id\":\"1458\",\"type\":\"Toolbar\"},{\"attributes\":{\"callback\":null,\"formatters\":{\"@__x__values_original\":\"datetime\"},\"mode\":\"vline\",\"renderers\":[{\"id\":\"1490\"}],\"tooltips\":[[\"date\",\"@__x__values_original{%F}\"],[\"listings_count\",\"@{listings_count}\"]]},\"id\":\"1516\",\"type\":\"HoverTool\"},{\"attributes\":{\"below\":[{\"id\":\"1475\"}],\"center\":[{\"id\":\"1478\"}],\"height\":130,\"renderers\":[{\"id\":\"1522\"}],\"title\":{\"id\":\"1466\"},\"toolbar\":{\"id\":\"1479\"},\"toolbar_location\":null,\"x_range\":{\"id\":\"1468\"},\"x_scale\":{\"id\":\"1471\"},\"y_range\":{\"id\":\"1437\"},\"y_scale\":{\"id\":\"1473\"}},\"id\":\"1465\",\"subtype\":\"Figure\",\"type\":\"Plot\"},{\"attributes\":{\"above\":[{\"id\":\"1443\"}],\"center\":[{\"id\":\"1446\"},{\"id\":\"1450\"},{\"id\":\"1514\"}],\"height\":400,\"left\":[{\"id\":\"1447\"}],\"output_backend\":\"webgl\",\"renderers\":[{\"id\":\"1490\"}],\"sizing_mode\":\"fixed\",\"title\":{\"id\":\"1433\"},\"toolbar\":{\"id\":\"1458\"},\"x_range\":{\"id\":\"1480\"},\"x_scale\":{\"id\":\"1439\"},\"y_range\":{\"id\":\"1437\"},\"y_scale\":{\"id\":\"1441\"}},\"id\":\"1432\",\"subtype\":\"Figure\",\"type\":\"Plot\"},{\"attributes\":{\"line_alpha\":0.1,\"line_color\":\"#1f77b4\",\"x\":{\"field\":\"__x__values\"},\"y\":{\"field\":\"listings_count\"}},\"id\":\"1521\",\"type\":\"Line\"},{\"attributes\":{\"data_source\":{\"id\":\"1518\"},\"glyph\":{\"id\":\"1520\"},\"hover_glyph\":null,\"muted_glyph\":null,\"nonselection_glyph\":{\"id\":\"1521\"},\"view\":{\"id\":\"1523\"}},\"id\":\"1522\",\"type\":\"GlyphRenderer\"},{\"attributes\":{\"data\":{\"__x__values\":{\"__ndarray__\":\"AABA1Dj2dkIAAMA2J/h2QgAAgDPD+XZCAAAALfv8dkIAAMCSTf12QgAAwCmX/nZCAABA9Tv/dkIAAEAjzwF3QgAAALe0BHdCAADAs1AGd0IAAECtiAl3QgAAwD0KDndCAADAAucRd0IAAACQBBh3QgAAwLozHHdCAAAAg3Qed0IAAEDi/iF3QgAAwNs2JXdCAABAp9sld0IAAMBygCZ3QgAAgNjSJndCAABAPiUnd0IAAACkdyd3QgAAwAnKJ3dCAABA1W4od0IAAEAxlS13QgAAgOxFNndCAABAUpg2d0IAAMC0hjh3QgAAgBrZOHdCAAAA5n05d0IAAEAXdTp3QgAAAH3HOndCAADA4hk7d0IAAECuvjt3QgAAABQRPHdCAABARQg9d0IAAIB2/z13QgAAwKf2PndCAABACuVAd0IAAACeykN3QgAAwJpmRXdCAAAAzF1Gd0IAAMDI+Ud3QgAAQJSeSHdCAADA9oxKd0IAAMAkIE13QgAAwFKzT3dCAACAuAVQd0IAAMCARlJ3QgAAgOaYUndCAABAen5Vd0IAAADg0FV3QgAAgKt1VndCAACAQr9Xd0IAAECoEVh3QgAAAKWtWXdCAADACgBad0IAAMA4k1x3QgAAQAQ4XXdCAADAz9xdd0IAAEAyy193QgAAQGBeYndCAAAAxrBid0IAAED3p2N3QgAAwMJMZHdCAACAKJ9kd0IAAECO8WR3QgAAAPRDZXdCAACAv+hld0IAAIBJom13QgAAAKyQb3dCAABAdNFxd0IAAABxbXN3QgAAgGqldndCAACAmDh5d0IAAMDJL3p3QgAAwGB5e3dCAAAAknB8d0IAAIBdFX13QgAAQMNnfXdCAABAiESBd0I=\",\"dtype\":\"float64\",\"order\":\"little\",\"shape\":[82]},\"__x__values_original\":{\"__ndarray__\":\"AABA1Dj2dkIAAMA2J/h2QgAAgDPD+XZCAAAALfv8dkIAAMCSTf12QgAAwCmX/nZCAABA9Tv/dkIAAEAjzwF3QgAAALe0BHdCAADAs1AGd0IAAECtiAl3QgAAwD0KDndCAADAAucRd0IAAACQBBh3QgAAwLozHHdCAAAAg3Qed0IAAEDi/iF3QgAAwNs2JXdCAABAp9sld0IAAMBygCZ3QgAAgNjSJndCAABAPiUnd0IAAACkdyd3QgAAwAnKJ3dCAABA1W4od0IAAEAxlS13QgAAgOxFNndCAABAUpg2d0IAAMC0hjh3QgAAgBrZOHdCAAAA5n05d0IAAEAXdTp3QgAAAH3HOndCAADA4hk7d0IAAECuvjt3QgAAABQRPHdCAABARQg9d0IAAIB2/z13QgAAwKf2PndCAABACuVAd0IAAACeykN3QgAAwJpmRXdCAAAAzF1Gd0IAAMDI+Ud3QgAAQJSeSHdCAADA9oxKd0IAAMAkIE13QgAAwFKzT3dCAACAuAVQd0IAAMCARlJ3QgAAgOaYUndCAABAen5Vd0IAAADg0FV3QgAAgKt1VndCAACAQr9Xd0IAAECoEVh3QgAAAKWtWXdCAADACgBad0IAAMA4k1x3QgAAQAQ4XXdCAADAz9xdd0IAAEAyy193QgAAQGBeYndCAAAAxrBid0IAAED3p2N3QgAAwMJMZHdCAACAKJ9kd0IAAECO8WR3QgAAAPRDZXdCAACAv+hld0IAAIBJom13QgAAAKyQb3dCAABAdNFxd0IAAABxbXN3QgAAgGqldndCAACAmDh5d0IAAMDJL3p3QgAAwGB5e3dCAAAAknB8d0IAAIBdFX13QgAAQMNnfXdCAABAiESBd0I=\",\"dtype\":\"float64\",\"order\":\"little\",\"shape\":[82]},\"listings_count\":[1,9,10,50,2,11,8,1,36,4,4,1,1,5,1,4,3,2,1,13,6,12,4,26,3,11,4,2,8,14,4,4,17,22,2,39,17,23,4,7,1,24,7,25,9,1,3,10,9,20,1,5,3,6,28,25,4,2,4,11,24,4,4,26,2136,36,16,15,50,14,3,2,179,31,50,189,50,20,50,7,50,512]},\"selected\":{\"id\":\"1594\"},\"selection_policy\":{\"id\":\"1595\"}},\"id\":\"1518\",\"type\":\"ColumnDataSource\"},{\"attributes\":{\"line_color\":\"#1f77b4\",\"x\":{\"field\":\"__x__values\"},\"y\":{\"field\":\"listings_count\"}},\"id\":\"1520\",\"type\":\"Line\"},{\"attributes\":{\"source\":{\"id\":\"1518\"}},\"id\":\"1523\",\"type\":\"CDSView\"},{\"attributes\":{\"num_minor_ticks\":5,\"tickers\":[{\"id\":\"1502\"},{\"id\":\"1503\"},{\"id\":\"1504\"},{\"id\":\"1505\"},{\"id\":\"1506\"},{\"id\":\"1507\"},{\"id\":\"1508\"},{\"id\":\"1509\"},{\"id\":\"1510\"},{\"id\":\"1511\"},{\"id\":\"1512\"},{\"id\":\"1513\"}]},\"id\":\"1444\",\"type\":\"DatetimeTicker\"},{\"attributes\":{\"overlay\":{\"id\":\"1482\"},\"x_range\":{\"id\":\"1480\"},\"y_range\":null},\"id\":\"1481\",\"type\":\"RangeTool\"},{\"attributes\":{\"axis\":{\"id\":\"1443\"},\"ticker\":null},\"id\":\"1446\",\"type\":\"Grid\"},{\"attributes\":{\"axis_label\":\"date\",\"formatter\":{\"id\":\"1524\"},\"major_label_policy\":{\"id\":\"1497\"},\"ticker\":{\"id\":\"1444\"}},\"id\":\"1443\",\"type\":\"DatetimeAxis\"},{\"attributes\":{\"formatter\":{\"id\":\"1565\"},\"major_label_policy\":{\"id\":\"1564\"},\"ticker\":{\"id\":\"1476\"}},\"id\":\"1475\",\"type\":\"DatetimeAxis\"},{\"attributes\":{},\"id\":\"1433\",\"type\":\"Title\"},{\"attributes\":{},\"id\":\"1471\",\"type\":\"LinearScale\"},{\"attributes\":{},\"id\":\"1473\",\"type\":\"LinearScale\"},{\"attributes\":{\"num_minor_ticks\":5,\"tickers\":[{\"id\":\"1582\"},{\"id\":\"1583\"},{\"id\":\"1584\"},{\"id\":\"1585\"},{\"id\":\"1586\"},{\"id\":\"1587\"},{\"id\":\"1588\"},{\"id\":\"1589\"},{\"id\":\"1590\"},{\"id\":\"1591\"},{\"id\":\"1592\"},{\"id\":\"1593\"}]},\"id\":\"1476\",\"type\":\"DatetimeTicker\"},{\"attributes\":{},\"id\":\"1495\",\"type\":\"BasicTickFormatter\"},{\"attributes\":{},\"id\":\"1437\",\"type\":\"DataRange1d\"},{\"attributes\":{\"axis\":{\"id\":\"1475\"},\"ticker\":null},\"id\":\"1478\",\"type\":\"Grid\"},{\"attributes\":{\"active_multi\":{\"id\":\"1481\"},\"tools\":[{\"id\":\"1481\"}]},\"id\":\"1479\",\"type\":\"Toolbar\"},{\"attributes\":{\"fill_alpha\":0.2,\"fill_color\":\"navy\",\"level\":\"overlay\",\"line_alpha\":1.0,\"line_color\":\"black\",\"line_dash\":[2,2],\"line_width\":0.5,\"syncable\":false},\"id\":\"1482\",\"type\":\"BoxAnnotation\"},{\"attributes\":{},\"id\":\"1494\",\"type\":\"AllLabels\"},{\"attributes\":{},\"id\":\"1565\",\"type\":\"DatetimeTickFormatter\"},{\"attributes\":{\"click_policy\":\"hide\",\"items\":[{\"id\":\"1515\"}]},\"id\":\"1514\",\"type\":\"Legend\"},{\"attributes\":{\"data\":{\"__x__values\":{\"__ndarray__\":\"AABA1Dj2dkIAAMA2J/h2QgAAgDPD+XZCAAAALfv8dkIAAMCSTf12QgAAwCmX/nZCAABA9Tv/dkIAAEAjzwF3QgAAALe0BHdCAADAs1AGd0IAAECtiAl3QgAAwD0KDndCAADAAucRd0IAAACQBBh3QgAAwLozHHdCAAAAg3Qed0IAAEDi/iF3QgAAwNs2JXdCAABAp9sld0IAAMBygCZ3QgAAgNjSJndCAABAPiUnd0IAAACkdyd3QgAAwAnKJ3dCAABA1W4od0IAAEAxlS13QgAAgOxFNndCAABAUpg2d0IAAMC0hjh3QgAAgBrZOHdCAAAA5n05d0IAAEAXdTp3QgAAAH3HOndCAADA4hk7d0IAAECuvjt3QgAAABQRPHdCAABARQg9d0IAAIB2/z13QgAAwKf2PndCAABACuVAd0IAAACeykN3QgAAwJpmRXdCAAAAzF1Gd0IAAMDI+Ud3QgAAQJSeSHdCAADA9oxKd0IAAMAkIE13QgAAwFKzT3dCAACAuAVQd0IAAMCARlJ3QgAAgOaYUndCAABAen5Vd0IAAADg0FV3QgAAgKt1VndCAACAQr9Xd0IAAECoEVh3QgAAAKWtWXdCAADACgBad0IAAMA4k1x3QgAAQAQ4XXdCAADAz9xdd0IAAEAyy193QgAAQGBeYndCAAAAxrBid0IAAED3p2N3QgAAwMJMZHdCAACAKJ9kd0IAAECO8WR3QgAAAPRDZXdCAACAv+hld0IAAIBJom13QgAAAKyQb3dCAABAdNFxd0IAAABxbXN3QgAAgGqldndCAACAmDh5d0IAAMDJL3p3QgAAwGB5e3dCAAAAknB8d0IAAIBdFX13QgAAQMNnfXdCAABAiESBd0I=\",\"dtype\":\"float64\",\"order\":\"little\",\"shape\":[82]},\"__x__values_original\":{\"__ndarray__\":\"AABA1Dj2dkIAAMA2J/h2QgAAgDPD+XZCAAAALfv8dkIAAMCSTf12QgAAwCmX/nZCAABA9Tv/dkIAAEAjzwF3QgAAALe0BHdCAADAs1AGd0IAAECtiAl3QgAAwD0KDndCAADAAucRd0IAAACQBBh3QgAAwLozHHdCAAAAg3Qed0IAAEDi/iF3QgAAwNs2JXdCAABAp9sld0IAAMBygCZ3QgAAgNjSJndCAABAPiUnd0IAAACkdyd3QgAAwAnKJ3dCAABA1W4od0IAAEAxlS13QgAAgOxFNndCAABAUpg2d0IAAMC0hjh3QgAAgBrZOHdCAAAA5n05d0IAAEAXdTp3QgAAAH3HOndCAADA4hk7d0IAAECuvjt3QgAAABQRPHdCAABARQg9d0IAAIB2/z13QgAAwKf2PndCAABACuVAd0IAAACeykN3QgAAwJpmRXdCAAAAzF1Gd0IAAMDI+Ud3QgAAQJSeSHdCAADA9oxKd0IAAMAkIE13QgAAwFKzT3dCAACAuAVQd0IAAMCARlJ3QgAAgOaYUndCAABAen5Vd0IAAADg0FV3QgAAgKt1VndCAACAQr9Xd0IAAECoEVh3QgAAAKWtWXdCAADACgBad0IAAMA4k1x3QgAAQAQ4XXdCAADAz9xdd0IAAEAyy193QgAAQGBeYndCAAAAxrBid0IAAED3p2N3QgAAwMJMZHdCAACAKJ9kd0IAAECO8WR3QgAAAPRDZXdCAACAv+hld0IAAIBJom13QgAAAKyQb3dCAABAdNFxd0IAAABxbXN3QgAAgGqldndCAACAmDh5d0IAAMDJL3p3QgAAwGB5e3dCAAAAknB8d0IAAIBdFX13QgAAQMNnfXdCAABAiESBd0I=\",\"dtype\":\"float64\",\"order\":\"little\",\"shape\":[82]},\"listings_count\":[1,9,10,50,2,11,8,1,36,4,4,1,1,5,1,4,3,2,1,13,6,12,4,26,3,11,4,2,8,14,4,4,17,22,2,39,17,23,4,7,1,24,7,25,9,1,3,10,9,20,1,5,3,6,28,25,4,2,4,11,24,4,4,26,2136,36,16,15,50,14,3,2,179,31,50,189,50,20,50,7,50,512]},\"selected\":{\"id\":\"1500\"},\"selection_policy\":{\"id\":\"1501\"}},\"id\":\"1486\",\"type\":\"ColumnDataSource\"},{\"attributes\":{\"days\":[\"%d %B %Y\"],\"hours\":[\"%H:%M:%S\"],\"milliseconds\":[\"%H:%M:%S.%f\"],\"minutes\":[\"%H:%M:%S\"],\"months\":[\"%d %B %Y\"],\"seconds\":[\"%H:%M:%S\"],\"years\":[\"%d %B %Y\"]},\"id\":\"1524\",\"type\":\"DatetimeTickFormatter\"},{\"attributes\":{\"months\":[0,1,2,3,4,5,6,7,8,9,10,11]},\"id\":\"1589\",\"type\":\"MonthsTicker\"},{\"attributes\":{\"label\":{\"value\":\" listings_count\"},\"renderers\":[{\"id\":\"1490\"}]},\"id\":\"1515\",\"type\":\"LegendItem\"},{\"attributes\":{\"mantissas\":[1,2,5],\"max_interval\":500.0,\"num_minor_ticks\":0},\"id\":\"1582\",\"type\":\"AdaptiveTicker\"},{\"attributes\":{\"source\":{\"id\":\"1486\"}},\"id\":\"1491\",\"type\":\"CDSView\"},{\"attributes\":{},\"id\":\"1501\",\"type\":\"UnionRenderers\"},{\"attributes\":{\"line_alpha\":0.1,\"line_color\":\"#1f77b4\",\"line_width\":2,\"x\":{\"field\":\"__x__values\"},\"y\":{\"field\":\"listings_count\"}},\"id\":\"1489\",\"type\":\"Line\"},{\"attributes\":{},\"id\":\"1593\",\"type\":\"YearsTicker\"},{\"attributes\":{\"data_source\":{\"id\":\"1486\"},\"glyph\":{\"id\":\"1488\"},\"hover_glyph\":null,\"muted_glyph\":null,\"nonselection_glyph\":{\"id\":\"1489\"},\"view\":{\"id\":\"1491\"}},\"id\":\"1490\",\"type\":\"GlyphRenderer\"},{\"attributes\":{\"base\":60,\"mantissas\":[1,2,5,10,15,20,30],\"max_interval\":1800000.0,\"min_interval\":1000.0,\"num_minor_ticks\":0},\"id\":\"1583\",\"type\":\"AdaptiveTicker\"},{\"attributes\":{},\"id\":\"1500\",\"type\":\"Selection\"},{\"attributes\":{\"months\":[0,6]},\"id\":\"1592\",\"type\":\"MonthsTicker\"},{\"attributes\":{\"base\":24,\"mantissas\":[1,2,4,6,8,12],\"max_interval\":43200000.0,\"min_interval\":3600000.0,\"num_minor_ticks\":0},\"id\":\"1584\",\"type\":\"AdaptiveTicker\"},{\"attributes\":{\"days\":[1,4,7,10,13,16,19,22,25,28]},\"id\":\"1586\",\"type\":\"DaysTicker\"},{\"attributes\":{\"days\":[1,15]},\"id\":\"1588\",\"type\":\"DaysTicker\"},{\"attributes\":{\"days\":[1,8,15,22]},\"id\":\"1587\",\"type\":\"DaysTicker\"},{\"attributes\":{\"days\":[1,2,3,4,5,6,7,8,9,10,11,12,13,14,15,16,17,18,19,20,21,22,23,24,25,26,27,28,29,30,31]},\"id\":\"1585\",\"type\":\"DaysTicker\"},{\"attributes\":{\"months\":[0,2,4,6,8,10]},\"id\":\"1590\",\"type\":\"MonthsTicker\"},{\"attributes\":{\"line_color\":\"#1f77b4\",\"line_width\":2,\"x\":{\"field\":\"__x__values\"},\"y\":{\"field\":\"listings_count\"}},\"id\":\"1488\",\"type\":\"Line\"},{\"attributes\":{\"months\":[0,4,8]},\"id\":\"1591\",\"type\":\"MonthsTicker\"},{\"attributes\":{},\"id\":\"1594\",\"type\":\"Selection\"},{\"attributes\":{},\"id\":\"1595\",\"type\":\"UnionRenderers\"},{\"attributes\":{\"mantissas\":[1,2,5],\"max_interval\":500.0,\"num_minor_ticks\":0},\"id\":\"1502\",\"type\":\"AdaptiveTicker\"},{\"attributes\":{\"base\":60,\"mantissas\":[1,2,5,10,15,20,30],\"max_interval\":1800000.0,\"min_interval\":1000.0,\"num_minor_ticks\":0},\"id\":\"1503\",\"type\":\"AdaptiveTicker\"},{\"attributes\":{\"base\":24,\"mantissas\":[1,2,4,6,8,12],\"max_interval\":43200000.0,\"min_interval\":3600000.0,\"num_minor_ticks\":0},\"id\":\"1504\",\"type\":\"AdaptiveTicker\"},{\"attributes\":{},\"id\":\"1513\",\"type\":\"YearsTicker\"},{\"attributes\":{\"months\":[0,1,2,3,4,5,6,7,8,9,10,11]},\"id\":\"1509\",\"type\":\"MonthsTicker\"},{\"attributes\":{\"days\":[1,15]},\"id\":\"1508\",\"type\":\"DaysTicker\"},{\"attributes\":{\"days\":[1,2,3,4,5,6,7,8,9,10,11,12,13,14,15,16,17,18,19,20,21,22,23,24,25,26,27,28,29,30,31]},\"id\":\"1505\",\"type\":\"DaysTicker\"},{\"attributes\":{\"days\":[1,4,7,10,13,16,19,22,25,28]},\"id\":\"1506\",\"type\":\"DaysTicker\"},{\"attributes\":{\"days\":[1,8,15,22]},\"id\":\"1507\",\"type\":\"DaysTicker\"},{\"attributes\":{\"months\":[0,6]},\"id\":\"1512\",\"type\":\"MonthsTicker\"},{\"attributes\":{\"months\":[0,2,4,6,8,10]},\"id\":\"1510\",\"type\":\"MonthsTicker\"},{\"attributes\":{\"months\":[0,4,8]},\"id\":\"1511\",\"type\":\"MonthsTicker\"}],\"root_ids\":[\"1526\"]},\"title\":\"Bokeh Application\",\"version\":\"2.3.1\"}};\n",
       "  var render_items = [{\"docid\":\"7cdf838c-65ab-45b8-801a-5e5aaf9c4694\",\"root_ids\":[\"1526\"],\"roots\":{\"1526\":\"d1026ae7-5aa4-465e-884a-1c432e5b4aef\"}}];\n",
       "  root.Bokeh.embed.embed_items_notebook(docs_json, render_items);\n",
       "\n",
       "  }\n",
       "  if (root.Bokeh !== undefined) {\n",
       "    embed_document(root);\n",
       "  } else {\n",
       "    var attempts = 0;\n",
       "    var timer = setInterval(function(root) {\n",
       "      if (root.Bokeh !== undefined) {\n",
       "        clearInterval(timer);\n",
       "        embed_document(root);\n",
       "      } else {\n",
       "        attempts++;\n",
       "        if (attempts > 100) {\n",
       "          clearInterval(timer);\n",
       "          console.log(\"Bokeh: ERROR: Unable to run BokehJS code because BokehJS library is missing\");\n",
       "        }\n",
       "      }\n",
       "    }, 10, root)\n",
       "  }\n",
       "})(window);"
      ],
      "application/vnd.bokehjs_exec.v0+json": ""
     },
     "metadata": {
      "application/vnd.bokehjs_exec.v0+json": {
       "id": "1526"
      }
     },
     "output_type": "display_data"
    },
    {
     "data": {
      "text/html": [
       "<div style=\"display: table;\"><div style=\"display: table-row;\"><div style=\"display: table-cell;\"><b title=\"bokeh.models.layouts.Column\">Column</b>(</div><div style=\"display: table-cell;\">id&nbsp;=&nbsp;'1526', <span id=\"1797\" style=\"cursor: pointer;\">&hellip;)</span></div></div><div class=\"1796\" style=\"display: none;\"><div style=\"display: table-cell;\"></div><div style=\"display: table-cell;\">align&nbsp;=&nbsp;'start',</div></div><div class=\"1796\" style=\"display: none;\"><div style=\"display: table-cell;\"></div><div style=\"display: table-cell;\">aspect_ratio&nbsp;=&nbsp;None,</div></div><div class=\"1796\" style=\"display: none;\"><div style=\"display: table-cell;\"></div><div style=\"display: table-cell;\">background&nbsp;=&nbsp;None,</div></div><div class=\"1796\" style=\"display: none;\"><div style=\"display: table-cell;\"></div><div style=\"display: table-cell;\">children&nbsp;=&nbsp;[Figure(id='1432', ...), Figure(id='1465', ...)],</div></div><div class=\"1796\" style=\"display: none;\"><div style=\"display: table-cell;\"></div><div style=\"display: table-cell;\">css_classes&nbsp;=&nbsp;[],</div></div><div class=\"1796\" style=\"display: none;\"><div style=\"display: table-cell;\"></div><div style=\"display: table-cell;\">disabled&nbsp;=&nbsp;False,</div></div><div class=\"1796\" style=\"display: none;\"><div style=\"display: table-cell;\"></div><div style=\"display: table-cell;\">height&nbsp;=&nbsp;None,</div></div><div class=\"1796\" style=\"display: none;\"><div style=\"display: table-cell;\"></div><div style=\"display: table-cell;\">height_policy&nbsp;=&nbsp;'auto',</div></div><div class=\"1796\" style=\"display: none;\"><div style=\"display: table-cell;\"></div><div style=\"display: table-cell;\">js_event_callbacks&nbsp;=&nbsp;{},</div></div><div class=\"1796\" style=\"display: none;\"><div style=\"display: table-cell;\"></div><div style=\"display: table-cell;\">js_property_callbacks&nbsp;=&nbsp;{},</div></div><div class=\"1796\" style=\"display: none;\"><div style=\"display: table-cell;\"></div><div style=\"display: table-cell;\">margin&nbsp;=&nbsp;(0, 0, 0, 0),</div></div><div class=\"1796\" style=\"display: none;\"><div style=\"display: table-cell;\"></div><div style=\"display: table-cell;\">max_height&nbsp;=&nbsp;None,</div></div><div class=\"1796\" style=\"display: none;\"><div style=\"display: table-cell;\"></div><div style=\"display: table-cell;\">max_width&nbsp;=&nbsp;None,</div></div><div class=\"1796\" style=\"display: none;\"><div style=\"display: table-cell;\"></div><div style=\"display: table-cell;\">min_height&nbsp;=&nbsp;None,</div></div><div class=\"1796\" style=\"display: none;\"><div style=\"display: table-cell;\"></div><div style=\"display: table-cell;\">min_width&nbsp;=&nbsp;None,</div></div><div class=\"1796\" style=\"display: none;\"><div style=\"display: table-cell;\"></div><div style=\"display: table-cell;\">name&nbsp;=&nbsp;None,</div></div><div class=\"1796\" style=\"display: none;\"><div style=\"display: table-cell;\"></div><div style=\"display: table-cell;\">rows&nbsp;=&nbsp;'auto',</div></div><div class=\"1796\" style=\"display: none;\"><div style=\"display: table-cell;\"></div><div style=\"display: table-cell;\">sizing_mode&nbsp;=&nbsp;None,</div></div><div class=\"1796\" style=\"display: none;\"><div style=\"display: table-cell;\"></div><div style=\"display: table-cell;\">spacing&nbsp;=&nbsp;0,</div></div><div class=\"1796\" style=\"display: none;\"><div style=\"display: table-cell;\"></div><div style=\"display: table-cell;\">subscribed_events&nbsp;=&nbsp;[],</div></div><div class=\"1796\" style=\"display: none;\"><div style=\"display: table-cell;\"></div><div style=\"display: table-cell;\">syncable&nbsp;=&nbsp;True,</div></div><div class=\"1796\" style=\"display: none;\"><div style=\"display: table-cell;\"></div><div style=\"display: table-cell;\">tags&nbsp;=&nbsp;[],</div></div><div class=\"1796\" style=\"display: none;\"><div style=\"display: table-cell;\"></div><div style=\"display: table-cell;\">visible&nbsp;=&nbsp;True,</div></div><div class=\"1796\" style=\"display: none;\"><div style=\"display: table-cell;\"></div><div style=\"display: table-cell;\">width&nbsp;=&nbsp;None,</div></div><div class=\"1796\" style=\"display: none;\"><div style=\"display: table-cell;\"></div><div style=\"display: table-cell;\">width_policy&nbsp;=&nbsp;'auto')</div></div></div>\n",
       "<script>\n",
       "(function() {\n",
       "  var expanded = false;\n",
       "  var ellipsis = document.getElementById(\"1797\");\n",
       "  ellipsis.addEventListener(\"click\", function() {\n",
       "    var rows = document.getElementsByClassName(\"1796\");\n",
       "    for (var i = 0; i < rows.length; i++) {\n",
       "      var el = rows[i];\n",
       "      el.style.display = expanded ? \"none\" : \"table-row\";\n",
       "    }\n",
       "    ellipsis.innerHTML = expanded ? \"&hellip;)\" : \"&lsaquo;&lsaquo;&lsaquo;\";\n",
       "    expanded = !expanded;\n",
       "  });\n",
       "})();\n",
       "</script>\n"
      ],
      "text/plain": [
       "Column(id='1526', ...)"
      ]
     },
     "execution_count": 9,
     "metadata": {},
     "output_type": "execute_result"
    }
   ],
   "source": [
    "data.plot_bokeh(rangetool=True, x = 'date' ) #timeline based visualization of how the dataset behaves over the given timeperiod"
   ]
  },
  {
   "cell_type": "markdown",
   "id": "wound-catalog",
   "metadata": {},
   "source": [
    "As seen in the figure the date whith the most listing was 2020-07-12 with 2136 listings in total. \n",
    "On average there where posted 49,53 listings on the dates sampled in the dataset, and on average over the timeperiode it was 9.43 new listings daily.  "
   ]
  },
  {
   "cell_type": "markdown",
   "id": "polar-arkansas",
   "metadata": {},
   "source": [
    "## KPI2: Correlation between rent price and family income per neighbourhood"
   ]
  },
  {
   "cell_type": "markdown",
   "id": "spatial-munich",
   "metadata": {},
   "source": [
    "This section aims to visualize the KPI 2: correlation between rent price and family income per neighbourhood, through investigating the \"KPI2.csv\" file."
   ]
  },
  {
   "cell_type": "code",
   "execution_count": 35,
   "id": "economic-chassis",
   "metadata": {},
   "outputs": [
    {
     "data": {
      "text/html": [
       "\n",
       "    <div class=\"bk-root\">\n",
       "        <a href=\"https://bokeh.org\" target=\"_blank\" class=\"bk-logo bk-logo-small bk-logo-notebook\"></a>\n",
       "        <span id=\"3510\">Loading BokehJS ...</span>\n",
       "    </div>"
      ]
     },
     "metadata": {},
     "output_type": "display_data"
    },
    {
     "data": {
      "application/javascript": [
       "\n",
       "(function(root) {\n",
       "  function now() {\n",
       "    return new Date();\n",
       "  }\n",
       "\n",
       "  var force = true;\n",
       "\n",
       "  if (typeof root._bokeh_onload_callbacks === \"undefined\" || force === true) {\n",
       "    root._bokeh_onload_callbacks = [];\n",
       "    root._bokeh_is_loading = undefined;\n",
       "  }\n",
       "\n",
       "  var JS_MIME_TYPE = 'application/javascript';\n",
       "  var HTML_MIME_TYPE = 'text/html';\n",
       "  var EXEC_MIME_TYPE = 'application/vnd.bokehjs_exec.v0+json';\n",
       "  var CLASS_NAME = 'output_bokeh rendered_html';\n",
       "\n",
       "  /**\n",
       "   * Render data to the DOM node\n",
       "   */\n",
       "  function render(props, node) {\n",
       "    var script = document.createElement(\"script\");\n",
       "    node.appendChild(script);\n",
       "  }\n",
       "\n",
       "  /**\n",
       "   * Handle when an output is cleared or removed\n",
       "   */\n",
       "  function handleClearOutput(event, handle) {\n",
       "    var cell = handle.cell;\n",
       "\n",
       "    var id = cell.output_area._bokeh_element_id;\n",
       "    var server_id = cell.output_area._bokeh_server_id;\n",
       "    // Clean up Bokeh references\n",
       "    if (id != null && id in Bokeh.index) {\n",
       "      Bokeh.index[id].model.document.clear();\n",
       "      delete Bokeh.index[id];\n",
       "    }\n",
       "\n",
       "    if (server_id !== undefined) {\n",
       "      // Clean up Bokeh references\n",
       "      var cmd = \"from bokeh.io.state import curstate; print(curstate().uuid_to_server['\" + server_id + \"'].get_sessions()[0].document.roots[0]._id)\";\n",
       "      cell.notebook.kernel.execute(cmd, {\n",
       "        iopub: {\n",
       "          output: function(msg) {\n",
       "            var id = msg.content.text.trim();\n",
       "            if (id in Bokeh.index) {\n",
       "              Bokeh.index[id].model.document.clear();\n",
       "              delete Bokeh.index[id];\n",
       "            }\n",
       "          }\n",
       "        }\n",
       "      });\n",
       "      // Destroy server and session\n",
       "      var cmd = \"import bokeh.io.notebook as ion; ion.destroy_server('\" + server_id + \"')\";\n",
       "      cell.notebook.kernel.execute(cmd);\n",
       "    }\n",
       "  }\n",
       "\n",
       "  /**\n",
       "   * Handle when a new output is added\n",
       "   */\n",
       "  function handleAddOutput(event, handle) {\n",
       "    var output_area = handle.output_area;\n",
       "    var output = handle.output;\n",
       "\n",
       "    // limit handleAddOutput to display_data with EXEC_MIME_TYPE content only\n",
       "    if ((output.output_type != \"display_data\") || (!Object.prototype.hasOwnProperty.call(output.data, EXEC_MIME_TYPE))) {\n",
       "      return\n",
       "    }\n",
       "\n",
       "    var toinsert = output_area.element.find(\".\" + CLASS_NAME.split(' ')[0]);\n",
       "\n",
       "    if (output.metadata[EXEC_MIME_TYPE][\"id\"] !== undefined) {\n",
       "      toinsert[toinsert.length - 1].firstChild.textContent = output.data[JS_MIME_TYPE];\n",
       "      // store reference to embed id on output_area\n",
       "      output_area._bokeh_element_id = output.metadata[EXEC_MIME_TYPE][\"id\"];\n",
       "    }\n",
       "    if (output.metadata[EXEC_MIME_TYPE][\"server_id\"] !== undefined) {\n",
       "      var bk_div = document.createElement(\"div\");\n",
       "      bk_div.innerHTML = output.data[HTML_MIME_TYPE];\n",
       "      var script_attrs = bk_div.children[0].attributes;\n",
       "      for (var i = 0; i < script_attrs.length; i++) {\n",
       "        toinsert[toinsert.length - 1].firstChild.setAttribute(script_attrs[i].name, script_attrs[i].value);\n",
       "        toinsert[toinsert.length - 1].firstChild.textContent = bk_div.children[0].textContent\n",
       "      }\n",
       "      // store reference to server id on output_area\n",
       "      output_area._bokeh_server_id = output.metadata[EXEC_MIME_TYPE][\"server_id\"];\n",
       "    }\n",
       "  }\n",
       "\n",
       "  function register_renderer(events, OutputArea) {\n",
       "\n",
       "    function append_mime(data, metadata, element) {\n",
       "      // create a DOM node to render to\n",
       "      var toinsert = this.create_output_subarea(\n",
       "        metadata,\n",
       "        CLASS_NAME,\n",
       "        EXEC_MIME_TYPE\n",
       "      );\n",
       "      this.keyboard_manager.register_events(toinsert);\n",
       "      // Render to node\n",
       "      var props = {data: data, metadata: metadata[EXEC_MIME_TYPE]};\n",
       "      render(props, toinsert[toinsert.length - 1]);\n",
       "      element.append(toinsert);\n",
       "      return toinsert\n",
       "    }\n",
       "\n",
       "    /* Handle when an output is cleared or removed */\n",
       "    events.on('clear_output.CodeCell', handleClearOutput);\n",
       "    events.on('delete.Cell', handleClearOutput);\n",
       "\n",
       "    /* Handle when a new output is added */\n",
       "    events.on('output_added.OutputArea', handleAddOutput);\n",
       "\n",
       "    /**\n",
       "     * Register the mime type and append_mime function with output_area\n",
       "     */\n",
       "    OutputArea.prototype.register_mime_type(EXEC_MIME_TYPE, append_mime, {\n",
       "      /* Is output safe? */\n",
       "      safe: true,\n",
       "      /* Index of renderer in `output_area.display_order` */\n",
       "      index: 0\n",
       "    });\n",
       "  }\n",
       "\n",
       "  // register the mime type if in Jupyter Notebook environment and previously unregistered\n",
       "  if (root.Jupyter !== undefined) {\n",
       "    var events = require('base/js/events');\n",
       "    var OutputArea = require('notebook/js/outputarea').OutputArea;\n",
       "\n",
       "    if (OutputArea.prototype.mime_types().indexOf(EXEC_MIME_TYPE) == -1) {\n",
       "      register_renderer(events, OutputArea);\n",
       "    }\n",
       "  }\n",
       "\n",
       "  \n",
       "  if (typeof (root._bokeh_timeout) === \"undefined\" || force === true) {\n",
       "    root._bokeh_timeout = Date.now() + 5000;\n",
       "    root._bokeh_failed_load = false;\n",
       "  }\n",
       "\n",
       "  var NB_LOAD_WARNING = {'data': {'text/html':\n",
       "     \"<div style='background-color: #fdd'>\\n\"+\n",
       "     \"<p>\\n\"+\n",
       "     \"BokehJS does not appear to have successfully loaded. If loading BokehJS from CDN, this \\n\"+\n",
       "     \"may be due to a slow or bad network connection. Possible fixes:\\n\"+\n",
       "     \"</p>\\n\"+\n",
       "     \"<ul>\\n\"+\n",
       "     \"<li>re-rerun `output_notebook()` to attempt to load from CDN again, or</li>\\n\"+\n",
       "     \"<li>use INLINE resources instead, as so:</li>\\n\"+\n",
       "     \"</ul>\\n\"+\n",
       "     \"<code>\\n\"+\n",
       "     \"from bokeh.resources import INLINE\\n\"+\n",
       "     \"output_notebook(resources=INLINE)\\n\"+\n",
       "     \"</code>\\n\"+\n",
       "     \"</div>\"}};\n",
       "\n",
       "  function display_loaded() {\n",
       "    var el = document.getElementById(\"3510\");\n",
       "    if (el != null) {\n",
       "      el.textContent = \"BokehJS is loading...\";\n",
       "    }\n",
       "    if (root.Bokeh !== undefined) {\n",
       "      if (el != null) {\n",
       "        el.textContent = \"BokehJS \" + root.Bokeh.version + \" successfully loaded.\";\n",
       "      }\n",
       "    } else if (Date.now() < root._bokeh_timeout) {\n",
       "      setTimeout(display_loaded, 100)\n",
       "    }\n",
       "  }\n",
       "\n",
       "\n",
       "  function run_callbacks() {\n",
       "    try {\n",
       "      root._bokeh_onload_callbacks.forEach(function(callback) {\n",
       "        if (callback != null)\n",
       "          callback();\n",
       "      });\n",
       "    } finally {\n",
       "      delete root._bokeh_onload_callbacks\n",
       "    }\n",
       "    console.debug(\"Bokeh: all callbacks have finished\");\n",
       "  }\n",
       "\n",
       "  function load_libs(css_urls, js_urls, callback) {\n",
       "    if (css_urls == null) css_urls = [];\n",
       "    if (js_urls == null) js_urls = [];\n",
       "\n",
       "    root._bokeh_onload_callbacks.push(callback);\n",
       "    if (root._bokeh_is_loading > 0) {\n",
       "      console.debug(\"Bokeh: BokehJS is being loaded, scheduling callback at\", now());\n",
       "      return null;\n",
       "    }\n",
       "    if (js_urls == null || js_urls.length === 0) {\n",
       "      run_callbacks();\n",
       "      return null;\n",
       "    }\n",
       "    console.debug(\"Bokeh: BokehJS not loaded, scheduling load and callback at\", now());\n",
       "    root._bokeh_is_loading = css_urls.length + js_urls.length;\n",
       "\n",
       "    function on_load() {\n",
       "      root._bokeh_is_loading--;\n",
       "      if (root._bokeh_is_loading === 0) {\n",
       "        console.debug(\"Bokeh: all BokehJS libraries/stylesheets loaded\");\n",
       "        run_callbacks()\n",
       "      }\n",
       "    }\n",
       "\n",
       "    function on_error(url) {\n",
       "      console.error(\"failed to load \" + url);\n",
       "    }\n",
       "\n",
       "    for (let i = 0; i < css_urls.length; i++) {\n",
       "      const url = css_urls[i];\n",
       "      const element = document.createElement(\"link\");\n",
       "      element.onload = on_load;\n",
       "      element.onerror = on_error.bind(null, url);\n",
       "      element.rel = \"stylesheet\";\n",
       "      element.type = \"text/css\";\n",
       "      element.href = url;\n",
       "      console.debug(\"Bokeh: injecting link tag for BokehJS stylesheet: \", url);\n",
       "      document.body.appendChild(element);\n",
       "    }\n",
       "\n",
       "    const hashes = {\"https://cdn.bokeh.org/bokeh/release/bokeh-2.3.1.min.js\": \"YF85VygJKMVnHE+lLv2AM93Vbstr0yo2TbIu5v8se5Rq3UQAUmcuh4aaJwNlpKwa\", \"https://cdn.bokeh.org/bokeh/release/bokeh-widgets-2.3.1.min.js\": \"KKuas3gevv3PvrlkyCMzffFeaMq5we/a2QsP5AUoS3mJ0jmaCL7jirFJN3GoE/lM\", \"https://cdn.bokeh.org/bokeh/release/bokeh-tables-2.3.1.min.js\": \"MK/uFc3YT18pkvvXRl66tTHjP0/dxoSH2e/eiNMFIguKlun2+WVqaPTWmUy/zvh4\"};\n",
       "\n",
       "    for (let i = 0; i < js_urls.length; i++) {\n",
       "      const url = js_urls[i];\n",
       "      const element = document.createElement('script');\n",
       "      element.onload = on_load;\n",
       "      element.onerror = on_error.bind(null, url);\n",
       "      element.async = false;\n",
       "      element.src = url;\n",
       "      if (url in hashes) {\n",
       "        element.crossOrigin = \"anonymous\";\n",
       "        element.integrity = \"sha384-\" + hashes[url];\n",
       "      }\n",
       "      console.debug(\"Bokeh: injecting script tag for BokehJS library: \", url);\n",
       "      document.head.appendChild(element);\n",
       "    }\n",
       "  };\n",
       "\n",
       "  function inject_raw_css(css) {\n",
       "    const element = document.createElement(\"style\");\n",
       "    element.appendChild(document.createTextNode(css));\n",
       "    document.body.appendChild(element);\n",
       "  }\n",
       "\n",
       "  \n",
       "  var js_urls = [\"https://cdn.bokeh.org/bokeh/release/bokeh-2.3.1.min.js\", \"https://cdn.bokeh.org/bokeh/release/bokeh-widgets-2.3.1.min.js\", \"https://cdn.bokeh.org/bokeh/release/bokeh-tables-2.3.1.min.js\"];\n",
       "  var css_urls = [];\n",
       "  \n",
       "\n",
       "  var inline_js = [\n",
       "    function(Bokeh) {\n",
       "      Bokeh.set_log_level(\"info\");\n",
       "    },\n",
       "    function(Bokeh) {\n",
       "    \n",
       "    \n",
       "    }\n",
       "  ];\n",
       "\n",
       "  function run_inline_js() {\n",
       "    \n",
       "    if (root.Bokeh !== undefined || force === true) {\n",
       "      \n",
       "    for (var i = 0; i < inline_js.length; i++) {\n",
       "      inline_js[i].call(root, root.Bokeh);\n",
       "    }\n",
       "    if (force === true) {\n",
       "        display_loaded();\n",
       "      }} else if (Date.now() < root._bokeh_timeout) {\n",
       "      setTimeout(run_inline_js, 100);\n",
       "    } else if (!root._bokeh_failed_load) {\n",
       "      console.log(\"Bokeh: BokehJS failed to load within specified timeout.\");\n",
       "      root._bokeh_failed_load = true;\n",
       "    } else if (force !== true) {\n",
       "      var cell = $(document.getElementById(\"3510\")).parents('.cell').data().cell;\n",
       "      cell.output_area.append_execute_result(NB_LOAD_WARNING)\n",
       "    }\n",
       "\n",
       "  }\n",
       "\n",
       "  if (root._bokeh_is_loading === 0) {\n",
       "    console.debug(\"Bokeh: BokehJS loaded, going straight to plotting\");\n",
       "    run_inline_js();\n",
       "  } else {\n",
       "    load_libs(css_urls, js_urls, function() {\n",
       "      console.debug(\"Bokeh: BokehJS plotting callback run at\", now());\n",
       "      run_inline_js();\n",
       "    });\n",
       "  }\n",
       "}(window));"
      ],
      "application/vnd.bokehjs_load.v0+json": "\n(function(root) {\n  function now() {\n    return new Date();\n  }\n\n  var force = true;\n\n  if (typeof root._bokeh_onload_callbacks === \"undefined\" || force === true) {\n    root._bokeh_onload_callbacks = [];\n    root._bokeh_is_loading = undefined;\n  }\n\n  \n\n  \n  if (typeof (root._bokeh_timeout) === \"undefined\" || force === true) {\n    root._bokeh_timeout = Date.now() + 5000;\n    root._bokeh_failed_load = false;\n  }\n\n  var NB_LOAD_WARNING = {'data': {'text/html':\n     \"<div style='background-color: #fdd'>\\n\"+\n     \"<p>\\n\"+\n     \"BokehJS does not appear to have successfully loaded. If loading BokehJS from CDN, this \\n\"+\n     \"may be due to a slow or bad network connection. Possible fixes:\\n\"+\n     \"</p>\\n\"+\n     \"<ul>\\n\"+\n     \"<li>re-rerun `output_notebook()` to attempt to load from CDN again, or</li>\\n\"+\n     \"<li>use INLINE resources instead, as so:</li>\\n\"+\n     \"</ul>\\n\"+\n     \"<code>\\n\"+\n     \"from bokeh.resources import INLINE\\n\"+\n     \"output_notebook(resources=INLINE)\\n\"+\n     \"</code>\\n\"+\n     \"</div>\"}};\n\n  function display_loaded() {\n    var el = document.getElementById(\"3510\");\n    if (el != null) {\n      el.textContent = \"BokehJS is loading...\";\n    }\n    if (root.Bokeh !== undefined) {\n      if (el != null) {\n        el.textContent = \"BokehJS \" + root.Bokeh.version + \" successfully loaded.\";\n      }\n    } else if (Date.now() < root._bokeh_timeout) {\n      setTimeout(display_loaded, 100)\n    }\n  }\n\n\n  function run_callbacks() {\n    try {\n      root._bokeh_onload_callbacks.forEach(function(callback) {\n        if (callback != null)\n          callback();\n      });\n    } finally {\n      delete root._bokeh_onload_callbacks\n    }\n    console.debug(\"Bokeh: all callbacks have finished\");\n  }\n\n  function load_libs(css_urls, js_urls, callback) {\n    if (css_urls == null) css_urls = [];\n    if (js_urls == null) js_urls = [];\n\n    root._bokeh_onload_callbacks.push(callback);\n    if (root._bokeh_is_loading > 0) {\n      console.debug(\"Bokeh: BokehJS is being loaded, scheduling callback at\", now());\n      return null;\n    }\n    if (js_urls == null || js_urls.length === 0) {\n      run_callbacks();\n      return null;\n    }\n    console.debug(\"Bokeh: BokehJS not loaded, scheduling load and callback at\", now());\n    root._bokeh_is_loading = css_urls.length + js_urls.length;\n\n    function on_load() {\n      root._bokeh_is_loading--;\n      if (root._bokeh_is_loading === 0) {\n        console.debug(\"Bokeh: all BokehJS libraries/stylesheets loaded\");\n        run_callbacks()\n      }\n    }\n\n    function on_error(url) {\n      console.error(\"failed to load \" + url);\n    }\n\n    for (let i = 0; i < css_urls.length; i++) {\n      const url = css_urls[i];\n      const element = document.createElement(\"link\");\n      element.onload = on_load;\n      element.onerror = on_error.bind(null, url);\n      element.rel = \"stylesheet\";\n      element.type = \"text/css\";\n      element.href = url;\n      console.debug(\"Bokeh: injecting link tag for BokehJS stylesheet: \", url);\n      document.body.appendChild(element);\n    }\n\n    const hashes = {\"https://cdn.bokeh.org/bokeh/release/bokeh-2.3.1.min.js\": \"YF85VygJKMVnHE+lLv2AM93Vbstr0yo2TbIu5v8se5Rq3UQAUmcuh4aaJwNlpKwa\", \"https://cdn.bokeh.org/bokeh/release/bokeh-widgets-2.3.1.min.js\": \"KKuas3gevv3PvrlkyCMzffFeaMq5we/a2QsP5AUoS3mJ0jmaCL7jirFJN3GoE/lM\", \"https://cdn.bokeh.org/bokeh/release/bokeh-tables-2.3.1.min.js\": \"MK/uFc3YT18pkvvXRl66tTHjP0/dxoSH2e/eiNMFIguKlun2+WVqaPTWmUy/zvh4\"};\n\n    for (let i = 0; i < js_urls.length; i++) {\n      const url = js_urls[i];\n      const element = document.createElement('script');\n      element.onload = on_load;\n      element.onerror = on_error.bind(null, url);\n      element.async = false;\n      element.src = url;\n      if (url in hashes) {\n        element.crossOrigin = \"anonymous\";\n        element.integrity = \"sha384-\" + hashes[url];\n      }\n      console.debug(\"Bokeh: injecting script tag for BokehJS library: \", url);\n      document.head.appendChild(element);\n    }\n  };\n\n  function inject_raw_css(css) {\n    const element = document.createElement(\"style\");\n    element.appendChild(document.createTextNode(css));\n    document.body.appendChild(element);\n  }\n\n  \n  var js_urls = [\"https://cdn.bokeh.org/bokeh/release/bokeh-2.3.1.min.js\", \"https://cdn.bokeh.org/bokeh/release/bokeh-widgets-2.3.1.min.js\", \"https://cdn.bokeh.org/bokeh/release/bokeh-tables-2.3.1.min.js\"];\n  var css_urls = [];\n  \n\n  var inline_js = [\n    function(Bokeh) {\n      Bokeh.set_log_level(\"info\");\n    },\n    function(Bokeh) {\n    \n    \n    }\n  ];\n\n  function run_inline_js() {\n    \n    if (root.Bokeh !== undefined || force === true) {\n      \n    for (var i = 0; i < inline_js.length; i++) {\n      inline_js[i].call(root, root.Bokeh);\n    }\n    if (force === true) {\n        display_loaded();\n      }} else if (Date.now() < root._bokeh_timeout) {\n      setTimeout(run_inline_js, 100);\n    } else if (!root._bokeh_failed_load) {\n      console.log(\"Bokeh: BokehJS failed to load within specified timeout.\");\n      root._bokeh_failed_load = true;\n    } else if (force !== true) {\n      var cell = $(document.getElementById(\"3510\")).parents('.cell').data().cell;\n      cell.output_area.append_execute_result(NB_LOAD_WARNING)\n    }\n\n  }\n\n  if (root._bokeh_is_loading === 0) {\n    console.debug(\"Bokeh: BokehJS loaded, going straight to plotting\");\n    run_inline_js();\n  } else {\n    load_libs(css_urls, js_urls, function() {\n      console.debug(\"Bokeh: BokehJS plotting callback run at\", now());\n      run_inline_js();\n    });\n  }\n}(window));"
     },
     "metadata": {},
     "output_type": "display_data"
    }
   ],
   "source": [
    "#import numpy \n",
    "import numpy as np\n",
    "#import panda\n",
    "import pandas as pd\n",
    "from pandas import read_csv\n",
    "#import bokeh\n",
    "import bokeh\n",
    "from bokeh.plotting import figure, output_file, show\n",
    "from bokeh.models import ColumnDataSource, HoverTool, CDSView, ColumnDataSource, GroupFilter\n",
    "from bokeh.models.tools import HoverTool\n",
    "\n",
    "#imports from pandas_bokeh \n",
    "import pandas_bokeh\n",
    "#making sure the plot is visible in the notebook\n",
    "pandas_bokeh.output_notebook()"
   ]
  },
  {
   "cell_type": "code",
   "execution_count": 36,
   "id": "excessive-latino",
   "metadata": {},
   "outputs": [
    {
     "data": {
      "text/html": [
       "<div>\n",
       "<style scoped>\n",
       "    .dataframe tbody tr th:only-of-type {\n",
       "        vertical-align: middle;\n",
       "    }\n",
       "\n",
       "    .dataframe tbody tr th {\n",
       "        vertical-align: top;\n",
       "    }\n",
       "\n",
       "    .dataframe thead th {\n",
       "        text-align: right;\n",
       "    }\n",
       "</style>\n",
       "<table border=\"1\" class=\"dataframe\">\n",
       "  <thead>\n",
       "    <tr style=\"text-align: right;\">\n",
       "      <th></th>\n",
       "      <th>neighborhood</th>\n",
       "      <th>mean_price</th>\n",
       "      <th>rfd</th>\n",
       "    </tr>\n",
       "  </thead>\n",
       "  <tbody>\n",
       "    <tr>\n",
       "      <th>0</th>\n",
       "      <td>La Prosperitat</td>\n",
       "      <td>167150.000000</td>\n",
       "      <td>56.0</td>\n",
       "    </tr>\n",
       "    <tr>\n",
       "      <th>1</th>\n",
       "      <td>El Baix Guinardó</td>\n",
       "      <td>315222.222222</td>\n",
       "      <td>92.0</td>\n",
       "    </tr>\n",
       "    <tr>\n",
       "      <th>2</th>\n",
       "      <td>El Congrés i els Indians</td>\n",
       "      <td>320000.000000</td>\n",
       "      <td>75.1</td>\n",
       "    </tr>\n",
       "    <tr>\n",
       "      <th>3</th>\n",
       "      <td>Sant Genís dels Agudells</td>\n",
       "      <td>312172.413793</td>\n",
       "      <td>84.1</td>\n",
       "    </tr>\n",
       "    <tr>\n",
       "      <th>4</th>\n",
       "      <td>La Nova Esquerra de l'Eixample</td>\n",
       "      <td>460978.654362</td>\n",
       "      <td>110.2</td>\n",
       "    </tr>\n",
       "  </tbody>\n",
       "</table>\n",
       "</div>"
      ],
      "text/plain": [
       "                     neighborhood     mean_price    rfd\n",
       "0                  La Prosperitat  167150.000000   56.0\n",
       "1                El Baix Guinardó  315222.222222   92.0\n",
       "2        El Congrés i els Indians  320000.000000   75.1\n",
       "3        Sant Genís dels Agudells  312172.413793   84.1\n",
       "4  La Nova Esquerra de l'Eixample  460978.654362  110.2"
      ]
     },
     "execution_count": 36,
     "metadata": {},
     "output_type": "execute_result"
    }
   ],
   "source": [
    "#import the csv file \n",
    "\n",
    "d = pd.read_csv('KPI2v2.csv', header=0, delimiter=';')\n",
    "d.head() #tabular visualization of the dataset "
   ]
  },
  {
   "cell_type": "code",
   "execution_count": 46,
   "id": "criminal-worse",
   "metadata": {},
   "outputs": [
    {
     "data": {
      "text/html": [
       "\n",
       "\n",
       "\n",
       "\n",
       "\n",
       "\n",
       "  <div class=\"bk-root\" id=\"55970805-b232-4d34-a9b8-0e0dcf7270a3\" data-root-id=\"4756\"></div>\n"
      ]
     },
     "metadata": {},
     "output_type": "display_data"
    },
    {
     "data": {
      "application/javascript": [
       "(function(root) {\n",
       "  function embed_document(root) {\n",
       "    \n",
       "  var docs_json = {\"dc51b30b-a3ed-4e2c-87cb-3991a751a1aa\":{\"defs\":[],\"roots\":{\"references\":[{\"attributes\":{\"below\":[{\"id\":\"4767\"}],\"center\":[{\"id\":\"4770\"},{\"id\":\"4774\"},{\"id\":\"4806\"}],\"height\":400,\"left\":[{\"id\":\"4771\"}],\"output_backend\":\"webgl\",\"renderers\":[{\"id\":\"4795\"}],\"sizing_mode\":\"fixed\",\"title\":{\"id\":\"4757\"},\"toolbar\":{\"id\":\"4782\"},\"x_range\":{\"id\":\"4759\"},\"x_scale\":{\"id\":\"4763\"},\"y_range\":{\"id\":\"4761\"},\"y_scale\":{\"id\":\"4765\"}},\"id\":\"4756\",\"subtype\":\"Figure\",\"type\":\"Plot\"},{\"attributes\":{},\"id\":\"4759\",\"type\":\"DataRange1d\"},{\"attributes\":{\"ticks\":[0,1,2,3,4,5,6,7,8,9,10,11,12,13,14,15,16,17,18,19,20,21,22,23,24,25,26,27,28,29,30,31,32,33,34,35,36,37,38,39,40,41,42,43,44,45,46,47,48,49,50,51]},\"id\":\"4810\",\"type\":\"FixedTicker\"},{\"attributes\":{\"text\":\"Scatter plot of correlation between neighborhood and rfd\"},\"id\":\"4757\",\"type\":\"Title\"},{\"attributes\":{},\"id\":\"4802\",\"type\":\"BasicTickFormatter\"},{\"attributes\":{\"code\":\"\\n                                var labels = {0: 'La Prosperitat', 1: 'El Baix Guinard\\u00f3', 2: 'El Congr\\u00e9s i els Indians', 3: 'Sant Gen\\u00eds dels Agudells', 4: \\\"La Nova Esquerra de l'Eixample\\\", 5: \\\"L'Antiga Esquerra de l'Eixample\\\", 6: 'Les Roquetes', 7: 'La Trinitat Nova', 8: 'Horta Barcelona', 9: 'La Teixonera', 10: 'Vila de Gr\\u00e0cia', 11: 'La Maternitat i Sant Ramon', 12: \\\"Camp d'en Grassot i Gr\\u00e0cia Nova\\\", 13: 'el Coll', 14: 'Sants-Badal', 15: 'Hostafrancs', 16: 'Les Tres Torres', 17: 'El Poble-sec Barcelona', 18: 'Sant Gervasi \\u2013 la Bonanova', 19: 'Can Bar\\u00f3', 20: 'Verdun', 21: 'Vallcarca i els Penitents', 22: 'La Font de la Guatlla', 23: 'Sagrada Fam\\u00edlia', 24: 'Sant Andreu de Palomar', 25: 'Canyelles', 26: 'La Marina del Prat Vermell', 27: 'La Salut', 28: 'El Raval', 29: \\\"El Camp de l'Arpa del Clot\\\", 30: 'Pedralbes', 31: 'Fort Pienc', 32: 'Sant Gervasi \\u2013 Galvany', 33: 'Sants', 34: 'Vilapicina i la Torre Llobeta', 35: 'El Carmel', 36: 'Can Peguera', 37: 'Ciutat Meridiana', 38: 'El Guinard\\u00f3', 39: \\\"Dreta de l'Eixample\\\", 40: 'Les Corts', 41: 'La Bordeta', 42: 'Porta', 43: 'Sarri\\u00e0', 44: 'El Putxet i el Farr\\u00f3', 45: 'Sant Antoni', 46: 'Navas', 47: 'Gothic Quarter', 48: 'La Marina de Port', 49: \\\"La Font d'en Fargues\\\", 50: \\\"Vall d'Hebron\\\", 51: 'Trinitat Vella'};\\n                                return labels[tick];\\n                                \"},\"id\":\"4789\",\"type\":\"FuncTickFormatter\"},{\"attributes\":{},\"id\":\"4801\",\"type\":\"AllLabels\"},{\"attributes\":{},\"id\":\"4805\",\"type\":\"UnionRenderers\"},{\"attributes\":{},\"id\":\"4780\",\"type\":\"HelpTool\"},{\"attributes\":{\"source\":{\"id\":\"4791\"}},\"id\":\"4796\",\"type\":\"CDSView\"},{\"attributes\":{\"overlay\":{\"id\":\"4781\"}},\"id\":\"4777\",\"type\":\"BoxZoomTool\"},{\"attributes\":{\"label\":{\"value\":\"Hide/Show\"},\"renderers\":[{\"id\":\"4795\"}]},\"id\":\"4807\",\"type\":\"LegendItem\"},{\"attributes\":{\"axis\":{\"id\":\"4767\"},\"ticker\":null},\"id\":\"4770\",\"type\":\"Grid\"},{\"attributes\":{\"axis_label\":\"rfd\",\"formatter\":{\"id\":\"4802\"},\"major_label_policy\":{\"id\":\"4801\"},\"ticker\":{\"id\":\"4772\"}},\"id\":\"4771\",\"type\":\"LinearAxis\"},{\"attributes\":{\"fill_color\":{\"value\":\"#1f77b4\"},\"line_width\":{\"value\":2},\"size\":{\"value\":10},\"x\":{\"field\":\"__x__values\"},\"y\":{\"field\":\"y\"}},\"id\":\"4793\",\"type\":\"Scatter\"},{\"attributes\":{},\"id\":\"4779\",\"type\":\"ResetTool\"},{\"attributes\":{\"data_source\":{\"id\":\"4791\"},\"glyph\":{\"id\":\"4793\"},\"hover_glyph\":null,\"muted_glyph\":null,\"nonselection_glyph\":{\"id\":\"4794\"},\"view\":{\"id\":\"4796\"}},\"id\":\"4795\",\"type\":\"GlyphRenderer\"},{\"attributes\":{},\"id\":\"4772\",\"type\":\"BasicTicker\"},{\"attributes\":{},\"id\":\"4776\",\"type\":\"WheelZoomTool\"},{\"attributes\":{},\"id\":\"4799\",\"type\":\"AllLabels\"},{\"attributes\":{},\"id\":\"4775\",\"type\":\"PanTool\"},{\"attributes\":{\"callback\":null,\"renderers\":[{\"id\":\"4795\"}],\"tooltips\":[[\"neighborhood\",\"@__x__values_original\"],[\"rfd\",\"@y\"]]},\"id\":\"4808\",\"type\":\"HoverTool\"},{\"attributes\":{\"bottom_units\":\"screen\",\"fill_alpha\":0.5,\"fill_color\":\"lightgrey\",\"left_units\":\"screen\",\"level\":\"overlay\",\"line_alpha\":1.0,\"line_color\":\"black\",\"line_dash\":[4,4],\"line_width\":2,\"right_units\":\"screen\",\"syncable\":false,\"top_units\":\"screen\"},\"id\":\"4781\",\"type\":\"BoxAnnotation\"},{\"attributes\":{\"fill_alpha\":{\"value\":0.1},\"fill_color\":{\"value\":\"#1f77b4\"},\"line_alpha\":{\"value\":0.1},\"line_width\":{\"value\":2},\"size\":{\"value\":10},\"x\":{\"field\":\"__x__values\"},\"y\":{\"field\":\"y\"}},\"id\":\"4794\",\"type\":\"Scatter\"},{\"attributes\":{\"active_multi\":null,\"active_scroll\":{\"id\":\"4776\"},\"tools\":[{\"id\":\"4775\"},{\"id\":\"4776\"},{\"id\":\"4777\"},{\"id\":\"4778\"},{\"id\":\"4779\"},{\"id\":\"4780\"},{\"id\":\"4808\"}]},\"id\":\"4782\",\"type\":\"Toolbar\"},{\"attributes\":{\"axis\":{\"id\":\"4771\"},\"dimension\":1,\"ticker\":null},\"id\":\"4774\",\"type\":\"Grid\"},{\"attributes\":{},\"id\":\"4763\",\"type\":\"LinearScale\"},{\"attributes\":{},\"id\":\"4804\",\"type\":\"Selection\"},{\"attributes\":{\"data\":{\"__x__values\":[0,1,2,3,4,5,6,7,8,9,10,11,12,13,14,15,16,17,18,19,20,21,22,23,24,25,26,27,28,29,30,31,32,33,34,35,36,37,38,39,40,41,42,43,44,45,46,47,48,49,50,51],\"__x__values_original\":[\"La Prosperitat\",\"El Baix Guinard\\u00f3\",\"El Congr\\u00e9s i els Indians\",\"Sant Gen\\u00eds dels Agudells\",\"La Nova Esquerra de l'Eixample\",\"L'Antiga Esquerra de l'Eixample\",\"Les Roquetes\",\"La Trinitat Nova\",\"Horta Barcelona\",\"La Teixonera\",\"Vila de Gr\\u00e0cia\",\"La Maternitat i Sant Ramon\",\"Camp d'en Grassot i Gr\\u00e0cia Nova\",\"el Coll\",\"Sants-Badal\",\"Hostafrancs\",\"Les Tres Torres\",\"El Poble-sec Barcelona\",\"Sant Gervasi \\u2013 la Bonanova\",\"Can Bar\\u00f3\",\"Verdun\",\"Vallcarca i els Penitents\",\"La Font de la Guatlla\",\"Sagrada Fam\\u00edlia\",\"Sant Andreu de Palomar\",\"Canyelles\",\"La Marina del Prat Vermell\",\"La Salut\",\"El Raval\",\"El Camp de l'Arpa del Clot\",\"Pedralbes\",\"Fort Pienc\",\"Sant Gervasi \\u2013 Galvany\",\"Sants\",\"Vilapicina i la Torre Llobeta\",\"El Carmel\",\"Can Peguera\",\"Ciutat Meridiana\",\"El Guinard\\u00f3\",\"Dreta de l'Eixample\",\"Les Corts\",\"La Bordeta\",\"Porta\",\"Sarri\\u00e0\",\"El Putxet i el Farr\\u00f3\",\"Sant Antoni\",\"Navas\",\"Gothic Quarter\",\"La Marina de Port\",\"La Font d'en Fargues\",\"Vall d'Hebron\",\"Trinitat Vella\"],\"y\":{\"__ndarray__\":\"AAAAAAAATEAAAAAAAABXQGZmZmZmxlJAZmZmZmYGVUDNzMzMzIxbQGZmZmZmJmFAmpmZmZnZSECamZmZmRlIQDMzMzMz81NAzczMzMxsUkCamZmZmRlaQM3MzMzMjFxAzczMzMxsWkAAAAAAAMBVQAAAAAAAQFRAAAAAAADAWECamZmZmflqQM3MzMzMjFRAMzMzMzMTZ0AzMzMzM9NUQGZmZmZmpklAAAAAAAAgXECamZmZmblUQDMzMzMzc1lAzczMzMxsU0CamZmZmRlKQAAAAAAAAERAmpmZmZl5W0DNzMzMzMxRQM3MzMzMbFRAmpmZmZkZb0AAAAAAAKBaQDMzMzMzA2hAAAAAAADAWEBmZmZmZuZPQJqZmZmZGUtAAAAAAADASUDNzMzMzExDQGZmZmZmxlNAzczMzMz8ZUAAAAAAAABeQAAAAAAAwFNAmpmZmZkZUEAzMzMzMzNoQDMzMzMzE2JAzczMzMwMWkBmZmZmZmZUQGZmZmZmhlpAMzMzMzNTUUAAAAAAACBXQDMzMzMz81dAzczMzMyMR0A=\",\"dtype\":\"float64\",\"order\":\"little\",\"shape\":[52]}},\"selected\":{\"id\":\"4804\"},\"selection_policy\":{\"id\":\"4805\"}},\"id\":\"4791\",\"type\":\"ColumnDataSource\"},{\"attributes\":{\"click_policy\":\"hide\",\"items\":[{\"id\":\"4807\"}]},\"id\":\"4806\",\"type\":\"Legend\"},{\"attributes\":{},\"id\":\"4765\",\"type\":\"LinearScale\"},{\"attributes\":{\"axis_label\":\"neighborhood\",\"formatter\":{\"id\":\"4789\"},\"major_label_policy\":{\"id\":\"4799\"},\"ticker\":{\"id\":\"4810\"}},\"id\":\"4767\",\"type\":\"LinearAxis\"},{\"attributes\":{},\"id\":\"4778\",\"type\":\"SaveTool\"},{\"attributes\":{},\"id\":\"4761\",\"type\":\"DataRange1d\"}],\"root_ids\":[\"4756\"]},\"title\":\"Bokeh Application\",\"version\":\"2.3.1\"}};\n",
       "  var render_items = [{\"docid\":\"dc51b30b-a3ed-4e2c-87cb-3991a751a1aa\",\"root_ids\":[\"4756\"],\"roots\":{\"4756\":\"55970805-b232-4d34-a9b8-0e0dcf7270a3\"}}];\n",
       "  root.Bokeh.embed.embed_items_notebook(docs_json, render_items);\n",
       "\n",
       "  }\n",
       "  if (root.Bokeh !== undefined) {\n",
       "    embed_document(root);\n",
       "  } else {\n",
       "    var attempts = 0;\n",
       "    var timer = setInterval(function(root) {\n",
       "      if (root.Bokeh !== undefined) {\n",
       "        clearInterval(timer);\n",
       "        embed_document(root);\n",
       "      } else {\n",
       "        attempts++;\n",
       "        if (attempts > 100) {\n",
       "          clearInterval(timer);\n",
       "          console.log(\"Bokeh: ERROR: Unable to run BokehJS code because BokehJS library is missing\");\n",
       "        }\n",
       "      }\n",
       "    }, 10, root)\n",
       "  }\n",
       "})(window);"
      ],
      "application/vnd.bokehjs_exec.v0+json": ""
     },
     "metadata": {
      "application/vnd.bokehjs_exec.v0+json": {
       "id": "4756"
      }
     },
     "output_type": "display_data"
    }
   ],
   "source": [
    "from math import pi\n",
    "p = d.plot_bokeh(title='Scatter plot of correlation between neighborhood and rfd', kind='scatter', x = 'neighborhood', y = 'rfd')  #scatter visualization of the RFD \n",
    "p.xaxis.major_label_orientation = pi/4"
   ]
  },
  {
   "cell_type": "code",
   "execution_count": 47,
   "id": "previous-favorite",
   "metadata": {},
   "outputs": [
    {
     "data": {
      "text/html": [
       "\n",
       "\n",
       "\n",
       "\n",
       "\n",
       "\n",
       "  <div class=\"bk-root\" id=\"828208dc-9b3c-4c35-be5d-75c5bbc649f8\" data-root-id=\"4960\"></div>\n"
      ]
     },
     "metadata": {},
     "output_type": "display_data"
    },
    {
     "data": {
      "application/javascript": [
       "(function(root) {\n",
       "  function embed_document(root) {\n",
       "    \n",
       "  var docs_json = {\"14a51c70-875c-48aa-bab1-f272b0844d2e\":{\"defs\":[],\"roots\":{\"references\":[{\"attributes\":{\"below\":[{\"id\":\"4971\"}],\"center\":[{\"id\":\"4974\"},{\"id\":\"4978\"},{\"id\":\"5010\"}],\"height\":400,\"left\":[{\"id\":\"4975\"}],\"output_backend\":\"webgl\",\"renderers\":[{\"id\":\"4999\"}],\"sizing_mode\":\"fixed\",\"title\":{\"id\":\"4961\"},\"toolbar\":{\"id\":\"4986\"},\"x_range\":{\"id\":\"4963\"},\"x_scale\":{\"id\":\"4967\"},\"y_range\":{\"id\":\"4965\"},\"y_scale\":{\"id\":\"4969\"}},\"id\":\"4960\",\"subtype\":\"Figure\",\"type\":\"Plot\"},{\"attributes\":{\"axis_label\":\"neighborhood\",\"formatter\":{\"id\":\"4993\"},\"major_label_policy\":{\"id\":\"5003\"},\"ticker\":{\"id\":\"5014\"}},\"id\":\"4971\",\"type\":\"LinearAxis\"},{\"attributes\":{},\"id\":\"4983\",\"type\":\"ResetTool\"},{\"attributes\":{},\"id\":\"5003\",\"type\":\"AllLabels\"},{\"attributes\":{},\"id\":\"5009\",\"type\":\"UnionRenderers\"},{\"attributes\":{},\"id\":\"4984\",\"type\":\"HelpTool\"},{\"attributes\":{},\"id\":\"5006\",\"type\":\"BasicTickFormatter\"},{\"attributes\":{},\"id\":\"4963\",\"type\":\"DataRange1d\"},{\"attributes\":{},\"id\":\"4982\",\"type\":\"SaveTool\"},{\"attributes\":{\"ticks\":[0,1,2,3,4,5,6,7,8,9,10,11,12,13,14,15,16,17,18,19,20,21,22,23,24,25,26,27,28,29,30,31,32,33,34,35,36,37,38,39,40,41,42,43,44,45,46,47,48,49,50,51]},\"id\":\"5014\",\"type\":\"FixedTicker\"},{\"attributes\":{\"active_multi\":null,\"active_scroll\":{\"id\":\"4980\"},\"tools\":[{\"id\":\"4979\"},{\"id\":\"4980\"},{\"id\":\"4981\"},{\"id\":\"4982\"},{\"id\":\"4983\"},{\"id\":\"4984\"},{\"id\":\"5012\"}]},\"id\":\"4986\",\"type\":\"Toolbar\"},{\"attributes\":{\"axis\":{\"id\":\"4975\"},\"dimension\":1,\"ticker\":null},\"id\":\"4978\",\"type\":\"Grid\"},{\"attributes\":{},\"id\":\"4979\",\"type\":\"PanTool\"},{\"attributes\":{\"axis\":{\"id\":\"4971\"},\"ticker\":null},\"id\":\"4974\",\"type\":\"Grid\"},{\"attributes\":{\"overlay\":{\"id\":\"4985\"}},\"id\":\"4981\",\"type\":\"BoxZoomTool\"},{\"attributes\":{\"fill_color\":{\"value\":\"#1f77b4\"},\"line_color\":{\"value\":\"#1f77b4\"},\"line_width\":{\"value\":2},\"top\":{\"field\":\"rfd\"},\"width\":{\"value\":0.7},\"x\":{\"field\":\"__x__values\",\"transform\":{\"id\":\"4995\"}}},\"id\":\"4997\",\"type\":\"VBar\"},{\"attributes\":{},\"id\":\"4980\",\"type\":\"WheelZoomTool\"},{\"attributes\":{},\"id\":\"4976\",\"type\":\"BasicTicker\"},{\"attributes\":{},\"id\":\"5008\",\"type\":\"Selection\"},{\"attributes\":{\"text\":\"Bar plot of correlation between neighborhood and rfd\"},\"id\":\"4961\",\"type\":\"Title\"},{\"attributes\":{\"range\":{\"id\":\"4963\"}},\"id\":\"4995\",\"type\":\"Dodge\"},{\"attributes\":{},\"id\":\"5005\",\"type\":\"AllLabels\"},{\"attributes\":{},\"id\":\"4967\",\"type\":\"LinearScale\"},{\"attributes\":{\"fill_alpha\":{\"value\":0.1},\"fill_color\":{\"value\":\"#1f77b4\"},\"line_alpha\":{\"value\":0.1},\"line_color\":{\"value\":\"#1f77b4\"},\"line_width\":{\"value\":2},\"top\":{\"field\":\"rfd\"},\"width\":{\"value\":0.7},\"x\":{\"field\":\"__x__values\",\"transform\":{\"id\":\"4995\"}}},\"id\":\"4998\",\"type\":\"VBar\"},{\"attributes\":{},\"id\":\"4969\",\"type\":\"LinearScale\"},{\"attributes\":{},\"id\":\"4965\",\"type\":\"DataRange1d\"},{\"attributes\":{\"code\":\"\\n                                    var labels = {0: 'La Prosperitat', 1: 'El Baix Guinard\\u00f3', 2: 'El Congr\\u00e9s i els Indians', 3: 'Sant Gen\\u00eds dels Agudells', 4: \\\"La Nova Esquerra de l'Eixample\\\", 5: \\\"L'Antiga Esquerra de l'Eixample\\\", 6: 'Les Roquetes', 7: 'La Trinitat Nova', 8: 'Horta Barcelona', 9: 'La Teixonera', 10: 'Vila de Gr\\u00e0cia', 11: 'La Maternitat i Sant Ramon', 12: \\\"Camp d'en Grassot i Gr\\u00e0cia Nova\\\", 13: 'el Coll', 14: 'Sants-Badal', 15: 'Hostafrancs', 16: 'Les Tres Torres', 17: 'El Poble-sec Barcelona', 18: 'Sant Gervasi \\u2013 la Bonanova', 19: 'Can Bar\\u00f3', 20: 'Verdun', 21: 'Vallcarca i els Penitents', 22: 'La Font de la Guatlla', 23: 'Sagrada Fam\\u00edlia', 24: 'Sant Andreu de Palomar', 25: 'Canyelles', 26: 'La Marina del Prat Vermell', 27: 'La Salut', 28: 'El Raval', 29: \\\"El Camp de l'Arpa del Clot\\\", 30: 'Pedralbes', 31: 'Fort Pienc', 32: 'Sant Gervasi \\u2013 Galvany', 33: 'Sants', 34: 'Vilapicina i la Torre Llobeta', 35: 'El Carmel', 36: 'Can Peguera', 37: 'Ciutat Meridiana', 38: 'El Guinard\\u00f3', 39: \\\"Dreta de l'Eixample\\\", 40: 'Les Corts', 41: 'La Bordeta', 42: 'Porta', 43: 'Sarri\\u00e0', 44: 'El Putxet i el Farr\\u00f3', 45: 'Sant Antoni', 46: 'Navas', 47: 'Gothic Quarter', 48: 'La Marina de Port', 49: \\\"La Font d'en Fargues\\\", 50: \\\"Vall d'Hebron\\\", 51: 'Trinitat Vella'};\\n                                    return labels[tick];\\n                                    \"},\"id\":\"4993\",\"type\":\"FuncTickFormatter\"},{\"attributes\":{\"axis_label\":\"rfd\",\"formatter\":{\"id\":\"5006\"},\"major_label_policy\":{\"id\":\"5005\"},\"ticker\":{\"id\":\"4976\"}},\"id\":\"4975\",\"type\":\"LinearAxis\"},{\"attributes\":{\"click_policy\":\"hide\",\"items\":[{\"id\":\"5011\"}]},\"id\":\"5010\",\"type\":\"Legend\"},{\"attributes\":{\"callback\":null,\"mode\":\"vline\",\"renderers\":[{\"id\":\"4999\"}],\"tooltips\":[[\"neighborhood\",\"@__x__values_original\"],[\"rfd\",\"@{rfd}\"]]},\"id\":\"5012\",\"type\":\"HoverTool\"},{\"attributes\":{\"label\":{\"value\":\" rfd\"},\"renderers\":[{\"id\":\"4999\"}]},\"id\":\"5011\",\"type\":\"LegendItem\"},{\"attributes\":{\"data\":{\"__x__values\":[0,1,2,3,4,5,6,7,8,9,10,11,12,13,14,15,16,17,18,19,20,21,22,23,24,25,26,27,28,29,30,31,32,33,34,35,36,37,38,39,40,41,42,43,44,45,46,47,48,49,50,51],\"__x__values_original\":[\"La Prosperitat\",\"El Baix Guinard\\u00f3\",\"El Congr\\u00e9s i els Indians\",\"Sant Gen\\u00eds dels Agudells\",\"La Nova Esquerra de l'Eixample\",\"L'Antiga Esquerra de l'Eixample\",\"Les Roquetes\",\"La Trinitat Nova\",\"Horta Barcelona\",\"La Teixonera\",\"Vila de Gr\\u00e0cia\",\"La Maternitat i Sant Ramon\",\"Camp d'en Grassot i Gr\\u00e0cia Nova\",\"el Coll\",\"Sants-Badal\",\"Hostafrancs\",\"Les Tres Torres\",\"El Poble-sec Barcelona\",\"Sant Gervasi \\u2013 la Bonanova\",\"Can Bar\\u00f3\",\"Verdun\",\"Vallcarca i els Penitents\",\"La Font de la Guatlla\",\"Sagrada Fam\\u00edlia\",\"Sant Andreu de Palomar\",\"Canyelles\",\"La Marina del Prat Vermell\",\"La Salut\",\"El Raval\",\"El Camp de l'Arpa del Clot\",\"Pedralbes\",\"Fort Pienc\",\"Sant Gervasi \\u2013 Galvany\",\"Sants\",\"Vilapicina i la Torre Llobeta\",\"El Carmel\",\"Can Peguera\",\"Ciutat Meridiana\",\"El Guinard\\u00f3\",\"Dreta de l'Eixample\",\"Les Corts\",\"La Bordeta\",\"Porta\",\"Sarri\\u00e0\",\"El Putxet i el Farr\\u00f3\",\"Sant Antoni\",\"Navas\",\"Gothic Quarter\",\"La Marina de Port\",\"La Font d'en Fargues\",\"Vall d'Hebron\",\"Trinitat Vella\"],\"rfd\":{\"__ndarray__\":\"AAAAAAAATEAAAAAAAABXQGZmZmZmxlJAZmZmZmYGVUDNzMzMzIxbQGZmZmZmJmFAmpmZmZnZSECamZmZmRlIQDMzMzMz81NAzczMzMxsUkCamZmZmRlaQM3MzMzMjFxAzczMzMxsWkAAAAAAAMBVQAAAAAAAQFRAAAAAAADAWECamZmZmflqQM3MzMzMjFRAMzMzMzMTZ0AzMzMzM9NUQGZmZmZmpklAAAAAAAAgXECamZmZmblUQDMzMzMzc1lAzczMzMxsU0CamZmZmRlKQAAAAAAAAERAmpmZmZl5W0DNzMzMzMxRQM3MzMzMbFRAmpmZmZkZb0AAAAAAAKBaQDMzMzMzA2hAAAAAAADAWEBmZmZmZuZPQJqZmZmZGUtAAAAAAADASUDNzMzMzExDQGZmZmZmxlNAzczMzMz8ZUAAAAAAAABeQAAAAAAAwFNAmpmZmZkZUEAzMzMzMzNoQDMzMzMzE2JAzczMzMwMWkBmZmZmZmZUQGZmZmZmhlpAMzMzMzNTUUAAAAAAACBXQDMzMzMz81dAzczMzMyMR0A=\",\"dtype\":\"float64\",\"order\":\"little\",\"shape\":[52]}},\"selected\":{\"id\":\"5008\"},\"selection_policy\":{\"id\":\"5009\"}},\"id\":\"4959\",\"type\":\"ColumnDataSource\"},{\"attributes\":{\"data_source\":{\"id\":\"4959\"},\"glyph\":{\"id\":\"4997\"},\"hover_glyph\":null,\"muted_glyph\":null,\"nonselection_glyph\":{\"id\":\"4998\"},\"view\":{\"id\":\"5000\"}},\"id\":\"4999\",\"type\":\"GlyphRenderer\"},{\"attributes\":{\"bottom_units\":\"screen\",\"fill_alpha\":0.5,\"fill_color\":\"lightgrey\",\"left_units\":\"screen\",\"level\":\"overlay\",\"line_alpha\":1.0,\"line_color\":\"black\",\"line_dash\":[4,4],\"line_width\":2,\"right_units\":\"screen\",\"syncable\":false,\"top_units\":\"screen\"},\"id\":\"4985\",\"type\":\"BoxAnnotation\"},{\"attributes\":{\"source\":{\"id\":\"4959\"}},\"id\":\"5000\",\"type\":\"CDSView\"}],\"root_ids\":[\"4960\"]},\"title\":\"Bokeh Application\",\"version\":\"2.3.1\"}};\n",
       "  var render_items = [{\"docid\":\"14a51c70-875c-48aa-bab1-f272b0844d2e\",\"root_ids\":[\"4960\"],\"roots\":{\"4960\":\"828208dc-9b3c-4c35-be5d-75c5bbc649f8\"}}];\n",
       "  root.Bokeh.embed.embed_items_notebook(docs_json, render_items);\n",
       "\n",
       "  }\n",
       "  if (root.Bokeh !== undefined) {\n",
       "    embed_document(root);\n",
       "  } else {\n",
       "    var attempts = 0;\n",
       "    var timer = setInterval(function(root) {\n",
       "      if (root.Bokeh !== undefined) {\n",
       "        clearInterval(timer);\n",
       "        embed_document(root);\n",
       "      } else {\n",
       "        attempts++;\n",
       "        if (attempts > 100) {\n",
       "          clearInterval(timer);\n",
       "          console.log(\"Bokeh: ERROR: Unable to run BokehJS code because BokehJS library is missing\");\n",
       "        }\n",
       "      }\n",
       "    }, 10, root)\n",
       "  }\n",
       "})(window);"
      ],
      "application/vnd.bokehjs_exec.v0+json": ""
     },
     "metadata": {
      "application/vnd.bokehjs_exec.v0+json": {
       "id": "4960"
      }
     },
     "output_type": "display_data"
    },
    {
     "data": {
      "text/html": [
       "<div style=\"display: table;\"><div style=\"display: table-row;\"><div style=\"display: table-cell;\"><b title=\"bokeh.plotting.figure.Figure\">Figure</b>(</div><div style=\"display: table-cell;\">id&nbsp;=&nbsp;'4960', <span id=\"5137\" style=\"cursor: pointer;\">&hellip;)</span></div></div><div class=\"5136\" style=\"display: none;\"><div style=\"display: table-cell;\"></div><div style=\"display: table-cell;\">above&nbsp;=&nbsp;[],</div></div><div class=\"5136\" style=\"display: none;\"><div style=\"display: table-cell;\"></div><div style=\"display: table-cell;\">align&nbsp;=&nbsp;'start',</div></div><div class=\"5136\" style=\"display: none;\"><div style=\"display: table-cell;\"></div><div style=\"display: table-cell;\">aspect_ratio&nbsp;=&nbsp;None,</div></div><div class=\"5136\" style=\"display: none;\"><div style=\"display: table-cell;\"></div><div style=\"display: table-cell;\">aspect_scale&nbsp;=&nbsp;1,</div></div><div class=\"5136\" style=\"display: none;\"><div style=\"display: table-cell;\"></div><div style=\"display: table-cell;\">background&nbsp;=&nbsp;None,</div></div><div class=\"5136\" style=\"display: none;\"><div style=\"display: table-cell;\"></div><div style=\"display: table-cell;\">background_fill_alpha&nbsp;=&nbsp;1.0,</div></div><div class=\"5136\" style=\"display: none;\"><div style=\"display: table-cell;\"></div><div style=\"display: table-cell;\">background_fill_color&nbsp;=&nbsp;'#ffffff',</div></div><div class=\"5136\" style=\"display: none;\"><div style=\"display: table-cell;\"></div><div style=\"display: table-cell;\">below&nbsp;=&nbsp;[LinearAxis(id='4971', ...)],</div></div><div class=\"5136\" style=\"display: none;\"><div style=\"display: table-cell;\"></div><div style=\"display: table-cell;\">border_fill_alpha&nbsp;=&nbsp;1.0,</div></div><div class=\"5136\" style=\"display: none;\"><div style=\"display: table-cell;\"></div><div style=\"display: table-cell;\">border_fill_color&nbsp;=&nbsp;'#ffffff',</div></div><div class=\"5136\" style=\"display: none;\"><div style=\"display: table-cell;\"></div><div style=\"display: table-cell;\">center&nbsp;=&nbsp;[Grid(id='4974', ...), Grid(id='4978', ...), Legend(id='5010', ...)],</div></div><div class=\"5136\" style=\"display: none;\"><div style=\"display: table-cell;\"></div><div style=\"display: table-cell;\">css_classes&nbsp;=&nbsp;[],</div></div><div class=\"5136\" style=\"display: none;\"><div style=\"display: table-cell;\"></div><div style=\"display: table-cell;\">disabled&nbsp;=&nbsp;False,</div></div><div class=\"5136\" style=\"display: none;\"><div style=\"display: table-cell;\"></div><div style=\"display: table-cell;\">extra_x_ranges&nbsp;=&nbsp;{},</div></div><div class=\"5136\" style=\"display: none;\"><div style=\"display: table-cell;\"></div><div style=\"display: table-cell;\">extra_y_ranges&nbsp;=&nbsp;{},</div></div><div class=\"5136\" style=\"display: none;\"><div style=\"display: table-cell;\"></div><div style=\"display: table-cell;\">frame_height&nbsp;=&nbsp;None,</div></div><div class=\"5136\" style=\"display: none;\"><div style=\"display: table-cell;\"></div><div style=\"display: table-cell;\">frame_width&nbsp;=&nbsp;None,</div></div><div class=\"5136\" style=\"display: none;\"><div style=\"display: table-cell;\"></div><div style=\"display: table-cell;\">height&nbsp;=&nbsp;400,</div></div><div class=\"5136\" style=\"display: none;\"><div style=\"display: table-cell;\"></div><div style=\"display: table-cell;\">height_policy&nbsp;=&nbsp;'auto',</div></div><div class=\"5136\" style=\"display: none;\"><div style=\"display: table-cell;\"></div><div style=\"display: table-cell;\">hidpi&nbsp;=&nbsp;True,</div></div><div class=\"5136\" style=\"display: none;\"><div style=\"display: table-cell;\"></div><div style=\"display: table-cell;\">inner_height&nbsp;=&nbsp;0,</div></div><div class=\"5136\" style=\"display: none;\"><div style=\"display: table-cell;\"></div><div style=\"display: table-cell;\">inner_width&nbsp;=&nbsp;0,</div></div><div class=\"5136\" style=\"display: none;\"><div style=\"display: table-cell;\"></div><div style=\"display: table-cell;\">js_event_callbacks&nbsp;=&nbsp;{},</div></div><div class=\"5136\" style=\"display: none;\"><div style=\"display: table-cell;\"></div><div style=\"display: table-cell;\">js_property_callbacks&nbsp;=&nbsp;{},</div></div><div class=\"5136\" style=\"display: none;\"><div style=\"display: table-cell;\"></div><div style=\"display: table-cell;\">left&nbsp;=&nbsp;[LinearAxis(id='4975', ...)],</div></div><div class=\"5136\" style=\"display: none;\"><div style=\"display: table-cell;\"></div><div style=\"display: table-cell;\">lod_factor&nbsp;=&nbsp;10,</div></div><div class=\"5136\" style=\"display: none;\"><div style=\"display: table-cell;\"></div><div style=\"display: table-cell;\">lod_interval&nbsp;=&nbsp;300,</div></div><div class=\"5136\" style=\"display: none;\"><div style=\"display: table-cell;\"></div><div style=\"display: table-cell;\">lod_threshold&nbsp;=&nbsp;2000,</div></div><div class=\"5136\" style=\"display: none;\"><div style=\"display: table-cell;\"></div><div style=\"display: table-cell;\">lod_timeout&nbsp;=&nbsp;500,</div></div><div class=\"5136\" style=\"display: none;\"><div style=\"display: table-cell;\"></div><div style=\"display: table-cell;\">margin&nbsp;=&nbsp;(0, 0, 0, 0),</div></div><div class=\"5136\" style=\"display: none;\"><div style=\"display: table-cell;\"></div><div style=\"display: table-cell;\">match_aspect&nbsp;=&nbsp;False,</div></div><div class=\"5136\" style=\"display: none;\"><div style=\"display: table-cell;\"></div><div style=\"display: table-cell;\">max_height&nbsp;=&nbsp;None,</div></div><div class=\"5136\" style=\"display: none;\"><div style=\"display: table-cell;\"></div><div style=\"display: table-cell;\">max_width&nbsp;=&nbsp;None,</div></div><div class=\"5136\" style=\"display: none;\"><div style=\"display: table-cell;\"></div><div style=\"display: table-cell;\">min_border&nbsp;=&nbsp;5,</div></div><div class=\"5136\" style=\"display: none;\"><div style=\"display: table-cell;\"></div><div style=\"display: table-cell;\">min_border_bottom&nbsp;=&nbsp;None,</div></div><div class=\"5136\" style=\"display: none;\"><div style=\"display: table-cell;\"></div><div style=\"display: table-cell;\">min_border_left&nbsp;=&nbsp;None,</div></div><div class=\"5136\" style=\"display: none;\"><div style=\"display: table-cell;\"></div><div style=\"display: table-cell;\">min_border_right&nbsp;=&nbsp;None,</div></div><div class=\"5136\" style=\"display: none;\"><div style=\"display: table-cell;\"></div><div style=\"display: table-cell;\">min_border_top&nbsp;=&nbsp;None,</div></div><div class=\"5136\" style=\"display: none;\"><div style=\"display: table-cell;\"></div><div style=\"display: table-cell;\">min_height&nbsp;=&nbsp;None,</div></div><div class=\"5136\" style=\"display: none;\"><div style=\"display: table-cell;\"></div><div style=\"display: table-cell;\">min_width&nbsp;=&nbsp;None,</div></div><div class=\"5136\" style=\"display: none;\"><div style=\"display: table-cell;\"></div><div style=\"display: table-cell;\">name&nbsp;=&nbsp;None,</div></div><div class=\"5136\" style=\"display: none;\"><div style=\"display: table-cell;\"></div><div style=\"display: table-cell;\">outer_height&nbsp;=&nbsp;0,</div></div><div class=\"5136\" style=\"display: none;\"><div style=\"display: table-cell;\"></div><div style=\"display: table-cell;\">outer_width&nbsp;=&nbsp;0,</div></div><div class=\"5136\" style=\"display: none;\"><div style=\"display: table-cell;\"></div><div style=\"display: table-cell;\">outline_line_alpha&nbsp;=&nbsp;1.0,</div></div><div class=\"5136\" style=\"display: none;\"><div style=\"display: table-cell;\"></div><div style=\"display: table-cell;\">outline_line_cap&nbsp;=&nbsp;'butt',</div></div><div class=\"5136\" style=\"display: none;\"><div style=\"display: table-cell;\"></div><div style=\"display: table-cell;\">outline_line_color&nbsp;=&nbsp;'#e5e5e5',</div></div><div class=\"5136\" style=\"display: none;\"><div style=\"display: table-cell;\"></div><div style=\"display: table-cell;\">outline_line_dash&nbsp;=&nbsp;[],</div></div><div class=\"5136\" style=\"display: none;\"><div style=\"display: table-cell;\"></div><div style=\"display: table-cell;\">outline_line_dash_offset&nbsp;=&nbsp;0,</div></div><div class=\"5136\" style=\"display: none;\"><div style=\"display: table-cell;\"></div><div style=\"display: table-cell;\">outline_line_join&nbsp;=&nbsp;'bevel',</div></div><div class=\"5136\" style=\"display: none;\"><div style=\"display: table-cell;\"></div><div style=\"display: table-cell;\">outline_line_width&nbsp;=&nbsp;1,</div></div><div class=\"5136\" style=\"display: none;\"><div style=\"display: table-cell;\"></div><div style=\"display: table-cell;\">output_backend&nbsp;=&nbsp;'webgl',</div></div><div class=\"5136\" style=\"display: none;\"><div style=\"display: table-cell;\"></div><div style=\"display: table-cell;\">renderers&nbsp;=&nbsp;[GlyphRenderer(id='4999', ...)],</div></div><div class=\"5136\" style=\"display: none;\"><div style=\"display: table-cell;\"></div><div style=\"display: table-cell;\">reset_policy&nbsp;=&nbsp;'standard',</div></div><div class=\"5136\" style=\"display: none;\"><div style=\"display: table-cell;\"></div><div style=\"display: table-cell;\">right&nbsp;=&nbsp;[],</div></div><div class=\"5136\" style=\"display: none;\"><div style=\"display: table-cell;\"></div><div style=\"display: table-cell;\">sizing_mode&nbsp;=&nbsp;'fixed',</div></div><div class=\"5136\" style=\"display: none;\"><div style=\"display: table-cell;\"></div><div style=\"display: table-cell;\">subscribed_events&nbsp;=&nbsp;[],</div></div><div class=\"5136\" style=\"display: none;\"><div style=\"display: table-cell;\"></div><div style=\"display: table-cell;\">syncable&nbsp;=&nbsp;True,</div></div><div class=\"5136\" style=\"display: none;\"><div style=\"display: table-cell;\"></div><div style=\"display: table-cell;\">tags&nbsp;=&nbsp;[],</div></div><div class=\"5136\" style=\"display: none;\"><div style=\"display: table-cell;\"></div><div style=\"display: table-cell;\">title&nbsp;=&nbsp;Title(id='4961', ...),</div></div><div class=\"5136\" style=\"display: none;\"><div style=\"display: table-cell;\"></div><div style=\"display: table-cell;\">title_location&nbsp;=&nbsp;'above',</div></div><div class=\"5136\" style=\"display: none;\"><div style=\"display: table-cell;\"></div><div style=\"display: table-cell;\">toolbar&nbsp;=&nbsp;Toolbar(id='4986', ...),</div></div><div class=\"5136\" style=\"display: none;\"><div style=\"display: table-cell;\"></div><div style=\"display: table-cell;\">toolbar_location&nbsp;=&nbsp;'right',</div></div><div class=\"5136\" style=\"display: none;\"><div style=\"display: table-cell;\"></div><div style=\"display: table-cell;\">toolbar_sticky&nbsp;=&nbsp;True,</div></div><div class=\"5136\" style=\"display: none;\"><div style=\"display: table-cell;\"></div><div style=\"display: table-cell;\">visible&nbsp;=&nbsp;True,</div></div><div class=\"5136\" style=\"display: none;\"><div style=\"display: table-cell;\"></div><div style=\"display: table-cell;\">width&nbsp;=&nbsp;600,</div></div><div class=\"5136\" style=\"display: none;\"><div style=\"display: table-cell;\"></div><div style=\"display: table-cell;\">width_policy&nbsp;=&nbsp;'auto',</div></div><div class=\"5136\" style=\"display: none;\"><div style=\"display: table-cell;\"></div><div style=\"display: table-cell;\">x_range&nbsp;=&nbsp;DataRange1d(id='4963', ...),</div></div><div class=\"5136\" style=\"display: none;\"><div style=\"display: table-cell;\"></div><div style=\"display: table-cell;\">x_scale&nbsp;=&nbsp;LinearScale(id='4967', ...),</div></div><div class=\"5136\" style=\"display: none;\"><div style=\"display: table-cell;\"></div><div style=\"display: table-cell;\">y_range&nbsp;=&nbsp;DataRange1d(id='4965', ...),</div></div><div class=\"5136\" style=\"display: none;\"><div style=\"display: table-cell;\"></div><div style=\"display: table-cell;\">y_scale&nbsp;=&nbsp;LinearScale(id='4969', ...))</div></div></div>\n",
       "<script>\n",
       "(function() {\n",
       "  var expanded = false;\n",
       "  var ellipsis = document.getElementById(\"5137\");\n",
       "  ellipsis.addEventListener(\"click\", function() {\n",
       "    var rows = document.getElementsByClassName(\"5136\");\n",
       "    for (var i = 0; i < rows.length; i++) {\n",
       "      var el = rows[i];\n",
       "      el.style.display = expanded ? \"none\" : \"table-row\";\n",
       "    }\n",
       "    ellipsis.innerHTML = expanded ? \"&hellip;)\" : \"&lsaquo;&lsaquo;&lsaquo;\";\n",
       "    expanded = !expanded;\n",
       "  });\n",
       "})();\n",
       "</script>\n"
      ],
      "text/plain": [
       "Figure(id='4960', ...)"
      ]
     },
     "execution_count": 47,
     "metadata": {},
     "output_type": "execute_result"
    }
   ],
   "source": [
    "d.plot_bokeh(title='Bar plot of correlation between neighborhood and rfd', kind='bar', x = 'neighborhood', y = 'rfd') #line- plot visualization of the correlation between neighborhood and RFD"
   ]
  },
  {
   "cell_type": "markdown",
   "id": "expensive-bangkok",
   "metadata": {},
   "source": [
    "The following visualizations display the correlation between the mean_price and the neighborhood. "
   ]
  },
  {
   "cell_type": "code",
   "execution_count": 14,
   "id": "double-summer",
   "metadata": {},
   "outputs": [
    {
     "data": {
      "text/html": [
       "\n",
       "\n",
       "\n",
       "\n",
       "\n",
       "\n",
       "  <div class=\"bk-root\" id=\"5aaf5f6e-0afe-4d52-a4b9-cd5cb5cf24c2\" data-root-id=\"2057\"></div>\n"
      ]
     },
     "metadata": {},
     "output_type": "display_data"
    },
    {
     "data": {
      "application/javascript": [
       "(function(root) {\n",
       "  function embed_document(root) {\n",
       "    \n",
       "  var docs_json = {\"6d4e5190-2780-47d9-8c7a-91de18eaae35\":{\"defs\":[],\"roots\":{\"references\":[{\"attributes\":{\"below\":[{\"id\":\"2068\"}],\"center\":[{\"id\":\"2071\"},{\"id\":\"2075\"},{\"id\":\"2107\"}],\"height\":400,\"left\":[{\"id\":\"2072\"}],\"output_backend\":\"webgl\",\"renderers\":[{\"id\":\"2096\"}],\"sizing_mode\":\"fixed\",\"title\":{\"id\":\"2058\"},\"toolbar\":{\"id\":\"2083\"},\"x_range\":{\"id\":\"2060\"},\"x_scale\":{\"id\":\"2064\"},\"y_range\":{\"id\":\"2062\"},\"y_scale\":{\"id\":\"2066\"}},\"id\":\"2057\",\"subtype\":\"Figure\",\"type\":\"Plot\"},{\"attributes\":{},\"id\":\"2064\",\"type\":\"LinearScale\"},{\"attributes\":{},\"id\":\"2062\",\"type\":\"DataRange1d\"},{\"attributes\":{},\"id\":\"2102\",\"type\":\"AllLabels\"},{\"attributes\":{\"callback\":null,\"renderers\":[{\"id\":\"2096\"}],\"tooltips\":[[\"neighborhood\",\"@__x__values_original\"],[\"mean_price\",\"@y\"]]},\"id\":\"2109\",\"type\":\"HoverTool\"},{\"attributes\":{\"use_scientific\":false},\"id\":\"2103\",\"type\":\"BasicTickFormatter\"},{\"attributes\":{\"overlay\":{\"id\":\"2082\"}},\"id\":\"2078\",\"type\":\"BoxZoomTool\"},{\"attributes\":{\"fill_alpha\":{\"value\":0.1},\"fill_color\":{\"value\":\"#1f77b4\"},\"line_alpha\":{\"value\":0.1},\"line_width\":{\"value\":2},\"size\":{\"value\":10},\"x\":{\"field\":\"__x__values\"},\"y\":{\"field\":\"y\"}},\"id\":\"2095\",\"type\":\"Scatter\"},{\"attributes\":{\"axis_label\":\"neighborhood\",\"formatter\":{\"id\":\"2090\"},\"major_label_policy\":{\"id\":\"2100\"},\"ticker\":{\"id\":\"2111\"}},\"id\":\"2068\",\"type\":\"LinearAxis\"},{\"attributes\":{\"label\":{\"value\":\"Hide/Show\"},\"renderers\":[{\"id\":\"2096\"}]},\"id\":\"2108\",\"type\":\"LegendItem\"},{\"attributes\":{\"ticks\":[0,1,2,3,4,5,6,7,8,9,10,11,12,13,14,15,16,17,18,19,20,21,22,23,24,25,26,27,28,29,30,31,32,33,34,35,36,37,38,39,40,41,42,43,44,45,46,47,48,49,50,51]},\"id\":\"2111\",\"type\":\"FixedTicker\"},{\"attributes\":{},\"id\":\"2106\",\"type\":\"UnionRenderers\"},{\"attributes\":{\"source\":{\"id\":\"2092\"}},\"id\":\"2097\",\"type\":\"CDSView\"},{\"attributes\":{},\"id\":\"2077\",\"type\":\"WheelZoomTool\"},{\"attributes\":{\"click_policy\":\"hide\",\"items\":[{\"id\":\"2108\"}]},\"id\":\"2107\",\"type\":\"Legend\"},{\"attributes\":{},\"id\":\"2105\",\"type\":\"Selection\"},{\"attributes\":{\"axis\":{\"id\":\"2072\"},\"dimension\":1,\"ticker\":null},\"id\":\"2075\",\"type\":\"Grid\"},{\"attributes\":{\"data_source\":{\"id\":\"2092\"},\"glyph\":{\"id\":\"2094\"},\"hover_glyph\":null,\"muted_glyph\":null,\"nonselection_glyph\":{\"id\":\"2095\"},\"view\":{\"id\":\"2097\"}},\"id\":\"2096\",\"type\":\"GlyphRenderer\"},{\"attributes\":{\"code\":\"\\n                                var labels = {0: 'La Prosperitat', 1: 'El Baix Guinard\\u00f3', 2: 'El Congr\\u00e9s i els Indians', 3: 'Sant Gen\\u00eds dels Agudells', 4: \\\"La Nova Esquerra de l'Eixample\\\", 5: \\\"L'Antiga Esquerra de l'Eixample\\\", 6: 'Les Roquetes', 7: 'La Trinitat Nova', 8: 'Horta Barcelona', 9: 'La Teixonera', 10: 'Vila de Gr\\u00e0cia', 11: 'La Maternitat i Sant Ramon', 12: \\\"Camp d'en Grassot i Gr\\u00e0cia Nova\\\", 13: 'el Coll', 14: 'Sants-Badal', 15: 'Hostafrancs', 16: 'Les Tres Torres', 17: 'El Poble-sec Barcelona', 18: 'Sant Gervasi \\u2013 la Bonanova', 19: 'Can Bar\\u00f3', 20: 'Verdun', 21: 'Vallcarca i els Penitents', 22: 'La Font de la Guatlla', 23: 'Sagrada Fam\\u00edlia', 24: 'Sant Andreu de Palomar', 25: 'Canyelles', 26: 'La Marina del Prat Vermell', 27: 'La Salut', 28: 'El Raval', 29: \\\"El Camp de l'Arpa del Clot\\\", 30: 'Pedralbes', 31: 'Fort Pienc', 32: 'Sant Gervasi \\u2013 Galvany', 33: 'Sants', 34: 'Vilapicina i la Torre Llobeta', 35: 'El Carmel', 36: 'Can Peguera', 37: 'Ciutat Meridiana', 38: 'El Guinard\\u00f3', 39: \\\"Dreta de l'Eixample\\\", 40: 'Les Corts', 41: 'La Bordeta', 42: 'Porta', 43: 'Sarri\\u00e0', 44: 'El Putxet i el Farr\\u00f3', 45: 'Sant Antoni', 46: 'Navas', 47: 'Gothic Quarter', 48: 'La Marina de Port', 49: \\\"La Font d'en Fargues\\\", 50: \\\"Vall d'Hebron\\\", 51: 'Trinitat Vella'};\\n                                return labels[tick];\\n                                \"},\"id\":\"2090\",\"type\":\"FuncTickFormatter\"},{\"attributes\":{\"text\":\"Scatter plot of correlation between neighborhood and mean_price\"},\"id\":\"2058\",\"type\":\"Title\"},{\"attributes\":{\"axis\":{\"id\":\"2068\"},\"ticker\":null},\"id\":\"2071\",\"type\":\"Grid\"},{\"attributes\":{\"fill_color\":{\"value\":\"#1f77b4\"},\"line_width\":{\"value\":2},\"size\":{\"value\":10},\"x\":{\"field\":\"__x__values\"},\"y\":{\"field\":\"y\"}},\"id\":\"2094\",\"type\":\"Scatter\"},{\"attributes\":{\"axis_label\":\"mean_price\",\"formatter\":{\"id\":\"2103\"},\"major_label_policy\":{\"id\":\"2102\"},\"ticker\":{\"id\":\"2073\"}},\"id\":\"2072\",\"type\":\"LinearAxis\"},{\"attributes\":{\"bottom_units\":\"screen\",\"fill_alpha\":0.5,\"fill_color\":\"lightgrey\",\"left_units\":\"screen\",\"level\":\"overlay\",\"line_alpha\":1.0,\"line_color\":\"black\",\"line_dash\":[4,4],\"line_width\":2,\"right_units\":\"screen\",\"syncable\":false,\"top_units\":\"screen\"},\"id\":\"2082\",\"type\":\"BoxAnnotation\"},{\"attributes\":{},\"id\":\"2060\",\"type\":\"DataRange1d\"},{\"attributes\":{},\"id\":\"2073\",\"type\":\"BasicTicker\"},{\"attributes\":{},\"id\":\"2100\",\"type\":\"AllLabels\"},{\"attributes\":{},\"id\":\"2079\",\"type\":\"SaveTool\"},{\"attributes\":{},\"id\":\"2076\",\"type\":\"PanTool\"},{\"attributes\":{\"active_multi\":null,\"active_scroll\":{\"id\":\"2077\"},\"tools\":[{\"id\":\"2076\"},{\"id\":\"2077\"},{\"id\":\"2078\"},{\"id\":\"2079\"},{\"id\":\"2080\"},{\"id\":\"2081\"},{\"id\":\"2109\"}]},\"id\":\"2083\",\"type\":\"Toolbar\"},{\"attributes\":{\"data\":{\"__x__values\":[0,1,2,3,4,5,6,7,8,9,10,11,12,13,14,15,16,17,18,19,20,21,22,23,24,25,26,27,28,29,30,31,32,33,34,35,36,37,38,39,40,41,42,43,44,45,46,47,48,49,50,51],\"__x__values_original\":[\"La Prosperitat\",\"El Baix Guinard\\u00f3\",\"El Congr\\u00e9s i els Indians\",\"Sant Gen\\u00eds dels Agudells\",\"La Nova Esquerra de l'Eixample\",\"L'Antiga Esquerra de l'Eixample\",\"Les Roquetes\",\"La Trinitat Nova\",\"Horta Barcelona\",\"La Teixonera\",\"Vila de Gr\\u00e0cia\",\"La Maternitat i Sant Ramon\",\"Camp d'en Grassot i Gr\\u00e0cia Nova\",\"el Coll\",\"Sants-Badal\",\"Hostafrancs\",\"Les Tres Torres\",\"El Poble-sec Barcelona\",\"Sant Gervasi \\u2013 la Bonanova\",\"Can Bar\\u00f3\",\"Verdun\",\"Vallcarca i els Penitents\",\"La Font de la Guatlla\",\"Sagrada Fam\\u00edlia\",\"Sant Andreu de Palomar\",\"Canyelles\",\"La Marina del Prat Vermell\",\"La Salut\",\"El Raval\",\"El Camp de l'Arpa del Clot\",\"Pedralbes\",\"Fort Pienc\",\"Sant Gervasi \\u2013 Galvany\",\"Sants\",\"Vilapicina i la Torre Llobeta\",\"El Carmel\",\"Can Peguera\",\"Ciutat Meridiana\",\"El Guinard\\u00f3\",\"Dreta de l'Eixample\",\"Les Corts\",\"La Bordeta\",\"Porta\",\"Sarri\\u00e0\",\"El Putxet i el Farr\\u00f3\",\"Sant Antoni\",\"Navas\",\"Gothic Quarter\",\"La Marina de Port\",\"La Font d'en Fargues\",\"Vall d'Hebron\",\"Trinitat Vella\"],\"y\":{\"__ndarray__\":\"AAAAAHBnBEHkOI7jWD0TQQAAAAAAiBNBGmG5p7ENE0FkLhGeyiIcQU1ZU9aqAyZBqqqqqqoiBkEAAAAAwGgDQUmSJEkKMxJBO7ETO9F1DEHXWmutRVIiQZze9KZ1LBhBb9u2bROcH0EAAAAAoCwQQRJ4+yEVhw9BAAAAAECMEUEAAAAAPk40QXTaQKfeRRFBg96pa1lOPEEAAAAABAoaQQAAAAAQMgNBT29601vKHUHUm970hioZQQAAAABgWhhBAAAAANiEFkEAAAAAgCsIQUmSJEn6GBRBAAAAAGgKGkEAAABY66MVQQAAAAAAiBNBip3YibWfQEEAAAAAgKIZQQfnY3B6wi9BlIxFNYx8E0EAAAAAQDASQaOLLroIqQlBqqqqqiq0DUEAAAAAIKD8QAAAAABwvhJBRhdd9MANMUFhcyDR3qoeQb8aE+mZTxBBAAAAAFANBkHLt3zLLws8QYfUBONN3SJBWIyE0sb1GkEAAAAAINwSQXM6yum0GSRBsHdMDYxFDUEAAAAAIFMUQVVVVVW1YBBBAAAAAPByAEE=\",\"dtype\":\"float64\",\"order\":\"little\",\"shape\":[52]}},\"selected\":{\"id\":\"2105\"},\"selection_policy\":{\"id\":\"2106\"}},\"id\":\"2092\",\"type\":\"ColumnDataSource\"},{\"attributes\":{},\"id\":\"2081\",\"type\":\"HelpTool\"},{\"attributes\":{},\"id\":\"2066\",\"type\":\"LinearScale\"},{\"attributes\":{},\"id\":\"2080\",\"type\":\"ResetTool\"}],\"root_ids\":[\"2057\"]},\"title\":\"Bokeh Application\",\"version\":\"2.3.1\"}};\n",
       "  var render_items = [{\"docid\":\"6d4e5190-2780-47d9-8c7a-91de18eaae35\",\"root_ids\":[\"2057\"],\"roots\":{\"2057\":\"5aaf5f6e-0afe-4d52-a4b9-cd5cb5cf24c2\"}}];\n",
       "  root.Bokeh.embed.embed_items_notebook(docs_json, render_items);\n",
       "\n",
       "  }\n",
       "  if (root.Bokeh !== undefined) {\n",
       "    embed_document(root);\n",
       "  } else {\n",
       "    var attempts = 0;\n",
       "    var timer = setInterval(function(root) {\n",
       "      if (root.Bokeh !== undefined) {\n",
       "        clearInterval(timer);\n",
       "        embed_document(root);\n",
       "      } else {\n",
       "        attempts++;\n",
       "        if (attempts > 100) {\n",
       "          clearInterval(timer);\n",
       "          console.log(\"Bokeh: ERROR: Unable to run BokehJS code because BokehJS library is missing\");\n",
       "        }\n",
       "      }\n",
       "    }, 10, root)\n",
       "  }\n",
       "})(window);"
      ],
      "application/vnd.bokehjs_exec.v0+json": ""
     },
     "metadata": {
      "application/vnd.bokehjs_exec.v0+json": {
       "id": "2057"
      }
     },
     "output_type": "display_data"
    },
    {
     "data": {
      "text/html": [
       "<div style=\"display: table;\"><div style=\"display: table-row;\"><div style=\"display: table-cell;\"><b title=\"bokeh.plotting.figure.Figure\">Figure</b>(</div><div style=\"display: table-cell;\">id&nbsp;=&nbsp;'2057', <span id=\"2179\" style=\"cursor: pointer;\">&hellip;)</span></div></div><div class=\"2178\" style=\"display: none;\"><div style=\"display: table-cell;\"></div><div style=\"display: table-cell;\">above&nbsp;=&nbsp;[],</div></div><div class=\"2178\" style=\"display: none;\"><div style=\"display: table-cell;\"></div><div style=\"display: table-cell;\">align&nbsp;=&nbsp;'start',</div></div><div class=\"2178\" style=\"display: none;\"><div style=\"display: table-cell;\"></div><div style=\"display: table-cell;\">aspect_ratio&nbsp;=&nbsp;None,</div></div><div class=\"2178\" style=\"display: none;\"><div style=\"display: table-cell;\"></div><div style=\"display: table-cell;\">aspect_scale&nbsp;=&nbsp;1,</div></div><div class=\"2178\" style=\"display: none;\"><div style=\"display: table-cell;\"></div><div style=\"display: table-cell;\">background&nbsp;=&nbsp;None,</div></div><div class=\"2178\" style=\"display: none;\"><div style=\"display: table-cell;\"></div><div style=\"display: table-cell;\">background_fill_alpha&nbsp;=&nbsp;1.0,</div></div><div class=\"2178\" style=\"display: none;\"><div style=\"display: table-cell;\"></div><div style=\"display: table-cell;\">background_fill_color&nbsp;=&nbsp;'#ffffff',</div></div><div class=\"2178\" style=\"display: none;\"><div style=\"display: table-cell;\"></div><div style=\"display: table-cell;\">below&nbsp;=&nbsp;[LinearAxis(id='2068', ...)],</div></div><div class=\"2178\" style=\"display: none;\"><div style=\"display: table-cell;\"></div><div style=\"display: table-cell;\">border_fill_alpha&nbsp;=&nbsp;1.0,</div></div><div class=\"2178\" style=\"display: none;\"><div style=\"display: table-cell;\"></div><div style=\"display: table-cell;\">border_fill_color&nbsp;=&nbsp;'#ffffff',</div></div><div class=\"2178\" style=\"display: none;\"><div style=\"display: table-cell;\"></div><div style=\"display: table-cell;\">center&nbsp;=&nbsp;[Grid(id='2071', ...), Grid(id='2075', ...), Legend(id='2107', ...)],</div></div><div class=\"2178\" style=\"display: none;\"><div style=\"display: table-cell;\"></div><div style=\"display: table-cell;\">css_classes&nbsp;=&nbsp;[],</div></div><div class=\"2178\" style=\"display: none;\"><div style=\"display: table-cell;\"></div><div style=\"display: table-cell;\">disabled&nbsp;=&nbsp;False,</div></div><div class=\"2178\" style=\"display: none;\"><div style=\"display: table-cell;\"></div><div style=\"display: table-cell;\">extra_x_ranges&nbsp;=&nbsp;{},</div></div><div class=\"2178\" style=\"display: none;\"><div style=\"display: table-cell;\"></div><div style=\"display: table-cell;\">extra_y_ranges&nbsp;=&nbsp;{},</div></div><div class=\"2178\" style=\"display: none;\"><div style=\"display: table-cell;\"></div><div style=\"display: table-cell;\">frame_height&nbsp;=&nbsp;None,</div></div><div class=\"2178\" style=\"display: none;\"><div style=\"display: table-cell;\"></div><div style=\"display: table-cell;\">frame_width&nbsp;=&nbsp;None,</div></div><div class=\"2178\" style=\"display: none;\"><div style=\"display: table-cell;\"></div><div style=\"display: table-cell;\">height&nbsp;=&nbsp;400,</div></div><div class=\"2178\" style=\"display: none;\"><div style=\"display: table-cell;\"></div><div style=\"display: table-cell;\">height_policy&nbsp;=&nbsp;'auto',</div></div><div class=\"2178\" style=\"display: none;\"><div style=\"display: table-cell;\"></div><div style=\"display: table-cell;\">hidpi&nbsp;=&nbsp;True,</div></div><div class=\"2178\" style=\"display: none;\"><div style=\"display: table-cell;\"></div><div style=\"display: table-cell;\">inner_height&nbsp;=&nbsp;0,</div></div><div class=\"2178\" style=\"display: none;\"><div style=\"display: table-cell;\"></div><div style=\"display: table-cell;\">inner_width&nbsp;=&nbsp;0,</div></div><div class=\"2178\" style=\"display: none;\"><div style=\"display: table-cell;\"></div><div style=\"display: table-cell;\">js_event_callbacks&nbsp;=&nbsp;{},</div></div><div class=\"2178\" style=\"display: none;\"><div style=\"display: table-cell;\"></div><div style=\"display: table-cell;\">js_property_callbacks&nbsp;=&nbsp;{},</div></div><div class=\"2178\" style=\"display: none;\"><div style=\"display: table-cell;\"></div><div style=\"display: table-cell;\">left&nbsp;=&nbsp;[LinearAxis(id='2072', ...)],</div></div><div class=\"2178\" style=\"display: none;\"><div style=\"display: table-cell;\"></div><div style=\"display: table-cell;\">lod_factor&nbsp;=&nbsp;10,</div></div><div class=\"2178\" style=\"display: none;\"><div style=\"display: table-cell;\"></div><div style=\"display: table-cell;\">lod_interval&nbsp;=&nbsp;300,</div></div><div class=\"2178\" style=\"display: none;\"><div style=\"display: table-cell;\"></div><div style=\"display: table-cell;\">lod_threshold&nbsp;=&nbsp;2000,</div></div><div class=\"2178\" style=\"display: none;\"><div style=\"display: table-cell;\"></div><div style=\"display: table-cell;\">lod_timeout&nbsp;=&nbsp;500,</div></div><div class=\"2178\" style=\"display: none;\"><div style=\"display: table-cell;\"></div><div style=\"display: table-cell;\">margin&nbsp;=&nbsp;(0, 0, 0, 0),</div></div><div class=\"2178\" style=\"display: none;\"><div style=\"display: table-cell;\"></div><div style=\"display: table-cell;\">match_aspect&nbsp;=&nbsp;False,</div></div><div class=\"2178\" style=\"display: none;\"><div style=\"display: table-cell;\"></div><div style=\"display: table-cell;\">max_height&nbsp;=&nbsp;None,</div></div><div class=\"2178\" style=\"display: none;\"><div style=\"display: table-cell;\"></div><div style=\"display: table-cell;\">max_width&nbsp;=&nbsp;None,</div></div><div class=\"2178\" style=\"display: none;\"><div style=\"display: table-cell;\"></div><div style=\"display: table-cell;\">min_border&nbsp;=&nbsp;5,</div></div><div class=\"2178\" style=\"display: none;\"><div style=\"display: table-cell;\"></div><div style=\"display: table-cell;\">min_border_bottom&nbsp;=&nbsp;None,</div></div><div class=\"2178\" style=\"display: none;\"><div style=\"display: table-cell;\"></div><div style=\"display: table-cell;\">min_border_left&nbsp;=&nbsp;None,</div></div><div class=\"2178\" style=\"display: none;\"><div style=\"display: table-cell;\"></div><div style=\"display: table-cell;\">min_border_right&nbsp;=&nbsp;None,</div></div><div class=\"2178\" style=\"display: none;\"><div style=\"display: table-cell;\"></div><div style=\"display: table-cell;\">min_border_top&nbsp;=&nbsp;None,</div></div><div class=\"2178\" style=\"display: none;\"><div style=\"display: table-cell;\"></div><div style=\"display: table-cell;\">min_height&nbsp;=&nbsp;None,</div></div><div class=\"2178\" style=\"display: none;\"><div style=\"display: table-cell;\"></div><div style=\"display: table-cell;\">min_width&nbsp;=&nbsp;None,</div></div><div class=\"2178\" style=\"display: none;\"><div style=\"display: table-cell;\"></div><div style=\"display: table-cell;\">name&nbsp;=&nbsp;None,</div></div><div class=\"2178\" style=\"display: none;\"><div style=\"display: table-cell;\"></div><div style=\"display: table-cell;\">outer_height&nbsp;=&nbsp;0,</div></div><div class=\"2178\" style=\"display: none;\"><div style=\"display: table-cell;\"></div><div style=\"display: table-cell;\">outer_width&nbsp;=&nbsp;0,</div></div><div class=\"2178\" style=\"display: none;\"><div style=\"display: table-cell;\"></div><div style=\"display: table-cell;\">outline_line_alpha&nbsp;=&nbsp;1.0,</div></div><div class=\"2178\" style=\"display: none;\"><div style=\"display: table-cell;\"></div><div style=\"display: table-cell;\">outline_line_cap&nbsp;=&nbsp;'butt',</div></div><div class=\"2178\" style=\"display: none;\"><div style=\"display: table-cell;\"></div><div style=\"display: table-cell;\">outline_line_color&nbsp;=&nbsp;'#e5e5e5',</div></div><div class=\"2178\" style=\"display: none;\"><div style=\"display: table-cell;\"></div><div style=\"display: table-cell;\">outline_line_dash&nbsp;=&nbsp;[],</div></div><div class=\"2178\" style=\"display: none;\"><div style=\"display: table-cell;\"></div><div style=\"display: table-cell;\">outline_line_dash_offset&nbsp;=&nbsp;0,</div></div><div class=\"2178\" style=\"display: none;\"><div style=\"display: table-cell;\"></div><div style=\"display: table-cell;\">outline_line_join&nbsp;=&nbsp;'bevel',</div></div><div class=\"2178\" style=\"display: none;\"><div style=\"display: table-cell;\"></div><div style=\"display: table-cell;\">outline_line_width&nbsp;=&nbsp;1,</div></div><div class=\"2178\" style=\"display: none;\"><div style=\"display: table-cell;\"></div><div style=\"display: table-cell;\">output_backend&nbsp;=&nbsp;'webgl',</div></div><div class=\"2178\" style=\"display: none;\"><div style=\"display: table-cell;\"></div><div style=\"display: table-cell;\">renderers&nbsp;=&nbsp;[GlyphRenderer(id='2096', ...)],</div></div><div class=\"2178\" style=\"display: none;\"><div style=\"display: table-cell;\"></div><div style=\"display: table-cell;\">reset_policy&nbsp;=&nbsp;'standard',</div></div><div class=\"2178\" style=\"display: none;\"><div style=\"display: table-cell;\"></div><div style=\"display: table-cell;\">right&nbsp;=&nbsp;[],</div></div><div class=\"2178\" style=\"display: none;\"><div style=\"display: table-cell;\"></div><div style=\"display: table-cell;\">sizing_mode&nbsp;=&nbsp;'fixed',</div></div><div class=\"2178\" style=\"display: none;\"><div style=\"display: table-cell;\"></div><div style=\"display: table-cell;\">subscribed_events&nbsp;=&nbsp;[],</div></div><div class=\"2178\" style=\"display: none;\"><div style=\"display: table-cell;\"></div><div style=\"display: table-cell;\">syncable&nbsp;=&nbsp;True,</div></div><div class=\"2178\" style=\"display: none;\"><div style=\"display: table-cell;\"></div><div style=\"display: table-cell;\">tags&nbsp;=&nbsp;[],</div></div><div class=\"2178\" style=\"display: none;\"><div style=\"display: table-cell;\"></div><div style=\"display: table-cell;\">title&nbsp;=&nbsp;Title(id='2058', ...),</div></div><div class=\"2178\" style=\"display: none;\"><div style=\"display: table-cell;\"></div><div style=\"display: table-cell;\">title_location&nbsp;=&nbsp;'above',</div></div><div class=\"2178\" style=\"display: none;\"><div style=\"display: table-cell;\"></div><div style=\"display: table-cell;\">toolbar&nbsp;=&nbsp;Toolbar(id='2083', ...),</div></div><div class=\"2178\" style=\"display: none;\"><div style=\"display: table-cell;\"></div><div style=\"display: table-cell;\">toolbar_location&nbsp;=&nbsp;'right',</div></div><div class=\"2178\" style=\"display: none;\"><div style=\"display: table-cell;\"></div><div style=\"display: table-cell;\">toolbar_sticky&nbsp;=&nbsp;True,</div></div><div class=\"2178\" style=\"display: none;\"><div style=\"display: table-cell;\"></div><div style=\"display: table-cell;\">visible&nbsp;=&nbsp;True,</div></div><div class=\"2178\" style=\"display: none;\"><div style=\"display: table-cell;\"></div><div style=\"display: table-cell;\">width&nbsp;=&nbsp;600,</div></div><div class=\"2178\" style=\"display: none;\"><div style=\"display: table-cell;\"></div><div style=\"display: table-cell;\">width_policy&nbsp;=&nbsp;'auto',</div></div><div class=\"2178\" style=\"display: none;\"><div style=\"display: table-cell;\"></div><div style=\"display: table-cell;\">x_range&nbsp;=&nbsp;DataRange1d(id='2060', ...),</div></div><div class=\"2178\" style=\"display: none;\"><div style=\"display: table-cell;\"></div><div style=\"display: table-cell;\">x_scale&nbsp;=&nbsp;LinearScale(id='2064', ...),</div></div><div class=\"2178\" style=\"display: none;\"><div style=\"display: table-cell;\"></div><div style=\"display: table-cell;\">y_range&nbsp;=&nbsp;DataRange1d(id='2062', ...),</div></div><div class=\"2178\" style=\"display: none;\"><div style=\"display: table-cell;\"></div><div style=\"display: table-cell;\">y_scale&nbsp;=&nbsp;LinearScale(id='2066', ...))</div></div></div>\n",
       "<script>\n",
       "(function() {\n",
       "  var expanded = false;\n",
       "  var ellipsis = document.getElementById(\"2179\");\n",
       "  ellipsis.addEventListener(\"click\", function() {\n",
       "    var rows = document.getElementsByClassName(\"2178\");\n",
       "    for (var i = 0; i < rows.length; i++) {\n",
       "      var el = rows[i];\n",
       "      el.style.display = expanded ? \"none\" : \"table-row\";\n",
       "    }\n",
       "    ellipsis.innerHTML = expanded ? \"&hellip;)\" : \"&lsaquo;&lsaquo;&lsaquo;\";\n",
       "    expanded = !expanded;\n",
       "  });\n",
       "})();\n",
       "</script>\n"
      ],
      "text/plain": [
       "Figure(id='2057', ...)"
      ]
     },
     "execution_count": 14,
     "metadata": {},
     "output_type": "execute_result"
    }
   ],
   "source": [
    "d.plot_bokeh(title='Scatter plot of correlation between neighborhood and mean_price', kind= 'scatter', x=\"neighborhood\", y=\"mean_price\", disable_scientific_axes=\"y\")"
   ]
  },
  {
   "cell_type": "code",
   "execution_count": 15,
   "id": "cosmetic-maintenance",
   "metadata": {},
   "outputs": [
    {
     "data": {
      "text/html": [
       "\n",
       "\n",
       "\n",
       "\n",
       "\n",
       "\n",
       "  <div class=\"bk-root\" id=\"43b1ee75-5982-44cf-ab9b-de53db934af1\" data-root-id=\"2217\"></div>\n"
      ]
     },
     "metadata": {},
     "output_type": "display_data"
    },
    {
     "data": {
      "application/javascript": [
       "(function(root) {\n",
       "  function embed_document(root) {\n",
       "    \n",
       "  var docs_json = {\"00064d41-8215-4187-9128-4777e593c1fa\":{\"defs\":[],\"roots\":{\"references\":[{\"attributes\":{\"below\":[{\"id\":\"2228\"}],\"center\":[{\"id\":\"2231\"},{\"id\":\"2235\"},{\"id\":\"2267\"}],\"height\":400,\"left\":[{\"id\":\"2232\"}],\"output_backend\":\"webgl\",\"renderers\":[{\"id\":\"2256\"}],\"sizing_mode\":\"fixed\",\"title\":{\"id\":\"2218\"},\"toolbar\":{\"id\":\"2243\"},\"x_range\":{\"id\":\"2220\"},\"x_scale\":{\"id\":\"2224\"},\"y_range\":{\"id\":\"2222\"},\"y_scale\":{\"id\":\"2226\"}},\"id\":\"2217\",\"subtype\":\"Figure\",\"type\":\"Plot\"},{\"attributes\":{},\"id\":\"2240\",\"type\":\"ResetTool\"},{\"attributes\":{},\"id\":\"2260\",\"type\":\"AllLabels\"},{\"attributes\":{},\"id\":\"2265\",\"type\":\"Selection\"},{\"attributes\":{\"overlay\":{\"id\":\"2242\"}},\"id\":\"2238\",\"type\":\"BoxZoomTool\"},{\"attributes\":{\"axis\":{\"id\":\"2228\"},\"ticker\":null},\"id\":\"2231\",\"type\":\"Grid\"},{\"attributes\":{},\"id\":\"2266\",\"type\":\"UnionRenderers\"},{\"attributes\":{\"active_multi\":null,\"active_scroll\":{\"id\":\"2237\"},\"tools\":[{\"id\":\"2236\"},{\"id\":\"2237\"},{\"id\":\"2238\"},{\"id\":\"2239\"},{\"id\":\"2240\"},{\"id\":\"2241\"},{\"id\":\"2269\"}]},\"id\":\"2243\",\"type\":\"Toolbar\"},{\"attributes\":{},\"id\":\"2241\",\"type\":\"HelpTool\"},{\"attributes\":{\"data\":{\"__x__values\":[0,1,2,3,4,5,6,7,8,9,10,11,12,13,14,15,16,17,18,19,20,21,22,23,24,25,26,27,28,29,30,31,32,33,34,35,36,37,38,39,40,41,42,43,44,45,46,47,48,49,50,51],\"__x__values_original\":[\"La Prosperitat\",\"El Baix Guinard\\u00f3\",\"El Congr\\u00e9s i els Indians\",\"Sant Gen\\u00eds dels Agudells\",\"La Nova Esquerra de l'Eixample\",\"L'Antiga Esquerra de l'Eixample\",\"Les Roquetes\",\"La Trinitat Nova\",\"Horta Barcelona\",\"La Teixonera\",\"Vila de Gr\\u00e0cia\",\"La Maternitat i Sant Ramon\",\"Camp d'en Grassot i Gr\\u00e0cia Nova\",\"el Coll\",\"Sants-Badal\",\"Hostafrancs\",\"Les Tres Torres\",\"El Poble-sec Barcelona\",\"Sant Gervasi \\u2013 la Bonanova\",\"Can Bar\\u00f3\",\"Verdun\",\"Vallcarca i els Penitents\",\"La Font de la Guatlla\",\"Sagrada Fam\\u00edlia\",\"Sant Andreu de Palomar\",\"Canyelles\",\"La Marina del Prat Vermell\",\"La Salut\",\"El Raval\",\"El Camp de l'Arpa del Clot\",\"Pedralbes\",\"Fort Pienc\",\"Sant Gervasi \\u2013 Galvany\",\"Sants\",\"Vilapicina i la Torre Llobeta\",\"El Carmel\",\"Can Peguera\",\"Ciutat Meridiana\",\"El Guinard\\u00f3\",\"Dreta de l'Eixample\",\"Les Corts\",\"La Bordeta\",\"Porta\",\"Sarri\\u00e0\",\"El Putxet i el Farr\\u00f3\",\"Sant Antoni\",\"Navas\",\"Gothic Quarter\",\"La Marina de Port\",\"La Font d'en Fargues\",\"Vall d'Hebron\",\"Trinitat Vella\"],\"mean_price\":{\"__ndarray__\":\"AAAAAHBnBEHkOI7jWD0TQQAAAAAAiBNBGmG5p7ENE0FkLhGeyiIcQU1ZU9aqAyZBqqqqqqoiBkEAAAAAwGgDQUmSJEkKMxJBO7ETO9F1DEHXWmutRVIiQZze9KZ1LBhBb9u2bROcH0EAAAAAoCwQQRJ4+yEVhw9BAAAAAECMEUEAAAAAPk40QXTaQKfeRRFBg96pa1lOPEEAAAAABAoaQQAAAAAQMgNBT29601vKHUHUm970hioZQQAAAABgWhhBAAAAANiEFkEAAAAAgCsIQUmSJEn6GBRBAAAAAGgKGkEAAABY66MVQQAAAAAAiBNBip3YibWfQEEAAAAAgKIZQQfnY3B6wi9BlIxFNYx8E0EAAAAAQDASQaOLLroIqQlBqqqqqiq0DUEAAAAAIKD8QAAAAABwvhJBRhdd9MANMUFhcyDR3qoeQb8aE+mZTxBBAAAAAFANBkHLt3zLLws8QYfUBONN3SJBWIyE0sb1GkEAAAAAINwSQXM6yum0GSRBsHdMDYxFDUEAAAAAIFMUQVVVVVW1YBBBAAAAAPByAEE=\",\"dtype\":\"float64\",\"order\":\"little\",\"shape\":[52]}},\"selected\":{\"id\":\"2265\"},\"selection_policy\":{\"id\":\"2266\"}},\"id\":\"2216\",\"type\":\"ColumnDataSource\"},{\"attributes\":{},\"id\":\"2239\",\"type\":\"SaveTool\"},{\"attributes\":{\"range\":{\"id\":\"2220\"}},\"id\":\"2252\",\"type\":\"Dodge\"},{\"attributes\":{},\"id\":\"2236\",\"type\":\"PanTool\"},{\"attributes\":{\"text\":\"Bar plot of correlation between neighborhood and mean_price\"},\"id\":\"2218\",\"type\":\"Title\"},{\"attributes\":{\"axis\":{\"id\":\"2232\"},\"dimension\":1,\"ticker\":null},\"id\":\"2235\",\"type\":\"Grid\"},{\"attributes\":{},\"id\":\"2220\",\"type\":\"DataRange1d\"},{\"attributes\":{\"fill_color\":{\"value\":\"#1f77b4\"},\"line_color\":{\"value\":\"#1f77b4\"},\"line_width\":{\"value\":2},\"top\":{\"field\":\"mean_price\"},\"width\":{\"value\":0.7},\"x\":{\"field\":\"__x__values\",\"transform\":{\"id\":\"2252\"}}},\"id\":\"2254\",\"type\":\"VBar\"},{\"attributes\":{},\"id\":\"2224\",\"type\":\"LinearScale\"},{\"attributes\":{},\"id\":\"2233\",\"type\":\"BasicTicker\"},{\"attributes\":{\"code\":\"\\n                                    var labels = {0: 'La Prosperitat', 1: 'El Baix Guinard\\u00f3', 2: 'El Congr\\u00e9s i els Indians', 3: 'Sant Gen\\u00eds dels Agudells', 4: \\\"La Nova Esquerra de l'Eixample\\\", 5: \\\"L'Antiga Esquerra de l'Eixample\\\", 6: 'Les Roquetes', 7: 'La Trinitat Nova', 8: 'Horta Barcelona', 9: 'La Teixonera', 10: 'Vila de Gr\\u00e0cia', 11: 'La Maternitat i Sant Ramon', 12: \\\"Camp d'en Grassot i Gr\\u00e0cia Nova\\\", 13: 'el Coll', 14: 'Sants-Badal', 15: 'Hostafrancs', 16: 'Les Tres Torres', 17: 'El Poble-sec Barcelona', 18: 'Sant Gervasi \\u2013 la Bonanova', 19: 'Can Bar\\u00f3', 20: 'Verdun', 21: 'Vallcarca i els Penitents', 22: 'La Font de la Guatlla', 23: 'Sagrada Fam\\u00edlia', 24: 'Sant Andreu de Palomar', 25: 'Canyelles', 26: 'La Marina del Prat Vermell', 27: 'La Salut', 28: 'El Raval', 29: \\\"El Camp de l'Arpa del Clot\\\", 30: 'Pedralbes', 31: 'Fort Pienc', 32: 'Sant Gervasi \\u2013 Galvany', 33: 'Sants', 34: 'Vilapicina i la Torre Llobeta', 35: 'El Carmel', 36: 'Can Peguera', 37: 'Ciutat Meridiana', 38: 'El Guinard\\u00f3', 39: \\\"Dreta de l'Eixample\\\", 40: 'Les Corts', 41: 'La Bordeta', 42: 'Porta', 43: 'Sarri\\u00e0', 44: 'El Putxet i el Farr\\u00f3', 45: 'Sant Antoni', 46: 'Navas', 47: 'Gothic Quarter', 48: 'La Marina de Port', 49: \\\"La Font d'en Fargues\\\", 50: \\\"Vall d'Hebron\\\", 51: 'Trinitat Vella'};\\n                                    return labels[tick];\\n                                    \"},\"id\":\"2250\",\"type\":\"FuncTickFormatter\"},{\"attributes\":{\"axis_label\":\"neighborhood\",\"formatter\":{\"id\":\"2250\"},\"major_label_policy\":{\"id\":\"2260\"},\"ticker\":{\"id\":\"2271\"}},\"id\":\"2228\",\"type\":\"LinearAxis\"},{\"attributes\":{},\"id\":\"2262\",\"type\":\"AllLabels\"},{\"attributes\":{},\"id\":\"2226\",\"type\":\"LinearScale\"},{\"attributes\":{\"use_scientific\":false},\"id\":\"2263\",\"type\":\"BasicTickFormatter\"},{\"attributes\":{},\"id\":\"2222\",\"type\":\"DataRange1d\"},{\"attributes\":{\"ticks\":[0,1,2,3,4,5,6,7,8,9,10,11,12,13,14,15,16,17,18,19,20,21,22,23,24,25,26,27,28,29,30,31,32,33,34,35,36,37,38,39,40,41,42,43,44,45,46,47,48,49,50,51]},\"id\":\"2271\",\"type\":\"FixedTicker\"},{\"attributes\":{\"axis_label\":\"mean_price\",\"formatter\":{\"id\":\"2263\"},\"major_label_policy\":{\"id\":\"2262\"},\"ticker\":{\"id\":\"2233\"}},\"id\":\"2232\",\"type\":\"LinearAxis\"},{\"attributes\":{},\"id\":\"2237\",\"type\":\"WheelZoomTool\"},{\"attributes\":{\"fill_alpha\":{\"value\":0.1},\"fill_color\":{\"value\":\"#1f77b4\"},\"line_alpha\":{\"value\":0.1},\"line_color\":{\"value\":\"#1f77b4\"},\"line_width\":{\"value\":2},\"top\":{\"field\":\"mean_price\"},\"width\":{\"value\":0.7},\"x\":{\"field\":\"__x__values\",\"transform\":{\"id\":\"2252\"}}},\"id\":\"2255\",\"type\":\"VBar\"},{\"attributes\":{\"source\":{\"id\":\"2216\"}},\"id\":\"2257\",\"type\":\"CDSView\"},{\"attributes\":{\"data_source\":{\"id\":\"2216\"},\"glyph\":{\"id\":\"2254\"},\"hover_glyph\":null,\"muted_glyph\":null,\"nonselection_glyph\":{\"id\":\"2255\"},\"view\":{\"id\":\"2257\"}},\"id\":\"2256\",\"type\":\"GlyphRenderer\"},{\"attributes\":{\"label\":{\"value\":\" mean_price\"},\"renderers\":[{\"id\":\"2256\"}]},\"id\":\"2268\",\"type\":\"LegendItem\"},{\"attributes\":{\"click_policy\":\"hide\",\"items\":[{\"id\":\"2268\"}]},\"id\":\"2267\",\"type\":\"Legend\"},{\"attributes\":{\"bottom_units\":\"screen\",\"fill_alpha\":0.5,\"fill_color\":\"lightgrey\",\"left_units\":\"screen\",\"level\":\"overlay\",\"line_alpha\":1.0,\"line_color\":\"black\",\"line_dash\":[4,4],\"line_width\":2,\"right_units\":\"screen\",\"syncable\":false,\"top_units\":\"screen\"},\"id\":\"2242\",\"type\":\"BoxAnnotation\"},{\"attributes\":{\"callback\":null,\"mode\":\"vline\",\"renderers\":[{\"id\":\"2256\"}],\"tooltips\":[[\"neighborhood\",\"@__x__values_original\"],[\"mean_price\",\"@{mean_price}\"]]},\"id\":\"2269\",\"type\":\"HoverTool\"}],\"root_ids\":[\"2217\"]},\"title\":\"Bokeh Application\",\"version\":\"2.3.1\"}};\n",
       "  var render_items = [{\"docid\":\"00064d41-8215-4187-9128-4777e593c1fa\",\"root_ids\":[\"2217\"],\"roots\":{\"2217\":\"43b1ee75-5982-44cf-ab9b-de53db934af1\"}}];\n",
       "  root.Bokeh.embed.embed_items_notebook(docs_json, render_items);\n",
       "\n",
       "  }\n",
       "  if (root.Bokeh !== undefined) {\n",
       "    embed_document(root);\n",
       "  } else {\n",
       "    var attempts = 0;\n",
       "    var timer = setInterval(function(root) {\n",
       "      if (root.Bokeh !== undefined) {\n",
       "        clearInterval(timer);\n",
       "        embed_document(root);\n",
       "      } else {\n",
       "        attempts++;\n",
       "        if (attempts > 100) {\n",
       "          clearInterval(timer);\n",
       "          console.log(\"Bokeh: ERROR: Unable to run BokehJS code because BokehJS library is missing\");\n",
       "        }\n",
       "      }\n",
       "    }, 10, root)\n",
       "  }\n",
       "})(window);"
      ],
      "application/vnd.bokehjs_exec.v0+json": ""
     },
     "metadata": {
      "application/vnd.bokehjs_exec.v0+json": {
       "id": "2217"
      }
     },
     "output_type": "display_data"
    },
    {
     "data": {
      "text/html": [
       "<div style=\"display: table;\"><div style=\"display: table-row;\"><div style=\"display: table-cell;\"><b title=\"bokeh.plotting.figure.Figure\">Figure</b>(</div><div style=\"display: table-cell;\">id&nbsp;=&nbsp;'2217', <span id=\"2347\" style=\"cursor: pointer;\">&hellip;)</span></div></div><div class=\"2346\" style=\"display: none;\"><div style=\"display: table-cell;\"></div><div style=\"display: table-cell;\">above&nbsp;=&nbsp;[],</div></div><div class=\"2346\" style=\"display: none;\"><div style=\"display: table-cell;\"></div><div style=\"display: table-cell;\">align&nbsp;=&nbsp;'start',</div></div><div class=\"2346\" style=\"display: none;\"><div style=\"display: table-cell;\"></div><div style=\"display: table-cell;\">aspect_ratio&nbsp;=&nbsp;None,</div></div><div class=\"2346\" style=\"display: none;\"><div style=\"display: table-cell;\"></div><div style=\"display: table-cell;\">aspect_scale&nbsp;=&nbsp;1,</div></div><div class=\"2346\" style=\"display: none;\"><div style=\"display: table-cell;\"></div><div style=\"display: table-cell;\">background&nbsp;=&nbsp;None,</div></div><div class=\"2346\" style=\"display: none;\"><div style=\"display: table-cell;\"></div><div style=\"display: table-cell;\">background_fill_alpha&nbsp;=&nbsp;1.0,</div></div><div class=\"2346\" style=\"display: none;\"><div style=\"display: table-cell;\"></div><div style=\"display: table-cell;\">background_fill_color&nbsp;=&nbsp;'#ffffff',</div></div><div class=\"2346\" style=\"display: none;\"><div style=\"display: table-cell;\"></div><div style=\"display: table-cell;\">below&nbsp;=&nbsp;[LinearAxis(id='2228', ...)],</div></div><div class=\"2346\" style=\"display: none;\"><div style=\"display: table-cell;\"></div><div style=\"display: table-cell;\">border_fill_alpha&nbsp;=&nbsp;1.0,</div></div><div class=\"2346\" style=\"display: none;\"><div style=\"display: table-cell;\"></div><div style=\"display: table-cell;\">border_fill_color&nbsp;=&nbsp;'#ffffff',</div></div><div class=\"2346\" style=\"display: none;\"><div style=\"display: table-cell;\"></div><div style=\"display: table-cell;\">center&nbsp;=&nbsp;[Grid(id='2231', ...), Grid(id='2235', ...), Legend(id='2267', ...)],</div></div><div class=\"2346\" style=\"display: none;\"><div style=\"display: table-cell;\"></div><div style=\"display: table-cell;\">css_classes&nbsp;=&nbsp;[],</div></div><div class=\"2346\" style=\"display: none;\"><div style=\"display: table-cell;\"></div><div style=\"display: table-cell;\">disabled&nbsp;=&nbsp;False,</div></div><div class=\"2346\" style=\"display: none;\"><div style=\"display: table-cell;\"></div><div style=\"display: table-cell;\">extra_x_ranges&nbsp;=&nbsp;{},</div></div><div class=\"2346\" style=\"display: none;\"><div style=\"display: table-cell;\"></div><div style=\"display: table-cell;\">extra_y_ranges&nbsp;=&nbsp;{},</div></div><div class=\"2346\" style=\"display: none;\"><div style=\"display: table-cell;\"></div><div style=\"display: table-cell;\">frame_height&nbsp;=&nbsp;None,</div></div><div class=\"2346\" style=\"display: none;\"><div style=\"display: table-cell;\"></div><div style=\"display: table-cell;\">frame_width&nbsp;=&nbsp;None,</div></div><div class=\"2346\" style=\"display: none;\"><div style=\"display: table-cell;\"></div><div style=\"display: table-cell;\">height&nbsp;=&nbsp;400,</div></div><div class=\"2346\" style=\"display: none;\"><div style=\"display: table-cell;\"></div><div style=\"display: table-cell;\">height_policy&nbsp;=&nbsp;'auto',</div></div><div class=\"2346\" style=\"display: none;\"><div style=\"display: table-cell;\"></div><div style=\"display: table-cell;\">hidpi&nbsp;=&nbsp;True,</div></div><div class=\"2346\" style=\"display: none;\"><div style=\"display: table-cell;\"></div><div style=\"display: table-cell;\">inner_height&nbsp;=&nbsp;0,</div></div><div class=\"2346\" style=\"display: none;\"><div style=\"display: table-cell;\"></div><div style=\"display: table-cell;\">inner_width&nbsp;=&nbsp;0,</div></div><div class=\"2346\" style=\"display: none;\"><div style=\"display: table-cell;\"></div><div style=\"display: table-cell;\">js_event_callbacks&nbsp;=&nbsp;{},</div></div><div class=\"2346\" style=\"display: none;\"><div style=\"display: table-cell;\"></div><div style=\"display: table-cell;\">js_property_callbacks&nbsp;=&nbsp;{},</div></div><div class=\"2346\" style=\"display: none;\"><div style=\"display: table-cell;\"></div><div style=\"display: table-cell;\">left&nbsp;=&nbsp;[LinearAxis(id='2232', ...)],</div></div><div class=\"2346\" style=\"display: none;\"><div style=\"display: table-cell;\"></div><div style=\"display: table-cell;\">lod_factor&nbsp;=&nbsp;10,</div></div><div class=\"2346\" style=\"display: none;\"><div style=\"display: table-cell;\"></div><div style=\"display: table-cell;\">lod_interval&nbsp;=&nbsp;300,</div></div><div class=\"2346\" style=\"display: none;\"><div style=\"display: table-cell;\"></div><div style=\"display: table-cell;\">lod_threshold&nbsp;=&nbsp;2000,</div></div><div class=\"2346\" style=\"display: none;\"><div style=\"display: table-cell;\"></div><div style=\"display: table-cell;\">lod_timeout&nbsp;=&nbsp;500,</div></div><div class=\"2346\" style=\"display: none;\"><div style=\"display: table-cell;\"></div><div style=\"display: table-cell;\">margin&nbsp;=&nbsp;(0, 0, 0, 0),</div></div><div class=\"2346\" style=\"display: none;\"><div style=\"display: table-cell;\"></div><div style=\"display: table-cell;\">match_aspect&nbsp;=&nbsp;False,</div></div><div class=\"2346\" style=\"display: none;\"><div style=\"display: table-cell;\"></div><div style=\"display: table-cell;\">max_height&nbsp;=&nbsp;None,</div></div><div class=\"2346\" style=\"display: none;\"><div style=\"display: table-cell;\"></div><div style=\"display: table-cell;\">max_width&nbsp;=&nbsp;None,</div></div><div class=\"2346\" style=\"display: none;\"><div style=\"display: table-cell;\"></div><div style=\"display: table-cell;\">min_border&nbsp;=&nbsp;5,</div></div><div class=\"2346\" style=\"display: none;\"><div style=\"display: table-cell;\"></div><div style=\"display: table-cell;\">min_border_bottom&nbsp;=&nbsp;None,</div></div><div class=\"2346\" style=\"display: none;\"><div style=\"display: table-cell;\"></div><div style=\"display: table-cell;\">min_border_left&nbsp;=&nbsp;None,</div></div><div class=\"2346\" style=\"display: none;\"><div style=\"display: table-cell;\"></div><div style=\"display: table-cell;\">min_border_right&nbsp;=&nbsp;None,</div></div><div class=\"2346\" style=\"display: none;\"><div style=\"display: table-cell;\"></div><div style=\"display: table-cell;\">min_border_top&nbsp;=&nbsp;None,</div></div><div class=\"2346\" style=\"display: none;\"><div style=\"display: table-cell;\"></div><div style=\"display: table-cell;\">min_height&nbsp;=&nbsp;None,</div></div><div class=\"2346\" style=\"display: none;\"><div style=\"display: table-cell;\"></div><div style=\"display: table-cell;\">min_width&nbsp;=&nbsp;None,</div></div><div class=\"2346\" style=\"display: none;\"><div style=\"display: table-cell;\"></div><div style=\"display: table-cell;\">name&nbsp;=&nbsp;None,</div></div><div class=\"2346\" style=\"display: none;\"><div style=\"display: table-cell;\"></div><div style=\"display: table-cell;\">outer_height&nbsp;=&nbsp;0,</div></div><div class=\"2346\" style=\"display: none;\"><div style=\"display: table-cell;\"></div><div style=\"display: table-cell;\">outer_width&nbsp;=&nbsp;0,</div></div><div class=\"2346\" style=\"display: none;\"><div style=\"display: table-cell;\"></div><div style=\"display: table-cell;\">outline_line_alpha&nbsp;=&nbsp;1.0,</div></div><div class=\"2346\" style=\"display: none;\"><div style=\"display: table-cell;\"></div><div style=\"display: table-cell;\">outline_line_cap&nbsp;=&nbsp;'butt',</div></div><div class=\"2346\" style=\"display: none;\"><div style=\"display: table-cell;\"></div><div style=\"display: table-cell;\">outline_line_color&nbsp;=&nbsp;'#e5e5e5',</div></div><div class=\"2346\" style=\"display: none;\"><div style=\"display: table-cell;\"></div><div style=\"display: table-cell;\">outline_line_dash&nbsp;=&nbsp;[],</div></div><div class=\"2346\" style=\"display: none;\"><div style=\"display: table-cell;\"></div><div style=\"display: table-cell;\">outline_line_dash_offset&nbsp;=&nbsp;0,</div></div><div class=\"2346\" style=\"display: none;\"><div style=\"display: table-cell;\"></div><div style=\"display: table-cell;\">outline_line_join&nbsp;=&nbsp;'bevel',</div></div><div class=\"2346\" style=\"display: none;\"><div style=\"display: table-cell;\"></div><div style=\"display: table-cell;\">outline_line_width&nbsp;=&nbsp;1,</div></div><div class=\"2346\" style=\"display: none;\"><div style=\"display: table-cell;\"></div><div style=\"display: table-cell;\">output_backend&nbsp;=&nbsp;'webgl',</div></div><div class=\"2346\" style=\"display: none;\"><div style=\"display: table-cell;\"></div><div style=\"display: table-cell;\">renderers&nbsp;=&nbsp;[GlyphRenderer(id='2256', ...)],</div></div><div class=\"2346\" style=\"display: none;\"><div style=\"display: table-cell;\"></div><div style=\"display: table-cell;\">reset_policy&nbsp;=&nbsp;'standard',</div></div><div class=\"2346\" style=\"display: none;\"><div style=\"display: table-cell;\"></div><div style=\"display: table-cell;\">right&nbsp;=&nbsp;[],</div></div><div class=\"2346\" style=\"display: none;\"><div style=\"display: table-cell;\"></div><div style=\"display: table-cell;\">sizing_mode&nbsp;=&nbsp;'fixed',</div></div><div class=\"2346\" style=\"display: none;\"><div style=\"display: table-cell;\"></div><div style=\"display: table-cell;\">subscribed_events&nbsp;=&nbsp;[],</div></div><div class=\"2346\" style=\"display: none;\"><div style=\"display: table-cell;\"></div><div style=\"display: table-cell;\">syncable&nbsp;=&nbsp;True,</div></div><div class=\"2346\" style=\"display: none;\"><div style=\"display: table-cell;\"></div><div style=\"display: table-cell;\">tags&nbsp;=&nbsp;[],</div></div><div class=\"2346\" style=\"display: none;\"><div style=\"display: table-cell;\"></div><div style=\"display: table-cell;\">title&nbsp;=&nbsp;Title(id='2218', ...),</div></div><div class=\"2346\" style=\"display: none;\"><div style=\"display: table-cell;\"></div><div style=\"display: table-cell;\">title_location&nbsp;=&nbsp;'above',</div></div><div class=\"2346\" style=\"display: none;\"><div style=\"display: table-cell;\"></div><div style=\"display: table-cell;\">toolbar&nbsp;=&nbsp;Toolbar(id='2243', ...),</div></div><div class=\"2346\" style=\"display: none;\"><div style=\"display: table-cell;\"></div><div style=\"display: table-cell;\">toolbar_location&nbsp;=&nbsp;'right',</div></div><div class=\"2346\" style=\"display: none;\"><div style=\"display: table-cell;\"></div><div style=\"display: table-cell;\">toolbar_sticky&nbsp;=&nbsp;True,</div></div><div class=\"2346\" style=\"display: none;\"><div style=\"display: table-cell;\"></div><div style=\"display: table-cell;\">visible&nbsp;=&nbsp;True,</div></div><div class=\"2346\" style=\"display: none;\"><div style=\"display: table-cell;\"></div><div style=\"display: table-cell;\">width&nbsp;=&nbsp;600,</div></div><div class=\"2346\" style=\"display: none;\"><div style=\"display: table-cell;\"></div><div style=\"display: table-cell;\">width_policy&nbsp;=&nbsp;'auto',</div></div><div class=\"2346\" style=\"display: none;\"><div style=\"display: table-cell;\"></div><div style=\"display: table-cell;\">x_range&nbsp;=&nbsp;DataRange1d(id='2220', ...),</div></div><div class=\"2346\" style=\"display: none;\"><div style=\"display: table-cell;\"></div><div style=\"display: table-cell;\">x_scale&nbsp;=&nbsp;LinearScale(id='2224', ...),</div></div><div class=\"2346\" style=\"display: none;\"><div style=\"display: table-cell;\"></div><div style=\"display: table-cell;\">y_range&nbsp;=&nbsp;DataRange1d(id='2222', ...),</div></div><div class=\"2346\" style=\"display: none;\"><div style=\"display: table-cell;\"></div><div style=\"display: table-cell;\">y_scale&nbsp;=&nbsp;LinearScale(id='2226', ...))</div></div></div>\n",
       "<script>\n",
       "(function() {\n",
       "  var expanded = false;\n",
       "  var ellipsis = document.getElementById(\"2347\");\n",
       "  ellipsis.addEventListener(\"click\", function() {\n",
       "    var rows = document.getElementsByClassName(\"2346\");\n",
       "    for (var i = 0; i < rows.length; i++) {\n",
       "      var el = rows[i];\n",
       "      el.style.display = expanded ? \"none\" : \"table-row\";\n",
       "    }\n",
       "    ellipsis.innerHTML = expanded ? \"&hellip;)\" : \"&lsaquo;&lsaquo;&lsaquo;\";\n",
       "    expanded = !expanded;\n",
       "  });\n",
       "})();\n",
       "</script>\n"
      ],
      "text/plain": [
       "Figure(id='2217', ...)"
      ]
     },
     "execution_count": 15,
     "metadata": {},
     "output_type": "execute_result"
    }
   ],
   "source": [
    "d.plot_bokeh(title='Bar plot of correlation between neighborhood and mean_price', kind=\"bar\", x='neighborhood', y='mean_price' , disable_scientific_axes=\"y\", hovertool = True)"
   ]
  },
  {
   "cell_type": "markdown",
   "id": "expanded-reminder",
   "metadata": {},
   "source": [
    "The following visualizations show the correlation between the sales price, and the rfd. "
   ]
  },
  {
   "cell_type": "code",
   "execution_count": 16,
   "id": "stuck-adoption",
   "metadata": {},
   "outputs": [
    {
     "data": {
      "text/html": [
       "\n",
       "\n",
       "\n",
       "\n",
       "\n",
       "\n",
       "  <div class=\"bk-root\" id=\"b6219ccc-21aa-44d8-b030-5a4598eda75d\" data-root-id=\"2349\"></div>\n"
      ]
     },
     "metadata": {},
     "output_type": "display_data"
    },
    {
     "data": {
      "application/javascript": [
       "(function(root) {\n",
       "  function embed_document(root) {\n",
       "    \n",
       "  var docs_json = {\"31a03873-7560-49c7-9b02-969497ca0629\":{\"defs\":[],\"roots\":{\"references\":[{\"attributes\":{\"below\":[{\"id\":\"2360\"}],\"center\":[{\"id\":\"2363\"},{\"id\":\"2367\"},{\"id\":\"2399\"}],\"height\":400,\"left\":[{\"id\":\"2364\"}],\"output_backend\":\"webgl\",\"renderers\":[{\"id\":\"2388\"}],\"sizing_mode\":\"fixed\",\"title\":{\"id\":\"2350\"},\"toolbar\":{\"id\":\"2375\"},\"x_range\":{\"id\":\"2352\"},\"x_scale\":{\"id\":\"2356\"},\"y_range\":{\"id\":\"2354\"},\"y_scale\":{\"id\":\"2358\"}},\"id\":\"2349\",\"subtype\":\"Figure\",\"type\":\"Plot\"},{\"attributes\":{\"label\":{\"value\":\"Hide/Show\"},\"renderers\":[{\"id\":\"2388\"}]},\"id\":\"2400\",\"type\":\"LegendItem\"},{\"attributes\":{\"items\":[{\"id\":\"2400\"}]},\"id\":\"2399\",\"type\":\"Legend\"},{\"attributes\":{},\"id\":\"2397\",\"type\":\"Selection\"},{\"attributes\":{},\"id\":\"2398\",\"type\":\"UnionRenderers\"},{\"attributes\":{},\"id\":\"2372\",\"type\":\"ResetTool\"},{\"attributes\":{},\"id\":\"2371\",\"type\":\"SaveTool\"},{\"attributes\":{\"text\":\"kfhh\"},\"id\":\"2350\",\"type\":\"Title\"},{\"attributes\":{\"overlay\":{\"id\":\"2374\"}},\"id\":\"2370\",\"type\":\"BoxZoomTool\"},{\"attributes\":{},\"id\":\"2368\",\"type\":\"PanTool\"},{\"attributes\":{},\"id\":\"2392\",\"type\":\"AllLabels\"},{\"attributes\":{},\"id\":\"2373\",\"type\":\"HelpTool\"},{\"attributes\":{},\"id\":\"2354\",\"type\":\"DataRange1d\"},{\"attributes\":{\"fill_color\":{\"value\":\"#1f77b4\"},\"line_width\":{\"value\":2},\"size\":{\"value\":10},\"x\":{\"field\":\"__x__values\"},\"y\":{\"field\":\"y\"}},\"id\":\"2386\",\"type\":\"Scatter\"},{\"attributes\":{\"axis\":{\"id\":\"2364\"},\"dimension\":1,\"ticker\":null},\"id\":\"2367\",\"type\":\"Grid\"},{\"attributes\":{\"axis_label\":\"value\",\"formatter\":{\"id\":\"2395\"},\"major_label_policy\":{\"id\":\"2394\"},\"ticker\":{\"id\":\"2365\"}},\"id\":\"2364\",\"type\":\"LinearAxis\"},{\"attributes\":{},\"id\":\"2365\",\"type\":\"BasicTicker\"},{\"attributes\":{\"active_multi\":null,\"active_scroll\":{\"id\":\"2369\"},\"tools\":[{\"id\":\"2368\"},{\"id\":\"2369\"},{\"id\":\"2370\"},{\"id\":\"2371\"},{\"id\":\"2372\"},{\"id\":\"2373\"},{\"id\":\"2401\"}]},\"id\":\"2375\",\"type\":\"Toolbar\"},{\"attributes\":{\"callback\":null,\"renderers\":[{\"id\":\"2388\"}],\"tooltips\":[[\"neighborhood\",\"@__x__values_original\"],[\"mean_price\",\"@y\"]]},\"id\":\"2401\",\"type\":\"HoverTool\"},{\"attributes\":{},\"id\":\"2356\",\"type\":\"LinearScale\"},{\"attributes\":{\"data\":{\"__x__values\":[0,1,2,3,4,5,6,7,8,9,10,11,12,13,14,15,16,17,18,19,20,21,22,23,24,25,26,27,28,29,30,31,32,33,34,35,36,37,38,39,40,41,42,43,44,45,46,47,48,49,50,51],\"__x__values_original\":[\"La Prosperitat\",\"El Baix Guinard\\u00f3\",\"El Congr\\u00e9s i els Indians\",\"Sant Gen\\u00eds dels Agudells\",\"La Nova Esquerra de l'Eixample\",\"L'Antiga Esquerra de l'Eixample\",\"Les Roquetes\",\"La Trinitat Nova\",\"Horta Barcelona\",\"La Teixonera\",\"Vila de Gr\\u00e0cia\",\"La Maternitat i Sant Ramon\",\"Camp d'en Grassot i Gr\\u00e0cia Nova\",\"el Coll\",\"Sants-Badal\",\"Hostafrancs\",\"Les Tres Torres\",\"El Poble-sec Barcelona\",\"Sant Gervasi \\u2013 la Bonanova\",\"Can Bar\\u00f3\",\"Verdun\",\"Vallcarca i els Penitents\",\"La Font de la Guatlla\",\"Sagrada Fam\\u00edlia\",\"Sant Andreu de Palomar\",\"Canyelles\",\"La Marina del Prat Vermell\",\"La Salut\",\"El Raval\",\"El Camp de l'Arpa del Clot\",\"Pedralbes\",\"Fort Pienc\",\"Sant Gervasi \\u2013 Galvany\",\"Sants\",\"Vilapicina i la Torre Llobeta\",\"El Carmel\",\"Can Peguera\",\"Ciutat Meridiana\",\"El Guinard\\u00f3\",\"Dreta de l'Eixample\",\"Les Corts\",\"La Bordeta\",\"Porta\",\"Sarri\\u00e0\",\"El Putxet i el Farr\\u00f3\",\"Sant Antoni\",\"Navas\",\"Gothic Quarter\",\"La Marina de Port\",\"La Font d'en Fargues\",\"Vall d'Hebron\",\"Trinitat Vella\"],\"y\":{\"__ndarray__\":\"AAAAAHBnBEHkOI7jWD0TQQAAAAAAiBNBGmG5p7ENE0FkLhGeyiIcQU1ZU9aqAyZBqqqqqqoiBkEAAAAAwGgDQUmSJEkKMxJBO7ETO9F1DEHXWmutRVIiQZze9KZ1LBhBb9u2bROcH0EAAAAAoCwQQRJ4+yEVhw9BAAAAAECMEUEAAAAAPk40QXTaQKfeRRFBg96pa1lOPEEAAAAABAoaQQAAAAAQMgNBT29601vKHUHUm970hioZQQAAAABgWhhBAAAAANiEFkEAAAAAgCsIQUmSJEn6GBRBAAAAAGgKGkEAAABY66MVQQAAAAAAiBNBip3YibWfQEEAAAAAgKIZQQfnY3B6wi9BlIxFNYx8E0EAAAAAQDASQaOLLroIqQlBqqqqqiq0DUEAAAAAIKD8QAAAAABwvhJBRhdd9MANMUFhcyDR3qoeQb8aE+mZTxBBAAAAAFANBkHLt3zLLws8QYfUBONN3SJBWIyE0sb1GkEAAAAAINwSQXM6yum0GSRBsHdMDYxFDUEAAAAAIFMUQVVVVVW1YBBBAAAAAPByAEE=\",\"dtype\":\"float64\",\"order\":\"little\",\"shape\":[52]}},\"selected\":{\"id\":\"2397\"},\"selection_policy\":{\"id\":\"2398\"}},\"id\":\"2384\",\"type\":\"ColumnDataSource\"},{\"attributes\":{\"axis_label\":\"neighborhood\",\"formatter\":{\"id\":\"2382\"},\"major_label_policy\":{\"id\":\"2392\"},\"ticker\":{\"id\":\"2403\"}},\"id\":\"2360\",\"type\":\"LinearAxis\"},{\"attributes\":{},\"id\":\"2394\",\"type\":\"AllLabels\"},{\"attributes\":{\"data_source\":{\"id\":\"2384\"},\"glyph\":{\"id\":\"2386\"},\"hover_glyph\":null,\"muted_glyph\":null,\"nonselection_glyph\":{\"id\":\"2387\"},\"view\":{\"id\":\"2389\"}},\"id\":\"2388\",\"type\":\"GlyphRenderer\"},{\"attributes\":{\"use_scientific\":false},\"id\":\"2395\",\"type\":\"BasicTickFormatter\"},{\"attributes\":{\"fill_alpha\":{\"value\":0.1},\"fill_color\":{\"value\":\"#1f77b4\"},\"line_alpha\":{\"value\":0.1},\"line_width\":{\"value\":2},\"size\":{\"value\":10},\"x\":{\"field\":\"__x__values\"},\"y\":{\"field\":\"y\"}},\"id\":\"2387\",\"type\":\"Scatter\"},{\"attributes\":{\"code\":\"\\n                                var labels = {0: 'La Prosperitat', 1: 'El Baix Guinard\\u00f3', 2: 'El Congr\\u00e9s i els Indians', 3: 'Sant Gen\\u00eds dels Agudells', 4: \\\"La Nova Esquerra de l'Eixample\\\", 5: \\\"L'Antiga Esquerra de l'Eixample\\\", 6: 'Les Roquetes', 7: 'La Trinitat Nova', 8: 'Horta Barcelona', 9: 'La Teixonera', 10: 'Vila de Gr\\u00e0cia', 11: 'La Maternitat i Sant Ramon', 12: \\\"Camp d'en Grassot i Gr\\u00e0cia Nova\\\", 13: 'el Coll', 14: 'Sants-Badal', 15: 'Hostafrancs', 16: 'Les Tres Torres', 17: 'El Poble-sec Barcelona', 18: 'Sant Gervasi \\u2013 la Bonanova', 19: 'Can Bar\\u00f3', 20: 'Verdun', 21: 'Vallcarca i els Penitents', 22: 'La Font de la Guatlla', 23: 'Sagrada Fam\\u00edlia', 24: 'Sant Andreu de Palomar', 25: 'Canyelles', 26: 'La Marina del Prat Vermell', 27: 'La Salut', 28: 'El Raval', 29: \\\"El Camp de l'Arpa del Clot\\\", 30: 'Pedralbes', 31: 'Fort Pienc', 32: 'Sant Gervasi \\u2013 Galvany', 33: 'Sants', 34: 'Vilapicina i la Torre Llobeta', 35: 'El Carmel', 36: 'Can Peguera', 37: 'Ciutat Meridiana', 38: 'El Guinard\\u00f3', 39: \\\"Dreta de l'Eixample\\\", 40: 'Les Corts', 41: 'La Bordeta', 42: 'Porta', 43: 'Sarri\\u00e0', 44: 'El Putxet i el Farr\\u00f3', 45: 'Sant Antoni', 46: 'Navas', 47: 'Gothic Quarter', 48: 'La Marina de Port', 49: \\\"La Font d'en Fargues\\\", 50: \\\"Vall d'Hebron\\\", 51: 'Trinitat Vella'};\\n                                return labels[tick];\\n                                \"},\"id\":\"2382\",\"type\":\"FuncTickFormatter\"},{\"attributes\":{},\"id\":\"2352\",\"type\":\"DataRange1d\"},{\"attributes\":{},\"id\":\"2358\",\"type\":\"LinearScale\"},{\"attributes\":{\"axis\":{\"id\":\"2360\"},\"ticker\":null},\"id\":\"2363\",\"type\":\"Grid\"},{\"attributes\":{},\"id\":\"2369\",\"type\":\"WheelZoomTool\"},{\"attributes\":{\"ticks\":[0,1,2,3,4,5,6,7,8,9,10,11,12,13,14,15,16,17,18,19,20,21,22,23,24,25,26,27,28,29,30,31,32,33,34,35,36,37,38,39,40,41,42,43,44,45,46,47,48,49,50,51]},\"id\":\"2403\",\"type\":\"FixedTicker\"},{\"attributes\":{\"source\":{\"id\":\"2384\"}},\"id\":\"2389\",\"type\":\"CDSView\"},{\"attributes\":{\"bottom_units\":\"screen\",\"fill_alpha\":0.5,\"fill_color\":\"lightgrey\",\"left_units\":\"screen\",\"level\":\"overlay\",\"line_alpha\":1.0,\"line_color\":\"black\",\"line_dash\":[4,4],\"line_width\":2,\"right_units\":\"screen\",\"syncable\":false,\"top_units\":\"screen\"},\"id\":\"2374\",\"type\":\"BoxAnnotation\"}],\"root_ids\":[\"2349\"]},\"title\":\"Bokeh Application\",\"version\":\"2.3.1\"}};\n",
       "  var render_items = [{\"docid\":\"31a03873-7560-49c7-9b02-969497ca0629\",\"root_ids\":[\"2349\"],\"roots\":{\"2349\":\"b6219ccc-21aa-44d8-b030-5a4598eda75d\"}}];\n",
       "  root.Bokeh.embed.embed_items_notebook(docs_json, render_items);\n",
       "\n",
       "  }\n",
       "  if (root.Bokeh !== undefined) {\n",
       "    embed_document(root);\n",
       "  } else {\n",
       "    var attempts = 0;\n",
       "    var timer = setInterval(function(root) {\n",
       "      if (root.Bokeh !== undefined) {\n",
       "        clearInterval(timer);\n",
       "        embed_document(root);\n",
       "      } else {\n",
       "        attempts++;\n",
       "        if (attempts > 100) {\n",
       "          clearInterval(timer);\n",
       "          console.log(\"Bokeh: ERROR: Unable to run BokehJS code because BokehJS library is missing\");\n",
       "        }\n",
       "      }\n",
       "    }, 10, root)\n",
       "  }\n",
       "})(window);"
      ],
      "application/vnd.bokehjs_exec.v0+json": ""
     },
     "metadata": {
      "application/vnd.bokehjs_exec.v0+json": {
       "id": "2349"
      }
     },
     "output_type": "display_data"
    },
    {
     "data": {
      "text/html": [
       "<div style=\"display: table;\"><div style=\"display: table-row;\"><div style=\"display: table-cell;\"><b title=\"bokeh.plotting.figure.Figure\">Figure</b>(</div><div style=\"display: table-cell;\">id&nbsp;=&nbsp;'2349', <span id=\"2487\" style=\"cursor: pointer;\">&hellip;)</span></div></div><div class=\"2486\" style=\"display: none;\"><div style=\"display: table-cell;\"></div><div style=\"display: table-cell;\">above&nbsp;=&nbsp;[],</div></div><div class=\"2486\" style=\"display: none;\"><div style=\"display: table-cell;\"></div><div style=\"display: table-cell;\">align&nbsp;=&nbsp;'start',</div></div><div class=\"2486\" style=\"display: none;\"><div style=\"display: table-cell;\"></div><div style=\"display: table-cell;\">aspect_ratio&nbsp;=&nbsp;None,</div></div><div class=\"2486\" style=\"display: none;\"><div style=\"display: table-cell;\"></div><div style=\"display: table-cell;\">aspect_scale&nbsp;=&nbsp;1,</div></div><div class=\"2486\" style=\"display: none;\"><div style=\"display: table-cell;\"></div><div style=\"display: table-cell;\">background&nbsp;=&nbsp;None,</div></div><div class=\"2486\" style=\"display: none;\"><div style=\"display: table-cell;\"></div><div style=\"display: table-cell;\">background_fill_alpha&nbsp;=&nbsp;1.0,</div></div><div class=\"2486\" style=\"display: none;\"><div style=\"display: table-cell;\"></div><div style=\"display: table-cell;\">background_fill_color&nbsp;=&nbsp;'#ffffff',</div></div><div class=\"2486\" style=\"display: none;\"><div style=\"display: table-cell;\"></div><div style=\"display: table-cell;\">below&nbsp;=&nbsp;[LinearAxis(id='2360', ...)],</div></div><div class=\"2486\" style=\"display: none;\"><div style=\"display: table-cell;\"></div><div style=\"display: table-cell;\">border_fill_alpha&nbsp;=&nbsp;1.0,</div></div><div class=\"2486\" style=\"display: none;\"><div style=\"display: table-cell;\"></div><div style=\"display: table-cell;\">border_fill_color&nbsp;=&nbsp;'#ffffff',</div></div><div class=\"2486\" style=\"display: none;\"><div style=\"display: table-cell;\"></div><div style=\"display: table-cell;\">center&nbsp;=&nbsp;[Grid(id='2363', ...), Grid(id='2367', ...), Legend(id='2399', ...)],</div></div><div class=\"2486\" style=\"display: none;\"><div style=\"display: table-cell;\"></div><div style=\"display: table-cell;\">css_classes&nbsp;=&nbsp;[],</div></div><div class=\"2486\" style=\"display: none;\"><div style=\"display: table-cell;\"></div><div style=\"display: table-cell;\">disabled&nbsp;=&nbsp;False,</div></div><div class=\"2486\" style=\"display: none;\"><div style=\"display: table-cell;\"></div><div style=\"display: table-cell;\">extra_x_ranges&nbsp;=&nbsp;{},</div></div><div class=\"2486\" style=\"display: none;\"><div style=\"display: table-cell;\"></div><div style=\"display: table-cell;\">extra_y_ranges&nbsp;=&nbsp;{},</div></div><div class=\"2486\" style=\"display: none;\"><div style=\"display: table-cell;\"></div><div style=\"display: table-cell;\">frame_height&nbsp;=&nbsp;None,</div></div><div class=\"2486\" style=\"display: none;\"><div style=\"display: table-cell;\"></div><div style=\"display: table-cell;\">frame_width&nbsp;=&nbsp;None,</div></div><div class=\"2486\" style=\"display: none;\"><div style=\"display: table-cell;\"></div><div style=\"display: table-cell;\">height&nbsp;=&nbsp;400,</div></div><div class=\"2486\" style=\"display: none;\"><div style=\"display: table-cell;\"></div><div style=\"display: table-cell;\">height_policy&nbsp;=&nbsp;'auto',</div></div><div class=\"2486\" style=\"display: none;\"><div style=\"display: table-cell;\"></div><div style=\"display: table-cell;\">hidpi&nbsp;=&nbsp;True,</div></div><div class=\"2486\" style=\"display: none;\"><div style=\"display: table-cell;\"></div><div style=\"display: table-cell;\">inner_height&nbsp;=&nbsp;0,</div></div><div class=\"2486\" style=\"display: none;\"><div style=\"display: table-cell;\"></div><div style=\"display: table-cell;\">inner_width&nbsp;=&nbsp;0,</div></div><div class=\"2486\" style=\"display: none;\"><div style=\"display: table-cell;\"></div><div style=\"display: table-cell;\">js_event_callbacks&nbsp;=&nbsp;{},</div></div><div class=\"2486\" style=\"display: none;\"><div style=\"display: table-cell;\"></div><div style=\"display: table-cell;\">js_property_callbacks&nbsp;=&nbsp;{},</div></div><div class=\"2486\" style=\"display: none;\"><div style=\"display: table-cell;\"></div><div style=\"display: table-cell;\">left&nbsp;=&nbsp;[LinearAxis(id='2364', ...)],</div></div><div class=\"2486\" style=\"display: none;\"><div style=\"display: table-cell;\"></div><div style=\"display: table-cell;\">lod_factor&nbsp;=&nbsp;10,</div></div><div class=\"2486\" style=\"display: none;\"><div style=\"display: table-cell;\"></div><div style=\"display: table-cell;\">lod_interval&nbsp;=&nbsp;300,</div></div><div class=\"2486\" style=\"display: none;\"><div style=\"display: table-cell;\"></div><div style=\"display: table-cell;\">lod_threshold&nbsp;=&nbsp;2000,</div></div><div class=\"2486\" style=\"display: none;\"><div style=\"display: table-cell;\"></div><div style=\"display: table-cell;\">lod_timeout&nbsp;=&nbsp;500,</div></div><div class=\"2486\" style=\"display: none;\"><div style=\"display: table-cell;\"></div><div style=\"display: table-cell;\">margin&nbsp;=&nbsp;(0, 0, 0, 0),</div></div><div class=\"2486\" style=\"display: none;\"><div style=\"display: table-cell;\"></div><div style=\"display: table-cell;\">match_aspect&nbsp;=&nbsp;False,</div></div><div class=\"2486\" style=\"display: none;\"><div style=\"display: table-cell;\"></div><div style=\"display: table-cell;\">max_height&nbsp;=&nbsp;None,</div></div><div class=\"2486\" style=\"display: none;\"><div style=\"display: table-cell;\"></div><div style=\"display: table-cell;\">max_width&nbsp;=&nbsp;None,</div></div><div class=\"2486\" style=\"display: none;\"><div style=\"display: table-cell;\"></div><div style=\"display: table-cell;\">min_border&nbsp;=&nbsp;5,</div></div><div class=\"2486\" style=\"display: none;\"><div style=\"display: table-cell;\"></div><div style=\"display: table-cell;\">min_border_bottom&nbsp;=&nbsp;None,</div></div><div class=\"2486\" style=\"display: none;\"><div style=\"display: table-cell;\"></div><div style=\"display: table-cell;\">min_border_left&nbsp;=&nbsp;None,</div></div><div class=\"2486\" style=\"display: none;\"><div style=\"display: table-cell;\"></div><div style=\"display: table-cell;\">min_border_right&nbsp;=&nbsp;None,</div></div><div class=\"2486\" style=\"display: none;\"><div style=\"display: table-cell;\"></div><div style=\"display: table-cell;\">min_border_top&nbsp;=&nbsp;None,</div></div><div class=\"2486\" style=\"display: none;\"><div style=\"display: table-cell;\"></div><div style=\"display: table-cell;\">min_height&nbsp;=&nbsp;None,</div></div><div class=\"2486\" style=\"display: none;\"><div style=\"display: table-cell;\"></div><div style=\"display: table-cell;\">min_width&nbsp;=&nbsp;None,</div></div><div class=\"2486\" style=\"display: none;\"><div style=\"display: table-cell;\"></div><div style=\"display: table-cell;\">name&nbsp;=&nbsp;None,</div></div><div class=\"2486\" style=\"display: none;\"><div style=\"display: table-cell;\"></div><div style=\"display: table-cell;\">outer_height&nbsp;=&nbsp;0,</div></div><div class=\"2486\" style=\"display: none;\"><div style=\"display: table-cell;\"></div><div style=\"display: table-cell;\">outer_width&nbsp;=&nbsp;0,</div></div><div class=\"2486\" style=\"display: none;\"><div style=\"display: table-cell;\"></div><div style=\"display: table-cell;\">outline_line_alpha&nbsp;=&nbsp;1.0,</div></div><div class=\"2486\" style=\"display: none;\"><div style=\"display: table-cell;\"></div><div style=\"display: table-cell;\">outline_line_cap&nbsp;=&nbsp;'butt',</div></div><div class=\"2486\" style=\"display: none;\"><div style=\"display: table-cell;\"></div><div style=\"display: table-cell;\">outline_line_color&nbsp;=&nbsp;'#e5e5e5',</div></div><div class=\"2486\" style=\"display: none;\"><div style=\"display: table-cell;\"></div><div style=\"display: table-cell;\">outline_line_dash&nbsp;=&nbsp;[],</div></div><div class=\"2486\" style=\"display: none;\"><div style=\"display: table-cell;\"></div><div style=\"display: table-cell;\">outline_line_dash_offset&nbsp;=&nbsp;0,</div></div><div class=\"2486\" style=\"display: none;\"><div style=\"display: table-cell;\"></div><div style=\"display: table-cell;\">outline_line_join&nbsp;=&nbsp;'bevel',</div></div><div class=\"2486\" style=\"display: none;\"><div style=\"display: table-cell;\"></div><div style=\"display: table-cell;\">outline_line_width&nbsp;=&nbsp;1,</div></div><div class=\"2486\" style=\"display: none;\"><div style=\"display: table-cell;\"></div><div style=\"display: table-cell;\">output_backend&nbsp;=&nbsp;'webgl',</div></div><div class=\"2486\" style=\"display: none;\"><div style=\"display: table-cell;\"></div><div style=\"display: table-cell;\">renderers&nbsp;=&nbsp;[GlyphRenderer(id='2388', ...)],</div></div><div class=\"2486\" style=\"display: none;\"><div style=\"display: table-cell;\"></div><div style=\"display: table-cell;\">reset_policy&nbsp;=&nbsp;'standard',</div></div><div class=\"2486\" style=\"display: none;\"><div style=\"display: table-cell;\"></div><div style=\"display: table-cell;\">right&nbsp;=&nbsp;[],</div></div><div class=\"2486\" style=\"display: none;\"><div style=\"display: table-cell;\"></div><div style=\"display: table-cell;\">sizing_mode&nbsp;=&nbsp;'fixed',</div></div><div class=\"2486\" style=\"display: none;\"><div style=\"display: table-cell;\"></div><div style=\"display: table-cell;\">subscribed_events&nbsp;=&nbsp;[],</div></div><div class=\"2486\" style=\"display: none;\"><div style=\"display: table-cell;\"></div><div style=\"display: table-cell;\">syncable&nbsp;=&nbsp;True,</div></div><div class=\"2486\" style=\"display: none;\"><div style=\"display: table-cell;\"></div><div style=\"display: table-cell;\">tags&nbsp;=&nbsp;[],</div></div><div class=\"2486\" style=\"display: none;\"><div style=\"display: table-cell;\"></div><div style=\"display: table-cell;\">title&nbsp;=&nbsp;Title(id='2350', ...),</div></div><div class=\"2486\" style=\"display: none;\"><div style=\"display: table-cell;\"></div><div style=\"display: table-cell;\">title_location&nbsp;=&nbsp;'above',</div></div><div class=\"2486\" style=\"display: none;\"><div style=\"display: table-cell;\"></div><div style=\"display: table-cell;\">toolbar&nbsp;=&nbsp;Toolbar(id='2375', ...),</div></div><div class=\"2486\" style=\"display: none;\"><div style=\"display: table-cell;\"></div><div style=\"display: table-cell;\">toolbar_location&nbsp;=&nbsp;'right',</div></div><div class=\"2486\" style=\"display: none;\"><div style=\"display: table-cell;\"></div><div style=\"display: table-cell;\">toolbar_sticky&nbsp;=&nbsp;True,</div></div><div class=\"2486\" style=\"display: none;\"><div style=\"display: table-cell;\"></div><div style=\"display: table-cell;\">visible&nbsp;=&nbsp;True,</div></div><div class=\"2486\" style=\"display: none;\"><div style=\"display: table-cell;\"></div><div style=\"display: table-cell;\">width&nbsp;=&nbsp;600,</div></div><div class=\"2486\" style=\"display: none;\"><div style=\"display: table-cell;\"></div><div style=\"display: table-cell;\">width_policy&nbsp;=&nbsp;'auto',</div></div><div class=\"2486\" style=\"display: none;\"><div style=\"display: table-cell;\"></div><div style=\"display: table-cell;\">x_range&nbsp;=&nbsp;DataRange1d(id='2352', ...),</div></div><div class=\"2486\" style=\"display: none;\"><div style=\"display: table-cell;\"></div><div style=\"display: table-cell;\">x_scale&nbsp;=&nbsp;LinearScale(id='2356', ...),</div></div><div class=\"2486\" style=\"display: none;\"><div style=\"display: table-cell;\"></div><div style=\"display: table-cell;\">y_range&nbsp;=&nbsp;DataRange1d(id='2354', ...),</div></div><div class=\"2486\" style=\"display: none;\"><div style=\"display: table-cell;\"></div><div style=\"display: table-cell;\">y_scale&nbsp;=&nbsp;LinearScale(id='2358', ...))</div></div></div>\n",
       "<script>\n",
       "(function() {\n",
       "  var expanded = false;\n",
       "  var ellipsis = document.getElementById(\"2487\");\n",
       "  ellipsis.addEventListener(\"click\", function() {\n",
       "    var rows = document.getElementsByClassName(\"2486\");\n",
       "    for (var i = 0; i < rows.length; i++) {\n",
       "      var el = rows[i];\n",
       "      el.style.display = expanded ? \"none\" : \"table-row\";\n",
       "    }\n",
       "    ellipsis.innerHTML = expanded ? \"&hellip;)\" : \"&lsaquo;&lsaquo;&lsaquo;\";\n",
       "    expanded = !expanded;\n",
       "  });\n",
       "})();\n",
       "</script>\n"
      ],
      "text/plain": [
       "Figure(id='2349', ...)"
      ]
     },
     "execution_count": 16,
     "metadata": {},
     "output_type": "execute_result"
    }
   ],
   "source": [
    "\n",
    "d.plot_bokeh(kind= 'scatter',  stacked=True,normed=100, x=\"neighborhood\", colormap = ['yellow', 'blue'], title='kfhh', ylabel ='value', disable_scientific_axes=\"y\")\n"
   ]
  },
  {
   "cell_type": "code",
   "execution_count": 17,
   "id": "white-mounting",
   "metadata": {},
   "outputs": [],
   "source": [
    "df = pd.DataFrame({'neighborhood': d.neighborhood, 'mean_price': d.mean_price, 'rfd': d.rfd})"
   ]
  },
  {
   "cell_type": "code",
   "execution_count": 18,
   "id": "partial-sugar",
   "metadata": {},
   "outputs": [
    {
     "data": {
      "text/html": [
       "\n",
       "\n",
       "\n",
       "\n",
       "\n",
       "\n",
       "  <div class=\"bk-root\" id=\"b6efc36c-e032-4c31-8e55-2e98ee403f36\" data-root-id=\"2489\"></div>\n"
      ]
     },
     "metadata": {},
     "output_type": "display_data"
    },
    {
     "data": {
      "application/javascript": [
       "(function(root) {\n",
       "  function embed_document(root) {\n",
       "    \n",
       "  var docs_json = {\"83742dad-4fc8-4305-9056-b26c8aa6751d\":{\"defs\":[],\"roots\":{\"references\":[{\"attributes\":{\"below\":[{\"id\":\"2500\"}],\"center\":[{\"id\":\"2503\"},{\"id\":\"2507\"},{\"id\":\"2539\"}],\"height\":400,\"left\":[{\"id\":\"2504\"}],\"output_backend\":\"webgl\",\"renderers\":[{\"id\":\"2528\"}],\"sizing_mode\":\"fixed\",\"title\":{\"id\":\"2490\"},\"toolbar\":{\"id\":\"2515\"},\"x_range\":{\"id\":\"2492\"},\"x_scale\":{\"id\":\"2496\"},\"y_range\":{\"id\":\"2494\"},\"y_scale\":{\"id\":\"2498\"}},\"id\":\"2489\",\"subtype\":\"Figure\",\"type\":\"Plot\"},{\"attributes\":{},\"id\":\"2513\",\"type\":\"HelpTool\"},{\"attributes\":{},\"id\":\"2512\",\"type\":\"ResetTool\"},{\"attributes\":{},\"id\":\"2534\",\"type\":\"AllLabels\"},{\"attributes\":{\"text\":\"kfhh\"},\"id\":\"2490\",\"type\":\"Title\"},{\"attributes\":{\"use_scientific\":false},\"id\":\"2535\",\"type\":\"BasicTickFormatter\"},{\"attributes\":{\"code\":\"\\n                                var labels = {0: 'La Prosperitat', 1: 'El Baix Guinard\\u00f3', 2: 'El Congr\\u00e9s i els Indians', 3: 'Sant Gen\\u00eds dels Agudells', 4: \\\"La Nova Esquerra de l'Eixample\\\", 5: \\\"L'Antiga Esquerra de l'Eixample\\\", 6: 'Les Roquetes', 7: 'La Trinitat Nova', 8: 'Horta Barcelona', 9: 'La Teixonera', 10: 'Vila de Gr\\u00e0cia', 11: 'La Maternitat i Sant Ramon', 12: \\\"Camp d'en Grassot i Gr\\u00e0cia Nova\\\", 13: 'el Coll', 14: 'Sants-Badal', 15: 'Hostafrancs', 16: 'Les Tres Torres', 17: 'El Poble-sec Barcelona', 18: 'Sant Gervasi \\u2013 la Bonanova', 19: 'Can Bar\\u00f3', 20: 'Verdun', 21: 'Vallcarca i els Penitents', 22: 'La Font de la Guatlla', 23: 'Sagrada Fam\\u00edlia', 24: 'Sant Andreu de Palomar', 25: 'Canyelles', 26: 'La Marina del Prat Vermell', 27: 'La Salut', 28: 'El Raval', 29: \\\"El Camp de l'Arpa del Clot\\\", 30: 'Pedralbes', 31: 'Fort Pienc', 32: 'Sant Gervasi \\u2013 Galvany', 33: 'Sants', 34: 'Vilapicina i la Torre Llobeta', 35: 'El Carmel', 36: 'Can Peguera', 37: 'Ciutat Meridiana', 38: 'El Guinard\\u00f3', 39: \\\"Dreta de l'Eixample\\\", 40: 'Les Corts', 41: 'La Bordeta', 42: 'Porta', 43: 'Sarri\\u00e0', 44: 'El Putxet i el Farr\\u00f3', 45: 'Sant Antoni', 46: 'Navas', 47: 'Gothic Quarter', 48: 'La Marina de Port', 49: \\\"La Font d'en Fargues\\\", 50: \\\"Vall d'Hebron\\\", 51: 'Trinitat Vella'};\\n                                return labels[tick];\\n                                \"},\"id\":\"2522\",\"type\":\"FuncTickFormatter\"},{\"attributes\":{},\"id\":\"2494\",\"type\":\"DataRange1d\"},{\"attributes\":{\"fill_alpha\":{\"value\":0.1},\"fill_color\":{\"value\":\"#1f77b4\"},\"line_alpha\":{\"value\":0.1},\"line_width\":{\"value\":2},\"size\":{\"value\":10},\"x\":{\"field\":\"__x__values\"},\"y\":{\"field\":\"y\"}},\"id\":\"2527\",\"type\":\"Scatter\"},{\"attributes\":{\"source\":{\"id\":\"2524\"}},\"id\":\"2529\",\"type\":\"CDSView\"},{\"attributes\":{\"label\":{\"value\":\"Hide/Show\"},\"renderers\":[{\"id\":\"2528\"}]},\"id\":\"2540\",\"type\":\"LegendItem\"},{\"attributes\":{\"items\":[{\"id\":\"2540\"}]},\"id\":\"2539\",\"type\":\"Legend\"},{\"attributes\":{\"axis_label\":\"value\",\"formatter\":{\"id\":\"2535\"},\"major_label_policy\":{\"id\":\"2534\"},\"ticker\":{\"id\":\"2505\"}},\"id\":\"2504\",\"type\":\"LinearAxis\"},{\"attributes\":{},\"id\":\"2505\",\"type\":\"BasicTicker\"},{\"attributes\":{\"callback\":null,\"renderers\":[{\"id\":\"2528\"}],\"tooltips\":[[\"neighborhood\",\"@__x__values_original\"],[\"mean_price\",\"@y\"]]},\"id\":\"2541\",\"type\":\"HoverTool\"},{\"attributes\":{\"fill_color\":{\"value\":\"#1f77b4\"},\"line_width\":{\"value\":2},\"size\":{\"value\":10},\"x\":{\"field\":\"__x__values\"},\"y\":{\"field\":\"y\"}},\"id\":\"2526\",\"type\":\"Scatter\"},{\"attributes\":{\"data\":{\"__x__values\":[0,1,2,3,4,5,6,7,8,9,10,11,12,13,14,15,16,17,18,19,20,21,22,23,24,25,26,27,28,29,30,31,32,33,34,35,36,37,38,39,40,41,42,43,44,45,46,47,48,49,50,51],\"__x__values_original\":[\"La Prosperitat\",\"El Baix Guinard\\u00f3\",\"El Congr\\u00e9s i els Indians\",\"Sant Gen\\u00eds dels Agudells\",\"La Nova Esquerra de l'Eixample\",\"L'Antiga Esquerra de l'Eixample\",\"Les Roquetes\",\"La Trinitat Nova\",\"Horta Barcelona\",\"La Teixonera\",\"Vila de Gr\\u00e0cia\",\"La Maternitat i Sant Ramon\",\"Camp d'en Grassot i Gr\\u00e0cia Nova\",\"el Coll\",\"Sants-Badal\",\"Hostafrancs\",\"Les Tres Torres\",\"El Poble-sec Barcelona\",\"Sant Gervasi \\u2013 la Bonanova\",\"Can Bar\\u00f3\",\"Verdun\",\"Vallcarca i els Penitents\",\"La Font de la Guatlla\",\"Sagrada Fam\\u00edlia\",\"Sant Andreu de Palomar\",\"Canyelles\",\"La Marina del Prat Vermell\",\"La Salut\",\"El Raval\",\"El Camp de l'Arpa del Clot\",\"Pedralbes\",\"Fort Pienc\",\"Sant Gervasi \\u2013 Galvany\",\"Sants\",\"Vilapicina i la Torre Llobeta\",\"El Carmel\",\"Can Peguera\",\"Ciutat Meridiana\",\"El Guinard\\u00f3\",\"Dreta de l'Eixample\",\"Les Corts\",\"La Bordeta\",\"Porta\",\"Sarri\\u00e0\",\"El Putxet i el Farr\\u00f3\",\"Sant Antoni\",\"Navas\",\"Gothic Quarter\",\"La Marina de Port\",\"La Font d'en Fargues\",\"Vall d'Hebron\",\"Trinitat Vella\"],\"y\":{\"__ndarray__\":\"AAAAAHBnBEHkOI7jWD0TQQAAAAAAiBNBGmG5p7ENE0FkLhGeyiIcQU1ZU9aqAyZBqqqqqqoiBkEAAAAAwGgDQUmSJEkKMxJBO7ETO9F1DEHXWmutRVIiQZze9KZ1LBhBb9u2bROcH0EAAAAAoCwQQRJ4+yEVhw9BAAAAAECMEUEAAAAAPk40QXTaQKfeRRFBg96pa1lOPEEAAAAABAoaQQAAAAAQMgNBT29601vKHUHUm970hioZQQAAAABgWhhBAAAAANiEFkEAAAAAgCsIQUmSJEn6GBRBAAAAAGgKGkEAAABY66MVQQAAAAAAiBNBip3YibWfQEEAAAAAgKIZQQfnY3B6wi9BlIxFNYx8E0EAAAAAQDASQaOLLroIqQlBqqqqqiq0DUEAAAAAIKD8QAAAAABwvhJBRhdd9MANMUFhcyDR3qoeQb8aE+mZTxBBAAAAAFANBkHLt3zLLws8QYfUBONN3SJBWIyE0sb1GkEAAAAAINwSQXM6yum0GSRBsHdMDYxFDUEAAAAAIFMUQVVVVVW1YBBBAAAAAPByAEE=\",\"dtype\":\"float64\",\"order\":\"little\",\"shape\":[52]}},\"selected\":{\"id\":\"2537\"},\"selection_policy\":{\"id\":\"2538\"}},\"id\":\"2524\",\"type\":\"ColumnDataSource\"},{\"attributes\":{},\"id\":\"2492\",\"type\":\"DataRange1d\"},{\"attributes\":{\"axis\":{\"id\":\"2504\"},\"dimension\":1,\"ticker\":null},\"id\":\"2507\",\"type\":\"Grid\"},{\"attributes\":{},\"id\":\"2508\",\"type\":\"PanTool\"},{\"attributes\":{\"bottom_units\":\"screen\",\"fill_alpha\":0.5,\"fill_color\":\"lightgrey\",\"left_units\":\"screen\",\"level\":\"overlay\",\"line_alpha\":1.0,\"line_color\":\"black\",\"line_dash\":[4,4],\"line_width\":2,\"right_units\":\"screen\",\"syncable\":false,\"top_units\":\"screen\"},\"id\":\"2514\",\"type\":\"BoxAnnotation\"},{\"attributes\":{\"axis\":{\"id\":\"2500\"},\"ticker\":null},\"id\":\"2503\",\"type\":\"Grid\"},{\"attributes\":{},\"id\":\"2498\",\"type\":\"LinearScale\"},{\"attributes\":{},\"id\":\"2511\",\"type\":\"SaveTool\"},{\"attributes\":{\"ticks\":[0,1,2,3,4,5,6,7,8,9,10,11,12,13,14,15,16,17,18,19,20,21,22,23,24,25,26,27,28,29,30,31,32,33,34,35,36,37,38,39,40,41,42,43,44,45,46,47,48,49,50,51]},\"id\":\"2543\",\"type\":\"FixedTicker\"},{\"attributes\":{},\"id\":\"2509\",\"type\":\"WheelZoomTool\"},{\"attributes\":{\"data_source\":{\"id\":\"2524\"},\"glyph\":{\"id\":\"2526\"},\"hover_glyph\":null,\"muted_glyph\":null,\"nonselection_glyph\":{\"id\":\"2527\"},\"view\":{\"id\":\"2529\"}},\"id\":\"2528\",\"type\":\"GlyphRenderer\"},{\"attributes\":{},\"id\":\"2537\",\"type\":\"Selection\"},{\"attributes\":{},\"id\":\"2496\",\"type\":\"LinearScale\"},{\"attributes\":{},\"id\":\"2532\",\"type\":\"AllLabels\"},{\"attributes\":{\"active_multi\":null,\"active_scroll\":{\"id\":\"2509\"},\"tools\":[{\"id\":\"2508\"},{\"id\":\"2509\"},{\"id\":\"2510\"},{\"id\":\"2511\"},{\"id\":\"2512\"},{\"id\":\"2513\"},{\"id\":\"2541\"}]},\"id\":\"2515\",\"type\":\"Toolbar\"},{\"attributes\":{},\"id\":\"2538\",\"type\":\"UnionRenderers\"},{\"attributes\":{\"overlay\":{\"id\":\"2514\"}},\"id\":\"2510\",\"type\":\"BoxZoomTool\"},{\"attributes\":{\"axis_label\":\"neighborhood\",\"formatter\":{\"id\":\"2522\"},\"major_label_policy\":{\"id\":\"2532\"},\"ticker\":{\"id\":\"2543\"}},\"id\":\"2500\",\"type\":\"LinearAxis\"}],\"root_ids\":[\"2489\"]},\"title\":\"Bokeh Application\",\"version\":\"2.3.1\"}};\n",
       "  var render_items = [{\"docid\":\"83742dad-4fc8-4305-9056-b26c8aa6751d\",\"root_ids\":[\"2489\"],\"roots\":{\"2489\":\"b6efc36c-e032-4c31-8e55-2e98ee403f36\"}}];\n",
       "  root.Bokeh.embed.embed_items_notebook(docs_json, render_items);\n",
       "\n",
       "  }\n",
       "  if (root.Bokeh !== undefined) {\n",
       "    embed_document(root);\n",
       "  } else {\n",
       "    var attempts = 0;\n",
       "    var timer = setInterval(function(root) {\n",
       "      if (root.Bokeh !== undefined) {\n",
       "        clearInterval(timer);\n",
       "        embed_document(root);\n",
       "      } else {\n",
       "        attempts++;\n",
       "        if (attempts > 100) {\n",
       "          clearInterval(timer);\n",
       "          console.log(\"Bokeh: ERROR: Unable to run BokehJS code because BokehJS library is missing\");\n",
       "        }\n",
       "      }\n",
       "    }, 10, root)\n",
       "  }\n",
       "})(window);"
      ],
      "application/vnd.bokehjs_exec.v0+json": ""
     },
     "metadata": {
      "application/vnd.bokehjs_exec.v0+json": {
       "id": "2489"
      }
     },
     "output_type": "display_data"
    },
    {
     "data": {
      "text/html": [
       "<div style=\"display: table;\"><div style=\"display: table-row;\"><div style=\"display: table-cell;\"><b title=\"bokeh.plotting.figure.Figure\">Figure</b>(</div><div style=\"display: table-cell;\">id&nbsp;=&nbsp;'2489', <span id=\"2635\" style=\"cursor: pointer;\">&hellip;)</span></div></div><div class=\"2634\" style=\"display: none;\"><div style=\"display: table-cell;\"></div><div style=\"display: table-cell;\">above&nbsp;=&nbsp;[],</div></div><div class=\"2634\" style=\"display: none;\"><div style=\"display: table-cell;\"></div><div style=\"display: table-cell;\">align&nbsp;=&nbsp;'start',</div></div><div class=\"2634\" style=\"display: none;\"><div style=\"display: table-cell;\"></div><div style=\"display: table-cell;\">aspect_ratio&nbsp;=&nbsp;None,</div></div><div class=\"2634\" style=\"display: none;\"><div style=\"display: table-cell;\"></div><div style=\"display: table-cell;\">aspect_scale&nbsp;=&nbsp;1,</div></div><div class=\"2634\" style=\"display: none;\"><div style=\"display: table-cell;\"></div><div style=\"display: table-cell;\">background&nbsp;=&nbsp;None,</div></div><div class=\"2634\" style=\"display: none;\"><div style=\"display: table-cell;\"></div><div style=\"display: table-cell;\">background_fill_alpha&nbsp;=&nbsp;1.0,</div></div><div class=\"2634\" style=\"display: none;\"><div style=\"display: table-cell;\"></div><div style=\"display: table-cell;\">background_fill_color&nbsp;=&nbsp;'#ffffff',</div></div><div class=\"2634\" style=\"display: none;\"><div style=\"display: table-cell;\"></div><div style=\"display: table-cell;\">below&nbsp;=&nbsp;[LinearAxis(id='2500', ...)],</div></div><div class=\"2634\" style=\"display: none;\"><div style=\"display: table-cell;\"></div><div style=\"display: table-cell;\">border_fill_alpha&nbsp;=&nbsp;1.0,</div></div><div class=\"2634\" style=\"display: none;\"><div style=\"display: table-cell;\"></div><div style=\"display: table-cell;\">border_fill_color&nbsp;=&nbsp;'#ffffff',</div></div><div class=\"2634\" style=\"display: none;\"><div style=\"display: table-cell;\"></div><div style=\"display: table-cell;\">center&nbsp;=&nbsp;[Grid(id='2503', ...), Grid(id='2507', ...), Legend(id='2539', ...)],</div></div><div class=\"2634\" style=\"display: none;\"><div style=\"display: table-cell;\"></div><div style=\"display: table-cell;\">css_classes&nbsp;=&nbsp;[],</div></div><div class=\"2634\" style=\"display: none;\"><div style=\"display: table-cell;\"></div><div style=\"display: table-cell;\">disabled&nbsp;=&nbsp;False,</div></div><div class=\"2634\" style=\"display: none;\"><div style=\"display: table-cell;\"></div><div style=\"display: table-cell;\">extra_x_ranges&nbsp;=&nbsp;{},</div></div><div class=\"2634\" style=\"display: none;\"><div style=\"display: table-cell;\"></div><div style=\"display: table-cell;\">extra_y_ranges&nbsp;=&nbsp;{},</div></div><div class=\"2634\" style=\"display: none;\"><div style=\"display: table-cell;\"></div><div style=\"display: table-cell;\">frame_height&nbsp;=&nbsp;None,</div></div><div class=\"2634\" style=\"display: none;\"><div style=\"display: table-cell;\"></div><div style=\"display: table-cell;\">frame_width&nbsp;=&nbsp;None,</div></div><div class=\"2634\" style=\"display: none;\"><div style=\"display: table-cell;\"></div><div style=\"display: table-cell;\">height&nbsp;=&nbsp;400,</div></div><div class=\"2634\" style=\"display: none;\"><div style=\"display: table-cell;\"></div><div style=\"display: table-cell;\">height_policy&nbsp;=&nbsp;'auto',</div></div><div class=\"2634\" style=\"display: none;\"><div style=\"display: table-cell;\"></div><div style=\"display: table-cell;\">hidpi&nbsp;=&nbsp;True,</div></div><div class=\"2634\" style=\"display: none;\"><div style=\"display: table-cell;\"></div><div style=\"display: table-cell;\">inner_height&nbsp;=&nbsp;0,</div></div><div class=\"2634\" style=\"display: none;\"><div style=\"display: table-cell;\"></div><div style=\"display: table-cell;\">inner_width&nbsp;=&nbsp;0,</div></div><div class=\"2634\" style=\"display: none;\"><div style=\"display: table-cell;\"></div><div style=\"display: table-cell;\">js_event_callbacks&nbsp;=&nbsp;{},</div></div><div class=\"2634\" style=\"display: none;\"><div style=\"display: table-cell;\"></div><div style=\"display: table-cell;\">js_property_callbacks&nbsp;=&nbsp;{},</div></div><div class=\"2634\" style=\"display: none;\"><div style=\"display: table-cell;\"></div><div style=\"display: table-cell;\">left&nbsp;=&nbsp;[LinearAxis(id='2504', ...)],</div></div><div class=\"2634\" style=\"display: none;\"><div style=\"display: table-cell;\"></div><div style=\"display: table-cell;\">lod_factor&nbsp;=&nbsp;10,</div></div><div class=\"2634\" style=\"display: none;\"><div style=\"display: table-cell;\"></div><div style=\"display: table-cell;\">lod_interval&nbsp;=&nbsp;300,</div></div><div class=\"2634\" style=\"display: none;\"><div style=\"display: table-cell;\"></div><div style=\"display: table-cell;\">lod_threshold&nbsp;=&nbsp;2000,</div></div><div class=\"2634\" style=\"display: none;\"><div style=\"display: table-cell;\"></div><div style=\"display: table-cell;\">lod_timeout&nbsp;=&nbsp;500,</div></div><div class=\"2634\" style=\"display: none;\"><div style=\"display: table-cell;\"></div><div style=\"display: table-cell;\">margin&nbsp;=&nbsp;(0, 0, 0, 0),</div></div><div class=\"2634\" style=\"display: none;\"><div style=\"display: table-cell;\"></div><div style=\"display: table-cell;\">match_aspect&nbsp;=&nbsp;False,</div></div><div class=\"2634\" style=\"display: none;\"><div style=\"display: table-cell;\"></div><div style=\"display: table-cell;\">max_height&nbsp;=&nbsp;None,</div></div><div class=\"2634\" style=\"display: none;\"><div style=\"display: table-cell;\"></div><div style=\"display: table-cell;\">max_width&nbsp;=&nbsp;None,</div></div><div class=\"2634\" style=\"display: none;\"><div style=\"display: table-cell;\"></div><div style=\"display: table-cell;\">min_border&nbsp;=&nbsp;5,</div></div><div class=\"2634\" style=\"display: none;\"><div style=\"display: table-cell;\"></div><div style=\"display: table-cell;\">min_border_bottom&nbsp;=&nbsp;None,</div></div><div class=\"2634\" style=\"display: none;\"><div style=\"display: table-cell;\"></div><div style=\"display: table-cell;\">min_border_left&nbsp;=&nbsp;None,</div></div><div class=\"2634\" style=\"display: none;\"><div style=\"display: table-cell;\"></div><div style=\"display: table-cell;\">min_border_right&nbsp;=&nbsp;None,</div></div><div class=\"2634\" style=\"display: none;\"><div style=\"display: table-cell;\"></div><div style=\"display: table-cell;\">min_border_top&nbsp;=&nbsp;None,</div></div><div class=\"2634\" style=\"display: none;\"><div style=\"display: table-cell;\"></div><div style=\"display: table-cell;\">min_height&nbsp;=&nbsp;None,</div></div><div class=\"2634\" style=\"display: none;\"><div style=\"display: table-cell;\"></div><div style=\"display: table-cell;\">min_width&nbsp;=&nbsp;None,</div></div><div class=\"2634\" style=\"display: none;\"><div style=\"display: table-cell;\"></div><div style=\"display: table-cell;\">name&nbsp;=&nbsp;None,</div></div><div class=\"2634\" style=\"display: none;\"><div style=\"display: table-cell;\"></div><div style=\"display: table-cell;\">outer_height&nbsp;=&nbsp;0,</div></div><div class=\"2634\" style=\"display: none;\"><div style=\"display: table-cell;\"></div><div style=\"display: table-cell;\">outer_width&nbsp;=&nbsp;0,</div></div><div class=\"2634\" style=\"display: none;\"><div style=\"display: table-cell;\"></div><div style=\"display: table-cell;\">outline_line_alpha&nbsp;=&nbsp;1.0,</div></div><div class=\"2634\" style=\"display: none;\"><div style=\"display: table-cell;\"></div><div style=\"display: table-cell;\">outline_line_cap&nbsp;=&nbsp;'butt',</div></div><div class=\"2634\" style=\"display: none;\"><div style=\"display: table-cell;\"></div><div style=\"display: table-cell;\">outline_line_color&nbsp;=&nbsp;'#e5e5e5',</div></div><div class=\"2634\" style=\"display: none;\"><div style=\"display: table-cell;\"></div><div style=\"display: table-cell;\">outline_line_dash&nbsp;=&nbsp;[],</div></div><div class=\"2634\" style=\"display: none;\"><div style=\"display: table-cell;\"></div><div style=\"display: table-cell;\">outline_line_dash_offset&nbsp;=&nbsp;0,</div></div><div class=\"2634\" style=\"display: none;\"><div style=\"display: table-cell;\"></div><div style=\"display: table-cell;\">outline_line_join&nbsp;=&nbsp;'bevel',</div></div><div class=\"2634\" style=\"display: none;\"><div style=\"display: table-cell;\"></div><div style=\"display: table-cell;\">outline_line_width&nbsp;=&nbsp;1,</div></div><div class=\"2634\" style=\"display: none;\"><div style=\"display: table-cell;\"></div><div style=\"display: table-cell;\">output_backend&nbsp;=&nbsp;'webgl',</div></div><div class=\"2634\" style=\"display: none;\"><div style=\"display: table-cell;\"></div><div style=\"display: table-cell;\">renderers&nbsp;=&nbsp;[GlyphRenderer(id='2528', ...)],</div></div><div class=\"2634\" style=\"display: none;\"><div style=\"display: table-cell;\"></div><div style=\"display: table-cell;\">reset_policy&nbsp;=&nbsp;'standard',</div></div><div class=\"2634\" style=\"display: none;\"><div style=\"display: table-cell;\"></div><div style=\"display: table-cell;\">right&nbsp;=&nbsp;[],</div></div><div class=\"2634\" style=\"display: none;\"><div style=\"display: table-cell;\"></div><div style=\"display: table-cell;\">sizing_mode&nbsp;=&nbsp;'fixed',</div></div><div class=\"2634\" style=\"display: none;\"><div style=\"display: table-cell;\"></div><div style=\"display: table-cell;\">subscribed_events&nbsp;=&nbsp;[],</div></div><div class=\"2634\" style=\"display: none;\"><div style=\"display: table-cell;\"></div><div style=\"display: table-cell;\">syncable&nbsp;=&nbsp;True,</div></div><div class=\"2634\" style=\"display: none;\"><div style=\"display: table-cell;\"></div><div style=\"display: table-cell;\">tags&nbsp;=&nbsp;[],</div></div><div class=\"2634\" style=\"display: none;\"><div style=\"display: table-cell;\"></div><div style=\"display: table-cell;\">title&nbsp;=&nbsp;Title(id='2490', ...),</div></div><div class=\"2634\" style=\"display: none;\"><div style=\"display: table-cell;\"></div><div style=\"display: table-cell;\">title_location&nbsp;=&nbsp;'above',</div></div><div class=\"2634\" style=\"display: none;\"><div style=\"display: table-cell;\"></div><div style=\"display: table-cell;\">toolbar&nbsp;=&nbsp;Toolbar(id='2515', ...),</div></div><div class=\"2634\" style=\"display: none;\"><div style=\"display: table-cell;\"></div><div style=\"display: table-cell;\">toolbar_location&nbsp;=&nbsp;'right',</div></div><div class=\"2634\" style=\"display: none;\"><div style=\"display: table-cell;\"></div><div style=\"display: table-cell;\">toolbar_sticky&nbsp;=&nbsp;True,</div></div><div class=\"2634\" style=\"display: none;\"><div style=\"display: table-cell;\"></div><div style=\"display: table-cell;\">visible&nbsp;=&nbsp;True,</div></div><div class=\"2634\" style=\"display: none;\"><div style=\"display: table-cell;\"></div><div style=\"display: table-cell;\">width&nbsp;=&nbsp;600,</div></div><div class=\"2634\" style=\"display: none;\"><div style=\"display: table-cell;\"></div><div style=\"display: table-cell;\">width_policy&nbsp;=&nbsp;'auto',</div></div><div class=\"2634\" style=\"display: none;\"><div style=\"display: table-cell;\"></div><div style=\"display: table-cell;\">x_range&nbsp;=&nbsp;DataRange1d(id='2492', ...),</div></div><div class=\"2634\" style=\"display: none;\"><div style=\"display: table-cell;\"></div><div style=\"display: table-cell;\">x_scale&nbsp;=&nbsp;LinearScale(id='2496', ...),</div></div><div class=\"2634\" style=\"display: none;\"><div style=\"display: table-cell;\"></div><div style=\"display: table-cell;\">y_range&nbsp;=&nbsp;DataRange1d(id='2494', ...),</div></div><div class=\"2634\" style=\"display: none;\"><div style=\"display: table-cell;\"></div><div style=\"display: table-cell;\">y_scale&nbsp;=&nbsp;LinearScale(id='2498', ...))</div></div></div>\n",
       "<script>\n",
       "(function() {\n",
       "  var expanded = false;\n",
       "  var ellipsis = document.getElementById(\"2635\");\n",
       "  ellipsis.addEventListener(\"click\", function() {\n",
       "    var rows = document.getElementsByClassName(\"2634\");\n",
       "    for (var i = 0; i < rows.length; i++) {\n",
       "      var el = rows[i];\n",
       "      el.style.display = expanded ? \"none\" : \"table-row\";\n",
       "    }\n",
       "    ellipsis.innerHTML = expanded ? \"&hellip;)\" : \"&lsaquo;&lsaquo;&lsaquo;\";\n",
       "    expanded = !expanded;\n",
       "  });\n",
       "})();\n",
       "</script>\n"
      ],
      "text/plain": [
       "Figure(id='2489', ...)"
      ]
     },
     "execution_count": 18,
     "metadata": {},
     "output_type": "execute_result"
    }
   ],
   "source": [
    "df.plot_bokeh(kind= 'scatter',  stacked=True,normed=100, x=\"neighborhood\", colormap = ['yellow', 'blue'], y= ['neighborhood', 'mean_price'], title='kfhh', ylabel ='value', disable_scientific_axes=\"y\")"
   ]
  },
  {
   "cell_type": "code",
   "execution_count": 19,
   "id": "micro-collect",
   "metadata": {},
   "outputs": [
    {
     "data": {
      "text/html": [
       "<div>\n",
       "<style scoped>\n",
       "    .dataframe tbody tr th:only-of-type {\n",
       "        vertical-align: middle;\n",
       "    }\n",
       "\n",
       "    .dataframe tbody tr th {\n",
       "        vertical-align: top;\n",
       "    }\n",
       "\n",
       "    .dataframe thead th {\n",
       "        text-align: right;\n",
       "    }\n",
       "</style>\n",
       "<table border=\"1\" class=\"dataframe\">\n",
       "  <thead>\n",
       "    <tr style=\"text-align: right;\">\n",
       "      <th></th>\n",
       "      <th>mean_price</th>\n",
       "      <th>rfd</th>\n",
       "    </tr>\n",
       "  </thead>\n",
       "  <tbody>\n",
       "    <tr>\n",
       "      <th>mean_price</th>\n",
       "      <td>1.000000</td>\n",
       "      <td>0.913799</td>\n",
       "    </tr>\n",
       "    <tr>\n",
       "      <th>rfd</th>\n",
       "      <td>0.913799</td>\n",
       "      <td>1.000000</td>\n",
       "    </tr>\n",
       "  </tbody>\n",
       "</table>\n",
       "</div>"
      ],
      "text/plain": [
       "            mean_price       rfd\n",
       "mean_price    1.000000  0.913799\n",
       "rfd           0.913799  1.000000"
      ]
     },
     "execution_count": 19,
     "metadata": {},
     "output_type": "execute_result"
    }
   ],
   "source": [
    "d.corr()"
   ]
  },
  {
   "cell_type": "code",
   "execution_count": 20,
   "id": "convenient-application",
   "metadata": {},
   "outputs": [
    {
     "data": {
      "image/png": "[encoded data removed]",
      "text/plain": [
       "<Figure size 432x288 with 2 Axes>"
      ]
     },
     "metadata": {
      "needs_background": "light"
     },
     "output_type": "display_data"
    }
   ],
   "source": [
    "import pandas as pd\n",
    "import seaborn as sn\n",
    "import matplotlib.pyplot as plt\n",
    "\n",
    "corrMatrix = d.corr()\n",
    "sn.heatmap(corrMatrix, annot=True)\n",
    "plt.show()"
   ]
  },
  {
   "cell_type": "code",
   "execution_count": 21,
   "id": "speaking-honey",
   "metadata": {},
   "outputs": [
    {
     "data": {
      "text/plain": [
       "0.913799359629383"
      ]
     },
     "execution_count": 21,
     "metadata": {},
     "output_type": "execute_result"
    }
   ],
   "source": [
    "d['mean_price'].corr(d['rfd']) #the correlation between sales price and family income per neighbourhood"
   ]
  },
  {
   "cell_type": "markdown",
   "id": "pediatric-holder",
   "metadata": {},
   "source": [
    "Based on KPI2 the correlation between the sales price per neighbourhood and family income is high, this the probability of a high family income in areas where the sales price is high.  "
   ]
  },
  {
   "cell_type": "markdown",
   "id": "mathematical-turning",
   "metadata": {},
   "source": [
    "## KPI3: Correlation between family members per listing and neighbourhood"
   ]
  },
  {
   "cell_type": "code",
   "execution_count": 22,
   "id": "vulnerable-summit",
   "metadata": {},
   "outputs": [
    {
     "data": {
      "text/html": [
       "\n",
       "    <div class=\"bk-root\">\n",
       "        <a href=\"https://bokeh.org\" target=\"_blank\" class=\"bk-logo bk-logo-small bk-logo-notebook\"></a>\n",
       "        <span id=\"2637\">Loading BokehJS ...</span>\n",
       "    </div>"
      ]
     },
     "metadata": {},
     "output_type": "display_data"
    },
    {
     "data": {
      "application/javascript": [
       "\n",
       "(function(root) {\n",
       "  function now() {\n",
       "    return new Date();\n",
       "  }\n",
       "\n",
       "  var force = true;\n",
       "\n",
       "  if (typeof root._bokeh_onload_callbacks === \"undefined\" || force === true) {\n",
       "    root._bokeh_onload_callbacks = [];\n",
       "    root._bokeh_is_loading = undefined;\n",
       "  }\n",
       "\n",
       "  var JS_MIME_TYPE = 'application/javascript';\n",
       "  var HTML_MIME_TYPE = 'text/html';\n",
       "  var EXEC_MIME_TYPE = 'application/vnd.bokehjs_exec.v0+json';\n",
       "  var CLASS_NAME = 'output_bokeh rendered_html';\n",
       "\n",
       "  /**\n",
       "   * Render data to the DOM node\n",
       "   */\n",
       "  function render(props, node) {\n",
       "    var script = document.createElement(\"script\");\n",
       "    node.appendChild(script);\n",
       "  }\n",
       "\n",
       "  /**\n",
       "   * Handle when an output is cleared or removed\n",
       "   */\n",
       "  function handleClearOutput(event, handle) {\n",
       "    var cell = handle.cell;\n",
       "\n",
       "    var id = cell.output_area._bokeh_element_id;\n",
       "    var server_id = cell.output_area._bokeh_server_id;\n",
       "    // Clean up Bokeh references\n",
       "    if (id != null && id in Bokeh.index) {\n",
       "      Bokeh.index[id].model.document.clear();\n",
       "      delete Bokeh.index[id];\n",
       "    }\n",
       "\n",
       "    if (server_id !== undefined) {\n",
       "      // Clean up Bokeh references\n",
       "      var cmd = \"from bokeh.io.state import curstate; print(curstate().uuid_to_server['\" + server_id + \"'].get_sessions()[0].document.roots[0]._id)\";\n",
       "      cell.notebook.kernel.execute(cmd, {\n",
       "        iopub: {\n",
       "          output: function(msg) {\n",
       "            var id = msg.content.text.trim();\n",
       "            if (id in Bokeh.index) {\n",
       "              Bokeh.index[id].model.document.clear();\n",
       "              delete Bokeh.index[id];\n",
       "            }\n",
       "          }\n",
       "        }\n",
       "      });\n",
       "      // Destroy server and session\n",
       "      var cmd = \"import bokeh.io.notebook as ion; ion.destroy_server('\" + server_id + \"')\";\n",
       "      cell.notebook.kernel.execute(cmd);\n",
       "    }\n",
       "  }\n",
       "\n",
       "  /**\n",
       "   * Handle when a new output is added\n",
       "   */\n",
       "  function handleAddOutput(event, handle) {\n",
       "    var output_area = handle.output_area;\n",
       "    var output = handle.output;\n",
       "\n",
       "    // limit handleAddOutput to display_data with EXEC_MIME_TYPE content only\n",
       "    if ((output.output_type != \"display_data\") || (!Object.prototype.hasOwnProperty.call(output.data, EXEC_MIME_TYPE))) {\n",
       "      return\n",
       "    }\n",
       "\n",
       "    var toinsert = output_area.element.find(\".\" + CLASS_NAME.split(' ')[0]);\n",
       "\n",
       "    if (output.metadata[EXEC_MIME_TYPE][\"id\"] !== undefined) {\n",
       "      toinsert[toinsert.length - 1].firstChild.textContent = output.data[JS_MIME_TYPE];\n",
       "      // store reference to embed id on output_area\n",
       "      output_area._bokeh_element_id = output.metadata[EXEC_MIME_TYPE][\"id\"];\n",
       "    }\n",
       "    if (output.metadata[EXEC_MIME_TYPE][\"server_id\"] !== undefined) {\n",
       "      var bk_div = document.createElement(\"div\");\n",
       "      bk_div.innerHTML = output.data[HTML_MIME_TYPE];\n",
       "      var script_attrs = bk_div.children[0].attributes;\n",
       "      for (var i = 0; i < script_attrs.length; i++) {\n",
       "        toinsert[toinsert.length - 1].firstChild.setAttribute(script_attrs[i].name, script_attrs[i].value);\n",
       "        toinsert[toinsert.length - 1].firstChild.textContent = bk_div.children[0].textContent\n",
       "      }\n",
       "      // store reference to server id on output_area\n",
       "      output_area._bokeh_server_id = output.metadata[EXEC_MIME_TYPE][\"server_id\"];\n",
       "    }\n",
       "  }\n",
       "\n",
       "  function register_renderer(events, OutputArea) {\n",
       "\n",
       "    function append_mime(data, metadata, element) {\n",
       "      // create a DOM node to render to\n",
       "      var toinsert = this.create_output_subarea(\n",
       "        metadata,\n",
       "        CLASS_NAME,\n",
       "        EXEC_MIME_TYPE\n",
       "      );\n",
       "      this.keyboard_manager.register_events(toinsert);\n",
       "      // Render to node\n",
       "      var props = {data: data, metadata: metadata[EXEC_MIME_TYPE]};\n",
       "      render(props, toinsert[toinsert.length - 1]);\n",
       "      element.append(toinsert);\n",
       "      return toinsert\n",
       "    }\n",
       "\n",
       "    /* Handle when an output is cleared or removed */\n",
       "    events.on('clear_output.CodeCell', handleClearOutput);\n",
       "    events.on('delete.Cell', handleClearOutput);\n",
       "\n",
       "    /* Handle when a new output is added */\n",
       "    events.on('output_added.OutputArea', handleAddOutput);\n",
       "\n",
       "    /**\n",
       "     * Register the mime type and append_mime function with output_area\n",
       "     */\n",
       "    OutputArea.prototype.register_mime_type(EXEC_MIME_TYPE, append_mime, {\n",
       "      /* Is output safe? */\n",
       "      safe: true,\n",
       "      /* Index of renderer in `output_area.display_order` */\n",
       "      index: 0\n",
       "    });\n",
       "  }\n",
       "\n",
       "  // register the mime type if in Jupyter Notebook environment and previously unregistered\n",
       "  if (root.Jupyter !== undefined) {\n",
       "    var events = require('base/js/events');\n",
       "    var OutputArea = require('notebook/js/outputarea').OutputArea;\n",
       "\n",
       "    if (OutputArea.prototype.mime_types().indexOf(EXEC_MIME_TYPE) == -1) {\n",
       "      register_renderer(events, OutputArea);\n",
       "    }\n",
       "  }\n",
       "\n",
       "  \n",
       "  if (typeof (root._bokeh_timeout) === \"undefined\" || force === true) {\n",
       "    root._bokeh_timeout = Date.now() + 5000;\n",
       "    root._bokeh_failed_load = false;\n",
       "  }\n",
       "\n",
       "  var NB_LOAD_WARNING = {'data': {'text/html':\n",
       "     \"<div style='background-color: #fdd'>\\n\"+\n",
       "     \"<p>\\n\"+\n",
       "     \"BokehJS does not appear to have successfully loaded. If loading BokehJS from CDN, this \\n\"+\n",
       "     \"may be due to a slow or bad network connection. Possible fixes:\\n\"+\n",
       "     \"</p>\\n\"+\n",
       "     \"<ul>\\n\"+\n",
       "     \"<li>re-rerun `output_notebook()` to attempt to load from CDN again, or</li>\\n\"+\n",
       "     \"<li>use INLINE resources instead, as so:</li>\\n\"+\n",
       "     \"</ul>\\n\"+\n",
       "     \"<code>\\n\"+\n",
       "     \"from bokeh.resources import INLINE\\n\"+\n",
       "     \"output_notebook(resources=INLINE)\\n\"+\n",
       "     \"</code>\\n\"+\n",
       "     \"</div>\"}};\n",
       "\n",
       "  function display_loaded() {\n",
       "    var el = document.getElementById(\"2637\");\n",
       "    if (el != null) {\n",
       "      el.textContent = \"BokehJS is loading...\";\n",
       "    }\n",
       "    if (root.Bokeh !== undefined) {\n",
       "      if (el != null) {\n",
       "        el.textContent = \"BokehJS \" + root.Bokeh.version + \" successfully loaded.\";\n",
       "      }\n",
       "    } else if (Date.now() < root._bokeh_timeout) {\n",
       "      setTimeout(display_loaded, 100)\n",
       "    }\n",
       "  }\n",
       "\n",
       "\n",
       "  function run_callbacks() {\n",
       "    try {\n",
       "      root._bokeh_onload_callbacks.forEach(function(callback) {\n",
       "        if (callback != null)\n",
       "          callback();\n",
       "      });\n",
       "    } finally {\n",
       "      delete root._bokeh_onload_callbacks\n",
       "    }\n",
       "    console.debug(\"Bokeh: all callbacks have finished\");\n",
       "  }\n",
       "\n",
       "  function load_libs(css_urls, js_urls, callback) {\n",
       "    if (css_urls == null) css_urls = [];\n",
       "    if (js_urls == null) js_urls = [];\n",
       "\n",
       "    root._bokeh_onload_callbacks.push(callback);\n",
       "    if (root._bokeh_is_loading > 0) {\n",
       "      console.debug(\"Bokeh: BokehJS is being loaded, scheduling callback at\", now());\n",
       "      return null;\n",
       "    }\n",
       "    if (js_urls == null || js_urls.length === 0) {\n",
       "      run_callbacks();\n",
       "      return null;\n",
       "    }\n",
       "    console.debug(\"Bokeh: BokehJS not loaded, scheduling load and callback at\", now());\n",
       "    root._bokeh_is_loading = css_urls.length + js_urls.length;\n",
       "\n",
       "    function on_load() {\n",
       "      root._bokeh_is_loading--;\n",
       "      if (root._bokeh_is_loading === 0) {\n",
       "        console.debug(\"Bokeh: all BokehJS libraries/stylesheets loaded\");\n",
       "        run_callbacks()\n",
       "      }\n",
       "    }\n",
       "\n",
       "    function on_error(url) {\n",
       "      console.error(\"failed to load \" + url);\n",
       "    }\n",
       "\n",
       "    for (let i = 0; i < css_urls.length; i++) {\n",
       "      const url = css_urls[i];\n",
       "      const element = document.createElement(\"link\");\n",
       "      element.onload = on_load;\n",
       "      element.onerror = on_error.bind(null, url);\n",
       "      element.rel = \"stylesheet\";\n",
       "      element.type = \"text/css\";\n",
       "      element.href = url;\n",
       "      console.debug(\"Bokeh: injecting link tag for BokehJS stylesheet: \", url);\n",
       "      document.body.appendChild(element);\n",
       "    }\n",
       "\n",
       "    const hashes = {\"https://cdn.bokeh.org/bokeh/release/bokeh-2.3.1.min.js\": \"YF85VygJKMVnHE+lLv2AM93Vbstr0yo2TbIu5v8se5Rq3UQAUmcuh4aaJwNlpKwa\", \"https://cdn.bokeh.org/bokeh/release/bokeh-widgets-2.3.1.min.js\": \"KKuas3gevv3PvrlkyCMzffFeaMq5we/a2QsP5AUoS3mJ0jmaCL7jirFJN3GoE/lM\", \"https://cdn.bokeh.org/bokeh/release/bokeh-tables-2.3.1.min.js\": \"MK/uFc3YT18pkvvXRl66tTHjP0/dxoSH2e/eiNMFIguKlun2+WVqaPTWmUy/zvh4\"};\n",
       "\n",
       "    for (let i = 0; i < js_urls.length; i++) {\n",
       "      const url = js_urls[i];\n",
       "      const element = document.createElement('script');\n",
       "      element.onload = on_load;\n",
       "      element.onerror = on_error.bind(null, url);\n",
       "      element.async = false;\n",
       "      element.src = url;\n",
       "      if (url in hashes) {\n",
       "        element.crossOrigin = \"anonymous\";\n",
       "        element.integrity = \"sha384-\" + hashes[url];\n",
       "      }\n",
       "      console.debug(\"Bokeh: injecting script tag for BokehJS library: \", url);\n",
       "      document.head.appendChild(element);\n",
       "    }\n",
       "  };\n",
       "\n",
       "  function inject_raw_css(css) {\n",
       "    const element = document.createElement(\"style\");\n",
       "    element.appendChild(document.createTextNode(css));\n",
       "    document.body.appendChild(element);\n",
       "  }\n",
       "\n",
       "  \n",
       "  var js_urls = [\"https://cdn.bokeh.org/bokeh/release/bokeh-2.3.1.min.js\", \"https://cdn.bokeh.org/bokeh/release/bokeh-widgets-2.3.1.min.js\", \"https://cdn.bokeh.org/bokeh/release/bokeh-tables-2.3.1.min.js\"];\n",
       "  var css_urls = [];\n",
       "  \n",
       "\n",
       "  var inline_js = [\n",
       "    function(Bokeh) {\n",
       "      Bokeh.set_log_level(\"info\");\n",
       "    },\n",
       "    function(Bokeh) {\n",
       "    \n",
       "    \n",
       "    }\n",
       "  ];\n",
       "\n",
       "  function run_inline_js() {\n",
       "    \n",
       "    if (root.Bokeh !== undefined || force === true) {\n",
       "      \n",
       "    for (var i = 0; i < inline_js.length; i++) {\n",
       "      inline_js[i].call(root, root.Bokeh);\n",
       "    }\n",
       "    if (force === true) {\n",
       "        display_loaded();\n",
       "      }} else if (Date.now() < root._bokeh_timeout) {\n",
       "      setTimeout(run_inline_js, 100);\n",
       "    } else if (!root._bokeh_failed_load) {\n",
       "      console.log(\"Bokeh: BokehJS failed to load within specified timeout.\");\n",
       "      root._bokeh_failed_load = true;\n",
       "    } else if (force !== true) {\n",
       "      var cell = $(document.getElementById(\"2637\")).parents('.cell').data().cell;\n",
       "      cell.output_area.append_execute_result(NB_LOAD_WARNING)\n",
       "    }\n",
       "\n",
       "  }\n",
       "\n",
       "  if (root._bokeh_is_loading === 0) {\n",
       "    console.debug(\"Bokeh: BokehJS loaded, going straight to plotting\");\n",
       "    run_inline_js();\n",
       "  } else {\n",
       "    load_libs(css_urls, js_urls, function() {\n",
       "      console.debug(\"Bokeh: BokehJS plotting callback run at\", now());\n",
       "      run_inline_js();\n",
       "    });\n",
       "  }\n",
       "}(window));"
      ],
      "application/vnd.bokehjs_load.v0+json": "\n(function(root) {\n  function now() {\n    return new Date();\n  }\n\n  var force = true;\n\n  if (typeof root._bokeh_onload_callbacks === \"undefined\" || force === true) {\n    root._bokeh_onload_callbacks = [];\n    root._bokeh_is_loading = undefined;\n  }\n\n  \n\n  \n  if (typeof (root._bokeh_timeout) === \"undefined\" || force === true) {\n    root._bokeh_timeout = Date.now() + 5000;\n    root._bokeh_failed_load = false;\n  }\n\n  var NB_LOAD_WARNING = {'data': {'text/html':\n     \"<div style='background-color: #fdd'>\\n\"+\n     \"<p>\\n\"+\n     \"BokehJS does not appear to have successfully loaded. If loading BokehJS from CDN, this \\n\"+\n     \"may be due to a slow or bad network connection. Possible fixes:\\n\"+\n     \"</p>\\n\"+\n     \"<ul>\\n\"+\n     \"<li>re-rerun `output_notebook()` to attempt to load from CDN again, or</li>\\n\"+\n     \"<li>use INLINE resources instead, as so:</li>\\n\"+\n     \"</ul>\\n\"+\n     \"<code>\\n\"+\n     \"from bokeh.resources import INLINE\\n\"+\n     \"output_notebook(resources=INLINE)\\n\"+\n     \"</code>\\n\"+\n     \"</div>\"}};\n\n  function display_loaded() {\n    var el = document.getElementById(\"2637\");\n    if (el != null) {\n      el.textContent = \"BokehJS is loading...\";\n    }\n    if (root.Bokeh !== undefined) {\n      if (el != null) {\n        el.textContent = \"BokehJS \" + root.Bokeh.version + \" successfully loaded.\";\n      }\n    } else if (Date.now() < root._bokeh_timeout) {\n      setTimeout(display_loaded, 100)\n    }\n  }\n\n\n  function run_callbacks() {\n    try {\n      root._bokeh_onload_callbacks.forEach(function(callback) {\n        if (callback != null)\n          callback();\n      });\n    } finally {\n      delete root._bokeh_onload_callbacks\n    }\n    console.debug(\"Bokeh: all callbacks have finished\");\n  }\n\n  function load_libs(css_urls, js_urls, callback) {\n    if (css_urls == null) css_urls = [];\n    if (js_urls == null) js_urls = [];\n\n    root._bokeh_onload_callbacks.push(callback);\n    if (root._bokeh_is_loading > 0) {\n      console.debug(\"Bokeh: BokehJS is being loaded, scheduling callback at\", now());\n      return null;\n    }\n    if (js_urls == null || js_urls.length === 0) {\n      run_callbacks();\n      return null;\n    }\n    console.debug(\"Bokeh: BokehJS not loaded, scheduling load and callback at\", now());\n    root._bokeh_is_loading = css_urls.length + js_urls.length;\n\n    function on_load() {\n      root._bokeh_is_loading--;\n      if (root._bokeh_is_loading === 0) {\n        console.debug(\"Bokeh: all BokehJS libraries/stylesheets loaded\");\n        run_callbacks()\n      }\n    }\n\n    function on_error(url) {\n      console.error(\"failed to load \" + url);\n    }\n\n    for (let i = 0; i < css_urls.length; i++) {\n      const url = css_urls[i];\n      const element = document.createElement(\"link\");\n      element.onload = on_load;\n      element.onerror = on_error.bind(null, url);\n      element.rel = \"stylesheet\";\n      element.type = \"text/css\";\n      element.href = url;\n      console.debug(\"Bokeh: injecting link tag for BokehJS stylesheet: \", url);\n      document.body.appendChild(element);\n    }\n\n    const hashes = {\"https://cdn.bokeh.org/bokeh/release/bokeh-2.3.1.min.js\": \"YF85VygJKMVnHE+lLv2AM93Vbstr0yo2TbIu5v8se5Rq3UQAUmcuh4aaJwNlpKwa\", \"https://cdn.bokeh.org/bokeh/release/bokeh-widgets-2.3.1.min.js\": \"KKuas3gevv3PvrlkyCMzffFeaMq5we/a2QsP5AUoS3mJ0jmaCL7jirFJN3GoE/lM\", \"https://cdn.bokeh.org/bokeh/release/bokeh-tables-2.3.1.min.js\": \"MK/uFc3YT18pkvvXRl66tTHjP0/dxoSH2e/eiNMFIguKlun2+WVqaPTWmUy/zvh4\"};\n\n    for (let i = 0; i < js_urls.length; i++) {\n      const url = js_urls[i];\n      const element = document.createElement('script');\n      element.onload = on_load;\n      element.onerror = on_error.bind(null, url);\n      element.async = false;\n      element.src = url;\n      if (url in hashes) {\n        element.crossOrigin = \"anonymous\";\n        element.integrity = \"sha384-\" + hashes[url];\n      }\n      console.debug(\"Bokeh: injecting script tag for BokehJS library: \", url);\n      document.head.appendChild(element);\n    }\n  };\n\n  function inject_raw_css(css) {\n    const element = document.createElement(\"style\");\n    element.appendChild(document.createTextNode(css));\n    document.body.appendChild(element);\n  }\n\n  \n  var js_urls = [\"https://cdn.bokeh.org/bokeh/release/bokeh-2.3.1.min.js\", \"https://cdn.bokeh.org/bokeh/release/bokeh-widgets-2.3.1.min.js\", \"https://cdn.bokeh.org/bokeh/release/bokeh-tables-2.3.1.min.js\"];\n  var css_urls = [];\n  \n\n  var inline_js = [\n    function(Bokeh) {\n      Bokeh.set_log_level(\"info\");\n    },\n    function(Bokeh) {\n    \n    \n    }\n  ];\n\n  function run_inline_js() {\n    \n    if (root.Bokeh !== undefined || force === true) {\n      \n    for (var i = 0; i < inline_js.length; i++) {\n      inline_js[i].call(root, root.Bokeh);\n    }\n    if (force === true) {\n        display_loaded();\n      }} else if (Date.now() < root._bokeh_timeout) {\n      setTimeout(run_inline_js, 100);\n    } else if (!root._bokeh_failed_load) {\n      console.log(\"Bokeh: BokehJS failed to load within specified timeout.\");\n      root._bokeh_failed_load = true;\n    } else if (force !== true) {\n      var cell = $(document.getElementById(\"2637\")).parents('.cell').data().cell;\n      cell.output_area.append_execute_result(NB_LOAD_WARNING)\n    }\n\n  }\n\n  if (root._bokeh_is_loading === 0) {\n    console.debug(\"Bokeh: BokehJS loaded, going straight to plotting\");\n    run_inline_js();\n  } else {\n    load_libs(css_urls, js_urls, function() {\n      console.debug(\"Bokeh: BokehJS plotting callback run at\", now());\n      run_inline_js();\n    });\n  }\n}(window));"
     },
     "metadata": {},
     "output_type": "display_data"
    }
   ],
   "source": [
    "#import numpy \n",
    "import numpy as np\n",
    "#import panda\n",
    "import pandas as pd\n",
    "from pandas import read_csv\n",
    "#import bokeh\n",
    "import bokeh\n",
    "from bokeh.plotting import figure, output_file, show\n",
    "from bokeh.models import ColumnDataSource, HoverTool, CDSView, ColumnDataSource, GroupFilter\n",
    "from bokeh.models.tools import HoverTool\n",
    "\n",
    "#imports from pandas_bokeh \n",
    "import pandas_bokeh\n",
    "#making sure the plot is visible in the notebook\n",
    "pandas_bokeh.output_notebook()"
   ]
  },
  {
   "cell_type": "code",
   "execution_count": 23,
   "id": "polish-patrol",
   "metadata": {},
   "outputs": [
    {
     "data": {
      "text/html": [
       "<div>\n",
       "<style scoped>\n",
       "    .dataframe tbody tr th:only-of-type {\n",
       "        vertical-align: middle;\n",
       "    }\n",
       "\n",
       "    .dataframe tbody tr th {\n",
       "        vertical-align: top;\n",
       "    }\n",
       "\n",
       "    .dataframe thead th {\n",
       "        text-align: right;\n",
       "    }\n",
       "</style>\n",
       "<table border=\"1\" class=\"dataframe\">\n",
       "  <thead>\n",
       "    <tr style=\"text-align: right;\">\n",
       "      <th></th>\n",
       "      <th>neighborhood</th>\n",
       "      <th>inhabitants_family</th>\n",
       "      <th>rfd</th>\n",
       "    </tr>\n",
       "  </thead>\n",
       "  <tbody>\n",
       "    <tr>\n",
       "      <th>0</th>\n",
       "      <td>La Barceloneta Barcelona</td>\n",
       "      <td>2.16</td>\n",
       "      <td>79.6</td>\n",
       "    </tr>\n",
       "    <tr>\n",
       "      <th>1</th>\n",
       "      <td>Fort Pienc</td>\n",
       "      <td>2.60</td>\n",
       "      <td>106.5</td>\n",
       "    </tr>\n",
       "    <tr>\n",
       "      <th>2</th>\n",
       "      <td>Sagrada Familia</td>\n",
       "      <td>2.38</td>\n",
       "      <td>101.8</td>\n",
       "    </tr>\n",
       "    <tr>\n",
       "      <th>3</th>\n",
       "      <td>L'Antiga Esquerra de l'Eixample</td>\n",
       "      <td>2.38</td>\n",
       "      <td>137.2</td>\n",
       "    </tr>\n",
       "    <tr>\n",
       "      <th>4</th>\n",
       "      <td>Hostafrancs</td>\n",
       "      <td>2.42</td>\n",
       "      <td>99.0</td>\n",
       "    </tr>\n",
       "  </tbody>\n",
       "</table>\n",
       "</div>"
      ],
      "text/plain": [
       "                      neighborhood  inhabitants_family    rfd\n",
       "0         La Barceloneta Barcelona                2.16   79.6\n",
       "1                       Fort Pienc                2.60  106.5\n",
       "2                  Sagrada Familia                2.38  101.8\n",
       "3  L'Antiga Esquerra de l'Eixample                2.38  137.2\n",
       "4                      Hostafrancs                2.42   99.0"
      ]
     },
     "execution_count": 23,
     "metadata": {},
     "output_type": "execute_result"
    }
   ],
   "source": [
    "#import the csv file \n",
    "\n",
    "dat = pd.read_csv('KPI3.csv', header=0, delimiter=';')\n",
    "dat.head() #tabular visualization of the dataset "
   ]
  },
  {
   "cell_type": "code",
   "execution_count": 24,
   "id": "hungry-palmer",
   "metadata": {},
   "outputs": [
    {
     "data": {
      "text/html": [
       "\n",
       "\n",
       "\n",
       "\n",
       "\n",
       "\n",
       "  <div class=\"bk-root\" id=\"bb4fefc1-9c17-49c7-87e4-9ff19caf3b57\" data-root-id=\"2638\"></div>\n"
      ]
     },
     "metadata": {},
     "output_type": "display_data"
    },
    {
     "data": {
      "application/javascript": [
       "(function(root) {\n",
       "  function embed_document(root) {\n",
       "    \n",
       "  var docs_json = {\"9d12f796-4392-4254-a06e-8ffed2a36ea8\":{\"defs\":[],\"roots\":{\"references\":[{\"attributes\":{\"below\":[{\"id\":\"2649\"}],\"center\":[{\"id\":\"2652\"},{\"id\":\"2656\"},{\"id\":\"2688\"}],\"height\":400,\"left\":[{\"id\":\"2653\"}],\"output_backend\":\"webgl\",\"renderers\":[{\"id\":\"2677\"}],\"sizing_mode\":\"fixed\",\"title\":{\"id\":\"2639\"},\"toolbar\":{\"id\":\"2664\"},\"x_range\":{\"id\":\"2641\"},\"x_scale\":{\"id\":\"2645\"},\"y_range\":{\"id\":\"2643\"},\"y_scale\":{\"id\":\"2647\"}},\"id\":\"2638\",\"subtype\":\"Figure\",\"type\":\"Plot\"},{\"attributes\":{\"click_policy\":\"hide\",\"items\":[{\"id\":\"2689\"}]},\"id\":\"2688\",\"type\":\"Legend\"},{\"attributes\":{\"source\":{\"id\":\"2673\"}},\"id\":\"2678\",\"type\":\"CDSView\"},{\"attributes\":{\"callback\":null,\"renderers\":[{\"id\":\"2677\"}],\"tooltips\":[[\"neighborhood\",\"@__x__values_original\"],[\"inhabitants_family\",\"@y\"]]},\"id\":\"2690\",\"type\":\"HoverTool\"},{\"attributes\":{\"bottom_units\":\"screen\",\"fill_alpha\":0.5,\"fill_color\":\"lightgrey\",\"left_units\":\"screen\",\"level\":\"overlay\",\"line_alpha\":1.0,\"line_color\":\"black\",\"line_dash\":[4,4],\"line_width\":2,\"right_units\":\"screen\",\"syncable\":false,\"top_units\":\"screen\"},\"id\":\"2663\",\"type\":\"BoxAnnotation\"},{\"attributes\":{\"data\":{\"__x__values\":[0,1,2,3,4,5,6,7,8,9,10,11,12,13,14,15,16,17,18,19,20,21,22,23,24,25,26,27,28,29,30,31,32,33,34,35,36,37,38,39,40,41,42,43,44,45,46,47,48,49,50,51,52,53,54,55,56,57,58,59,60,61,62,63,64,65,66,67,68,69,70],\"__x__values_original\":[\"La Barceloneta Barcelona\",\"Fort Pienc\",\"Sagrada Familia\",\"L'Antiga Esquerra de l'Eixample\",\"Hostafrancs\",\"Sants-Badal\",\"Sarri\\u00e0\",\"El Putxet i el Farr\\u00f3\",\"El Baix Guinard\\u00f3\",\"Montbau\",\"Vall d'Hebron\",\"Canyelles\",\"Verdun\",\"Torre Bar\\u00f3\",\"Bon Pastor\",\"Navas\",\"El Camp de l'Arpa del Clot\",\"El Poblenou\",\"Dreta de l'Eixample\",\"Sant Gervasi \\u2013 la Bonanova\",\"Vila de Gr\\u00e0cia\",\"El Guinard\\u00f3\",\"La Font d'en Fargues\",\"El Congr\\u00e9s i els Indians\",\"El Clot\",\"La Marina del Prat Vermell\",\"La Marina de Port\",\"La Maternitat i Sant Ramon\",\"Sant Gervasi \\u2013 Galvany\",\"La Prosperitat\",\"La Trinitat Nova\",\"La Vila Ol\\u00edmpica del Poblenou\",\"La Nova Esquerra de l'Eixample\",\"Sant Antoni\",\"La Bordeta\",\"Sants\",\"El Tur\\u00f3 de la Peira\",\"Les Roquetes\",\"Bar\\u00f3 de Viver\",\"Sant Andreu de Palomar\",\"Sant Mart\\u00ed de Proven\\u00e7als\",\"Les Corts\",\"Les Tres Torres\",\"Vallcarca i els Penitents\",\"Sant Gen\\u00eds dels Agudells\",\"Horta Barcelona\",\"Vilapicina i la Torre Llobeta\",\"Can Peguera\",\"La Guineueta\",\"Vallbona\",\"La Font de la Guatlla\",\"La Clota\",\"Camp d'en Grassot i Gr\\u00e0cia Nova\",\"El Carmel\",\"La Teixonera\",\"La Verneda i la Pau\",\"El Raval\",\"Gothic Quarter\",\"El Poble-sec Barcelona\",\"Pedralbes\",\"el Coll\",\"La Salut\",\"Can Bar\\u00f3\",\"Porta\",\"Ciutat Meridiana\",\"Trinitat Vella\",\"La Sagrera\",\"El Parc i la Llacuna del Poblenou\",\"Diagonal Mar i el Front Mar\\u00edtim del Poblenou\",\"El Bes\\u00f2s i el Maresme\",\"Proven\\u00e7als del Poblenou\"],\"y\":{\"__ndarray__\":\"SOF6FK5HAUDNzMzMzMwEQArXo3A9CgNACtejcD0KA0Bcj8L1KFwDQNejcD0K1wNAzczMzMzMBkCamZmZmZkDQDMzMzMzMwNAhetRuB6FA0DXo3A9CtcDQJqZmZmZmQNA7FG4HoXrA0AUrkfhehQIQFK4HoXrUQhAw/UoXI/CA0AK16NwPQoDQAAAAAAAAARAH4XrUbgeA0ApXI/C9SgGQNejcD0K1wFASOF6FK5HA0A9CtejcD0EQK5H4XoUrgNAFK5H4XoUBEDsUbgehesDQOF6FK5H4QRAw/UoXI/CA0BmZmZmZmYEQOxRuB6F6wNA4XoUrkfhBEAzMzMzMzMFQPYoXI/C9QJAH4XrUbgeA0DXo3A9CtcDQFK4HoXrUQRAexSuR+F6BEDD9Shcj8IFQB+F61G4HgVAhetRuB6FA0CuR+F6FK4DQIXrUbgehQNAw/UoXI/CB0CamZmZmZkDQClcj8L1KARAMzMzMzMzBUDD9Shcj8IDQDMzMzMzMwNAw/UoXI/CA0BI4XoUrkcHQHE9CtejcANAAAAAAAAABEDhehSuR+ECQBSuR+F6FARAhetRuB6FA0AUrkfhehQEQD0K16NwPQZAPQrXo3A9CkApXI/C9SgEQLgehetRuAZASOF6FK5HA0CuR+F6FK4DQB+F61G4HgNAmpmZmZmZBUCuR+F6FK4HQIXrUbgehQdA7FG4HoXrA0DD9Shcj8IDQClcj8L1KARAZmZmZmZmCEB7FK5H4XoEQA==\",\"dtype\":\"float64\",\"order\":\"little\",\"shape\":[71]}},\"selected\":{\"id\":\"2686\"},\"selection_policy\":{\"id\":\"2687\"}},\"id\":\"2673\",\"type\":\"ColumnDataSource\"},{\"attributes\":{},\"id\":\"2647\",\"type\":\"LinearScale\"},{\"attributes\":{\"axis\":{\"id\":\"2649\"},\"ticker\":null},\"id\":\"2652\",\"type\":\"Grid\"},{\"attributes\":{\"ticks\":[0,1,2,3,4,5,6,7,8,9,10,11,12,13,14,15,16,17,18,19,20,21,22,23,24,25,26,27,28,29,30,31,32,33,34,35,36,37,38,39,40,41,42,43,44,45,46,47,48,49,50,51,52,53,54,55,56,57,58,59,60,61,62,63,64,65,66,67,68,69,70]},\"id\":\"2692\",\"type\":\"FixedTicker\"},{\"attributes\":{},\"id\":\"2658\",\"type\":\"WheelZoomTool\"},{\"attributes\":{\"fill_color\":{\"value\":\"#1f77b4\"},\"line_width\":{\"value\":2},\"size\":{\"value\":10},\"x\":{\"field\":\"__x__values\"},\"y\":{\"field\":\"y\"}},\"id\":\"2675\",\"type\":\"Scatter\"},{\"attributes\":{},\"id\":\"2681\",\"type\":\"AllLabels\"},{\"attributes\":{},\"id\":\"2686\",\"type\":\"Selection\"},{\"attributes\":{},\"id\":\"2687\",\"type\":\"UnionRenderers\"},{\"attributes\":{},\"id\":\"2660\",\"type\":\"SaveTool\"},{\"attributes\":{},\"id\":\"2657\",\"type\":\"PanTool\"},{\"attributes\":{\"axis_label\":\"neighborhood\",\"formatter\":{\"id\":\"2671\"},\"major_label_policy\":{\"id\":\"2681\"},\"ticker\":{\"id\":\"2692\"}},\"id\":\"2649\",\"type\":\"LinearAxis\"},{\"attributes\":{\"text\":\"Scatter plot of correlation between neighborhood and inhabitants_family\"},\"id\":\"2639\",\"type\":\"Title\"},{\"attributes\":{},\"id\":\"2643\",\"type\":\"DataRange1d\"},{\"attributes\":{\"active_multi\":null,\"active_scroll\":{\"id\":\"2658\"},\"tools\":[{\"id\":\"2657\"},{\"id\":\"2658\"},{\"id\":\"2659\"},{\"id\":\"2660\"},{\"id\":\"2661\"},{\"id\":\"2662\"},{\"id\":\"2690\"}]},\"id\":\"2664\",\"type\":\"Toolbar\"},{\"attributes\":{\"axis\":{\"id\":\"2653\"},\"dimension\":1,\"ticker\":null},\"id\":\"2656\",\"type\":\"Grid\"},{\"attributes\":{\"code\":\"\\n                                var labels = {0: 'La Barceloneta Barcelona', 1: 'Fort Pienc', 2: 'Sagrada Familia', 3: \\\"L'Antiga Esquerra de l'Eixample\\\", 4: 'Hostafrancs', 5: 'Sants-Badal', 6: 'Sarri\\u00e0', 7: 'El Putxet i el Farr\\u00f3', 8: 'El Baix Guinard\\u00f3', 9: 'Montbau', 10: \\\"Vall d'Hebron\\\", 11: 'Canyelles', 12: 'Verdun', 13: 'Torre Bar\\u00f3', 14: 'Bon Pastor', 15: 'Navas', 16: \\\"El Camp de l'Arpa del Clot\\\", 17: 'El Poblenou', 18: \\\"Dreta de l'Eixample\\\", 19: 'Sant Gervasi \\u2013 la Bonanova', 20: 'Vila de Gr\\u00e0cia', 21: 'El Guinard\\u00f3', 22: \\\"La Font d'en Fargues\\\", 23: 'El Congr\\u00e9s i els Indians', 24: 'El Clot', 25: 'La Marina del Prat Vermell', 26: 'La Marina de Port', 27: 'La Maternitat i Sant Ramon', 28: 'Sant Gervasi \\u2013 Galvany', 29: 'La Prosperitat', 30: 'La Trinitat Nova', 31: 'La Vila Ol\\u00edmpica del Poblenou', 32: \\\"La Nova Esquerra de l'Eixample\\\", 33: 'Sant Antoni', 34: 'La Bordeta', 35: 'Sants', 36: 'El Tur\\u00f3 de la Peira', 37: 'Les Roquetes', 38: 'Bar\\u00f3 de Viver', 39: 'Sant Andreu de Palomar', 40: 'Sant Mart\\u00ed de Proven\\u00e7als', 41: 'Les Corts', 42: 'Les Tres Torres', 43: 'Vallcarca i els Penitents', 44: 'Sant Gen\\u00eds dels Agudells', 45: 'Horta Barcelona', 46: 'Vilapicina i la Torre Llobeta', 47: 'Can Peguera', 48: 'La Guineueta', 49: 'Vallbona', 50: 'La Font de la Guatlla', 51: 'La Clota', 52: \\\"Camp d'en Grassot i Gr\\u00e0cia Nova\\\", 53: 'El Carmel', 54: 'La Teixonera', 55: 'La Verneda i la Pau', 56: 'El Raval', 57: 'Gothic Quarter', 58: 'El Poble-sec Barcelona', 59: 'Pedralbes', 60: 'el Coll', 61: 'La Salut', 62: 'Can Bar\\u00f3', 63: 'Porta', 64: 'Ciutat Meridiana', 65: 'Trinitat Vella', 66: 'La Sagrera', 67: 'El Parc i la Llacuna del Poblenou', 68: 'Diagonal Mar i el Front Mar\\u00edtim del Poblenou', 69: 'El Bes\\u00f2s i el Maresme', 70: 'Proven\\u00e7als del Poblenou'};\\n                                return labels[tick];\\n                                \"},\"id\":\"2671\",\"type\":\"FuncTickFormatter\"},{\"attributes\":{},\"id\":\"2645\",\"type\":\"LinearScale\"},{\"attributes\":{},\"id\":\"2683\",\"type\":\"AllLabels\"},{\"attributes\":{},\"id\":\"2641\",\"type\":\"DataRange1d\"},{\"attributes\":{},\"id\":\"2684\",\"type\":\"BasicTickFormatter\"},{\"attributes\":{\"label\":{\"value\":\"Hide/Show\"},\"renderers\":[{\"id\":\"2677\"}]},\"id\":\"2689\",\"type\":\"LegendItem\"},{\"attributes\":{\"data_source\":{\"id\":\"2673\"},\"glyph\":{\"id\":\"2675\"},\"hover_glyph\":null,\"muted_glyph\":null,\"nonselection_glyph\":{\"id\":\"2676\"},\"view\":{\"id\":\"2678\"}},\"id\":\"2677\",\"type\":\"GlyphRenderer\"},{\"attributes\":{},\"id\":\"2662\",\"type\":\"HelpTool\"},{\"attributes\":{\"fill_alpha\":{\"value\":0.1},\"fill_color\":{\"value\":\"#1f77b4\"},\"line_alpha\":{\"value\":0.1},\"line_width\":{\"value\":2},\"size\":{\"value\":10},\"x\":{\"field\":\"__x__values\"},\"y\":{\"field\":\"y\"}},\"id\":\"2676\",\"type\":\"Scatter\"},{\"attributes\":{\"axis_label\":\"inhabitants_family\",\"formatter\":{\"id\":\"2684\"},\"major_label_policy\":{\"id\":\"2683\"},\"ticker\":{\"id\":\"2654\"}},\"id\":\"2653\",\"type\":\"LinearAxis\"},{\"attributes\":{\"overlay\":{\"id\":\"2663\"}},\"id\":\"2659\",\"type\":\"BoxZoomTool\"},{\"attributes\":{},\"id\":\"2654\",\"type\":\"BasicTicker\"},{\"attributes\":{},\"id\":\"2661\",\"type\":\"ResetTool\"}],\"root_ids\":[\"2638\"]},\"title\":\"Bokeh Application\",\"version\":\"2.3.1\"}};\n",
       "  var render_items = [{\"docid\":\"9d12f796-4392-4254-a06e-8ffed2a36ea8\",\"root_ids\":[\"2638\"],\"roots\":{\"2638\":\"bb4fefc1-9c17-49c7-87e4-9ff19caf3b57\"}}];\n",
       "  root.Bokeh.embed.embed_items_notebook(docs_json, render_items);\n",
       "\n",
       "  }\n",
       "  if (root.Bokeh !== undefined) {\n",
       "    embed_document(root);\n",
       "  } else {\n",
       "    var attempts = 0;\n",
       "    var timer = setInterval(function(root) {\n",
       "      if (root.Bokeh !== undefined) {\n",
       "        clearInterval(timer);\n",
       "        embed_document(root);\n",
       "      } else {\n",
       "        attempts++;\n",
       "        if (attempts > 100) {\n",
       "          clearInterval(timer);\n",
       "          console.log(\"Bokeh: ERROR: Unable to run BokehJS code because BokehJS library is missing\");\n",
       "        }\n",
       "      }\n",
       "    }, 10, root)\n",
       "  }\n",
       "})(window);"
      ],
      "application/vnd.bokehjs_exec.v0+json": ""
     },
     "metadata": {
      "application/vnd.bokehjs_exec.v0+json": {
       "id": "2638"
      }
     },
     "output_type": "display_data"
    },
    {
     "data": {
      "text/html": [
       "<div style=\"display: table;\"><div style=\"display: table-row;\"><div style=\"display: table-cell;\"><b title=\"bokeh.plotting.figure.Figure\">Figure</b>(</div><div style=\"display: table-cell;\">id&nbsp;=&nbsp;'2638', <span id=\"2743\" style=\"cursor: pointer;\">&hellip;)</span></div></div><div class=\"2742\" style=\"display: none;\"><div style=\"display: table-cell;\"></div><div style=\"display: table-cell;\">above&nbsp;=&nbsp;[],</div></div><div class=\"2742\" style=\"display: none;\"><div style=\"display: table-cell;\"></div><div style=\"display: table-cell;\">align&nbsp;=&nbsp;'start',</div></div><div class=\"2742\" style=\"display: none;\"><div style=\"display: table-cell;\"></div><div style=\"display: table-cell;\">aspect_ratio&nbsp;=&nbsp;None,</div></div><div class=\"2742\" style=\"display: none;\"><div style=\"display: table-cell;\"></div><div style=\"display: table-cell;\">aspect_scale&nbsp;=&nbsp;1,</div></div><div class=\"2742\" style=\"display: none;\"><div style=\"display: table-cell;\"></div><div style=\"display: table-cell;\">background&nbsp;=&nbsp;None,</div></div><div class=\"2742\" style=\"display: none;\"><div style=\"display: table-cell;\"></div><div style=\"display: table-cell;\">background_fill_alpha&nbsp;=&nbsp;1.0,</div></div><div class=\"2742\" style=\"display: none;\"><div style=\"display: table-cell;\"></div><div style=\"display: table-cell;\">background_fill_color&nbsp;=&nbsp;'#ffffff',</div></div><div class=\"2742\" style=\"display: none;\"><div style=\"display: table-cell;\"></div><div style=\"display: table-cell;\">below&nbsp;=&nbsp;[LinearAxis(id='2649', ...)],</div></div><div class=\"2742\" style=\"display: none;\"><div style=\"display: table-cell;\"></div><div style=\"display: table-cell;\">border_fill_alpha&nbsp;=&nbsp;1.0,</div></div><div class=\"2742\" style=\"display: none;\"><div style=\"display: table-cell;\"></div><div style=\"display: table-cell;\">border_fill_color&nbsp;=&nbsp;'#ffffff',</div></div><div class=\"2742\" style=\"display: none;\"><div style=\"display: table-cell;\"></div><div style=\"display: table-cell;\">center&nbsp;=&nbsp;[Grid(id='2652', ...), Grid(id='2656', ...), Legend(id='2688', ...)],</div></div><div class=\"2742\" style=\"display: none;\"><div style=\"display: table-cell;\"></div><div style=\"display: table-cell;\">css_classes&nbsp;=&nbsp;[],</div></div><div class=\"2742\" style=\"display: none;\"><div style=\"display: table-cell;\"></div><div style=\"display: table-cell;\">disabled&nbsp;=&nbsp;False,</div></div><div class=\"2742\" style=\"display: none;\"><div style=\"display: table-cell;\"></div><div style=\"display: table-cell;\">extra_x_ranges&nbsp;=&nbsp;{},</div></div><div class=\"2742\" style=\"display: none;\"><div style=\"display: table-cell;\"></div><div style=\"display: table-cell;\">extra_y_ranges&nbsp;=&nbsp;{},</div></div><div class=\"2742\" style=\"display: none;\"><div style=\"display: table-cell;\"></div><div style=\"display: table-cell;\">frame_height&nbsp;=&nbsp;None,</div></div><div class=\"2742\" style=\"display: none;\"><div style=\"display: table-cell;\"></div><div style=\"display: table-cell;\">frame_width&nbsp;=&nbsp;None,</div></div><div class=\"2742\" style=\"display: none;\"><div style=\"display: table-cell;\"></div><div style=\"display: table-cell;\">height&nbsp;=&nbsp;400,</div></div><div class=\"2742\" style=\"display: none;\"><div style=\"display: table-cell;\"></div><div style=\"display: table-cell;\">height_policy&nbsp;=&nbsp;'auto',</div></div><div class=\"2742\" style=\"display: none;\"><div style=\"display: table-cell;\"></div><div style=\"display: table-cell;\">hidpi&nbsp;=&nbsp;True,</div></div><div class=\"2742\" style=\"display: none;\"><div style=\"display: table-cell;\"></div><div style=\"display: table-cell;\">inner_height&nbsp;=&nbsp;0,</div></div><div class=\"2742\" style=\"display: none;\"><div style=\"display: table-cell;\"></div><div style=\"display: table-cell;\">inner_width&nbsp;=&nbsp;0,</div></div><div class=\"2742\" style=\"display: none;\"><div style=\"display: table-cell;\"></div><div style=\"display: table-cell;\">js_event_callbacks&nbsp;=&nbsp;{},</div></div><div class=\"2742\" style=\"display: none;\"><div style=\"display: table-cell;\"></div><div style=\"display: table-cell;\">js_property_callbacks&nbsp;=&nbsp;{},</div></div><div class=\"2742\" style=\"display: none;\"><div style=\"display: table-cell;\"></div><div style=\"display: table-cell;\">left&nbsp;=&nbsp;[LinearAxis(id='2653', ...)],</div></div><div class=\"2742\" style=\"display: none;\"><div style=\"display: table-cell;\"></div><div style=\"display: table-cell;\">lod_factor&nbsp;=&nbsp;10,</div></div><div class=\"2742\" style=\"display: none;\"><div style=\"display: table-cell;\"></div><div style=\"display: table-cell;\">lod_interval&nbsp;=&nbsp;300,</div></div><div class=\"2742\" style=\"display: none;\"><div style=\"display: table-cell;\"></div><div style=\"display: table-cell;\">lod_threshold&nbsp;=&nbsp;2000,</div></div><div class=\"2742\" style=\"display: none;\"><div style=\"display: table-cell;\"></div><div style=\"display: table-cell;\">lod_timeout&nbsp;=&nbsp;500,</div></div><div class=\"2742\" style=\"display: none;\"><div style=\"display: table-cell;\"></div><div style=\"display: table-cell;\">margin&nbsp;=&nbsp;(0, 0, 0, 0),</div></div><div class=\"2742\" style=\"display: none;\"><div style=\"display: table-cell;\"></div><div style=\"display: table-cell;\">match_aspect&nbsp;=&nbsp;False,</div></div><div class=\"2742\" style=\"display: none;\"><div style=\"display: table-cell;\"></div><div style=\"display: table-cell;\">max_height&nbsp;=&nbsp;None,</div></div><div class=\"2742\" style=\"display: none;\"><div style=\"display: table-cell;\"></div><div style=\"display: table-cell;\">max_width&nbsp;=&nbsp;None,</div></div><div class=\"2742\" style=\"display: none;\"><div style=\"display: table-cell;\"></div><div style=\"display: table-cell;\">min_border&nbsp;=&nbsp;5,</div></div><div class=\"2742\" style=\"display: none;\"><div style=\"display: table-cell;\"></div><div style=\"display: table-cell;\">min_border_bottom&nbsp;=&nbsp;None,</div></div><div class=\"2742\" style=\"display: none;\"><div style=\"display: table-cell;\"></div><div style=\"display: table-cell;\">min_border_left&nbsp;=&nbsp;None,</div></div><div class=\"2742\" style=\"display: none;\"><div style=\"display: table-cell;\"></div><div style=\"display: table-cell;\">min_border_right&nbsp;=&nbsp;None,</div></div><div class=\"2742\" style=\"display: none;\"><div style=\"display: table-cell;\"></div><div style=\"display: table-cell;\">min_border_top&nbsp;=&nbsp;None,</div></div><div class=\"2742\" style=\"display: none;\"><div style=\"display: table-cell;\"></div><div style=\"display: table-cell;\">min_height&nbsp;=&nbsp;None,</div></div><div class=\"2742\" style=\"display: none;\"><div style=\"display: table-cell;\"></div><div style=\"display: table-cell;\">min_width&nbsp;=&nbsp;None,</div></div><div class=\"2742\" style=\"display: none;\"><div style=\"display: table-cell;\"></div><div style=\"display: table-cell;\">name&nbsp;=&nbsp;None,</div></div><div class=\"2742\" style=\"display: none;\"><div style=\"display: table-cell;\"></div><div style=\"display: table-cell;\">outer_height&nbsp;=&nbsp;0,</div></div><div class=\"2742\" style=\"display: none;\"><div style=\"display: table-cell;\"></div><div style=\"display: table-cell;\">outer_width&nbsp;=&nbsp;0,</div></div><div class=\"2742\" style=\"display: none;\"><div style=\"display: table-cell;\"></div><div style=\"display: table-cell;\">outline_line_alpha&nbsp;=&nbsp;1.0,</div></div><div class=\"2742\" style=\"display: none;\"><div style=\"display: table-cell;\"></div><div style=\"display: table-cell;\">outline_line_cap&nbsp;=&nbsp;'butt',</div></div><div class=\"2742\" style=\"display: none;\"><div style=\"display: table-cell;\"></div><div style=\"display: table-cell;\">outline_line_color&nbsp;=&nbsp;'#e5e5e5',</div></div><div class=\"2742\" style=\"display: none;\"><div style=\"display: table-cell;\"></div><div style=\"display: table-cell;\">outline_line_dash&nbsp;=&nbsp;[],</div></div><div class=\"2742\" style=\"display: none;\"><div style=\"display: table-cell;\"></div><div style=\"display: table-cell;\">outline_line_dash_offset&nbsp;=&nbsp;0,</div></div><div class=\"2742\" style=\"display: none;\"><div style=\"display: table-cell;\"></div><div style=\"display: table-cell;\">outline_line_join&nbsp;=&nbsp;'bevel',</div></div><div class=\"2742\" style=\"display: none;\"><div style=\"display: table-cell;\"></div><div style=\"display: table-cell;\">outline_line_width&nbsp;=&nbsp;1,</div></div><div class=\"2742\" style=\"display: none;\"><div style=\"display: table-cell;\"></div><div style=\"display: table-cell;\">output_backend&nbsp;=&nbsp;'webgl',</div></div><div class=\"2742\" style=\"display: none;\"><div style=\"display: table-cell;\"></div><div style=\"display: table-cell;\">renderers&nbsp;=&nbsp;[GlyphRenderer(id='2677', ...)],</div></div><div class=\"2742\" style=\"display: none;\"><div style=\"display: table-cell;\"></div><div style=\"display: table-cell;\">reset_policy&nbsp;=&nbsp;'standard',</div></div><div class=\"2742\" style=\"display: none;\"><div style=\"display: table-cell;\"></div><div style=\"display: table-cell;\">right&nbsp;=&nbsp;[],</div></div><div class=\"2742\" style=\"display: none;\"><div style=\"display: table-cell;\"></div><div style=\"display: table-cell;\">sizing_mode&nbsp;=&nbsp;'fixed',</div></div><div class=\"2742\" style=\"display: none;\"><div style=\"display: table-cell;\"></div><div style=\"display: table-cell;\">subscribed_events&nbsp;=&nbsp;[],</div></div><div class=\"2742\" style=\"display: none;\"><div style=\"display: table-cell;\"></div><div style=\"display: table-cell;\">syncable&nbsp;=&nbsp;True,</div></div><div class=\"2742\" style=\"display: none;\"><div style=\"display: table-cell;\"></div><div style=\"display: table-cell;\">tags&nbsp;=&nbsp;[],</div></div><div class=\"2742\" style=\"display: none;\"><div style=\"display: table-cell;\"></div><div style=\"display: table-cell;\">title&nbsp;=&nbsp;Title(id='2639', ...),</div></div><div class=\"2742\" style=\"display: none;\"><div style=\"display: table-cell;\"></div><div style=\"display: table-cell;\">title_location&nbsp;=&nbsp;'above',</div></div><div class=\"2742\" style=\"display: none;\"><div style=\"display: table-cell;\"></div><div style=\"display: table-cell;\">toolbar&nbsp;=&nbsp;Toolbar(id='2664', ...),</div></div><div class=\"2742\" style=\"display: none;\"><div style=\"display: table-cell;\"></div><div style=\"display: table-cell;\">toolbar_location&nbsp;=&nbsp;'right',</div></div><div class=\"2742\" style=\"display: none;\"><div style=\"display: table-cell;\"></div><div style=\"display: table-cell;\">toolbar_sticky&nbsp;=&nbsp;True,</div></div><div class=\"2742\" style=\"display: none;\"><div style=\"display: table-cell;\"></div><div style=\"display: table-cell;\">visible&nbsp;=&nbsp;True,</div></div><div class=\"2742\" style=\"display: none;\"><div style=\"display: table-cell;\"></div><div style=\"display: table-cell;\">width&nbsp;=&nbsp;600,</div></div><div class=\"2742\" style=\"display: none;\"><div style=\"display: table-cell;\"></div><div style=\"display: table-cell;\">width_policy&nbsp;=&nbsp;'auto',</div></div><div class=\"2742\" style=\"display: none;\"><div style=\"display: table-cell;\"></div><div style=\"display: table-cell;\">x_range&nbsp;=&nbsp;DataRange1d(id='2641', ...),</div></div><div class=\"2742\" style=\"display: none;\"><div style=\"display: table-cell;\"></div><div style=\"display: table-cell;\">x_scale&nbsp;=&nbsp;LinearScale(id='2645', ...),</div></div><div class=\"2742\" style=\"display: none;\"><div style=\"display: table-cell;\"></div><div style=\"display: table-cell;\">y_range&nbsp;=&nbsp;DataRange1d(id='2643', ...),</div></div><div class=\"2742\" style=\"display: none;\"><div style=\"display: table-cell;\"></div><div style=\"display: table-cell;\">y_scale&nbsp;=&nbsp;LinearScale(id='2647', ...))</div></div></div>\n",
       "<script>\n",
       "(function() {\n",
       "  var expanded = false;\n",
       "  var ellipsis = document.getElementById(\"2743\");\n",
       "  ellipsis.addEventListener(\"click\", function() {\n",
       "    var rows = document.getElementsByClassName(\"2742\");\n",
       "    for (var i = 0; i < rows.length; i++) {\n",
       "      var el = rows[i];\n",
       "      el.style.display = expanded ? \"none\" : \"table-row\";\n",
       "    }\n",
       "    ellipsis.innerHTML = expanded ? \"&hellip;)\" : \"&lsaquo;&lsaquo;&lsaquo;\";\n",
       "    expanded = !expanded;\n",
       "  });\n",
       "})();\n",
       "</script>\n"
      ],
      "text/plain": [
       "Figure(id='2638', ...)"
      ]
     },
     "execution_count": 24,
     "metadata": {},
     "output_type": "execute_result"
    }
   ],
   "source": [
    "dat.plot_bokeh(title='Scatter plot of correlation between neighborhood and inhabitants_family', kind='scatter', x = 'neighborhood', y = 'inhabitants_family')  #scatter visualization of the RFD \n"
   ]
  },
  {
   "cell_type": "code",
   "execution_count": 25,
   "id": "surrounded-advisory",
   "metadata": {},
   "outputs": [
    {
     "data": {
      "text/html": [
       "\n",
       "\n",
       "\n",
       "\n",
       "\n",
       "\n",
       "  <div class=\"bk-root\" id=\"2c97093e-df80-4a57-9096-fc10bf623ef7\" data-root-id=\"2781\"></div>\n"
      ]
     },
     "metadata": {},
     "output_type": "display_data"
    },
    {
     "data": {
      "application/javascript": [
       "(function(root) {\n",
       "  function embed_document(root) {\n",
       "    \n",
       "  var docs_json = {\"0e06a7f9-34e7-43b0-855b-3a7151cd4900\":{\"defs\":[],\"roots\":{\"references\":[{\"attributes\":{\"below\":[{\"id\":\"2792\"}],\"center\":[{\"id\":\"2795\"},{\"id\":\"2799\"},{\"id\":\"2831\"}],\"height\":400,\"left\":[{\"id\":\"2796\"}],\"output_backend\":\"webgl\",\"renderers\":[{\"id\":\"2820\"}],\"sizing_mode\":\"fixed\",\"title\":{\"id\":\"2782\"},\"toolbar\":{\"id\":\"2807\"},\"x_range\":{\"id\":\"2784\"},\"x_scale\":{\"id\":\"2788\"},\"y_range\":{\"id\":\"2786\"},\"y_scale\":{\"id\":\"2790\"}},\"id\":\"2781\",\"subtype\":\"Figure\",\"type\":\"Plot\"},{\"attributes\":{},\"id\":\"2824\",\"type\":\"AllLabels\"},{\"attributes\":{\"ticks\":[0,1,2,3,4,5,6,7,8,9,10,11,12,13,14,15,16,17,18,19,20,21,22,23,24,25,26,27,28,29,30,31,32,33,34,35,36,37,38,39,40,41,42,43,44,45,46,47,48,49,50,51,52,53,54,55,56,57,58,59,60,61,62,63,64,65,66,67,68,69,70]},\"id\":\"2835\",\"type\":\"FixedTicker\"},{\"attributes\":{},\"id\":\"2830\",\"type\":\"UnionRenderers\"},{\"attributes\":{\"text\":\"Bar plot of correlation between neighborhood and rfd\"},\"id\":\"2782\",\"type\":\"Title\"},{\"attributes\":{},\"id\":\"2790\",\"type\":\"LinearScale\"},{\"attributes\":{\"bottom_units\":\"screen\",\"fill_alpha\":0.5,\"fill_color\":\"lightgrey\",\"left_units\":\"screen\",\"level\":\"overlay\",\"line_alpha\":1.0,\"line_color\":\"black\",\"line_dash\":[4,4],\"line_width\":2,\"right_units\":\"screen\",\"syncable\":false,\"top_units\":\"screen\"},\"id\":\"2806\",\"type\":\"BoxAnnotation\"},{\"attributes\":{},\"id\":\"2788\",\"type\":\"LinearScale\"},{\"attributes\":{},\"id\":\"2801\",\"type\":\"WheelZoomTool\"},{\"attributes\":{\"fill_color\":{\"value\":\"#1f77b4\"},\"line_color\":{\"value\":\"#1f77b4\"},\"line_width\":{\"value\":2},\"top\":{\"field\":\"inhabitants_family\"},\"width\":{\"value\":0.7},\"x\":{\"field\":\"__x__values\",\"transform\":{\"id\":\"2816\"}}},\"id\":\"2818\",\"type\":\"VBar\"},{\"attributes\":{\"axis_label\":\"neighborhood\",\"formatter\":{\"id\":\"2814\"},\"major_label_policy\":{\"id\":\"2824\"},\"ticker\":{\"id\":\"2835\"}},\"id\":\"2792\",\"type\":\"LinearAxis\"},{\"attributes\":{\"axis\":{\"id\":\"2796\"},\"dimension\":1,\"ticker\":null},\"id\":\"2799\",\"type\":\"Grid\"},{\"attributes\":{\"axis\":{\"id\":\"2792\"},\"ticker\":null},\"id\":\"2795\",\"type\":\"Grid\"},{\"attributes\":{\"axis_label\":\"inhabitants_family\",\"formatter\":{\"id\":\"2827\"},\"major_label_policy\":{\"id\":\"2826\"},\"ticker\":{\"id\":\"2797\"}},\"id\":\"2796\",\"type\":\"LinearAxis\"},{\"attributes\":{},\"id\":\"2826\",\"type\":\"AllLabels\"},{\"attributes\":{},\"id\":\"2797\",\"type\":\"BasicTicker\"},{\"attributes\":{},\"id\":\"2827\",\"type\":\"BasicTickFormatter\"},{\"attributes\":{},\"id\":\"2805\",\"type\":\"HelpTool\"},{\"attributes\":{},\"id\":\"2800\",\"type\":\"PanTool\"},{\"attributes\":{\"overlay\":{\"id\":\"2806\"}},\"id\":\"2802\",\"type\":\"BoxZoomTool\"},{\"attributes\":{},\"id\":\"2803\",\"type\":\"SaveTool\"},{\"attributes\":{\"fill_alpha\":{\"value\":0.1},\"fill_color\":{\"value\":\"#1f77b4\"},\"line_alpha\":{\"value\":0.1},\"line_color\":{\"value\":\"#1f77b4\"},\"line_width\":{\"value\":2},\"top\":{\"field\":\"inhabitants_family\"},\"width\":{\"value\":0.7},\"x\":{\"field\":\"__x__values\",\"transform\":{\"id\":\"2816\"}}},\"id\":\"2819\",\"type\":\"VBar\"},{\"attributes\":{},\"id\":\"2804\",\"type\":\"ResetTool\"},{\"attributes\":{\"source\":{\"id\":\"2780\"}},\"id\":\"2821\",\"type\":\"CDSView\"},{\"attributes\":{\"data_source\":{\"id\":\"2780\"},\"glyph\":{\"id\":\"2818\"},\"hover_glyph\":null,\"muted_glyph\":null,\"nonselection_glyph\":{\"id\":\"2819\"},\"view\":{\"id\":\"2821\"}},\"id\":\"2820\",\"type\":\"GlyphRenderer\"},{\"attributes\":{\"label\":{\"value\":\" inhabitants_family\"},\"renderers\":[{\"id\":\"2820\"}]},\"id\":\"2832\",\"type\":\"LegendItem\"},{\"attributes\":{\"code\":\"\\n                                    var labels = {0: 'La Barceloneta Barcelona', 1: 'Fort Pienc', 2: 'Sagrada Familia', 3: \\\"L'Antiga Esquerra de l'Eixample\\\", 4: 'Hostafrancs', 5: 'Sants-Badal', 6: 'Sarri\\u00e0', 7: 'El Putxet i el Farr\\u00f3', 8: 'El Baix Guinard\\u00f3', 9: 'Montbau', 10: \\\"Vall d'Hebron\\\", 11: 'Canyelles', 12: 'Verdun', 13: 'Torre Bar\\u00f3', 14: 'Bon Pastor', 15: 'Navas', 16: \\\"El Camp de l'Arpa del Clot\\\", 17: 'El Poblenou', 18: \\\"Dreta de l'Eixample\\\", 19: 'Sant Gervasi \\u2013 la Bonanova', 20: 'Vila de Gr\\u00e0cia', 21: 'El Guinard\\u00f3', 22: \\\"La Font d'en Fargues\\\", 23: 'El Congr\\u00e9s i els Indians', 24: 'El Clot', 25: 'La Marina del Prat Vermell', 26: 'La Marina de Port', 27: 'La Maternitat i Sant Ramon', 28: 'Sant Gervasi \\u2013 Galvany', 29: 'La Prosperitat', 30: 'La Trinitat Nova', 31: 'La Vila Ol\\u00edmpica del Poblenou', 32: \\\"La Nova Esquerra de l'Eixample\\\", 33: 'Sant Antoni', 34: 'La Bordeta', 35: 'Sants', 36: 'El Tur\\u00f3 de la Peira', 37: 'Les Roquetes', 38: 'Bar\\u00f3 de Viver', 39: 'Sant Andreu de Palomar', 40: 'Sant Mart\\u00ed de Proven\\u00e7als', 41: 'Les Corts', 42: 'Les Tres Torres', 43: 'Vallcarca i els Penitents', 44: 'Sant Gen\\u00eds dels Agudells', 45: 'Horta Barcelona', 46: 'Vilapicina i la Torre Llobeta', 47: 'Can Peguera', 48: 'La Guineueta', 49: 'Vallbona', 50: 'La Font de la Guatlla', 51: 'La Clota', 52: \\\"Camp d'en Grassot i Gr\\u00e0cia Nova\\\", 53: 'El Carmel', 54: 'La Teixonera', 55: 'La Verneda i la Pau', 56: 'El Raval', 57: 'Gothic Quarter', 58: 'El Poble-sec Barcelona', 59: 'Pedralbes', 60: 'el Coll', 61: 'La Salut', 62: 'Can Bar\\u00f3', 63: 'Porta', 64: 'Ciutat Meridiana', 65: 'Trinitat Vella', 66: 'La Sagrera', 67: 'El Parc i la Llacuna del Poblenou', 68: 'Diagonal Mar i el Front Mar\\u00edtim del Poblenou', 69: 'El Bes\\u00f2s i el Maresme', 70: 'Proven\\u00e7als del Poblenou'};\\n                                    return labels[tick];\\n                                    \"},\"id\":\"2814\",\"type\":\"FuncTickFormatter\"},{\"attributes\":{\"click_policy\":\"hide\",\"items\":[{\"id\":\"2832\"}]},\"id\":\"2831\",\"type\":\"Legend\"},{\"attributes\":{\"data\":{\"__x__values\":[0,1,2,3,4,5,6,7,8,9,10,11,12,13,14,15,16,17,18,19,20,21,22,23,24,25,26,27,28,29,30,31,32,33,34,35,36,37,38,39,40,41,42,43,44,45,46,47,48,49,50,51,52,53,54,55,56,57,58,59,60,61,62,63,64,65,66,67,68,69,70],\"__x__values_original\":[\"La Barceloneta Barcelona\",\"Fort Pienc\",\"Sagrada Familia\",\"L'Antiga Esquerra de l'Eixample\",\"Hostafrancs\",\"Sants-Badal\",\"Sarri\\u00e0\",\"El Putxet i el Farr\\u00f3\",\"El Baix Guinard\\u00f3\",\"Montbau\",\"Vall d'Hebron\",\"Canyelles\",\"Verdun\",\"Torre Bar\\u00f3\",\"Bon Pastor\",\"Navas\",\"El Camp de l'Arpa del Clot\",\"El Poblenou\",\"Dreta de l'Eixample\",\"Sant Gervasi \\u2013 la Bonanova\",\"Vila de Gr\\u00e0cia\",\"El Guinard\\u00f3\",\"La Font d'en Fargues\",\"El Congr\\u00e9s i els Indians\",\"El Clot\",\"La Marina del Prat Vermell\",\"La Marina de Port\",\"La Maternitat i Sant Ramon\",\"Sant Gervasi \\u2013 Galvany\",\"La Prosperitat\",\"La Trinitat Nova\",\"La Vila Ol\\u00edmpica del Poblenou\",\"La Nova Esquerra de l'Eixample\",\"Sant Antoni\",\"La Bordeta\",\"Sants\",\"El Tur\\u00f3 de la Peira\",\"Les Roquetes\",\"Bar\\u00f3 de Viver\",\"Sant Andreu de Palomar\",\"Sant Mart\\u00ed de Proven\\u00e7als\",\"Les Corts\",\"Les Tres Torres\",\"Vallcarca i els Penitents\",\"Sant Gen\\u00eds dels Agudells\",\"Horta Barcelona\",\"Vilapicina i la Torre Llobeta\",\"Can Peguera\",\"La Guineueta\",\"Vallbona\",\"La Font de la Guatlla\",\"La Clota\",\"Camp d'en Grassot i Gr\\u00e0cia Nova\",\"El Carmel\",\"La Teixonera\",\"La Verneda i la Pau\",\"El Raval\",\"Gothic Quarter\",\"El Poble-sec Barcelona\",\"Pedralbes\",\"el Coll\",\"La Salut\",\"Can Bar\\u00f3\",\"Porta\",\"Ciutat Meridiana\",\"Trinitat Vella\",\"La Sagrera\",\"El Parc i la Llacuna del Poblenou\",\"Diagonal Mar i el Front Mar\\u00edtim del Poblenou\",\"El Bes\\u00f2s i el Maresme\",\"Proven\\u00e7als del Poblenou\"],\"inhabitants_family\":{\"__ndarray__\":\"SOF6FK5HAUDNzMzMzMwEQArXo3A9CgNACtejcD0KA0Bcj8L1KFwDQNejcD0K1wNAzczMzMzMBkCamZmZmZkDQDMzMzMzMwNAhetRuB6FA0DXo3A9CtcDQJqZmZmZmQNA7FG4HoXrA0AUrkfhehQIQFK4HoXrUQhAw/UoXI/CA0AK16NwPQoDQAAAAAAAAARAH4XrUbgeA0ApXI/C9SgGQNejcD0K1wFASOF6FK5HA0A9CtejcD0EQK5H4XoUrgNAFK5H4XoUBEDsUbgehesDQOF6FK5H4QRAw/UoXI/CA0BmZmZmZmYEQOxRuB6F6wNA4XoUrkfhBEAzMzMzMzMFQPYoXI/C9QJAH4XrUbgeA0DXo3A9CtcDQFK4HoXrUQRAexSuR+F6BEDD9Shcj8IFQB+F61G4HgVAhetRuB6FA0CuR+F6FK4DQIXrUbgehQNAw/UoXI/CB0CamZmZmZkDQClcj8L1KARAMzMzMzMzBUDD9Shcj8IDQDMzMzMzMwNAw/UoXI/CA0BI4XoUrkcHQHE9CtejcANAAAAAAAAABEDhehSuR+ECQBSuR+F6FARAhetRuB6FA0AUrkfhehQEQD0K16NwPQZAPQrXo3A9CkApXI/C9SgEQLgehetRuAZASOF6FK5HA0CuR+F6FK4DQB+F61G4HgNAmpmZmZmZBUCuR+F6FK4HQIXrUbgehQdA7FG4HoXrA0DD9Shcj8IDQClcj8L1KARAZmZmZmZmCEB7FK5H4XoEQA==\",\"dtype\":\"float64\",\"order\":\"little\",\"shape\":[71]}},\"selected\":{\"id\":\"2829\"},\"selection_policy\":{\"id\":\"2830\"}},\"id\":\"2780\",\"type\":\"ColumnDataSource\"},{\"attributes\":{\"active_multi\":null,\"active_scroll\":{\"id\":\"2801\"},\"tools\":[{\"id\":\"2800\"},{\"id\":\"2801\"},{\"id\":\"2802\"},{\"id\":\"2803\"},{\"id\":\"2804\"},{\"id\":\"2805\"},{\"id\":\"2833\"}]},\"id\":\"2807\",\"type\":\"Toolbar\"},{\"attributes\":{\"callback\":null,\"mode\":\"vline\",\"renderers\":[{\"id\":\"2820\"}],\"tooltips\":[[\"neighborhood\",\"@__x__values_original\"],[\"inhabitants_family\",\"@{inhabitants_family}\"]]},\"id\":\"2833\",\"type\":\"HoverTool\"},{\"attributes\":{\"range\":{\"id\":\"2784\"}},\"id\":\"2816\",\"type\":\"Dodge\"},{\"attributes\":{},\"id\":\"2784\",\"type\":\"DataRange1d\"},{\"attributes\":{},\"id\":\"2829\",\"type\":\"Selection\"},{\"attributes\":{},\"id\":\"2786\",\"type\":\"DataRange1d\"}],\"root_ids\":[\"2781\"]},\"title\":\"Bokeh Application\",\"version\":\"2.3.1\"}};\n",
       "  var render_items = [{\"docid\":\"0e06a7f9-34e7-43b0-855b-3a7151cd4900\",\"root_ids\":[\"2781\"],\"roots\":{\"2781\":\"2c97093e-df80-4a57-9096-fc10bf623ef7\"}}];\n",
       "  root.Bokeh.embed.embed_items_notebook(docs_json, render_items);\n",
       "\n",
       "  }\n",
       "  if (root.Bokeh !== undefined) {\n",
       "    embed_document(root);\n",
       "  } else {\n",
       "    var attempts = 0;\n",
       "    var timer = setInterval(function(root) {\n",
       "      if (root.Bokeh !== undefined) {\n",
       "        clearInterval(timer);\n",
       "        embed_document(root);\n",
       "      } else {\n",
       "        attempts++;\n",
       "        if (attempts > 100) {\n",
       "          clearInterval(timer);\n",
       "          console.log(\"Bokeh: ERROR: Unable to run BokehJS code because BokehJS library is missing\");\n",
       "        }\n",
       "      }\n",
       "    }, 10, root)\n",
       "  }\n",
       "})(window);"
      ],
      "application/vnd.bokehjs_exec.v0+json": ""
     },
     "metadata": {
      "application/vnd.bokehjs_exec.v0+json": {
       "id": "2781"
      }
     },
     "output_type": "display_data"
    },
    {
     "data": {
      "text/html": [
       "<div style=\"display: table;\"><div style=\"display: table-row;\"><div style=\"display: table-cell;\"><b title=\"bokeh.plotting.figure.Figure\">Figure</b>(</div><div style=\"display: table-cell;\">id&nbsp;=&nbsp;'2781', <span id=\"2894\" style=\"cursor: pointer;\">&hellip;)</span></div></div><div class=\"2893\" style=\"display: none;\"><div style=\"display: table-cell;\"></div><div style=\"display: table-cell;\">above&nbsp;=&nbsp;[],</div></div><div class=\"2893\" style=\"display: none;\"><div style=\"display: table-cell;\"></div><div style=\"display: table-cell;\">align&nbsp;=&nbsp;'start',</div></div><div class=\"2893\" style=\"display: none;\"><div style=\"display: table-cell;\"></div><div style=\"display: table-cell;\">aspect_ratio&nbsp;=&nbsp;None,</div></div><div class=\"2893\" style=\"display: none;\"><div style=\"display: table-cell;\"></div><div style=\"display: table-cell;\">aspect_scale&nbsp;=&nbsp;1,</div></div><div class=\"2893\" style=\"display: none;\"><div style=\"display: table-cell;\"></div><div style=\"display: table-cell;\">background&nbsp;=&nbsp;None,</div></div><div class=\"2893\" style=\"display: none;\"><div style=\"display: table-cell;\"></div><div style=\"display: table-cell;\">background_fill_alpha&nbsp;=&nbsp;1.0,</div></div><div class=\"2893\" style=\"display: none;\"><div style=\"display: table-cell;\"></div><div style=\"display: table-cell;\">background_fill_color&nbsp;=&nbsp;'#ffffff',</div></div><div class=\"2893\" style=\"display: none;\"><div style=\"display: table-cell;\"></div><div style=\"display: table-cell;\">below&nbsp;=&nbsp;[LinearAxis(id='2792', ...)],</div></div><div class=\"2893\" style=\"display: none;\"><div style=\"display: table-cell;\"></div><div style=\"display: table-cell;\">border_fill_alpha&nbsp;=&nbsp;1.0,</div></div><div class=\"2893\" style=\"display: none;\"><div style=\"display: table-cell;\"></div><div style=\"display: table-cell;\">border_fill_color&nbsp;=&nbsp;'#ffffff',</div></div><div class=\"2893\" style=\"display: none;\"><div style=\"display: table-cell;\"></div><div style=\"display: table-cell;\">center&nbsp;=&nbsp;[Grid(id='2795', ...), Grid(id='2799', ...), Legend(id='2831', ...)],</div></div><div class=\"2893\" style=\"display: none;\"><div style=\"display: table-cell;\"></div><div style=\"display: table-cell;\">css_classes&nbsp;=&nbsp;[],</div></div><div class=\"2893\" style=\"display: none;\"><div style=\"display: table-cell;\"></div><div style=\"display: table-cell;\">disabled&nbsp;=&nbsp;False,</div></div><div class=\"2893\" style=\"display: none;\"><div style=\"display: table-cell;\"></div><div style=\"display: table-cell;\">extra_x_ranges&nbsp;=&nbsp;{},</div></div><div class=\"2893\" style=\"display: none;\"><div style=\"display: table-cell;\"></div><div style=\"display: table-cell;\">extra_y_ranges&nbsp;=&nbsp;{},</div></div><div class=\"2893\" style=\"display: none;\"><div style=\"display: table-cell;\"></div><div style=\"display: table-cell;\">frame_height&nbsp;=&nbsp;None,</div></div><div class=\"2893\" style=\"display: none;\"><div style=\"display: table-cell;\"></div><div style=\"display: table-cell;\">frame_width&nbsp;=&nbsp;None,</div></div><div class=\"2893\" style=\"display: none;\"><div style=\"display: table-cell;\"></div><div style=\"display: table-cell;\">height&nbsp;=&nbsp;400,</div></div><div class=\"2893\" style=\"display: none;\"><div style=\"display: table-cell;\"></div><div style=\"display: table-cell;\">height_policy&nbsp;=&nbsp;'auto',</div></div><div class=\"2893\" style=\"display: none;\"><div style=\"display: table-cell;\"></div><div style=\"display: table-cell;\">hidpi&nbsp;=&nbsp;True,</div></div><div class=\"2893\" style=\"display: none;\"><div style=\"display: table-cell;\"></div><div style=\"display: table-cell;\">inner_height&nbsp;=&nbsp;0,</div></div><div class=\"2893\" style=\"display: none;\"><div style=\"display: table-cell;\"></div><div style=\"display: table-cell;\">inner_width&nbsp;=&nbsp;0,</div></div><div class=\"2893\" style=\"display: none;\"><div style=\"display: table-cell;\"></div><div style=\"display: table-cell;\">js_event_callbacks&nbsp;=&nbsp;{},</div></div><div class=\"2893\" style=\"display: none;\"><div style=\"display: table-cell;\"></div><div style=\"display: table-cell;\">js_property_callbacks&nbsp;=&nbsp;{},</div></div><div class=\"2893\" style=\"display: none;\"><div style=\"display: table-cell;\"></div><div style=\"display: table-cell;\">left&nbsp;=&nbsp;[LinearAxis(id='2796', ...)],</div></div><div class=\"2893\" style=\"display: none;\"><div style=\"display: table-cell;\"></div><div style=\"display: table-cell;\">lod_factor&nbsp;=&nbsp;10,</div></div><div class=\"2893\" style=\"display: none;\"><div style=\"display: table-cell;\"></div><div style=\"display: table-cell;\">lod_interval&nbsp;=&nbsp;300,</div></div><div class=\"2893\" style=\"display: none;\"><div style=\"display: table-cell;\"></div><div style=\"display: table-cell;\">lod_threshold&nbsp;=&nbsp;2000,</div></div><div class=\"2893\" style=\"display: none;\"><div style=\"display: table-cell;\"></div><div style=\"display: table-cell;\">lod_timeout&nbsp;=&nbsp;500,</div></div><div class=\"2893\" style=\"display: none;\"><div style=\"display: table-cell;\"></div><div style=\"display: table-cell;\">margin&nbsp;=&nbsp;(0, 0, 0, 0),</div></div><div class=\"2893\" style=\"display: none;\"><div style=\"display: table-cell;\"></div><div style=\"display: table-cell;\">match_aspect&nbsp;=&nbsp;False,</div></div><div class=\"2893\" style=\"display: none;\"><div style=\"display: table-cell;\"></div><div style=\"display: table-cell;\">max_height&nbsp;=&nbsp;None,</div></div><div class=\"2893\" style=\"display: none;\"><div style=\"display: table-cell;\"></div><div style=\"display: table-cell;\">max_width&nbsp;=&nbsp;None,</div></div><div class=\"2893\" style=\"display: none;\"><div style=\"display: table-cell;\"></div><div style=\"display: table-cell;\">min_border&nbsp;=&nbsp;5,</div></div><div class=\"2893\" style=\"display: none;\"><div style=\"display: table-cell;\"></div><div style=\"display: table-cell;\">min_border_bottom&nbsp;=&nbsp;None,</div></div><div class=\"2893\" style=\"display: none;\"><div style=\"display: table-cell;\"></div><div style=\"display: table-cell;\">min_border_left&nbsp;=&nbsp;None,</div></div><div class=\"2893\" style=\"display: none;\"><div style=\"display: table-cell;\"></div><div style=\"display: table-cell;\">min_border_right&nbsp;=&nbsp;None,</div></div><div class=\"2893\" style=\"display: none;\"><div style=\"display: table-cell;\"></div><div style=\"display: table-cell;\">min_border_top&nbsp;=&nbsp;None,</div></div><div class=\"2893\" style=\"display: none;\"><div style=\"display: table-cell;\"></div><div style=\"display: table-cell;\">min_height&nbsp;=&nbsp;None,</div></div><div class=\"2893\" style=\"display: none;\"><div style=\"display: table-cell;\"></div><div style=\"display: table-cell;\">min_width&nbsp;=&nbsp;None,</div></div><div class=\"2893\" style=\"display: none;\"><div style=\"display: table-cell;\"></div><div style=\"display: table-cell;\">name&nbsp;=&nbsp;None,</div></div><div class=\"2893\" style=\"display: none;\"><div style=\"display: table-cell;\"></div><div style=\"display: table-cell;\">outer_height&nbsp;=&nbsp;0,</div></div><div class=\"2893\" style=\"display: none;\"><div style=\"display: table-cell;\"></div><div style=\"display: table-cell;\">outer_width&nbsp;=&nbsp;0,</div></div><div class=\"2893\" style=\"display: none;\"><div style=\"display: table-cell;\"></div><div style=\"display: table-cell;\">outline_line_alpha&nbsp;=&nbsp;1.0,</div></div><div class=\"2893\" style=\"display: none;\"><div style=\"display: table-cell;\"></div><div style=\"display: table-cell;\">outline_line_cap&nbsp;=&nbsp;'butt',</div></div><div class=\"2893\" style=\"display: none;\"><div style=\"display: table-cell;\"></div><div style=\"display: table-cell;\">outline_line_color&nbsp;=&nbsp;'#e5e5e5',</div></div><div class=\"2893\" style=\"display: none;\"><div style=\"display: table-cell;\"></div><div style=\"display: table-cell;\">outline_line_dash&nbsp;=&nbsp;[],</div></div><div class=\"2893\" style=\"display: none;\"><div style=\"display: table-cell;\"></div><div style=\"display: table-cell;\">outline_line_dash_offset&nbsp;=&nbsp;0,</div></div><div class=\"2893\" style=\"display: none;\"><div style=\"display: table-cell;\"></div><div style=\"display: table-cell;\">outline_line_join&nbsp;=&nbsp;'bevel',</div></div><div class=\"2893\" style=\"display: none;\"><div style=\"display: table-cell;\"></div><div style=\"display: table-cell;\">outline_line_width&nbsp;=&nbsp;1,</div></div><div class=\"2893\" style=\"display: none;\"><div style=\"display: table-cell;\"></div><div style=\"display: table-cell;\">output_backend&nbsp;=&nbsp;'webgl',</div></div><div class=\"2893\" style=\"display: none;\"><div style=\"display: table-cell;\"></div><div style=\"display: table-cell;\">renderers&nbsp;=&nbsp;[GlyphRenderer(id='2820', ...)],</div></div><div class=\"2893\" style=\"display: none;\"><div style=\"display: table-cell;\"></div><div style=\"display: table-cell;\">reset_policy&nbsp;=&nbsp;'standard',</div></div><div class=\"2893\" style=\"display: none;\"><div style=\"display: table-cell;\"></div><div style=\"display: table-cell;\">right&nbsp;=&nbsp;[],</div></div><div class=\"2893\" style=\"display: none;\"><div style=\"display: table-cell;\"></div><div style=\"display: table-cell;\">sizing_mode&nbsp;=&nbsp;'fixed',</div></div><div class=\"2893\" style=\"display: none;\"><div style=\"display: table-cell;\"></div><div style=\"display: table-cell;\">subscribed_events&nbsp;=&nbsp;[],</div></div><div class=\"2893\" style=\"display: none;\"><div style=\"display: table-cell;\"></div><div style=\"display: table-cell;\">syncable&nbsp;=&nbsp;True,</div></div><div class=\"2893\" style=\"display: none;\"><div style=\"display: table-cell;\"></div><div style=\"display: table-cell;\">tags&nbsp;=&nbsp;[],</div></div><div class=\"2893\" style=\"display: none;\"><div style=\"display: table-cell;\"></div><div style=\"display: table-cell;\">title&nbsp;=&nbsp;Title(id='2782', ...),</div></div><div class=\"2893\" style=\"display: none;\"><div style=\"display: table-cell;\"></div><div style=\"display: table-cell;\">title_location&nbsp;=&nbsp;'above',</div></div><div class=\"2893\" style=\"display: none;\"><div style=\"display: table-cell;\"></div><div style=\"display: table-cell;\">toolbar&nbsp;=&nbsp;Toolbar(id='2807', ...),</div></div><div class=\"2893\" style=\"display: none;\"><div style=\"display: table-cell;\"></div><div style=\"display: table-cell;\">toolbar_location&nbsp;=&nbsp;'right',</div></div><div class=\"2893\" style=\"display: none;\"><div style=\"display: table-cell;\"></div><div style=\"display: table-cell;\">toolbar_sticky&nbsp;=&nbsp;True,</div></div><div class=\"2893\" style=\"display: none;\"><div style=\"display: table-cell;\"></div><div style=\"display: table-cell;\">visible&nbsp;=&nbsp;True,</div></div><div class=\"2893\" style=\"display: none;\"><div style=\"display: table-cell;\"></div><div style=\"display: table-cell;\">width&nbsp;=&nbsp;600,</div></div><div class=\"2893\" style=\"display: none;\"><div style=\"display: table-cell;\"></div><div style=\"display: table-cell;\">width_policy&nbsp;=&nbsp;'auto',</div></div><div class=\"2893\" style=\"display: none;\"><div style=\"display: table-cell;\"></div><div style=\"display: table-cell;\">x_range&nbsp;=&nbsp;DataRange1d(id='2784', ...),</div></div><div class=\"2893\" style=\"display: none;\"><div style=\"display: table-cell;\"></div><div style=\"display: table-cell;\">x_scale&nbsp;=&nbsp;LinearScale(id='2788', ...),</div></div><div class=\"2893\" style=\"display: none;\"><div style=\"display: table-cell;\"></div><div style=\"display: table-cell;\">y_range&nbsp;=&nbsp;DataRange1d(id='2786', ...),</div></div><div class=\"2893\" style=\"display: none;\"><div style=\"display: table-cell;\"></div><div style=\"display: table-cell;\">y_scale&nbsp;=&nbsp;LinearScale(id='2790', ...))</div></div></div>\n",
       "<script>\n",
       "(function() {\n",
       "  var expanded = false;\n",
       "  var ellipsis = document.getElementById(\"2894\");\n",
       "  ellipsis.addEventListener(\"click\", function() {\n",
       "    var rows = document.getElementsByClassName(\"2893\");\n",
       "    for (var i = 0; i < rows.length; i++) {\n",
       "      var el = rows[i];\n",
       "      el.style.display = expanded ? \"none\" : \"table-row\";\n",
       "    }\n",
       "    ellipsis.innerHTML = expanded ? \"&hellip;)\" : \"&lsaquo;&lsaquo;&lsaquo;\";\n",
       "    expanded = !expanded;\n",
       "  });\n",
       "})();\n",
       "</script>\n"
      ],
      "text/plain": [
       "Figure(id='2781', ...)"
      ]
     },
     "execution_count": 25,
     "metadata": {},
     "output_type": "execute_result"
    }
   ],
   "source": [
    "dat.plot_bokeh(title='Bar plot of correlation between neighborhood and rfd', kind='bar', x = 'neighborhood', y = 'inhabitants_family') #line- plot visualization of the correlation between neighborhood and RFD"
   ]
  },
  {
   "cell_type": "markdown",
   "id": "chronic-harvard",
   "metadata": {},
   "source": [
    "Correlation between inhabitants in a family, and rdf. "
   ]
  },
  {
   "cell_type": "code",
   "execution_count": 26,
   "id": "international-visit",
   "metadata": {},
   "outputs": [
    {
     "data": {
      "text/html": [
       "<div>\n",
       "<style scoped>\n",
       "    .dataframe tbody tr th:only-of-type {\n",
       "        vertical-align: middle;\n",
       "    }\n",
       "\n",
       "    .dataframe tbody tr th {\n",
       "        vertical-align: top;\n",
       "    }\n",
       "\n",
       "    .dataframe thead th {\n",
       "        text-align: right;\n",
       "    }\n",
       "</style>\n",
       "<table border=\"1\" class=\"dataframe\">\n",
       "  <thead>\n",
       "    <tr style=\"text-align: right;\">\n",
       "      <th></th>\n",
       "      <th>inhabitants_family</th>\n",
       "      <th>rfd</th>\n",
       "    </tr>\n",
       "  </thead>\n",
       "  <tbody>\n",
       "    <tr>\n",
       "      <th>inhabitants_family</th>\n",
       "      <td>1.000000</td>\n",
       "      <td>0.052658</td>\n",
       "    </tr>\n",
       "    <tr>\n",
       "      <th>rfd</th>\n",
       "      <td>0.052658</td>\n",
       "      <td>1.000000</td>\n",
       "    </tr>\n",
       "  </tbody>\n",
       "</table>\n",
       "</div>"
      ],
      "text/plain": [
       "                    inhabitants_family       rfd\n",
       "inhabitants_family            1.000000  0.052658\n",
       "rfd                           0.052658  1.000000"
      ]
     },
     "execution_count": 26,
     "metadata": {},
     "output_type": "execute_result"
    }
   ],
   "source": [
    "dat.corr()"
   ]
  },
  {
   "cell_type": "markdown",
   "id": "breathing-clear",
   "metadata": {},
   "source": [
    "According to our hypothesis families with lower income would have an in crease in inhabitants per family. Some areas with earlier classified lower income, such as \"Gothic Quarter\", had an elevated number of inhabitants per family. \n",
    "However, with a correlation factor of 0.05 ≈ 5%, the correlation between income and inhabitants per family is not clear and more data is needed to either falsify or substantiate the hypothesis. \n",
    "From this analysis it therefore is no clear correlation between family income and inhabitants per family. "
   ]
  },
  {
   "cell_type": "code",
   "execution_count": null,
   "id": "occupied-battery",
   "metadata": {},
   "outputs": [],
   "source": []
  }
 ],
 "metadata": {
  "kernelspec": {
   "display_name": "Python 3",
   "language": "python",
   "name": "python3"
  },
  "language_info": {
   "codemirror_mode": {
    "name": "ipython",
    "version": 3
   },
   "file_extension": ".py",
   "mimetype": "text/x-python",
   "name": "python",
   "nbconvert_exporter": "python",
   "pygments_lexer": "ipython3",
   "version": "3.9.1"
  }
 },
 "nbformat": 4,
 "nbformat_minor": 5
}
